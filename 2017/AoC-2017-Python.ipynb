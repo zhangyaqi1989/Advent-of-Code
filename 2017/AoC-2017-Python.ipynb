{
 "cells": [
  {
   "cell_type": "markdown",
   "metadata": {},
   "source": [
    "# Day 0: Imports and Utility Functions"
   ]
  },
  {
   "cell_type": "code",
   "execution_count": 1,
   "metadata": {},
   "outputs": [],
   "source": [
    "%matplotlib inline\n",
    "import matplotlib.pyplot as plt\n",
    "\n",
    "import os\n",
    "import re\n",
    "import numpy as np\n",
    "import random\n",
    "from collections import Counter, defaultdict, namedtuple, deque, OrderedDict\n",
    "from functools   import lru_cache, reduce\n",
    "from statistics  import mean, median, mode, stdev, variance\n",
    "from itertools   import (permutations, combinations, groupby, cycle, chain, zip_longest, takewhile, dropwhile, count as count_from)\n",
    "from heapq       import heappush, heappop\n",
    "from operator    import iand, ior, ilshift, irshift"
   ]
  },
  {
   "cell_type": "markdown",
   "metadata": {},
   "source": [
    "# Day 1: Inverse Captcha"
   ]
  },
  {
   "cell_type": "code",
   "execution_count": 2,
   "metadata": {},
   "outputs": [
    {
     "name": "stdout",
     "output_type": "stream",
     "text": [
      "1069\n",
      "1268\n"
     ]
    }
   ],
   "source": [
    "with open('inputs/day1.txt') as f:\n",
    "    line = f.read()\n",
    "    n, half = len(line), len(line) // 2\n",
    "    print(sum(int(line[i]) for i in range(n) if line[i] == line[(i + 1) % n]))\n",
    "    print(sum(int(line[i]) for i in range(n) if line[i] == line[(i + half) % n]))"
   ]
  },
  {
   "cell_type": "markdown",
   "metadata": {},
   "source": [
    "# Day 2: Corruption Checksum"
   ]
  },
  {
   "cell_type": "code",
   "execution_count": 3,
   "metadata": {},
   "outputs": [],
   "source": [
    "m = np.loadtxt('inputs/day2.txt', dtype=np.int64)"
   ]
  },
  {
   "cell_type": "code",
   "execution_count": 4,
   "metadata": {},
   "outputs": [
    {
     "name": "stdout",
     "output_type": "stream",
     "text": [
      "45158\n"
     ]
    }
   ],
   "source": [
    "print(sum(row.max() - row.min() for row in m))"
   ]
  },
  {
   "cell_type": "code",
   "execution_count": 5,
   "metadata": {},
   "outputs": [
    {
     "name": "stdout",
     "output_type": "stream",
     "text": [
      "294\n"
     ]
    }
   ],
   "source": [
    "print(sum([max(a, b) // min(a, b)\n",
    "           for a, b in combinations(row, 2)\n",
    "           if max(a, b) % min(a, b) == 0][0]\n",
    "      for row in m))"
   ]
  },
  {
   "cell_type": "markdown",
   "metadata": {},
   "source": [
    "# Day 3: Spiral Memory"
   ]
  },
  {
   "cell_type": "code",
   "execution_count": 6,
   "metadata": {},
   "outputs": [
    {
     "name": "stdout",
     "output_type": "stream",
     "text": [
      "475\n"
     ]
    }
   ],
   "source": [
    "unit = 1\n",
    "n = 277678\n",
    "side = 1\n",
    "# does not work for n == 1\n",
    "while n > 0:\n",
    "    if n > unit:\n",
    "        n -= unit\n",
    "    else:\n",
    "        di, dj = 0, 1\n",
    "        i, j = side // 2, -((side - 2) // 2)\n",
    "        max_dis = side - 1\n",
    "        while n > 1:\n",
    "            if abs(i + di) + abs(j + dj) > max_dis:\n",
    "                di, dj = -dj, di\n",
    "            i, j = i + di, j + dj\n",
    "            n -= 1\n",
    "        print(abs(i) + abs(j))\n",
    "        break\n",
    "    side += 2\n",
    "    unit = side * side - (side - 2) * (side - 2)"
   ]
  },
  {
   "cell_type": "code",
   "execution_count": 7,
   "metadata": {},
   "outputs": [
    {
     "name": "stdout",
     "output_type": "stream",
     "text": [
      "279138\n"
     ]
    }
   ],
   "source": [
    "unit = 1\n",
    "side = 1\n",
    "grid = {}\n",
    "def sum_neis(i, j):\n",
    "    return sum(grid[i + di, j + dj]\n",
    "                for di in (-1, 0, 1) \n",
    "                for dj in (-1, 0, 1) \n",
    "                if (not di == dj == 0) and (i + di, j + dj) in grid)\n",
    "v = 1\n",
    "i, j = 0, 0\n",
    "cnt = 0\n",
    "while v <= 277678:\n",
    "    grid[i, j] = v\n",
    "    cnt += 1\n",
    "    # update i and j and v\n",
    "    if cnt >= side * side:\n",
    "        i, j = (side + 2) // 2, -side // 2\n",
    "        di, dj = 0, 1\n",
    "        side += 2\n",
    "    if abs(i + di) + abs(j + dj) > side - 1:\n",
    "        di, dj = -dj, di\n",
    "    i, j = i + di, j + dj\n",
    "    v = sum_neis(i, j)\n",
    "print(v)"
   ]
  },
  {
   "cell_type": "markdown",
   "metadata": {},
   "source": [
    "# Day 4: High-Entropy Passphrases "
   ]
  },
  {
   "cell_type": "code",
   "execution_count": 8,
   "metadata": {},
   "outputs": [
    {
     "name": "stdout",
     "output_type": "stream",
     "text": [
      "451\n",
      "223\n"
     ]
    }
   ],
   "source": [
    "def valid(line):\n",
    "    s = set()\n",
    "    for word in line.split():\n",
    "        if word in s:\n",
    "            return False\n",
    "        s.add(word)\n",
    "    return True\n",
    "def valid_new(line):\n",
    "    s = set()\n",
    "    for word in line.split():\n",
    "        word = ''.join(sorted(word))\n",
    "        if word in s:\n",
    "            return False\n",
    "        s.add(word)\n",
    "    return True\n",
    "with open('inputs/day4.txt', 'r') as f:\n",
    "    lines = f.readlines()\n",
    "    print(sum(valid(line.strip()) for line in lines))\n",
    "    print(sum(valid_new(line.strip()) for line in lines))"
   ]
  },
  {
   "cell_type": "markdown",
   "metadata": {},
   "source": [
    "# Day 5: A Maze of Twisty Trampolines, All Alike"
   ]
  },
  {
   "cell_type": "code",
   "execution_count": 13,
   "metadata": {},
   "outputs": [
    {
     "name": "stdout",
     "output_type": "stream",
     "text": [
      "336905\n"
     ]
    }
   ],
   "source": [
    "with open('inputs/day5.txt', 'r') as f:\n",
    "    lst = list(map(int, f.readlines()))\n",
    "# lst = [0, 3, 0, 1, -3]\n",
    "cur = 0\n",
    "cnt = 0\n",
    "while 0 <= cur < len(lst):\n",
    "    move = lst[cur]\n",
    "    lst[cur] += 1\n",
    "    cur += move\n",
    "    cnt += 1\n",
    "print(cnt)"
   ]
  },
  {
   "cell_type": "code",
   "execution_count": 14,
   "metadata": {},
   "outputs": [
    {
     "name": "stdout",
     "output_type": "stream",
     "text": [
      "21985262\n"
     ]
    }
   ],
   "source": [
    "with open('inputs/day5.txt', 'r') as f:\n",
    "    lst = list(map(int, f.readlines()))\n",
    "# lst = [0, 3, 0, 1, -3]\n",
    "cur = 0\n",
    "cnt = 0\n",
    "while 0 <= cur < len(lst):\n",
    "    move = lst[cur]\n",
    "    if move >= 3:\n",
    "        lst[cur] -= 1\n",
    "    else:\n",
    "        lst[cur] += 1\n",
    "    cur += move\n",
    "    cnt += 1\n",
    "print(cnt)"
   ]
  },
  {
   "cell_type": "markdown",
   "metadata": {},
   "source": [
    "# Day 6: Memory Reallocation "
   ]
  },
  {
   "cell_type": "code",
   "execution_count": null,
   "metadata": {},
   "outputs": [],
   "source": []
  }
 ],
 "metadata": {
  "kernelspec": {
   "display_name": "Python 3",
   "language": "python",
   "name": "python3"
  },
  "language_info": {
   "codemirror_mode": {
    "name": "ipython",
    "version": 3
   },
   "file_extension": ".py",
   "mimetype": "text/x-python",
   "name": "python",
   "nbconvert_exporter": "python",
   "pygments_lexer": "ipython3",
   "version": "3.6.6"
  }
 },
 "nbformat": 4,
 "nbformat_minor": 2
}
