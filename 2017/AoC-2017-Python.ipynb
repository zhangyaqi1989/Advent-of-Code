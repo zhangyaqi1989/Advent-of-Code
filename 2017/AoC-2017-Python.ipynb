{
 "cells": [
  {
   "cell_type": "markdown",
   "metadata": {},
   "source": [
    "# Day 0: Imports and Utility Functions"
   ]
  },
  {
   "cell_type": "code",
   "execution_count": 1,
   "metadata": {},
   "outputs": [],
   "source": [
    "%matplotlib inline\n",
    "import matplotlib.pyplot as plt\n",
    "\n",
    "import sys\n",
    "import os\n",
    "import re\n",
    "import numpy as np\n",
    "import random\n",
    "from collections import Counter, defaultdict, namedtuple, deque, OrderedDict\n",
    "from functools   import lru_cache, reduce\n",
    "from statistics  import mean, median, mode, stdev, variance\n",
    "from itertools   import (permutations, combinations, groupby, cycle, chain, zip_longest, takewhile, dropwhile, count as count_from)\n",
    "from heapq       import heappush, heappop\n",
    "from operator    import iand, ior, ilshift, irshift, ixor"
   ]
  },
  {
   "cell_type": "markdown",
   "metadata": {},
   "source": [
    "# Day 1: Inverse Captcha"
   ]
  },
  {
   "cell_type": "code",
   "execution_count": 2,
   "metadata": {},
   "outputs": [
    {
     "name": "stdout",
     "output_type": "stream",
     "text": [
      "1069\n",
      "1268\n"
     ]
    }
   ],
   "source": [
    "with open('inputs/day1.txt') as f:\n",
    "    line = f.read()\n",
    "    n, half = len(line), len(line) // 2\n",
    "    print(sum(int(line[i]) for i in range(n) if line[i] == line[(i + 1) % n]))\n",
    "    print(sum(int(line[i]) for i in range(n) if line[i] == line[(i + half) % n]))"
   ]
  },
  {
   "cell_type": "markdown",
   "metadata": {},
   "source": [
    "# Day 2: Corruption Checksum"
   ]
  },
  {
   "cell_type": "code",
   "execution_count": 3,
   "metadata": {},
   "outputs": [],
   "source": [
    "m = np.loadtxt('inputs/day2.txt', dtype=np.int64)"
   ]
  },
  {
   "cell_type": "code",
   "execution_count": 4,
   "metadata": {},
   "outputs": [
    {
     "name": "stdout",
     "output_type": "stream",
     "text": [
      "45158\n"
     ]
    }
   ],
   "source": [
    "print(sum(row.max() - row.min() for row in m))"
   ]
  },
  {
   "cell_type": "code",
   "execution_count": 5,
   "metadata": {},
   "outputs": [
    {
     "name": "stdout",
     "output_type": "stream",
     "text": [
      "294\n"
     ]
    }
   ],
   "source": [
    "print(sum([max(a, b) // min(a, b)\n",
    "           for a, b in combinations(row, 2)\n",
    "           if max(a, b) % min(a, b) == 0][0]\n",
    "      for row in m))"
   ]
  },
  {
   "cell_type": "markdown",
   "metadata": {},
   "source": [
    "# Day 3: Spiral Memory"
   ]
  },
  {
   "cell_type": "code",
   "execution_count": 6,
   "metadata": {},
   "outputs": [
    {
     "name": "stdout",
     "output_type": "stream",
     "text": [
      "475\n"
     ]
    }
   ],
   "source": [
    "unit = 1\n",
    "n = 277678\n",
    "side = 1\n",
    "# does not work for n == 1\n",
    "while n > 0:\n",
    "    if n > unit:\n",
    "        n -= unit\n",
    "    else:\n",
    "        di, dj = 0, 1\n",
    "        i, j = side // 2, -((side - 2) // 2)\n",
    "        max_dis = side - 1\n",
    "        while n > 1:\n",
    "            if abs(i + di) + abs(j + dj) > max_dis:\n",
    "                di, dj = -dj, di\n",
    "            i, j = i + di, j + dj\n",
    "            n -= 1\n",
    "        print(abs(i) + abs(j))\n",
    "        break\n",
    "    side += 2\n",
    "    unit = side * side - (side - 2) * (side - 2)"
   ]
  },
  {
   "cell_type": "code",
   "execution_count": 7,
   "metadata": {},
   "outputs": [
    {
     "name": "stdout",
     "output_type": "stream",
     "text": [
      "279138\n"
     ]
    }
   ],
   "source": [
    "unit = 1\n",
    "side = 1\n",
    "grid = {}\n",
    "def sum_neis(i, j):\n",
    "    return sum(grid[i + di, j + dj]\n",
    "                for di in (-1, 0, 1) \n",
    "                for dj in (-1, 0, 1) \n",
    "                if (not di == dj == 0) and (i + di, j + dj) in grid)\n",
    "v = 1\n",
    "i, j = 0, 0\n",
    "cnt = 0\n",
    "while v <= 277678:\n",
    "    grid[i, j] = v\n",
    "    cnt += 1\n",
    "    # update i and j and v\n",
    "    if cnt >= side * side:\n",
    "        i, j = (side + 2) // 2, -side // 2\n",
    "        di, dj = 0, 1\n",
    "        side += 2\n",
    "    if abs(i + di) + abs(j + dj) > side - 1:\n",
    "        di, dj = -dj, di\n",
    "    i, j = i + di, j + dj\n",
    "    v = sum_neis(i, j)\n",
    "print(v)"
   ]
  },
  {
   "cell_type": "markdown",
   "metadata": {},
   "source": [
    "# Day 4: High-Entropy Passphrases "
   ]
  },
  {
   "cell_type": "code",
   "execution_count": 8,
   "metadata": {},
   "outputs": [
    {
     "name": "stdout",
     "output_type": "stream",
     "text": [
      "451\n",
      "223\n"
     ]
    }
   ],
   "source": [
    "def valid(line):\n",
    "    s = set()\n",
    "    for word in line.split():\n",
    "        if word in s:\n",
    "            return False\n",
    "        s.add(word)\n",
    "    return True\n",
    "def valid_new(line):\n",
    "    s = set()\n",
    "    for word in line.split():\n",
    "        word = ''.join(sorted(word))\n",
    "        if word in s:\n",
    "            return False\n",
    "        s.add(word)\n",
    "    return True\n",
    "with open('inputs/day4.txt', 'r') as f:\n",
    "    lines = f.readlines()\n",
    "    print(sum(valid(line.strip()) for line in lines))\n",
    "    print(sum(valid_new(line.strip()) for line in lines))"
   ]
  },
  {
   "cell_type": "markdown",
   "metadata": {},
   "source": [
    "# Day 5: A Maze of Twisty Trampolines, All Alike"
   ]
  },
  {
   "cell_type": "code",
   "execution_count": 9,
   "metadata": {},
   "outputs": [
    {
     "name": "stdout",
     "output_type": "stream",
     "text": [
      "336905\n"
     ]
    }
   ],
   "source": [
    "with open('inputs/day5.txt', 'r') as f:\n",
    "    lst = list(map(int, f.readlines()))\n",
    "# lst = [0, 3, 0, 1, -3]\n",
    "cur = 0\n",
    "cnt = 0\n",
    "while 0 <= cur < len(lst):\n",
    "    move = lst[cur]\n",
    "    lst[cur] += 1\n",
    "    cur += move\n",
    "    cnt += 1\n",
    "print(cnt)"
   ]
  },
  {
   "cell_type": "code",
   "execution_count": 10,
   "metadata": {},
   "outputs": [
    {
     "name": "stdout",
     "output_type": "stream",
     "text": [
      "21985262\n"
     ]
    }
   ],
   "source": [
    "with open('inputs/day5.txt', 'r') as f:\n",
    "    lst = list(map(int, f.readlines()))\n",
    "# lst = [0, 3, 0, 1, -3]\n",
    "cur = 0\n",
    "cnt = 0\n",
    "while 0 <= cur < len(lst):\n",
    "    move = lst[cur]\n",
    "    if move >= 3:\n",
    "        lst[cur] -= 1\n",
    "    else:\n",
    "        lst[cur] += 1\n",
    "    cur += move\n",
    "    cnt += 1\n",
    "print(cnt)"
   ]
  },
  {
   "cell_type": "markdown",
   "metadata": {},
   "source": [
    "# Day 6: Memory Reallocation "
   ]
  },
  {
   "cell_type": "code",
   "execution_count": 11,
   "metadata": {},
   "outputs": [
    {
     "name": "stdout",
     "output_type": "stream",
     "text": [
      "[14, 0, 15, 12, 11, 11, 3, 5, 1, 6, 8, 4, 9, 1, 8, 4]\n"
     ]
    }
   ],
   "source": [
    "with open('inputs/day6.txt', 'r') as f:\n",
    "    lst = list(map(int, f.read().split()))\n",
    "print(lst)"
   ]
  },
  {
   "cell_type": "code",
   "execution_count": 12,
   "metadata": {},
   "outputs": [],
   "source": [
    "def update_banks(lst):\n",
    "    mx = max(lst)\n",
    "    idx = lst.index(mx)\n",
    "    lst[idx] = 0\n",
    "    idx += 1\n",
    "    q, r = divmod(mx, n)\n",
    "    for di in range(n):\n",
    "        lst[(idx + di) % n] += q\n",
    "    for di in range(r):\n",
    "        lst[(idx + di) % n] += 1"
   ]
  },
  {
   "cell_type": "code",
   "execution_count": 13,
   "metadata": {},
   "outputs": [
    {
     "name": "stdout",
     "output_type": "stream",
     "text": [
      "11137\n",
      "[14, 13, 12, 11, 9, 8, 8, 6, 6, 4, 4, 3, 1, 1, 0, 12]\n"
     ]
    }
   ],
   "source": [
    "# lst = [0, 2, 7, 0]\n",
    "n = len(lst)\n",
    "configs = set(tuple(lst))\n",
    "cnt = 0\n",
    "while True:\n",
    "    cnt += 1\n",
    "    update_banks(lst)\n",
    "    t = tuple(lst)\n",
    "    if t in configs:\n",
    "        break\n",
    "    else:\n",
    "        configs.add(t)\n",
    "print(cnt)\n",
    "print(lst)"
   ]
  },
  {
   "cell_type": "code",
   "execution_count": 14,
   "metadata": {},
   "outputs": [
    {
     "name": "stdout",
     "output_type": "stream",
     "text": [
      "1037\n"
     ]
    }
   ],
   "source": [
    "old_t = tuple(lst)\n",
    "cnt = 0\n",
    "while True:\n",
    "    cnt += 1\n",
    "    update_banks(lst)\n",
    "    t = tuple(lst)\n",
    "    if t == old_t:\n",
    "        print(cnt)\n",
    "        break"
   ]
  },
  {
   "cell_type": "markdown",
   "metadata": {},
   "source": [
    "# Day 7: Recursive Circus"
   ]
  },
  {
   "cell_type": "code",
   "execution_count": 15,
   "metadata": {},
   "outputs": [],
   "source": [
    "nodes = set()\n",
    "weights = {}\n",
    "pres, sucs = defaultdict(set), defaultdict(set)\n",
    "with open('inputs/day7.txt', 'r') as f:\n",
    "    for line in f:\n",
    "        line = line.strip()\n",
    "        idx = line.index('(')\n",
    "        node = line[:idx - 1]\n",
    "        weights[node] = int(line[idx + 1:line.index(')', idx)])\n",
    "        nodes.add(node)\n",
    "        if '->' in line:\n",
    "            left, right = line.split(' -> ')\n",
    "            for nei in right.split(', '):\n",
    "                nodes.add(nei)\n",
    "                pres[nei].add(node)\n",
    "                sucs[node].add(nei)"
   ]
  },
  {
   "cell_type": "code",
   "execution_count": 16,
   "metadata": {},
   "outputs": [
    {
     "data": {
      "text/plain": [
       "{'aapssr'}"
      ]
     },
     "execution_count": 16,
     "metadata": {},
     "output_type": "execute_result"
    }
   ],
   "source": [
    "nodes - pres.keys()"
   ]
  },
  {
   "cell_type": "code",
   "execution_count": 17,
   "metadata": {},
   "outputs": [],
   "source": [
    "def traverse(node):\n",
    "    cnt = 0\n",
    "    counter = {}\n",
    "    for child in sucs[node]:\n",
    "        temp = traverse(child)\n",
    "        cnt += temp\n",
    "        counter[child] = temp\n",
    "    if len(set(counter.values())) > 1:\n",
    "        m = mode(counter.values())\n",
    "        for key, c in counter.items():\n",
    "            if c != m:\n",
    "                print(m - c + weights[key])\n",
    "                cnt += m - c\n",
    "                break\n",
    "    return cnt + weights[node]"
   ]
  },
  {
   "cell_type": "code",
   "execution_count": 18,
   "metadata": {},
   "outputs": [
    {
     "name": "stdout",
     "output_type": "stream",
     "text": [
      "1458\n"
     ]
    }
   ],
   "source": [
    "# traverse('tknk')\n",
    "traverse('aapssr');"
   ]
  },
  {
   "cell_type": "markdown",
   "metadata": {},
   "source": [
    "# Day 8: I Heard You Like Registers"
   ]
  },
  {
   "cell_type": "code",
   "execution_count": 19,
   "metadata": {},
   "outputs": [
    {
     "name": "stdout",
     "output_type": "stream",
     "text": [
      "3089\n",
      "5391\n"
     ]
    }
   ],
   "source": [
    "registers = defaultdict(int)\n",
    "ops = {'inc' : operator.add, 'dec' : operator.sub}\n",
    "high = 0\n",
    "with open('inputs/day8.txt', 'r') as f:\n",
    "    for line in f:\n",
    "        lvar, op, num, _, condition = line.split(' ', 4)\n",
    "        num = int(num)\n",
    "        rvar, _ = condition.split(' ', 1)\n",
    "        registers[lvar] = ops[op](registers[lvar], (num if eval(condition, {rvar : registers[rvar]}) else 0))\n",
    "        high = max(high, registers[lvar])\n",
    "print(max(registers.values()))\n",
    "print(high)"
   ]
  },
  {
   "cell_type": "markdown",
   "metadata": {},
   "source": [
    "# Day 9: Stream Processing"
   ]
  },
  {
   "cell_type": "code",
   "execution_count": 20,
   "metadata": {},
   "outputs": [
    {
     "name": "stdout",
     "output_type": "stream",
     "text": [
      "6569\n",
      "14212\n"
     ]
    }
   ],
   "source": [
    "def parse_line(line):\n",
    "    def helper1(line):\n",
    "        ans = []\n",
    "        i = 0\n",
    "        while i < len(line):\n",
    "            if line[i] == '!':\n",
    "                i += 2\n",
    "            else:\n",
    "                ans.append(line[i])\n",
    "                i += 1\n",
    "        return ''.join(ans)\n",
    "    def helper2(line):\n",
    "        nonlocal cnt\n",
    "        lidx = line.find('<')\n",
    "        if lidx == -1:\n",
    "            return line\n",
    "        else:\n",
    "            ridx = line.find('>', lidx)\n",
    "            cnt += ridx - lidx - 1\n",
    "            return line[:lidx] + helper2(line[ridx + 1:])\n",
    "    cnt = 0\n",
    "    line = helper1(line)\n",
    "    line = helper2(line)\n",
    "    print(cnt)\n",
    "    return line\n",
    "def compute_score(line):\n",
    "    ans = 0\n",
    "    cnt = 0\n",
    "    for ch in line:\n",
    "        if ch == '{':\n",
    "            cnt += 1\n",
    "        elif ch == '}':\n",
    "            ans += cnt\n",
    "            cnt -= 1\n",
    "    return ans\n",
    "with open('inputs/day9.txt', 'r') as f:\n",
    "    line = f.read()\n",
    "    line = parse_line(line)\n",
    "    print(compute_score(line))"
   ]
  },
  {
   "cell_type": "markdown",
   "metadata": {},
   "source": [
    "# Day 10: Knot Hash"
   ]
  },
  {
   "cell_type": "code",
   "execution_count": 21,
   "metadata": {},
   "outputs": [
    {
     "name": "stdout",
     "output_type": "stream",
     "text": [
      "9656\n"
     ]
    }
   ],
   "source": [
    "with open('inputs/day10.txt', 'r') as f:\n",
    "    moves = f.read().split(',')\n",
    "# lst = [0, 1, 2, 3, 4]\n",
    "# moves = [3, 4, 1, 5]\n",
    "lst = list(range(256))\n",
    "cur = 0\n",
    "n = len(lst)\n",
    "for skip, move in enumerate(map(int, moves)):\n",
    "    temp = lst[cur:min(n, cur + move)] + lst[0:max(0, move - (n - cur))]\n",
    "    for i, ch in enumerate(reversed(temp), cur):\n",
    "        lst[i % n] = ch\n",
    "    cur = (cur + move + skip) % n\n",
    "print(lst[0] * lst[1])"
   ]
  },
  {
   "cell_type": "code",
   "execution_count": 22,
   "metadata": {},
   "outputs": [],
   "source": [
    "with open('inputs/day10.txt', 'r') as f:\n",
    "    moves = []\n",
    "    for ch in f.read():\n",
    "        moves.append(ord(ch))\n",
    "moves.extend([17, 31, 73, 47, 23])\n",
    "lst = list(range(256))\n",
    "cur = 0\n",
    "n = len(lst)\n",
    "skip = 0\n",
    "for _ in range(64):\n",
    "    for move in map(int, moves):\n",
    "        temp = lst[cur:min(n, cur + move)] + lst[0:max(0, move - (n - cur))]\n",
    "        for i, ch in enumerate(reversed(temp), cur):\n",
    "            lst[i % n] = ch\n",
    "        cur = (cur + move + skip) % n\n",
    "        skip += 1\n",
    "code = []\n",
    "for i in range(0, 256, 16):\n",
    "    code.append(reduce(ixor, lst[i:i+16]))\n",
    "ans = \"\"\n",
    "for num in code:\n",
    "    ans += format(num, '02x')"
   ]
  },
  {
   "cell_type": "code",
   "execution_count": 23,
   "metadata": {},
   "outputs": [
    {
     "data": {
      "text/plain": [
       "'20b7b54c92bf73cf3e5631458a715149'"
      ]
     },
     "execution_count": 23,
     "metadata": {},
     "output_type": "execute_result"
    }
   ],
   "source": [
    "ans"
   ]
  },
  {
   "cell_type": "markdown",
   "metadata": {},
   "source": [
    "# Day 11: Hex Ed"
   ]
  },
  {
   "cell_type": "code",
   "execution_count": 24,
   "metadata": {},
   "outputs": [],
   "source": [
    "with open('inputs/day11.txt', 'r') as f:\n",
    "    lst = f.read().split(',')\n",
    "counter = Counter(lst)"
   ]
  },
  {
   "cell_type": "code",
   "execution_count": 25,
   "metadata": {},
   "outputs": [
    {
     "name": "stdout",
     "output_type": "stream",
     "text": [
      "796\n"
     ]
    }
   ],
   "source": [
    "x, y = 0, 0\n",
    "for key, cnt in counter.items():\n",
    "    if len(key) == 1:\n",
    "        if 'n' in key or 's' in key:\n",
    "            y += cnt if 'n' in key else -cnt        \n",
    "    else:\n",
    "        if 'n' in key or 's' in key:\n",
    "            y += 0.5 * cnt if 'n' in key else -0.5 * cnt\n",
    "        if 'e' in key or 'w' in key:\n",
    "            x += cnt if 'e' in key else -cnt\n",
    "print(round(abs(x) + abs((y - x // 2))))"
   ]
  },
  {
   "cell_type": "code",
   "execution_count": 26,
   "metadata": {},
   "outputs": [],
   "source": [
    "x, y = 0, 0\n",
    "ans = 0\n",
    "for key in lst:\n",
    "    if len(key) == 1:\n",
    "        if 'n' in key or 's' in key:\n",
    "            y += 1 if 'n' in key else -1        \n",
    "    else:\n",
    "        if 'n' in key or 's' in key:\n",
    "            y += 0.5 if 'n' in key else -0.5\n",
    "        if 'e' in key or 'w' in key:\n",
    "            x += 1 if 'e' in key else -1\n",
    "    ans = max(ans, abs(x) + abs((y - x // 2)))  "
   ]
  },
  {
   "cell_type": "code",
   "execution_count": 27,
   "metadata": {},
   "outputs": [
    {
     "name": "stdout",
     "output_type": "stream",
     "text": [
      "1585\n"
     ]
    }
   ],
   "source": [
    "print(round(ans))"
   ]
  },
  {
   "cell_type": "markdown",
   "metadata": {},
   "source": [
    "# Day 12: Digital Plumber"
   ]
  },
  {
   "cell_type": "code",
   "execution_count": 28,
   "metadata": {},
   "outputs": [
    {
     "name": "stdout",
     "output_type": "stream",
     "text": [
      "175\n",
      "213\n"
     ]
    }
   ],
   "source": [
    "graph = defaultdict(list)\n",
    "nodes = set()\n",
    "with open('inputs/day12.txt', 'r') as f:\n",
    "    for line in f:\n",
    "        line = line.strip()\n",
    "        node, rest = line.split(' <-> ')\n",
    "        nodes.add(node)\n",
    "        for nei in rest.split(', '):\n",
    "            nodes.add(nei)\n",
    "            graph[node].append(nei)\n",
    "            graph[nei].append(node)\n",
    "visited = set()\n",
    "def dfs(node):\n",
    "    stack = [node]\n",
    "    visited.add(node)\n",
    "    cnt = 0\n",
    "    while stack:\n",
    "        node = stack.pop()\n",
    "        cnt += 1\n",
    "        for nei in graph[node]:\n",
    "            if nei not in visited:\n",
    "                visited.add(nei)\n",
    "                stack.append(nei)\n",
    "    return cnt\n",
    "print(dfs('0'))\n",
    "visited = set()\n",
    "cnt = 0\n",
    "for node in nodes:\n",
    "    if node not in visited:\n",
    "        cnt += 1\n",
    "        dfs(node)\n",
    "print(cnt)"
   ]
  },
  {
   "cell_type": "markdown",
   "metadata": {},
   "source": [
    "# Day 13: Packet Scanners"
   ]
  },
  {
   "cell_type": "code",
   "execution_count": 67,
   "metadata": {},
   "outputs": [
    {
     "name": "stdout",
     "output_type": "stream",
     "text": [
      "1504\n"
     ]
    }
   ],
   "source": [
    "guards = {}\n",
    "with open('inputs/day13.txt', 'r') as f:\n",
    "    for line in f:\n",
    "        depth, r = line.split(': ')\n",
    "        depth, r = int(depth), int(r)\n",
    "        guards[depth] = r\n",
    "# print(guards)\n",
    "N = max(guards) + 1\n",
    "ranges = [guards.get(i, 0) for i in range(N)]\n",
    "ps = [0] * N\n",
    "vs = [1] * N\n",
    "cur = 0\n",
    "ans = 0\n",
    "def update_guards(ps, vs):\n",
    "    for i in range(len(ps)):\n",
    "        if i in guards:\n",
    "            ps[i] += vs[i]\n",
    "            if ps[i] == 0 or ps[i] == ranges[i] - 1:\n",
    "                vs[i] *= -1    \n",
    "while cur < N:\n",
    "    if cur in guards and 0 == ps[cur]:\n",
    "        ans += cur * ranges[cur]\n",
    "    update_guards(ps, vs)\n",
    "    cur += 1\n",
    "print(ans)"
   ]
  },
  {
   "cell_type": "code",
   "execution_count": 68,
   "metadata": {},
   "outputs": [
    {
     "name": "stdout",
     "output_type": "stream",
     "text": [
      "3823370\n"
     ]
    }
   ],
   "source": [
    "# from array import array\n",
    "# def can_pass(ps, vs):\n",
    "#     cur = 0\n",
    "#     while cur < N:\n",
    "#         if cur in guards and 0 == ps[cur]:\n",
    "#             return False\n",
    "#         update_guards(ps, vs)\n",
    "#         cur += 1\n",
    "#     return True\n",
    "# ps = array('i', [0] * N)\n",
    "# vs = array('i', [1] * N)\n",
    "# delay = 0\n",
    "# while True:\n",
    "#     if can_pass(ps[:], vs[:]):\n",
    "#         print(delay)\n",
    "#         break\n",
    "#     delay += 1\n",
    "#     update_guards(ps, vs)"
   ]
  },
  {
   "cell_type": "code",
   "execution_count": null,
   "metadata": {},
   "outputs": [],
   "source": [
    "# 3823370"
   ]
  }
 ],
 "metadata": {
  "kernelspec": {
   "display_name": "Python 3",
   "language": "python",
   "name": "python3"
  },
  "language_info": {
   "codemirror_mode": {
    "name": "ipython",
    "version": 3
   },
   "file_extension": ".py",
   "mimetype": "text/x-python",
   "name": "python",
   "nbconvert_exporter": "python",
   "pygments_lexer": "ipython3",
   "version": "3.6.3"
  }
 },
 "nbformat": 4,
 "nbformat_minor": 2
}
