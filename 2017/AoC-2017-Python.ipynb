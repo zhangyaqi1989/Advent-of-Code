{
 "cells": [
  {
   "cell_type": "markdown",
   "metadata": {},
   "source": [
    "# Day 0: Imports and Utility Functions"
   ]
  },
  {
   "cell_type": "code",
   "execution_count": 1,
   "metadata": {},
   "outputs": [],
   "source": [
    "%matplotlib inline\n",
    "import matplotlib.pyplot as plt\n",
    "\n",
    "import sys\n",
    "import os\n",
    "import re\n",
    "import numpy as np\n",
    "import random\n",
    "from collections import Counter, defaultdict, namedtuple, deque, OrderedDict\n",
    "from functools   import lru_cache, reduce\n",
    "from statistics  import mean, median, mode, stdev, variance\n",
    "from itertools   import (permutations, combinations, groupby, cycle, chain, zip_longest, takewhile, dropwhile, count as count_from)\n",
    "from heapq       import heappush, heappop\n",
    "from operator    import iand, ior, ilshift, irshift, ixor"
   ]
  },
  {
   "cell_type": "markdown",
   "metadata": {},
   "source": [
    "# Day 1: Inverse Captcha"
   ]
  },
  {
   "cell_type": "code",
   "execution_count": 2,
   "metadata": {},
   "outputs": [
    {
     "name": "stdout",
     "output_type": "stream",
     "text": [
      "1069\n",
      "1268\n"
     ]
    }
   ],
   "source": [
    "with open('inputs/day1.txt') as f:\n",
    "    line = f.read()\n",
    "    n, half = len(line), len(line) // 2\n",
    "    print(sum(int(line[i]) for i in range(n) if line[i] == line[(i + 1) % n]))\n",
    "    print(sum(int(line[i]) for i in range(n) if line[i] == line[(i + half) % n]))"
   ]
  },
  {
   "cell_type": "markdown",
   "metadata": {},
   "source": [
    "# Day 2: Corruption Checksum"
   ]
  },
  {
   "cell_type": "code",
   "execution_count": 3,
   "metadata": {},
   "outputs": [],
   "source": [
    "m = np.loadtxt('inputs/day2.txt', dtype=np.int64)"
   ]
  },
  {
   "cell_type": "code",
   "execution_count": 4,
   "metadata": {},
   "outputs": [
    {
     "name": "stdout",
     "output_type": "stream",
     "text": [
      "45158\n"
     ]
    }
   ],
   "source": [
    "print(sum(row.max() - row.min() for row in m))"
   ]
  },
  {
   "cell_type": "code",
   "execution_count": 5,
   "metadata": {},
   "outputs": [
    {
     "name": "stdout",
     "output_type": "stream",
     "text": [
      "294\n"
     ]
    }
   ],
   "source": [
    "print(sum([max(a, b) // min(a, b)\n",
    "           for a, b in combinations(row, 2)\n",
    "           if max(a, b) % min(a, b) == 0][0]\n",
    "      for row in m))"
   ]
  },
  {
   "cell_type": "markdown",
   "metadata": {},
   "source": [
    "# Day 3: Spiral Memory"
   ]
  },
  {
   "cell_type": "code",
   "execution_count": 6,
   "metadata": {},
   "outputs": [
    {
     "name": "stdout",
     "output_type": "stream",
     "text": [
      "475\n"
     ]
    }
   ],
   "source": [
    "unit = 1\n",
    "n = 277678\n",
    "side = 1\n",
    "# does not work for n == 1\n",
    "while n > 0:\n",
    "    if n > unit:\n",
    "        n -= unit\n",
    "    else:\n",
    "        di, dj = 0, 1\n",
    "        i, j = side // 2, -((side - 2) // 2)\n",
    "        max_dis = side - 1\n",
    "        while n > 1:\n",
    "            if abs(i + di) + abs(j + dj) > max_dis:\n",
    "                di, dj = -dj, di\n",
    "            i, j = i + di, j + dj\n",
    "            n -= 1\n",
    "        print(abs(i) + abs(j))\n",
    "        break\n",
    "    side += 2\n",
    "    unit = side * side - (side - 2) * (side - 2)"
   ]
  },
  {
   "cell_type": "code",
   "execution_count": 7,
   "metadata": {},
   "outputs": [
    {
     "name": "stdout",
     "output_type": "stream",
     "text": [
      "279138\n"
     ]
    }
   ],
   "source": [
    "unit = 1\n",
    "side = 1\n",
    "grid = {}\n",
    "def sum_neis(i, j):\n",
    "    return sum(grid[i + di, j + dj]\n",
    "                for di in (-1, 0, 1) \n",
    "                for dj in (-1, 0, 1) \n",
    "                if (not di == dj == 0) and (i + di, j + dj) in grid)\n",
    "v = 1\n",
    "i, j = 0, 0\n",
    "cnt = 0\n",
    "while v <= 277678:\n",
    "    grid[i, j] = v\n",
    "    cnt += 1\n",
    "    # update i and j and v\n",
    "    if cnt >= side * side:\n",
    "        i, j = (side + 2) // 2, -side // 2\n",
    "        di, dj = 0, 1\n",
    "        side += 2\n",
    "    if abs(i + di) + abs(j + dj) > side - 1:\n",
    "        di, dj = -dj, di\n",
    "    i, j = i + di, j + dj\n",
    "    v = sum_neis(i, j)\n",
    "print(v)"
   ]
  },
  {
   "cell_type": "markdown",
   "metadata": {},
   "source": [
    "# Day 4: High-Entropy Passphrases "
   ]
  },
  {
   "cell_type": "code",
   "execution_count": 8,
   "metadata": {},
   "outputs": [
    {
     "name": "stdout",
     "output_type": "stream",
     "text": [
      "451\n",
      "223\n"
     ]
    }
   ],
   "source": [
    "def valid(line):\n",
    "    s = set()\n",
    "    for word in line.split():\n",
    "        if word in s:\n",
    "            return False\n",
    "        s.add(word)\n",
    "    return True\n",
    "def valid_new(line):\n",
    "    s = set()\n",
    "    for word in line.split():\n",
    "        word = ''.join(sorted(word))\n",
    "        if word in s:\n",
    "            return False\n",
    "        s.add(word)\n",
    "    return True\n",
    "with open('inputs/day4.txt', 'r') as f:\n",
    "    lines = f.readlines()\n",
    "    print(sum(valid(line.strip()) for line in lines))\n",
    "    print(sum(valid_new(line.strip()) for line in lines))"
   ]
  },
  {
   "cell_type": "markdown",
   "metadata": {},
   "source": [
    "# Day 5: A Maze of Twisty Trampolines, All Alike"
   ]
  },
  {
   "cell_type": "code",
   "execution_count": 9,
   "metadata": {},
   "outputs": [
    {
     "name": "stdout",
     "output_type": "stream",
     "text": [
      "336905\n"
     ]
    }
   ],
   "source": [
    "with open('inputs/day5.txt', 'r') as f:\n",
    "    lst = list(map(int, f.readlines()))\n",
    "# lst = [0, 3, 0, 1, -3]\n",
    "cur = 0\n",
    "cnt = 0\n",
    "while 0 <= cur < len(lst):\n",
    "    move = lst[cur]\n",
    "    lst[cur] += 1\n",
    "    cur += move\n",
    "    cnt += 1\n",
    "print(cnt)"
   ]
  },
  {
   "cell_type": "code",
   "execution_count": 10,
   "metadata": {},
   "outputs": [
    {
     "name": "stdout",
     "output_type": "stream",
     "text": [
      "21985262\n"
     ]
    }
   ],
   "source": [
    "with open('inputs/day5.txt', 'r') as f:\n",
    "    lst = list(map(int, f.readlines()))\n",
    "# lst = [0, 3, 0, 1, -3]\n",
    "cur = 0\n",
    "cnt = 0\n",
    "while 0 <= cur < len(lst):\n",
    "    move = lst[cur]\n",
    "    if move >= 3:\n",
    "        lst[cur] -= 1\n",
    "    else:\n",
    "        lst[cur] += 1\n",
    "    cur += move\n",
    "    cnt += 1\n",
    "print(cnt)"
   ]
  },
  {
   "cell_type": "markdown",
   "metadata": {},
   "source": [
    "# Day 6: Memory Reallocation "
   ]
  },
  {
   "cell_type": "code",
   "execution_count": 11,
   "metadata": {},
   "outputs": [
    {
     "name": "stdout",
     "output_type": "stream",
     "text": [
      "[14, 0, 15, 12, 11, 11, 3, 5, 1, 6, 8, 4, 9, 1, 8, 4]\n"
     ]
    }
   ],
   "source": [
    "with open('inputs/day6.txt', 'r') as f:\n",
    "    lst = list(map(int, f.read().split()))\n",
    "# print(lst)"
   ]
  },
  {
   "cell_type": "code",
   "execution_count": 12,
   "metadata": {},
   "outputs": [],
   "source": [
    "def update_banks(lst):\n",
    "    mx = max(lst)\n",
    "    idx = lst.index(mx)\n",
    "    lst[idx] = 0\n",
    "    idx += 1\n",
    "    q, r = divmod(mx, n)\n",
    "    for di in range(n):\n",
    "        lst[(idx + di) % n] += q\n",
    "    for di in range(r):\n",
    "        lst[(idx + di) % n] += 1"
   ]
  },
  {
   "cell_type": "code",
   "execution_count": 13,
   "metadata": {},
   "outputs": [
    {
     "name": "stdout",
     "output_type": "stream",
     "text": [
      "11137\n",
      "[14, 13, 12, 11, 9, 8, 8, 6, 6, 4, 4, 3, 1, 1, 0, 12]\n"
     ]
    }
   ],
   "source": [
    "# lst = [0, 2, 7, 0]\n",
    "n = len(lst)\n",
    "configs = set(tuple(lst))\n",
    "cnt = 0\n",
    "while True:\n",
    "    cnt += 1\n",
    "    update_banks(lst)\n",
    "    t = tuple(lst)\n",
    "    if t in configs:\n",
    "        break\n",
    "    else:\n",
    "        configs.add(t)\n",
    "print(cnt)\n",
    "print(lst)"
   ]
  },
  {
   "cell_type": "code",
   "execution_count": 14,
   "metadata": {},
   "outputs": [
    {
     "name": "stdout",
     "output_type": "stream",
     "text": [
      "1037\n"
     ]
    }
   ],
   "source": [
    "old_t = tuple(lst)\n",
    "cnt = 0\n",
    "while True:\n",
    "    cnt += 1\n",
    "    update_banks(lst)\n",
    "    t = tuple(lst)\n",
    "    if t == old_t:\n",
    "        print(cnt)\n",
    "        break"
   ]
  },
  {
   "cell_type": "markdown",
   "metadata": {},
   "source": [
    "# Day 7: Recursive Circus"
   ]
  },
  {
   "cell_type": "code",
   "execution_count": 15,
   "metadata": {},
   "outputs": [],
   "source": [
    "nodes = set()\n",
    "weights = {}\n",
    "pres, sucs = defaultdict(set), defaultdict(set)\n",
    "with open('inputs/day7.txt', 'r') as f:\n",
    "    for line in f:\n",
    "        line = line.strip()\n",
    "        idx = line.index('(')\n",
    "        node = line[:idx - 1]\n",
    "        weights[node] = int(line[idx + 1:line.index(')', idx)])\n",
    "        nodes.add(node)\n",
    "        if '->' in line:\n",
    "            left, right = line.split(' -> ')\n",
    "            for nei in right.split(', '):\n",
    "                nodes.add(nei)\n",
    "                pres[nei].add(node)\n",
    "                sucs[node].add(nei)"
   ]
  },
  {
   "cell_type": "code",
   "execution_count": 16,
   "metadata": {},
   "outputs": [
    {
     "data": {
      "text/plain": [
       "{'aapssr'}"
      ]
     },
     "execution_count": 16,
     "metadata": {},
     "output_type": "execute_result"
    }
   ],
   "source": [
    "nodes - pres.keys()"
   ]
  },
  {
   "cell_type": "code",
   "execution_count": 17,
   "metadata": {},
   "outputs": [],
   "source": [
    "def traverse(node):\n",
    "    cnt = 0\n",
    "    counter = {}\n",
    "    for child in sucs[node]:\n",
    "        temp = traverse(child)\n",
    "        cnt += temp\n",
    "        counter[child] = temp\n",
    "    if len(set(counter.values())) > 1:\n",
    "        m = mode(counter.values())\n",
    "        for key, c in counter.items():\n",
    "            if c != m:\n",
    "                print(m - c + weights[key])\n",
    "                cnt += m - c\n",
    "                break\n",
    "    return cnt + weights[node]"
   ]
  },
  {
   "cell_type": "code",
   "execution_count": 18,
   "metadata": {},
   "outputs": [
    {
     "name": "stdout",
     "output_type": "stream",
     "text": [
      "1458\n"
     ]
    }
   ],
   "source": [
    "# traverse('tknk')\n",
    "traverse('aapssr');"
   ]
  },
  {
   "cell_type": "markdown",
   "metadata": {},
   "source": [
    "# Day 8: I Heard You Like Registers"
   ]
  },
  {
   "cell_type": "code",
   "execution_count": 19,
   "metadata": {},
   "outputs": [
    {
     "name": "stdout",
     "output_type": "stream",
     "text": [
      "3089\n",
      "5391\n"
     ]
    }
   ],
   "source": [
    "registers = defaultdict(int)\n",
    "ops = {'inc' : operator.add, 'dec' : operator.sub}\n",
    "high = 0\n",
    "with open('inputs/day8.txt', 'r') as f:\n",
    "    for line in f:\n",
    "        lvar, op, num, _, condition = line.split(' ', 4)\n",
    "        num = int(num)\n",
    "        rvar, _ = condition.split(' ', 1)\n",
    "        registers[lvar] = ops[op](registers[lvar], (num if eval(condition, {rvar : registers[rvar]}) else 0))\n",
    "        high = max(high, registers[lvar])\n",
    "print(max(registers.values()))\n",
    "print(high)"
   ]
  },
  {
   "cell_type": "markdown",
   "metadata": {},
   "source": [
    "# Day 9: Stream Processing"
   ]
  },
  {
   "cell_type": "code",
   "execution_count": 20,
   "metadata": {},
   "outputs": [
    {
     "name": "stdout",
     "output_type": "stream",
     "text": [
      "6569\n",
      "14212\n"
     ]
    }
   ],
   "source": [
    "def parse_line(line):\n",
    "    def helper1(line):\n",
    "        ans = []\n",
    "        i = 0\n",
    "        while i < len(line):\n",
    "            if line[i] == '!':\n",
    "                i += 2\n",
    "            else:\n",
    "                ans.append(line[i])\n",
    "                i += 1\n",
    "        return ''.join(ans)\n",
    "    def helper2(line):\n",
    "        nonlocal cnt\n",
    "        lidx = line.find('<')\n",
    "        if lidx == -1:\n",
    "            return line\n",
    "        else:\n",
    "            ridx = line.find('>', lidx)\n",
    "            cnt += ridx - lidx - 1\n",
    "            return line[:lidx] + helper2(line[ridx + 1:])\n",
    "    cnt = 0\n",
    "    line = helper1(line)\n",
    "    line = helper2(line)\n",
    "    print(cnt)\n",
    "    return line\n",
    "def compute_score(line):\n",
    "    ans = 0\n",
    "    cnt = 0\n",
    "    for ch in line:\n",
    "        if ch == '{':\n",
    "            cnt += 1\n",
    "        elif ch == '}':\n",
    "            ans += cnt\n",
    "            cnt -= 1\n",
    "    return ans\n",
    "with open('inputs/day9.txt', 'r') as f:\n",
    "    line = f.read()\n",
    "    line = parse_line(line)\n",
    "    print(compute_score(line))"
   ]
  },
  {
   "cell_type": "markdown",
   "metadata": {},
   "source": [
    "# Day 10: Knot Hash"
   ]
  },
  {
   "cell_type": "code",
   "execution_count": 21,
   "metadata": {},
   "outputs": [
    {
     "name": "stdout",
     "output_type": "stream",
     "text": [
      "9656\n"
     ]
    }
   ],
   "source": [
    "with open('inputs/day10.txt', 'r') as f:\n",
    "    moves = f.read().split(',')\n",
    "# lst = [0, 1, 2, 3, 4]\n",
    "# moves = [3, 4, 1, 5]\n",
    "lst = list(range(256))\n",
    "cur = 0\n",
    "n = len(lst)\n",
    "for skip, move in enumerate(map(int, moves)):\n",
    "    temp = lst[cur:min(n, cur + move)] + lst[0:max(0, move - (n - cur))]\n",
    "    for i, ch in enumerate(reversed(temp), cur):\n",
    "        lst[i % n] = ch\n",
    "    cur = (cur + move + skip) % n\n",
    "print(lst[0] * lst[1])"
   ]
  },
  {
   "cell_type": "code",
   "execution_count": 22,
   "metadata": {},
   "outputs": [],
   "source": [
    "with open('inputs/day10.txt', 'r') as f:\n",
    "    moves = []\n",
    "    for ch in f.read():\n",
    "        moves.append(ord(ch))\n",
    "moves.extend([17, 31, 73, 47, 23])\n",
    "lst = list(range(256))\n",
    "cur = 0\n",
    "n = len(lst)\n",
    "skip = 0\n",
    "for _ in range(64):\n",
    "    for move in map(int, moves):\n",
    "        temp = lst[cur:min(n, cur + move)] + lst[0:max(0, move - (n - cur))]\n",
    "        for i, ch in enumerate(reversed(temp), cur):\n",
    "            lst[i % n] = ch\n",
    "        cur = (cur + move + skip) % n\n",
    "        skip += 1\n",
    "code = []\n",
    "for i in range(0, 256, 16):\n",
    "    code.append(reduce(ixor, lst[i:i+16]))\n",
    "ans = \"\"\n",
    "for num in code:\n",
    "    ans += format(num, '02x')"
   ]
  },
  {
   "cell_type": "code",
   "execution_count": 23,
   "metadata": {},
   "outputs": [
    {
     "data": {
      "text/plain": [
       "'20b7b54c92bf73cf3e5631458a715149'"
      ]
     },
     "execution_count": 23,
     "metadata": {},
     "output_type": "execute_result"
    }
   ],
   "source": [
    "ans"
   ]
  },
  {
   "cell_type": "markdown",
   "metadata": {},
   "source": [
    "# Day 11: Hex Ed"
   ]
  },
  {
   "cell_type": "code",
   "execution_count": 24,
   "metadata": {},
   "outputs": [],
   "source": [
    "with open('inputs/day11.txt', 'r') as f:\n",
    "    lst = f.read().split(',')\n",
    "counter = Counter(lst)"
   ]
  },
  {
   "cell_type": "code",
   "execution_count": 25,
   "metadata": {},
   "outputs": [
    {
     "name": "stdout",
     "output_type": "stream",
     "text": [
      "796\n"
     ]
    }
   ],
   "source": [
    "x, y = 0, 0\n",
    "for key, cnt in counter.items():\n",
    "    if len(key) == 1:\n",
    "        if 'n' in key or 's' in key:\n",
    "            y += cnt if 'n' in key else -cnt        \n",
    "    else:\n",
    "        if 'n' in key or 's' in key:\n",
    "            y += 0.5 * cnt if 'n' in key else -0.5 * cnt\n",
    "        if 'e' in key or 'w' in key:\n",
    "            x += cnt if 'e' in key else -cnt\n",
    "print(round(abs(x) + abs((y - x // 2))))"
   ]
  },
  {
   "cell_type": "code",
   "execution_count": 26,
   "metadata": {},
   "outputs": [],
   "source": [
    "x, y = 0, 0\n",
    "ans = 0\n",
    "for key in lst:\n",
    "    if len(key) == 1:\n",
    "        if 'n' in key or 's' in key:\n",
    "            y += 1 if 'n' in key else -1        \n",
    "    else:\n",
    "        if 'n' in key or 's' in key:\n",
    "            y += 0.5 if 'n' in key else -0.5\n",
    "        if 'e' in key or 'w' in key:\n",
    "            x += 1 if 'e' in key else -1\n",
    "    ans = max(ans, abs(x) + abs((y - x // 2)))  "
   ]
  },
  {
   "cell_type": "code",
   "execution_count": 27,
   "metadata": {},
   "outputs": [
    {
     "name": "stdout",
     "output_type": "stream",
     "text": [
      "1585\n"
     ]
    }
   ],
   "source": [
    "print(round(ans))"
   ]
  },
  {
   "cell_type": "markdown",
   "metadata": {},
   "source": [
    "# Day 12: Digital Plumber"
   ]
  },
  {
   "cell_type": "code",
   "execution_count": 28,
   "metadata": {},
   "outputs": [
    {
     "name": "stdout",
     "output_type": "stream",
     "text": [
      "175\n",
      "213\n"
     ]
    }
   ],
   "source": [
    "graph = defaultdict(list)\n",
    "nodes = set()\n",
    "with open('inputs/day12.txt', 'r') as f:\n",
    "    for line in f:\n",
    "        line = line.strip()\n",
    "        node, rest = line.split(' <-> ')\n",
    "        nodes.add(node)\n",
    "        for nei in rest.split(', '):\n",
    "            nodes.add(nei)\n",
    "            graph[node].append(nei)\n",
    "            graph[nei].append(node)\n",
    "visited = set()\n",
    "def dfs(node):\n",
    "    stack = [node]\n",
    "    visited.add(node)\n",
    "    cnt = 0\n",
    "    while stack:\n",
    "        node = stack.pop()\n",
    "        cnt += 1\n",
    "        for nei in graph[node]:\n",
    "            if nei not in visited:\n",
    "                visited.add(nei)\n",
    "                stack.append(nei)\n",
    "    return cnt\n",
    "print(dfs('0'))\n",
    "visited = set()\n",
    "cnt = 0\n",
    "for node in nodes:\n",
    "    if node not in visited:\n",
    "        cnt += 1\n",
    "        dfs(node)\n",
    "print(cnt)"
   ]
  },
  {
   "cell_type": "markdown",
   "metadata": {},
   "source": [
    "# Day 13: Packet Scanners"
   ]
  },
  {
   "cell_type": "code",
   "execution_count": 29,
   "metadata": {},
   "outputs": [
    {
     "name": "stdout",
     "output_type": "stream",
     "text": [
      "1504\n"
     ]
    }
   ],
   "source": [
    "guards = {}\n",
    "with open('inputs/day13.txt', 'r') as f:\n",
    "    for line in f:\n",
    "        depth, r = line.split(': ')\n",
    "        depth, r = int(depth), int(r)\n",
    "        guards[depth] = r\n",
    "# print(guards)\n",
    "N = max(guards) + 1\n",
    "ranges = [guards.get(i, 0) for i in range(N)]\n",
    "ps = [0] * N\n",
    "vs = [1] * N\n",
    "cur = 0\n",
    "ans = 0\n",
    "def update_guards(ps, vs):\n",
    "    can_pass = True\n",
    "    for i in range(len(ps)):\n",
    "        if i in guards:\n",
    "            if ps[i] == 0:\n",
    "                can_pass = False\n",
    "            ps[i] += vs[i]\n",
    "            if ps[i] == 0 or ps[i] == ranges[i] - 1:\n",
    "                vs[i] *= -1\n",
    "    return can_pass\n",
    "while cur < N:\n",
    "    if cur in guards and 0 == ps[cur]:\n",
    "        ans += cur * ranges[cur]\n",
    "    update_guards(ps, vs)\n",
    "    cur += 1\n",
    "print(ans)"
   ]
  },
  {
   "cell_type": "code",
   "execution_count": 30,
   "metadata": {},
   "outputs": [
    {
     "name": "stdout",
     "output_type": "stream",
     "text": [
      "99\n",
      "3823370\n"
     ]
    }
   ],
   "source": [
    "ps = [0] * N\n",
    "vs = [1] * N\n",
    "print(N)\n",
    "for i in range(N):\n",
    "    for _ in range(i):\n",
    "        ps[i] += vs[i]\n",
    "        if ps[i] == 0 or ps[i] == ranges[i] - 1:\n",
    "            vs[i] *= -1\n",
    "delay = 0\n",
    "while not update_guards(ps, vs):\n",
    "    delay += 1\n",
    "print(delay)"
   ]
  },
  {
   "cell_type": "code",
   "execution_count": 31,
   "metadata": {},
   "outputs": [],
   "source": [
    "# from array import array\n",
    "# def can_pass(ps, vs):\n",
    "#     cur = 0\n",
    "#     while cur < N:\n",
    "#         if cur in guards and 0 == ps[cur]:\n",
    "#             return False\n",
    "#         update_guards(ps, vs)\n",
    "#         cur += 1\n",
    "#     return True\n",
    "# ps = array('i', [0] * N)\n",
    "# vs = array('i', [1] * N)\n",
    "# delay = 0\n",
    "# while True:\n",
    "#     if can_pass(ps[:], vs[:]):\n",
    "#         print(delay)\n",
    "#         break\n",
    "#     delay += 1\n",
    "#     update_guards(ps, vs)"
   ]
  },
  {
   "cell_type": "code",
   "execution_count": 32,
   "metadata": {},
   "outputs": [],
   "source": [
    "# 3823370"
   ]
  },
  {
   "cell_type": "markdown",
   "metadata": {},
   "source": [
    "# Day 15: Dueling Generators\n",
    "Generator A starts with 516\n",
    "Generator B starts with 190"
   ]
  },
  {
   "cell_type": "code",
   "execution_count": 33,
   "metadata": {},
   "outputs": [],
   "source": [
    "def duel_generator(A, B):\n",
    "    return A * 16807 % 2147483647, B * 48271 % 2147483647"
   ]
  },
  {
   "cell_type": "code",
   "execution_count": 34,
   "metadata": {},
   "outputs": [
    {
     "name": "stdout",
     "output_type": "stream",
     "text": [
      "597\n"
     ]
    }
   ],
   "source": [
    "cnt = 0\n",
    "A, B = 516, 190\n",
    "sixteen = 2 ** 16\n",
    "for i in range(40_000_000):\n",
    "    A, B = duel_generator(A, B)\n",
    "    cnt += (A % sixteen) == (B % sixteen)\n",
    "print(cnt)"
   ]
  },
  {
   "cell_type": "code",
   "execution_count": 35,
   "metadata": {},
   "outputs": [
    {
     "name": "stdout",
     "output_type": "stream",
     "text": [
      "303\n"
     ]
    }
   ],
   "source": [
    "def duel_generator_new(A, B):\n",
    "    A, B = A * 16807 % 2147483647,  B * 48271 % 2147483647\n",
    "    while A % 4 != 0:\n",
    "        A = A * 16807 % 2147483647\n",
    "    while B % 8 != 0:\n",
    "        B = B * 48271 % 2147483647\n",
    "    return A, B\n",
    "cnt = 0\n",
    "A, B = 516, 190\n",
    "sixteen = 2 ** 16\n",
    "for i in range(5_000_000):\n",
    "    A, B = duel_generator_new(A, B)\n",
    "    cnt += (A % sixteen) == (B % sixteen)\n",
    "print(cnt)"
   ]
  },
  {
   "cell_type": "markdown",
   "metadata": {},
   "source": [
    "# Day 16: Permutation Promenade"
   ]
  },
  {
   "cell_type": "code",
   "execution_count": 36,
   "metadata": {},
   "outputs": [],
   "source": [
    "indexes = {}\n",
    "n = 16\n",
    "class Node:\n",
    "    def __init__(self, val):\n",
    "        self.val = val\n",
    "lst = [Node(chr(i)) for i in range(97, 97 + n)]\n",
    "for i, node in enumerate(lst):\n",
    "    indexes[node.val] = i"
   ]
  },
  {
   "cell_type": "code",
   "execution_count": 37,
   "metadata": {},
   "outputs": [],
   "source": [
    "with open('inputs/day16.txt', 'r') as f:\n",
    "    lines = f.read().strip().split(',')\n",
    "    ops = []\n",
    "    for line in lines:\n",
    "        if line[0] == 's':\n",
    "            shift = int(line[1:]) % n\n",
    "            ops.append(('s', shift))\n",
    "        elif line[0] == 'x':\n",
    "            a, b = map(int, line[1:].split('/'))\n",
    "            ops.append(('x', a, b))\n",
    "        else:\n",
    "            a, b = line[1:].split('/')\n",
    "            ops.append(('p', a, b))\n",
    "    \n",
    "def dance(ops, cur):\n",
    "    for op in ops:\n",
    "        if op[0] == 's':\n",
    "            shift = op[1]\n",
    "            cur -= shift\n",
    "            if cur < 0:\n",
    "                cur += n\n",
    "        elif op[0] == 'x':\n",
    "            a, b = op[1:]\n",
    "            a, b = (cur + a) % n, (cur + b) % n\n",
    "            A, B = lst[a].val, lst[b].val\n",
    "            lst[a].val, lst[b].val = lst[b].val, lst[a].val\n",
    "            indexes[A], indexes[B] = indexes[B], indexes[A]\n",
    "        else:\n",
    "            a, b = op[1:]\n",
    "            ia, ib = indexes[a], indexes[b]\n",
    "            lst[ia].val, lst[ib].val = b, a\n",
    "            indexes[a], indexes[b] = indexes[b], indexes[a]\n",
    "    return cur"
   ]
  },
  {
   "cell_type": "code",
   "execution_count": 38,
   "metadata": {},
   "outputs": [],
   "source": [
    "def show_position(lst, cur):\n",
    "    for i in range(n):\n",
    "        print(lst[(cur + i) % n].val, end = '')\n",
    "    print()"
   ]
  },
  {
   "cell_type": "code",
   "execution_count": 39,
   "metadata": {},
   "outputs": [
    {
     "name": "stdout",
     "output_type": "stream",
     "text": [
      "doeaimlbnpjchfkg\n"
     ]
    }
   ],
   "source": [
    "cur = 0\n",
    "cur = dance(ops, cur)\n",
    "show_position(lst, cur)"
   ]
  },
  {
   "cell_type": "code",
   "execution_count": 40,
   "metadata": {},
   "outputs": [],
   "source": [
    "lst = [Node(chr(i)) for i in range(97, 97 + n)]\n",
    "for i, node in enumerate(lst):\n",
    "    indexes[node.val] = i\n",
    "cur = 0\n",
    "old = [lst[(cur + i) % n].val for i in range(n)]\n",
    "for i in range(1_000_000_000):\n",
    "    cur = dance(ops, cur)\n",
    "    if all(old[i] == lst[(cur + i) % n].val for i in range(n)):\n",
    "        idx = i + 1\n",
    "        break"
   ]
  },
  {
   "cell_type": "code",
   "execution_count": 41,
   "metadata": {},
   "outputs": [
    {
     "name": "stdout",
     "output_type": "stream",
     "text": [
      "agndefjhibklmocp\n"
     ]
    }
   ],
   "source": [
    "lst = [Node(chr(i)) for i in range(97, 97 + n)]\n",
    "for i, node in enumerate(lst):\n",
    "    indexes[node.val] = i\n",
    "cur = 0\n",
    "for i in range(1_000_000_000 % 30):\n",
    "    cur = dance(ops, cur)\n",
    "show_position(lst, cur)"
   ]
  },
  {
   "cell_type": "markdown",
   "metadata": {},
   "source": [
    "# Day 18: Duet"
   ]
  },
  {
   "cell_type": "code",
   "execution_count": 42,
   "metadata": {},
   "outputs": [
    {
     "name": "stdout",
     "output_type": "stream",
     "text": [
      "3188\n"
     ]
    }
   ],
   "source": [
    "import operator\n",
    "registers = defaultdict(int)\n",
    "def fetch(s, idx=0):\n",
    "    if s.isalpha():\n",
    "        return registers.setdefault(s, idx)\n",
    "    else:\n",
    "        return int(s)\n",
    "        \n",
    "sound = None\n",
    "funcs = {'add' : operator.add, 'mul' : operator.mul, 'mod' : operator.mod}\n",
    "with open('inputs/day18.txt', 'r') as f:\n",
    "    ops = []\n",
    "    for line in f:\n",
    "        op, *hs = line.strip().split()\n",
    "        ops.append((op, hs))\n",
    "i = 0\n",
    "while i < len(ops):\n",
    "    op, hs = ops[i]\n",
    "    if op == 'set':\n",
    "        var, val = hs\n",
    "        val = fetch(val)\n",
    "        registers[var] = val\n",
    "    elif op == 'jgz':\n",
    "        var, val = hs\n",
    "        val = fetch(val)\n",
    "        var_val = fetch(var)\n",
    "        if var_val > 0:\n",
    "            i += val\n",
    "            continue\n",
    "    elif op == 'snd':\n",
    "        sound = registers[hs[0]]\n",
    "    elif op == 'rcv':\n",
    "        var = hs[0]\n",
    "        if registers[var] != 0 and sound is not None:\n",
    "            registers[val] = sound\n",
    "            print(sound)\n",
    "            break\n",
    "    else:\n",
    "        var, val = hs\n",
    "        val = fetch(val)\n",
    "        var_val = fetch(var)\n",
    "        registers[var] = funcs[op](var_val, val)\n",
    "    i += 1"
   ]
  },
  {
   "cell_type": "code",
   "execution_count": 43,
   "metadata": {},
   "outputs": [
    {
     "name": "stdout",
     "output_type": "stream",
     "text": [
      "7112\n"
     ]
    }
   ],
   "source": [
    "import copy\n",
    "with open('inputs/day18.txt', 'r') as f:\n",
    "    ops = []\n",
    "    for line in f:\n",
    "        op, *hs = line.strip().split()\n",
    "        ops.append((op, hs))\n",
    "registers = [defaultdict(int), defaultdict(int)]\n",
    "def fetch(s, idx):\n",
    "    if s.isalpha():\n",
    "        if s == 'p':\n",
    "            return registers[idx].setdefault('p', idx)\n",
    "        else:\n",
    "            return registers[idx][s]\n",
    "    else:\n",
    "        return int(s)\n",
    "msgs = [deque(), deque()]\n",
    "curs = [0, 0]\n",
    "cnt = 0\n",
    "step = 0\n",
    "while True:\n",
    "    step += 1\n",
    "#     print(ops[curs[1]])\n",
    "    terminate = True\n",
    "#     print(ops[curs[0]], ops[curs[1]])\n",
    "    for i in range(2): # ith program\n",
    "        if curs[i] >= len(ops):\n",
    "            continue\n",
    "        op, hs = ops[curs[i]]\n",
    "        if op == 'set':\n",
    "            var, val = hs\n",
    "            val = fetch(val, i)\n",
    "            registers[i][var] = val\n",
    "            terminate = False\n",
    "        elif op == 'jgz':\n",
    "            var, val = hs\n",
    "            val = fetch(val, i)\n",
    "            var_val = fetch(var, i)\n",
    "            terminate = False\n",
    "            if var_val > 0:\n",
    "                curs[i] += val\n",
    "                continue\n",
    "        elif op == 'snd':\n",
    "            val = fetch(hs[0], i)\n",
    "            msgs[1 - i].append(val)\n",
    "            if i == 1:\n",
    "                cnt += 1\n",
    "            terminate = False\n",
    "        elif op == 'rcv':\n",
    "            var = hs[0]\n",
    "            if msgs[i]:\n",
    "                terminate = False\n",
    "                registers[i][var] = msgs[i].popleft()\n",
    "            else:\n",
    "                continue\n",
    "        else:\n",
    "            var, val = hs\n",
    "            val = fetch(val, i)\n",
    "            var_val = fetch(var, i)\n",
    "            registers[i][var] = funcs[op](var_val, val)\n",
    "            terminate = False\n",
    "        curs[i] += 1\n",
    "    if terminate:\n",
    "        break\n",
    "print(cnt)"
   ]
  },
  {
   "cell_type": "markdown",
   "metadata": {},
   "source": [
    "# Day 23: Coprocessor Conflagration"
   ]
  },
  {
   "cell_type": "code",
   "execution_count": 4,
   "metadata": {},
   "outputs": [
    {
     "name": "stdout",
     "output_type": "stream",
     "text": [
      "8281\n"
     ]
    },
    {
     "ename": "KeyboardInterrupt",
     "evalue": "",
     "output_type": "error",
     "traceback": [
      "\u001b[0;31m---------------------------------------------------------------------------\u001b[0m",
      "\u001b[0;31mKeyboardInterrupt\u001b[0m                         Traceback (most recent call last)",
      "\u001b[0;32m<ipython-input-4-dd2edb957d01>\u001b[0m in \u001b[0;36m<module>\u001b[0;34m()\u001b[0m\n\u001b[1;32m     37\u001b[0m \u001b[0mprint\u001b[0m\u001b[0;34m(\u001b[0m\u001b[0mrun_program\u001b[0m\u001b[0;34m(\u001b[0m\u001b[0mregisters\u001b[0m\u001b[0;34m)\u001b[0m\u001b[0;34m)\u001b[0m\u001b[0;34m\u001b[0m\u001b[0m\n\u001b[1;32m     38\u001b[0m \u001b[0mregisters\u001b[0m \u001b[0;34m=\u001b[0m \u001b[0mdict\u001b[0m\u001b[0;34m(\u001b[0m\u001b[0mzip\u001b[0m\u001b[0;34m(\u001b[0m\u001b[0;34m'abcdefgh'\u001b[0m\u001b[0;34m,\u001b[0m \u001b[0;34m[\u001b[0m\u001b[0;36m1\u001b[0m\u001b[0;34m]\u001b[0m \u001b[0;34m+\u001b[0m \u001b[0;34m[\u001b[0m\u001b[0;36m0\u001b[0m\u001b[0;34m]\u001b[0m \u001b[0;34m*\u001b[0m \u001b[0;36m7\u001b[0m\u001b[0;34m)\u001b[0m\u001b[0;34m)\u001b[0m\u001b[0;34m\u001b[0m\u001b[0m\n\u001b[0;32m---> 39\u001b[0;31m \u001b[0mrun_program\u001b[0m\u001b[0;34m(\u001b[0m\u001b[0mregisters\u001b[0m\u001b[0;34m)\u001b[0m\u001b[0;34m\u001b[0m\u001b[0m\n\u001b[0m\u001b[1;32m     40\u001b[0m \u001b[0mprint\u001b[0m\u001b[0;34m(\u001b[0m\u001b[0mregisters\u001b[0m\u001b[0;34m[\u001b[0m\u001b[0;34m'h'\u001b[0m\u001b[0;34m]\u001b[0m\u001b[0;34m)\u001b[0m\u001b[0;34m\u001b[0m\u001b[0m\n",
      "\u001b[0;32m<ipython-input-4-dd2edb957d01>\u001b[0m in \u001b[0;36mrun_program\u001b[0;34m(registers)\u001b[0m\n\u001b[1;32m     25\u001b[0m             \u001b[0mx\u001b[0m \u001b[0;34m=\u001b[0m \u001b[0mfetch_value\u001b[0m\u001b[0;34m(\u001b[0m\u001b[0mregisters\u001b[0m\u001b[0;34m,\u001b[0m \u001b[0ma\u001b[0m\u001b[0;34m)\u001b[0m\u001b[0;34m\u001b[0m\u001b[0m\n\u001b[1;32m     26\u001b[0m             \u001b[0;32mif\u001b[0m \u001b[0mx\u001b[0m \u001b[0;34m!=\u001b[0m \u001b[0;36m0\u001b[0m\u001b[0;34m:\u001b[0m\u001b[0;34m\u001b[0m\u001b[0m\n\u001b[0;32m---> 27\u001b[0;31m                 \u001b[0my\u001b[0m \u001b[0;34m=\u001b[0m \u001b[0mfetch_value\u001b[0m\u001b[0;34m(\u001b[0m\u001b[0mregisters\u001b[0m\u001b[0;34m,\u001b[0m \u001b[0mb\u001b[0m\u001b[0;34m)\u001b[0m\u001b[0;34m\u001b[0m\u001b[0m\n\u001b[0m\u001b[1;32m     28\u001b[0m                 \u001b[0mi\u001b[0m \u001b[0;34m+=\u001b[0m \u001b[0my\u001b[0m\u001b[0;34m\u001b[0m\u001b[0m\n\u001b[1;32m     29\u001b[0m                 \u001b[0;32mcontinue\u001b[0m\u001b[0;34m\u001b[0m\u001b[0m\n",
      "\u001b[0;32m<ipython-input-4-dd2edb957d01>\u001b[0m in \u001b[0;36mfetch_value\u001b[0;34m(registers, s)\u001b[0m\n\u001b[1;32m      8\u001b[0m         \u001b[0;32mreturn\u001b[0m \u001b[0mregisters\u001b[0m\u001b[0;34m[\u001b[0m\u001b[0ms\u001b[0m\u001b[0;34m]\u001b[0m\u001b[0;34m\u001b[0m\u001b[0m\n\u001b[1;32m      9\u001b[0m     \u001b[0;32melse\u001b[0m\u001b[0;34m:\u001b[0m\u001b[0;34m\u001b[0m\u001b[0m\n\u001b[0;32m---> 10\u001b[0;31m         \u001b[0;32mreturn\u001b[0m \u001b[0mint\u001b[0m\u001b[0;34m(\u001b[0m\u001b[0ms\u001b[0m\u001b[0;34m)\u001b[0m\u001b[0;34m\u001b[0m\u001b[0m\n\u001b[0m\u001b[1;32m     11\u001b[0m \u001b[0mfuncs\u001b[0m \u001b[0;34m=\u001b[0m \u001b[0;34m{\u001b[0m\u001b[0;34m'sub'\u001b[0m \u001b[0;34m:\u001b[0m \u001b[0moperator\u001b[0m\u001b[0;34m.\u001b[0m\u001b[0msub\u001b[0m\u001b[0;34m,\u001b[0m \u001b[0;34m'mul'\u001b[0m \u001b[0;34m:\u001b[0m \u001b[0moperator\u001b[0m\u001b[0;34m.\u001b[0m\u001b[0mmul\u001b[0m\u001b[0;34m}\u001b[0m\u001b[0;34m\u001b[0m\u001b[0m\n\u001b[1;32m     12\u001b[0m \u001b[0;32mdef\u001b[0m \u001b[0mrun_program\u001b[0m\u001b[0;34m(\u001b[0m\u001b[0mregisters\u001b[0m\u001b[0;34m)\u001b[0m\u001b[0;34m:\u001b[0m\u001b[0;34m\u001b[0m\u001b[0m\n",
      "\u001b[0;31mKeyboardInterrupt\u001b[0m: "
     ]
    }
   ],
   "source": [
    "with open('inputs/day23.txt', 'r') as f:\n",
    "    ops = []\n",
    "    for line in f:\n",
    "        op, a, b = line.strip().split()\n",
    "        ops.append((op, a, b))\n",
    "def fetch_value(registers, s):\n",
    "    if s in registers:\n",
    "        return registers[s]\n",
    "    else:\n",
    "        return int(s)\n",
    "funcs = {'sub' : operator.sub, 'mul' : operator.mul}\n",
    "def run_program(registers):\n",
    "    \"\"\"\n",
    "    run thr program and count number muls\n",
    "    \"\"\"\n",
    "    i = 0\n",
    "    cnt = 0\n",
    "    while i < len(ops):\n",
    "        op, a, b = ops[i]\n",
    "        if op == 'mul':\n",
    "            cnt += 1\n",
    "        if op == 'set':\n",
    "            registers[a] = fetch_value(registers, b)\n",
    "        elif op == 'jnz':\n",
    "            x = fetch_value(registers, a)\n",
    "            if x != 0:\n",
    "                y = fetch_value(registers, b)\n",
    "                i += y\n",
    "                continue\n",
    "        else:\n",
    "            x = fetch_value(registers, a)\n",
    "            y = fetch_value(registers, b)\n",
    "            registers[a] = funcs[op](x, y)\n",
    "        i += 1\n",
    "    return cnt\n",
    "# registers = dict(zip('abcdefgh', [0] * 8))\n",
    "# print(run_program(registers))\n",
    "registers = dict(zip('abcdefgh', [1] + [0] * 7))\n",
    "run_program(registers)\n",
    "print(registers['h'])"
   ]
  },
  {
   "cell_type": "markdown",
   "metadata": {},
   "source": [
    "# Day 24: Electromagnetic Moat"
   ]
  },
  {
   "cell_type": "code",
   "execution_count": 122,
   "metadata": {},
   "outputs": [],
   "source": [
    "graph = defaultdict(set)\n",
    "nodes = set()\n",
    "with open('inputs/day24.txt', 'r') as f:\n",
    "    for line in f:\n",
    "        line = line.strip()\n",
    "        a, b = map(int, line.split('/'))\n",
    "        graph[a].add(b)\n",
    "        graph[b].add(a)\n",
    "        nodes.add(frozenset({a, b}))"
   ]
  },
  {
   "cell_type": "code",
   "execution_count": 89,
   "metadata": {},
   "outputs": [],
   "source": [
    "nodes_back = nodes.copy()"
   ]
  },
  {
   "cell_type": "code",
   "execution_count": 123,
   "metadata": {},
   "outputs": [
    {
     "name": "stdout",
     "output_type": "stream",
     "text": [
      "1859\n"
     ]
    }
   ],
   "source": [
    "ans = [0]\n",
    "def dfs(cur, acc, ans):\n",
    "    for nei in graph[cur]:\n",
    "        item = frozenset({nei, cur})\n",
    "        if item in nodes:\n",
    "            nodes.remove(item)\n",
    "            dfs(nei, acc + 2 * nei , ans)\n",
    "            nodes.add(item)\n",
    "    if acc - cur > ans[0]:\n",
    "        ans[0] = acc - cur\n",
    "dfs(0, 0, ans)\n",
    "print(ans[0])"
   ]
  },
  {
   "cell_type": "code",
   "execution_count": 124,
   "metadata": {},
   "outputs": [
    {
     "name": "stdout",
     "output_type": "stream",
     "text": [
      "[1799, 35]\n"
     ]
    }
   ],
   "source": [
    "ans = [0, 0]\n",
    "def dfs(cur, length, acc, ans):\n",
    "    for nei in graph[cur]:\n",
    "        item = frozenset({nei, cur})\n",
    "        if item in nodes:\n",
    "            nodes.remove(item)\n",
    "            dfs(nei, length + 1, acc + 2 * nei, ans)\n",
    "            nodes.add(item)\n",
    "    if length > ans[1] or (length == ans[1] and acc - cur > ans[0]):\n",
    "        ans[0] = acc - cur\n",
    "        ans[1] = length\n",
    "dfs(0, 0, 0, ans)\n",
    "print(ans)"
   ]
  },
  {
   "cell_type": "markdown",
   "metadata": {},
   "source": [
    "# Day 25: The Halting Problem "
   ]
  },
  {
   "cell_type": "code",
   "execution_count": 45,
   "metadata": {},
   "outputs": [],
   "source": [
    "rules = {'A' : ((1, +1, 'B'), (1, -1, 'E')),\n",
    "         'B' : ((1, +1, 'C'), (1, +1, 'F')),\n",
    "         'C' : ((1, -1, 'D'), (0, +1, 'B')),\n",
    "         'D' : ((1, +1, 'E'), (0, -1, 'C')),\n",
    "         'E' : ((1, -1, 'A'), (0, +1, 'D')),\n",
    "         'F' : ((1, +1, 'A'), (1, +1, 'C')),\n",
    "        }"
   ]
  },
  {
   "cell_type": "code",
   "execution_count": 49,
   "metadata": {},
   "outputs": [
    {
     "name": "stdout",
     "output_type": "stream",
     "text": [
      "4217\n"
     ]
    }
   ],
   "source": [
    "tape = deque([0] * 4000)\n",
    "cur = 2000\n",
    "nsteps = 12459852\n",
    "state = 'A'\n",
    "for _ in range(nsteps):\n",
    "    cur_val = tape[cur]\n",
    "    write, move, state = rules[state][cur_val]\n",
    "    tape[cur] = write\n",
    "    cur += move\n",
    "    if cur == len(tape) and move == 1:\n",
    "        tape.append(0)\n",
    "    if cur == -1 and move == -1:\n",
    "        tape.appendleft(0)\n",
    "        cur = 0\n",
    "print(sum(tape))"
   ]
  },
  {
   "cell_type": "code",
   "execution_count": null,
   "metadata": {},
   "outputs": [],
   "source": []
  }
 ],
 "metadata": {
  "kernelspec": {
   "display_name": "Python 3",
   "language": "python",
   "name": "python3"
  },
  "language_info": {
   "codemirror_mode": {
    "name": "ipython",
    "version": 3
   },
   "file_extension": ".py",
   "mimetype": "text/x-python",
   "name": "python",
   "nbconvert_exporter": "python",
   "pygments_lexer": "ipython3",
   "version": "3.6.3"
  }
 },
 "nbformat": 4,
 "nbformat_minor": 2
}
