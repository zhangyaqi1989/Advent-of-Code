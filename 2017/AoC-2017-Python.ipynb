{
 "cells": [
  {
   "cell_type": "markdown",
   "metadata": {},
   "source": [
    "# Day 0: Imports and Utility Functions"
   ]
  },
  {
   "cell_type": "code",
   "execution_count": 1,
   "metadata": {},
   "outputs": [],
   "source": [
    "%matplotlib inline\n",
    "import matplotlib.pyplot as plt\n",
    "\n",
    "import os\n",
    "import re\n",
    "import numpy as np\n",
    "import random\n",
    "from collections import Counter, defaultdict, namedtuple, deque, OrderedDict\n",
    "from functools   import lru_cache, reduce\n",
    "from statistics  import mean, median, mode, stdev, variance\n",
    "from itertools   import (permutations, combinations, groupby, cycle, chain, zip_longest, takewhile, dropwhile, count as count_from)\n",
    "from heapq       import heappush, heappop\n",
    "from operator    import iand, ior, ilshift, irshift"
   ]
  },
  {
   "cell_type": "markdown",
   "metadata": {},
   "source": [
    "# Day 1: Inverse Captcha"
   ]
  },
  {
   "cell_type": "code",
   "execution_count": 2,
   "metadata": {},
   "outputs": [
    {
     "name": "stdout",
     "output_type": "stream",
     "text": [
      "1069\n",
      "1268\n"
     ]
    }
   ],
   "source": [
    "with open('inputs/day1.txt') as f:\n",
    "    line = f.read()\n",
    "    n, half = len(line), len(line) // 2\n",
    "    print(sum(int(line[i]) for i in range(n) if line[i] == line[(i + 1) % n]))\n",
    "    print(sum(int(line[i]) for i in range(n) if line[i] == line[(i + half) % n]))"
   ]
  },
  {
   "cell_type": "markdown",
   "metadata": {},
   "source": [
    "# Day 2: Corruption Checksum"
   ]
  },
  {
   "cell_type": "code",
   "execution_count": 3,
   "metadata": {},
   "outputs": [],
   "source": [
    "m = np.loadtxt('inputs/day2.txt', dtype=np.int64)"
   ]
  },
  {
   "cell_type": "code",
   "execution_count": 4,
   "metadata": {},
   "outputs": [
    {
     "name": "stdout",
     "output_type": "stream",
     "text": [
      "45158\n"
     ]
    }
   ],
   "source": [
    "print(sum(row.max() - row.min() for row in m))"
   ]
  },
  {
   "cell_type": "code",
   "execution_count": 5,
   "metadata": {},
   "outputs": [
    {
     "name": "stdout",
     "output_type": "stream",
     "text": [
      "294\n"
     ]
    }
   ],
   "source": [
    "print(sum([max(a, b) // min(a, b)\n",
    "           for a, b in combinations(row, 2)\n",
    "           if max(a, b) % min(a, b) == 0][0]\n",
    "      for row in m))"
   ]
  },
  {
   "cell_type": "markdown",
   "metadata": {},
   "source": [
    "# Day 3: Spiral Memory"
   ]
  },
  {
   "cell_type": "code",
   "execution_count": 6,
   "metadata": {},
   "outputs": [
    {
     "name": "stdout",
     "output_type": "stream",
     "text": [
      "475\n"
     ]
    }
   ],
   "source": [
    "unit = 1\n",
    "n = 277678\n",
    "side = 1\n",
    "# does not work for n == 1\n",
    "while n > 0:\n",
    "    if n > unit:\n",
    "        n -= unit\n",
    "    else:\n",
    "        di, dj = 0, 1\n",
    "        i, j = side // 2, -((side - 2) // 2)\n",
    "        max_dis = side - 1\n",
    "        while n > 1:\n",
    "            if abs(i + di) + abs(j + dj) > max_dis:\n",
    "                di, dj = -dj, di\n",
    "            i, j = i + di, j + dj\n",
    "            n -= 1\n",
    "        print(abs(i) + abs(j))\n",
    "        break\n",
    "    side += 2\n",
    "    unit = side * side - (side - 2) * (side - 2)"
   ]
  },
  {
   "cell_type": "code",
   "execution_count": null,
   "metadata": {},
   "outputs": [],
   "source": [
    "unit = 1\n",
    "side = 1\n",
    "grid = {}\n",
    "def "
   ]
  }
 ],
 "metadata": {
  "kernelspec": {
   "display_name": "Python 3",
   "language": "python",
   "name": "python3"
  },
  "language_info": {
   "codemirror_mode": {
    "name": "ipython",
    "version": 3
   },
   "file_extension": ".py",
   "mimetype": "text/x-python",
   "name": "python",
   "nbconvert_exporter": "python",
   "pygments_lexer": "ipython3",
   "version": "3.6.6"
  }
 },
 "nbformat": 4,
 "nbformat_minor": 2
}
