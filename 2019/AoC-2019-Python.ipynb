{
 "cells": [
  {
   "cell_type": "markdown",
   "metadata": {},
   "source": [
    "# Day 0: Imports and Utility Functions"
   ]
  },
  {
   "cell_type": "code",
   "execution_count": 1,
   "metadata": {},
   "outputs": [],
   "source": [
    "%matplotlib inline\n",
    "import matplotlib.pyplot as plt\n",
    "\n",
    "import math\n",
    "import numpy as np\n",
    "import os\n",
    "import operator\n",
    "import re\n",
    "import random\n",
    "import string\n",
    "import collections, itertools, functools, heapq, operator, bisect\n",
    "from collections import Counter, defaultdict, namedtuple, deque, OrderedDict\n",
    "from functools   import lru_cache, reduce\n",
    "from statistics  import mean, median, mode, stdev, variance\n",
    "from itertools   import (permutations, combinations, groupby, repeat,\n",
    "                         islice, repeat,cycle, chain, product, zip_longest, takewhile, dropwhile, count as count_from)\n",
    "from heapq       import heappush, heappop, heapify\n",
    "from operator    import iand, ior, ilshift, irshift\n",
    "from bisect      import bisect_left, bisect_right"
   ]
  },
  {
   "cell_type": "code",
   "execution_count": 2,
   "metadata": {},
   "outputs": [],
   "source": [
    "input_path = lambda day : \"inputs/day{}.txt\".format(day)\n",
    "input_path_sample = lambda day : \"inputs/day{}-sample.txt\".format(day)"
   ]
  },
  {
   "cell_type": "code",
   "execution_count": 3,
   "metadata": {},
   "outputs": [],
   "source": [
    "def get_ints(f):\n",
    "    \"\"\"extract ints from a file.\"\"\"\n",
    "    return map(int, re.findall(r'[+-]?[0-9]+', f.read()))"
   ]
  },
  {
   "cell_type": "markdown",
   "metadata": {},
   "source": [
    "# [Day 1: The Tyranny of the Rocket Equation](https://adventofcode.com/2019/day/1)"
   ]
  },
  {
   "cell_type": "code",
   "execution_count": 4,
   "metadata": {},
   "outputs": [
    {
     "name": "stdout",
     "output_type": "stream",
     "text": [
      "3160932\n"
     ]
    }
   ],
   "source": [
    "with open(input_path(1), 'r') as f:\n",
    "    fuel = sum(mass // 3 - 2 for mass in get_ints(f))\n",
    "print(fuel)"
   ]
  },
  {
   "cell_type": "code",
   "execution_count": 5,
   "metadata": {},
   "outputs": [],
   "source": [
    "def compute_fuel(mass):\n",
    "    \"\"\"compute fuel needed.\"\"\"\n",
    "    ans = 0\n",
    "    while True:\n",
    "        mass = mass // 3 - 2\n",
    "        if mass <= 0:\n",
    "            break\n",
    "        ans += mass\n",
    "    return ans"
   ]
  },
  {
   "cell_type": "code",
   "execution_count": 6,
   "metadata": {},
   "outputs": [],
   "source": [
    "assert(compute_fuel(100756) == 50346)\n",
    "assert(compute_fuel(14) == 2)\n",
    "assert(compute_fuel(1969) == 966)"
   ]
  },
  {
   "cell_type": "code",
   "execution_count": 7,
   "metadata": {},
   "outputs": [
    {
     "name": "stdout",
     "output_type": "stream",
     "text": [
      "4738549\n"
     ]
    }
   ],
   "source": [
    "with open(input_path(1), 'r') as f:\n",
    "    fuel = sum(compute_fuel(mass) for mass in get_ints(f))\n",
    "print(fuel)"
   ]
  },
  {
   "cell_type": "markdown",
   "metadata": {},
   "source": [
    "# [Day 2: 1202 Program Alarm](https://adventofcode.com/2019/day/2)"
   ]
  },
  {
   "cell_type": "code",
   "execution_count": 8,
   "metadata": {},
   "outputs": [],
   "source": [
    "def parse_code(code):\n",
    "    \"\"\"simple code parser.\"\"\"\n",
    "    import operator\n",
    "    n = len(code)\n",
    "    for i in range(0, n, 4):\n",
    "        opcode = code[i]\n",
    "        if opcode == 99:\n",
    "            break\n",
    "        else:\n",
    "            left_idx = code[i + 1]\n",
    "            right_idx = code[i + 2]\n",
    "            r_idx = code[i + 3]\n",
    "            op = operator.add if opcode == 1 else operator.mul\n",
    "            code[r_idx] = op(code[left_idx], code[right_idx])\n",
    "    return code"
   ]
  },
  {
   "cell_type": "code",
   "execution_count": 9,
   "metadata": {},
   "outputs": [],
   "source": [
    "assert(parse_code([1,0,0,0,99]) == [2,0,0,0,99])\n",
    "assert(parse_code([2,3,0,3,99]) == [2,3,0,6,99])\n",
    "assert(parse_code([2,4,4,5,99,0]) == [2,4,4,5,99,9801])\n",
    "assert(parse_code([1,1,1,4,99,5,6,0,99]) == [30,1,1,4,2,5,6,0,99])"
   ]
  },
  {
   "cell_type": "code",
   "execution_count": 10,
   "metadata": {},
   "outputs": [
    {
     "name": "stdout",
     "output_type": "stream",
     "text": [
      "2890696\n"
     ]
    }
   ],
   "source": [
    "with open(input_path(2), 'r') as f:\n",
    "    memory = list(get_ints(f))\n",
    "code = memory[:]\n",
    "code[1] = 12\n",
    "code[2] = 2\n",
    "print(parse_code(code)[0])"
   ]
  },
  {
   "cell_type": "code",
   "execution_count": 11,
   "metadata": {},
   "outputs": [],
   "source": [
    "def choose_noun_and_verb(memory, target):\n",
    "    \"\"\"search inputs.\"\"\"\n",
    "    n = len(memory)\n",
    "    for noun in range(n):\n",
    "        for verb in range(n):\n",
    "            code = memory[:]\n",
    "            code[1] = noun\n",
    "            code[2] = verb\n",
    "            if parse_code(code)[0] == target:\n",
    "                return noun, verb\n",
    "    return None"
   ]
  },
  {
   "cell_type": "code",
   "execution_count": 12,
   "metadata": {},
   "outputs": [
    {
     "name": "stdout",
     "output_type": "stream",
     "text": [
      "8226\n"
     ]
    }
   ],
   "source": [
    "target = 19690720\n",
    "noun, verb = choose_noun_and_verb(memory, target)\n",
    "print(100 * noun + verb)"
   ]
  },
  {
   "cell_type": "markdown",
   "metadata": {},
   "source": [
    "# [Day 3: Crossed Wires](https://adventofcode.com/2019/day/3)"
   ]
  },
  {
   "cell_type": "code",
   "execution_count": 13,
   "metadata": {},
   "outputs": [],
   "source": [
    "with open(input_path(3), 'r') as f:\n",
    "    paths = [tuple(token for token in line.split(',')) for line in f]\n",
    "path1, path2 = paths"
   ]
  },
  {
   "cell_type": "code",
   "execution_count": 14,
   "metadata": {},
   "outputs": [],
   "source": [
    "def compute_wire(path):\n",
    "    \"\"\"compute wire generated by path\"\"\"\n",
    "    moves = dict(zip(\"LRUD\", ((-1, 0), (1, 0), (0, 1), (0, -1))))\n",
    "    x, y = 0, 0\n",
    "    wire = {}\n",
    "    steps = 0\n",
    "    for item in path:\n",
    "        d, cnt = item[0], int(item[1:])\n",
    "        dx, dy = moves[d]\n",
    "        for i in range(cnt):\n",
    "            if (x, y) not in wire:\n",
    "                wire[x, y] = steps\n",
    "            x, y = x + dx, y + dy\n",
    "            steps += 1\n",
    "    return wire"
   ]
  },
  {
   "cell_type": "code",
   "execution_count": 15,
   "metadata": {},
   "outputs": [],
   "source": [
    "wire1, wire2 = compute_wire(path1), compute_wire(path2)"
   ]
  },
  {
   "cell_type": "code",
   "execution_count": 16,
   "metadata": {},
   "outputs": [
    {
     "name": "stdout",
     "output_type": "stream",
     "text": [
      "232\n"
     ]
    }
   ],
   "source": [
    "print(min(abs(x) + abs(y) for x, y in wire1.keys() & wire2.keys() if x != 0 and y != 0))"
   ]
  },
  {
   "cell_type": "code",
   "execution_count": 17,
   "metadata": {},
   "outputs": [
    {
     "name": "stdout",
     "output_type": "stream",
     "text": [
      "6084\n"
     ]
    }
   ],
   "source": [
    "print(min(wire1[key] + wire2[key] for key in wire1.keys() & wire2.keys() if key != (0, 0)))"
   ]
  },
  {
   "cell_type": "markdown",
   "metadata": {},
   "source": [
    "# [Day 4: Secure Container](https://adventofcode.com/2019/day/4)"
   ]
  },
  {
   "cell_type": "code",
   "execution_count": 18,
   "metadata": {},
   "outputs": [],
   "source": [
    "def valid_passwd(pw):\n",
    "    \"\"\"check if a passwd is valid.\"\"\"\n",
    "    pre = 10\n",
    "    has_double = False\n",
    "    while pw:\n",
    "        d = pw % 10\n",
    "        if pre != 10:\n",
    "            if pre == d:\n",
    "                has_double = True\n",
    "            if pre < d:\n",
    "                return False\n",
    "        pre = d\n",
    "        pw //= 10\n",
    "    return has_double"
   ]
  },
  {
   "cell_type": "code",
   "execution_count": 19,
   "metadata": {},
   "outputs": [
    {
     "name": "stdout",
     "output_type": "stream",
     "text": [
      "1099\n"
     ]
    }
   ],
   "source": [
    "lo_pw = 245182\n",
    "hi_pw = 790572\n",
    "print(sum(valid_passwd(pw) for pw in range(lo_pw, hi_pw + 1)))"
   ]
  },
  {
   "cell_type": "code",
   "execution_count": 20,
   "metadata": {},
   "outputs": [],
   "source": [
    "def valid_passwd_new(pw):\n",
    "    \"\"\"check if a passwd is valid.\"\"\"\n",
    "    pw_str = str(pw)\n",
    "    pre = None\n",
    "    has_double = False\n",
    "    for ch, g in itertools.groupby(pw_str):\n",
    "        cnt = len(list(g))\n",
    "        if pre and ch < pre:\n",
    "            return False\n",
    "        if cnt == 2:\n",
    "            has_double = True\n",
    "        pre = ch\n",
    "    return has_double"
   ]
  },
  {
   "cell_type": "code",
   "execution_count": 21,
   "metadata": {},
   "outputs": [
    {
     "name": "stdout",
     "output_type": "stream",
     "text": [
      "710\n"
     ]
    }
   ],
   "source": [
    "print(sum(valid_passwd_new(pw) for pw in range(lo_pw, hi_pw + 1)))"
   ]
  },
  {
   "cell_type": "markdown",
   "metadata": {},
   "source": [
    "# [Day 5: Sunny with a Chance of Asteroids](https://adventofcode.com/2019/day/5)"
   ]
  },
  {
   "cell_type": "code",
   "execution_count": 22,
   "metadata": {},
   "outputs": [],
   "source": [
    "with open(input_path(5), 'r') as f:\n",
    "    code5 = list(get_ints(f))"
   ]
  },
  {
   "cell_type": "code",
   "execution_count": 23,
   "metadata": {},
   "outputs": [],
   "source": [
    "class Input:\n",
    "    \"\"\"Input stream for the IntCode Program.\"\"\"\n",
    "    def __init__(self, vals):\n",
    "        self.stream = collections.deque(vals)\n",
    "    \n",
    "    def feed(self, val):\n",
    "        self.stream.append(val)\n",
    "        \n",
    "    def next_input(self):\n",
    "        return self.stream.popleft()"
   ]
  },
  {
   "cell_type": "code",
   "execution_count": 24,
   "metadata": {},
   "outputs": [],
   "source": [
    "class Program:\n",
    "    \"\"\"IntCode Program\"\"\"\n",
    "    def __init__(self, code, inputs):\n",
    "        self.code = code[:]\n",
    "        self.inputs = inputs\n",
    "        self.relative_base = 0\n",
    "        self.genor = self.run()\n",
    "        \n",
    "    def feed(self, val):\n",
    "        self.inputs.feed(val)\n",
    "    \n",
    "    def run(self):\n",
    "        \"\"\"Generate output.\"\"\"\n",
    "        memory = collections.defaultdict(int)\n",
    "        for j, c in enumerate(self.code):\n",
    "            memory[j] = c\n",
    "        pc = 0\n",
    "        def get_operand(para, mode):\n",
    "            \"\"\"mode: 0 position; 1 value; 2 relative position\"\"\"\n",
    "            if mode == 2:\n",
    "                para += self.relative_base\n",
    "                return memory[para]\n",
    "            return memory[para] if mode == 0 else para\n",
    "        def get_save_idx(para, mode):\n",
    "            \"\"\"mode: 0 absolute, 2 relative\"\"\"\n",
    "            return para if mode == 0 else para + self.relative_base\n",
    "        while True:\n",
    "            assert(memory[pc] >= 0)\n",
    "            instruct = \"{:05d}\".format(memory[pc])\n",
    "            assert(len(instruct) == 5)\n",
    "            opcode = int(instruct[-2:])\n",
    "            first_mode = int(instruct[2])\n",
    "            second_mode = int(instruct[1])\n",
    "            third_mode = int(instruct[0])\n",
    "            if opcode == 99:\n",
    "                break\n",
    "            elif opcode == 3:\n",
    "                # input\n",
    "                memory[get_save_idx(memory[pc + 1], first_mode)] = self.inputs.next_input()\n",
    "                pc += 2\n",
    "            elif opcode == 4:\n",
    "                # output\n",
    "                out = get_operand(memory[pc + 1], first_mode)\n",
    "                pc += 2\n",
    "                yield out\n",
    "            elif opcode == 1 or opcode == 2:\n",
    "                # addition and multiplication\n",
    "                op = operator.mul if opcode == 2 else operator.add\n",
    "                val = op(get_operand(memory[pc + 1], first_mode), get_operand(memory[pc + 2], second_mode))\n",
    "                memory[get_save_idx(memory[pc + 3], third_mode)] = val\n",
    "                pc += 4\n",
    "            elif opcode == 5:\n",
    "                # jump is true\n",
    "                first_operand = get_operand(memory[pc + 1], first_mode)\n",
    "                if first_operand != 0:\n",
    "                    pc = get_operand(memory[pc + 2], second_mode)\n",
    "                else:\n",
    "                    pc += 3\n",
    "            elif opcode == 6:\n",
    "                # jump if false\n",
    "                first_operand = get_operand(memory[pc + 1], first_mode)\n",
    "                if first_operand == 0:\n",
    "                    pc = get_operand(memory[pc + 2], second_mode)\n",
    "                else:\n",
    "                    pc += 3\n",
    "            elif opcode == 7:\n",
    "                if get_operand(memory[pc + 1], first_mode) < get_operand(memory[pc + 2], second_mode):\n",
    "                    memory[get_save_idx(memory[pc + 3], third_mode)] = 1\n",
    "                else:\n",
    "                    memory[get_save_idx(memory[pc + 3], third_mode)] = 0\n",
    "                pc += 4\n",
    "            elif opcode == 8:\n",
    "                if get_operand(memory[pc + 1], first_mode) == get_operand(memory[pc + 2], second_mode):\n",
    "                    memory[get_save_idx(memory[pc + 3], third_mode)] = 1\n",
    "                else:\n",
    "                    memory[get_save_idx(memory[pc + 3], third_mode)] = 0\n",
    "                pc += 4\n",
    "            elif opcode == 9:\n",
    "                self.relative_base += get_operand(memory[pc + 1], first_mode)\n",
    "                pc += 2\n",
    "            else:\n",
    "                assert False, \"Unkown opcode {}\".format(opcode)"
   ]
  },
  {
   "cell_type": "code",
   "execution_count": 25,
   "metadata": {},
   "outputs": [
    {
     "data": {
      "text/plain": [
       "[0, 0, 0, 0, 0, 0, 0, 0, 0, 6731945]"
      ]
     },
     "execution_count": 25,
     "metadata": {},
     "output_type": "execute_result"
    }
   ],
   "source": [
    "list(Program(code5, Input([1])).genor)"
   ]
  },
  {
   "cell_type": "code",
   "execution_count": 26,
   "metadata": {},
   "outputs": [],
   "source": [
    "test_in = [3,21,1008,21,8,20,1005,20,22,107,8,21,20,1006,20,31,\n",
    "1106,0,36,98,0,0,1002,21,125,20,4,20,1105,1,46,104,\n",
    "999,1105,1,46,1101,1000,1,20,4,20,1105,1,46,98,99]\n",
    "assert(list(Program(test_in, Input([7])).genor)[-1] == 999)"
   ]
  },
  {
   "cell_type": "code",
   "execution_count": 27,
   "metadata": {},
   "outputs": [
    {
     "data": {
      "text/plain": [
       "9571668"
      ]
     },
     "execution_count": 27,
     "metadata": {},
     "output_type": "execute_result"
    }
   ],
   "source": [
    "list(Program(code5, Input([5])).genor)[-1]"
   ]
  },
  {
   "cell_type": "markdown",
   "metadata": {},
   "source": [
    "# [Day 6: Universal Orbit Map](https://adventofcode.com/2019/day/6)"
   ]
  },
  {
   "cell_type": "code",
   "execution_count": 28,
   "metadata": {},
   "outputs": [],
   "source": [
    "def count_orbits(infile):\n",
    "    \"\"\"count number of orbits.\"\"\"\n",
    "    import collections\n",
    "    tree = collections.defaultdict(list)\n",
    "    with open(infile, 'r') as f:\n",
    "        for line in f:\n",
    "            u, v = line.strip().split(')')\n",
    "            tree[u].append(v)\n",
    "    norbits = 0\n",
    "    def dfs(node, depth):\n",
    "        nonlocal norbits\n",
    "        norbits += depth\n",
    "        for child in tree[node]:\n",
    "            dfs(child, depth + 1)\n",
    "    dfs('COM', 0)\n",
    "    return norbits"
   ]
  },
  {
   "cell_type": "code",
   "execution_count": 29,
   "metadata": {},
   "outputs": [],
   "source": [
    "# print(count_orbits(input_path_sample(6)))\n",
    "assert(count_orbits(input_path_sample(6)) == 42)"
   ]
  },
  {
   "cell_type": "code",
   "execution_count": 30,
   "metadata": {},
   "outputs": [
    {
     "name": "stdout",
     "output_type": "stream",
     "text": [
      "301100\n"
     ]
    }
   ],
   "source": [
    "print(count_orbits(input_path(6)))"
   ]
  },
  {
   "cell_type": "code",
   "execution_count": 31,
   "metadata": {},
   "outputs": [],
   "source": [
    "def find_path(infile, target=\"SAN\"):\n",
    "    \"\"\"find path between YOU and target.\"\"\"\n",
    "    import collections\n",
    "    tree = collections.defaultdict(list)\n",
    "    with open(infile, 'r') as f:\n",
    "        for line in f:\n",
    "            u, v = line.strip().split(')')\n",
    "            tree[u].append(v)\n",
    "            tree[v].append(u)\n",
    "    frontier = [(\"YOU\", None, 0)]\n",
    "    while frontier:\n",
    "        node, parent, depth = frontier.pop()\n",
    "        if node == target:\n",
    "            return depth - 2\n",
    "        for nei in tree[node]:\n",
    "            if nei != parent:\n",
    "                frontier.append((nei, node, depth + 1))"
   ]
  },
  {
   "cell_type": "code",
   "execution_count": 32,
   "metadata": {},
   "outputs": [
    {
     "name": "stdout",
     "output_type": "stream",
     "text": [
      "547\n"
     ]
    }
   ],
   "source": [
    "print(find_path(input_path(6)))"
   ]
  },
  {
   "cell_type": "markdown",
   "metadata": {},
   "source": [
    "# [Day 7: Amplification Circuit](https://adventofcode.com/2019/day/7)"
   ]
  },
  {
   "cell_type": "code",
   "execution_count": 33,
   "metadata": {},
   "outputs": [],
   "source": [
    "with open(input_path(7), 'r') as f:\n",
    "    code7 = list(get_ints(f))"
   ]
  },
  {
   "cell_type": "code",
   "execution_count": 34,
   "metadata": {},
   "outputs": [],
   "source": [
    "def amplify_circuit(code):\n",
    "    \"\"\"implement amplify circuit.\"\"\"\n",
    "    def amplify(setting):\n",
    "        signal = 0\n",
    "        for inst in setting:\n",
    "            amp = Program(code, Input([inst, signal]))\n",
    "            signal = next(amp.genor)\n",
    "        return signal\n",
    "    return max(amplify(setting) for setting in permutations(range(5)))"
   ]
  },
  {
   "cell_type": "code",
   "execution_count": 35,
   "metadata": {},
   "outputs": [
    {
     "name": "stdout",
     "output_type": "stream",
     "text": [
      "21000\n"
     ]
    }
   ],
   "source": [
    "print(amplify_circuit(code7))"
   ]
  },
  {
   "cell_type": "code",
   "execution_count": 36,
   "metadata": {},
   "outputs": [],
   "source": [
    "def feedback_amplify_circuit(code):\n",
    "    \"\"\"implement feedback amplify circuit.\"\"\"\n",
    "    def amplify(setting):\n",
    "        amps = [Program(code, Input([inst])) for inst in setting]\n",
    "        ans = None\n",
    "        signal = 0\n",
    "        while True:\n",
    "            for i, amp in enumerate(amps):\n",
    "                amps[i].inputs.feed(signal)\n",
    "                signal = next(amp.genor, None)\n",
    "                if signal is None:\n",
    "                    return ans\n",
    "                if i == 4:\n",
    "                    ans = signal\n",
    "    return max(amplify(setting) for setting in permutations(range(5, 10)))            "
   ]
  },
  {
   "cell_type": "code",
   "execution_count": 37,
   "metadata": {},
   "outputs": [],
   "source": [
    "assert(feedback_amplify_circuit([3,26,1001,26,-4,26,3,27,1002,27,2,27,1,27,26,27,4,27,\n",
    "                                 1001,28,-1,28,1005,28,6,99,0,0,5]) == 139629729)"
   ]
  },
  {
   "cell_type": "code",
   "execution_count": 38,
   "metadata": {},
   "outputs": [],
   "source": [
    "assert(feedback_amplify_circuit([3,52,1001,52,-5,52,3,53,1,52,56,54,1007,54,5,55,1005,55,26,1001,54,\n",
    "-5,54,1105,1,12,1,53,54,53,1008,54,0,55,1001,55,1,55,2,53,55,53,4,\n",
    "53,1001,56,-1,56,1005,56,6,99,0,0,0,0,10]) == 18216)"
   ]
  },
  {
   "cell_type": "code",
   "execution_count": 39,
   "metadata": {},
   "outputs": [
    {
     "name": "stdout",
     "output_type": "stream",
     "text": [
      "61379886\n"
     ]
    }
   ],
   "source": [
    "print(feedback_amplify_circuit(code7))"
   ]
  },
  {
   "cell_type": "markdown",
   "metadata": {},
   "source": [
    "# [Day 8: Space Image Format](https://adventofcode.com/2019/day/8)"
   ]
  },
  {
   "cell_type": "code",
   "execution_count": 40,
   "metadata": {},
   "outputs": [],
   "source": [
    "WIDTH = 25\n",
    "HEIGHT = 6\n",
    "with open(input_path(8), 'r') as f:\n",
    "    image = f.read().strip()\n",
    "n = len(image)\n",
    "assert(n % (WIDTH * HEIGHT) == 0)\n",
    "assert(image.isdigit())"
   ]
  },
  {
   "cell_type": "code",
   "execution_count": 41,
   "metadata": {},
   "outputs": [
    {
     "name": "stdout",
     "output_type": "stream",
     "text": [
      "1360\n"
     ]
    }
   ],
   "source": [
    "PIXELS = WIDTH * HEIGHT\n",
    "counter = [PIXELS + 1] * 10\n",
    "for i in range(n // (PIXELS)):\n",
    "    temp = [0] * 10\n",
    "    start = i * PIXELS\n",
    "    for i in range(start, start + PIXELS):\n",
    "        pix = image[i]\n",
    "        temp[ord(pix) - ord('0')] += 1\n",
    "    if temp[0] < counter[0]:\n",
    "        counter = temp\n",
    "print(counter[1] * counter[2])"
   ]
  },
  {
   "cell_type": "code",
   "execution_count": 42,
   "metadata": {},
   "outputs": [],
   "source": [
    "def decode_image(image, width=25, height=6):\n",
    "    \"\"\"decode and plot image.\"\"\"\n",
    "    n = len(image)\n",
    "    total = width * height\n",
    "    ans = [next(itertools.dropwhile(lambda x : x == '2', (image[j] for j in range(i, n, total))) ) for i in range(total)]\n",
    "    fig, ax = plt.subplots(figsize=(10, 10))\n",
    "    for row in range(height):\n",
    "        line = ''.join(ans[row * width: row * width + width])\n",
    "        y = height - 1 - row\n",
    "        for x, val in enumerate(line):\n",
    "            if val == '1':\n",
    "                ax.scatter(x, y, color='b')\n",
    "    ax.axis('equal')\n",
    "    plt.show()\n",
    "    return ans"
   ]
  },
  {
   "cell_type": "code",
   "execution_count": 43,
   "metadata": {},
   "outputs": [
    {
     "data": {
      "image/png": "[encoded data removed]",
      "text/plain": [
       "<Figure size 720x720 with 1 Axes>"
      ]
     },
     "metadata": {
      "needs_background": "light"
     },
     "output_type": "display_data"
    }
   ],
   "source": [
    "decode_image(image);\n",
    "# FPUAR"
   ]
  },
  {
   "cell_type": "markdown",
   "metadata": {},
   "source": [
    "# [Day 9: Sensor Boost](https://adventofcode.com/2019/day/9)"
   ]
  },
  {
   "cell_type": "code",
   "execution_count": 44,
   "metadata": {},
   "outputs": [],
   "source": [
    "with open(input_path(9), 'r') as f:\n",
    "    code9 = list(get_ints(f))"
   ]
  },
  {
   "cell_type": "code",
   "execution_count": 45,
   "metadata": {},
   "outputs": [],
   "source": [
    "assert(list(Program([104,1125899906842624,99], Input([1])).genor)[-1] == 1125899906842624)"
   ]
  },
  {
   "cell_type": "code",
   "execution_count": 46,
   "metadata": {},
   "outputs": [],
   "source": [
    "assert(list(Program([109,1,204,-1,1001,100,1,100,1008,100,16,101,1006,101,0,99], Input([1])).genor) == [109, 1, 204, -1, 1001, 100, 1, 100, 1008, 100, 16, 101, 1006, 101, 0, 99])"
   ]
  },
  {
   "cell_type": "code",
   "execution_count": 47,
   "metadata": {},
   "outputs": [],
   "source": [
    "assert(len(str(list(Program([1102,34915192,34915192,7,4,7,99,0], Input([1])).genor)[0])) == 16)"
   ]
  },
  {
   "cell_type": "code",
   "execution_count": 48,
   "metadata": {},
   "outputs": [
    {
     "data": {
      "text/plain": [
       "[3345854957]"
      ]
     },
     "execution_count": 48,
     "metadata": {},
     "output_type": "execute_result"
    }
   ],
   "source": [
    "list(Program(code9, Input([1])).genor)"
   ]
  },
  {
   "cell_type": "code",
   "execution_count": 49,
   "metadata": {},
   "outputs": [
    {
     "data": {
      "text/plain": [
       "[68938]"
      ]
     },
     "execution_count": 49,
     "metadata": {},
     "output_type": "execute_result"
    }
   ],
   "source": [
    "list(Program(code9, Input([2])).genor)"
   ]
  },
  {
   "cell_type": "markdown",
   "metadata": {},
   "source": [
    "# [Day 10: Monitoring Station](https://adventofcode.com/2019/day/10)"
   ]
  },
  {
   "cell_type": "code",
   "execution_count": 50,
   "metadata": {},
   "outputs": [],
   "source": [
    "with open(input_path(10), 'r') as f:\n",
    "    grid = [line.strip() for line in f]"
   ]
  },
  {
   "cell_type": "code",
   "execution_count": 51,
   "metadata": {},
   "outputs": [
    {
     "name": "stdout",
     "output_type": "stream",
     "text": [
      "307\n"
     ]
    }
   ],
   "source": [
    "print(sum(val == '#' for row in grid for val in row))"
   ]
  },
  {
   "cell_type": "code",
   "execution_count": 52,
   "metadata": {},
   "outputs": [],
   "source": [
    "def best_monitor_station(grid):\n",
    "    \"\"\"find the best monitor station.\"\"\"\n",
    "    m, n = len(grid), len(grid[0])\n",
    "    asters = [(x, y) for y in range(m) for x in range(n) if grid[y][x] == '#']\n",
    "    counter = collections.Counter()\n",
    "    for i, (x1, y1) in enumerate(asters):\n",
    "        for j in range(i):\n",
    "            x0, y0 = asters[j]\n",
    "            # check if there are any asteroids between (x0, y0) and (x1, y1)\n",
    "            dx, dy = x1 - x0, y1 - y0\n",
    "            xmin, xmax = sorted((x0, x1))\n",
    "            ymin, ymax = sorted((y0, y1))\n",
    "            for k in range(len(asters)):\n",
    "                if k not in (i, j):\n",
    "                    x, y = asters[k]\n",
    "                    if xmin <= x <= xmax and ymin <= y <= ymax and dy * (x - x0) == dx * (y - y0):\n",
    "                        break\n",
    "            else:\n",
    "                counter[i] += 1\n",
    "                counter[j] += 1\n",
    "    best_idx, mx = counter.most_common(1)[0]\n",
    "    return asters[best_idx], mx"
   ]
  },
  {
   "cell_type": "code",
   "execution_count": 53,
   "metadata": {},
   "outputs": [
    {
     "name": "stdout",
     "output_type": "stream",
     "text": [
      "Best location is at (8, 16) which connects 214 asteroid.\n"
     ]
    }
   ],
   "source": [
    "monitor, mx = best_monitor_station(grid)\n",
    "print(\"Best location is at ({}, {}) which connects {} asteroid.\".format(monitor[0], monitor[1], mx))"
   ]
  },
  {
   "cell_type": "code",
   "execution_count": 54,
   "metadata": {},
   "outputs": [],
   "source": [
    "def rotate_and_vaporize(grid, monitor):\n",
    "    \"\"\"rotate the laser clockwise and vaporize the asteroids.\"\"\"\n",
    "    m, n = len(grid), len(grid[0])\n",
    "    x0, y0 = monitor\n",
    "    asters = [(x, y) for y in range(m) for x in range(n) if grid[y][x] == '#' and (x != x0 or y != y0)]\n",
    "    removes = []\n",
    "    while asters:\n",
    "        cands = []\n",
    "        nas = len(asters)\n",
    "        next_asters = []\n",
    "        for i, (x1, y1) in enumerate(asters):\n",
    "            dx, dy = x1 - x0, y1 - y0\n",
    "            xmin, xmax = sorted((x0, x1))\n",
    "            ymin, ymax = sorted((y0, y1))\n",
    "            for j in range(nas):\n",
    "                if j != i:\n",
    "                    x, y = asters[j]\n",
    "                    if xmin <= x <= xmax and ymin <= y <= ymax and dy * (x - x0) == dx * (y - y0):\n",
    "                        next_asters.append((x1, y1))\n",
    "                        break\n",
    "            else:\n",
    "                theta = np.arctan2(-dy, dx)\n",
    "                if theta < 0:\n",
    "                    beta = -theta + np.pi / 2\n",
    "                elif theta <= np.pi / 2:\n",
    "                    beta = np.pi / 2 - theta\n",
    "                else:\n",
    "                    beta = np.pi * 2 - (theta - np.pi/2)\n",
    "                cands.append((beta, i))\n",
    "        cands.sort()\n",
    "        removes.extend(asters[idx] for _, idx in cands)\n",
    "        asters = next_asters\n",
    "    return removes"
   ]
  },
  {
   "cell_type": "code",
   "execution_count": 55,
   "metadata": {},
   "outputs": [
    {
     "name": "stdout",
     "output_type": "stream",
     "text": [
      "502\n"
     ]
    }
   ],
   "source": [
    "removes = rotate_and_vaporize(grid, monitor)\n",
    "x, y = removes[199]\n",
    "print(x * 100 + y)"
   ]
  },
  {
   "cell_type": "markdown",
   "metadata": {},
   "source": [
    "# [Day 11: Space Police](https://adventofcode.com/2019/day/11)"
   ]
  },
  {
   "cell_type": "code",
   "execution_count": 56,
   "metadata": {},
   "outputs": [],
   "source": [
    "with open(input_path(11), 'r') as f:\n",
    "    code11 = list(map(int, f.read().split(',')))"
   ]
  },
  {
   "cell_type": "code",
   "execution_count": 57,
   "metadata": {},
   "outputs": [],
   "source": [
    "def robot_paint(code, start=0):\n",
    "    \"\"\"simulate robot paint.\"\"\"\n",
    "    pos = 0\n",
    "    face = 1j\n",
    "    prog = Program(code, Input([start]))\n",
    "    board = collections.defaultdict(int)\n",
    "    cpu = prog.genor\n",
    "    while True:\n",
    "        command = next(cpu, None)\n",
    "        if command is None:\n",
    "            break\n",
    "        board[pos] = command\n",
    "        command = next(cpu, None)\n",
    "        if command is None:\n",
    "            break\n",
    "        if command == 0:\n",
    "            face *= 1j\n",
    "        else:\n",
    "            face *= (-1j)\n",
    "        pos += 1 * face\n",
    "        prog.inputs.feed(board.get(pos, 0))\n",
    "    return board"
   ]
  },
  {
   "cell_type": "code",
   "execution_count": 58,
   "metadata": {},
   "outputs": [
    {
     "name": "stdout",
     "output_type": "stream",
     "text": [
      "2418\n"
     ]
    }
   ],
   "source": [
    "board = robot_paint(code11, start=0)\n",
    "print(len(board))"
   ]
  },
  {
   "cell_type": "code",
   "execution_count": 59,
   "metadata": {},
   "outputs": [],
   "source": [
    "def plot_paint(board):\n",
    "    \"\"\"plot paint generated by the robot.\"\"\"\n",
    "    fig, ax = plt.subplots(figsize=(10, 10))\n",
    "    for key, value in board.items():\n",
    "        if value == 1:\n",
    "            x = key.real\n",
    "            y = key.imag\n",
    "            ax.scatter(x, y, color='b')\n",
    "    ax.axis('equal')\n",
    "    plt.show()"
   ]
  },
  {
   "cell_type": "code",
   "execution_count": 60,
   "metadata": {},
   "outputs": [
    {
     "data": {
      "image/png": "[encoded data removed]",
      "text/plain": [
       "<Figure size 720x720 with 1 Axes>"
      ]
     },
     "metadata": {
      "needs_background": "light"
     },
     "output_type": "display_data"
    }
   ],
   "source": [
    "board = robot_paint(code11, start=1)\n",
    "plot_paint(board)"
   ]
  },
  {
   "cell_type": "markdown",
   "metadata": {},
   "source": [
    "# [Day 12: The N-Body Problem](https://adventofcode.com/2019/day/12)"
   ]
  },
  {
   "cell_type": "code",
   "execution_count": 61,
   "metadata": {},
   "outputs": [],
   "source": [
    "with open(input_path(12), 'r') as f:\n",
    "    xyzs = list(get_ints(f))"
   ]
  },
  {
   "cell_type": "code",
   "execution_count": 62,
   "metadata": {},
   "outputs": [],
   "source": [
    "with open(input_path_sample(12), 'r') as f:\n",
    "    xyzs_sample = list(get_ints(f))"
   ]
  },
  {
   "cell_type": "code",
   "execution_count": 63,
   "metadata": {},
   "outputs": [],
   "source": [
    "def N_body_simulation(xyzs, nsteps):\n",
    "    \"\"\"conduct N-body simulation for nsteps, return total energy\"\"\"\n",
    "    xyzs = np.array(xyzs, dtype=np.int64)\n",
    "    n = 4\n",
    "    dim = 3\n",
    "    assert(len(xyzs) == dim * n)\n",
    "    vxyzs = np.zeros(dim * n, dtype=np.int64)\n",
    "    for _ in range(nsteps):\n",
    "        # 1. apply acceleration\n",
    "        axyzs = np.zeros(dim * n, dtype=np.int64)\n",
    "        for i in range(n):\n",
    "            for j in range(i + 1, n):\n",
    "                for d in range(dim):\n",
    "                    pi = xyzs[i * dim + d]\n",
    "                    pj = xyzs[j * dim + d]\n",
    "                    if pi > pj:\n",
    "                        axyzs[i * dim + d] -= 1\n",
    "                        axyzs[j * dim + d] += 1\n",
    "                    elif pi < pj:\n",
    "                        axyzs[i * dim + d] += 1\n",
    "                        axyzs[j * dim + d] -= 1\n",
    "        # 2. update velocity\n",
    "        vxyzs += axyzs\n",
    "        # 3. update position\n",
    "        xyzs += vxyzs\n",
    "    # compute energy\n",
    "    energy = 0\n",
    "    for i in range(n):\n",
    "        pot = 0\n",
    "        kin = 0\n",
    "        for d in range(3):\n",
    "            pot += abs(xyzs[i * dim + d])\n",
    "            kin += abs(vxyzs[i * dim + d])\n",
    "        energy += pot * kin\n",
    "    return energy"
   ]
  },
  {
   "cell_type": "code",
   "execution_count": 64,
   "metadata": {},
   "outputs": [],
   "source": [
    "assert(N_body_simulation(xyzs_sample, nsteps=100) == 1940)"
   ]
  },
  {
   "cell_type": "code",
   "execution_count": 65,
   "metadata": {},
   "outputs": [
    {
     "name": "stdout",
     "output_type": "stream",
     "text": [
      "8287\n"
     ]
    }
   ],
   "source": [
    "print(N_body_simulation(xyzs, nsteps=1000))"
   ]
  },
  {
   "cell_type": "code",
   "execution_count": 66,
   "metadata": {},
   "outputs": [],
   "source": [
    "def find_first_repeat(xyzs):\n",
    "    \"\"\"return the first repeat step.\"\"\"\n",
    "    xyzs = np.array(xyzs, dtype=np.int64)\n",
    "    n = 4\n",
    "    dim = 3\n",
    "    assert(len(xyzs) == dim * n)\n",
    "    def compute_period(ps):\n",
    "        \"\"\"compute the period.\"\"\"\n",
    "        n = len(ps)\n",
    "        vs = np.zeros(n, dtype=np.int64)\n",
    "        seen = {(ps.tobytes(), vs.tobytes()) : 0}\n",
    "        steps = 0\n",
    "        while True:\n",
    "            for i in range(n):\n",
    "                for j in range(i + 1, n):\n",
    "                    if ps[i] > ps[j]:\n",
    "                        vs[i] -= 1\n",
    "                        vs[j] += 1\n",
    "                    elif ps[i] < ps[j]:\n",
    "                        vs[i] += 1\n",
    "                        vs[j] -= 1\n",
    "            ps += vs\n",
    "            steps += 1\n",
    "            code = (ps.tobytes(), vs.tobytes())\n",
    "            if code in seen:\n",
    "                return seen[code], steps\n",
    "            seen[code] = steps\n",
    "    periods = []\n",
    "    for d in range(dim):\n",
    "        ps = np.zeros(n)\n",
    "        for i in range(n):\n",
    "            ps[i] += xyzs[i * dim + d]\n",
    "        a, b = compute_period(ps)\n",
    "        assert(a == 0)\n",
    "        periods.append(b - a)\n",
    "    ans = periods[0] * periods[1] // (math.gcd(periods[0], periods[1]))\n",
    "    for d in range(2, dim):\n",
    "        ans = ans * periods[d] // (math.gcd(ans, periods[d]))\n",
    "    return ans"
   ]
  },
  {
   "cell_type": "code",
   "execution_count": 67,
   "metadata": {},
   "outputs": [
    {
     "name": "stdout",
     "output_type": "stream",
     "text": [
      "528250271633772\n"
     ]
    }
   ],
   "source": [
    "print(find_first_repeat(xyzs))"
   ]
  },
  {
   "cell_type": "markdown",
   "metadata": {},
   "source": [
    "# [Day 13: Care Package](https://adventofcode.com/2019/day/13)\n",
    "\n",
    "- 0 is an empty tile. No game object appears in this tile.\n",
    "- 1 is a wall tile. Walls are indestructible barriers.\n",
    "- 2 is a block tile. Blocks can be broken by the ball.\n",
    "- 3 is a horizontal paddle tile. The paddle is indestructible.\n",
    "- 4 is a ball tile. The ball moves diagonally and bounces off objects."
   ]
  },
  {
   "cell_type": "code",
   "execution_count": 68,
   "metadata": {},
   "outputs": [],
   "source": [
    "with open(input_path(13), 'r') as f:\n",
    "    code13 = list(get_ints(f))"
   ]
  },
  {
   "cell_type": "code",
   "execution_count": 69,
   "metadata": {},
   "outputs": [],
   "source": [
    "def draw_tiles(code):\n",
    "    \"\"\"draw tiles based on code.\"\"\"\n",
    "    out = list(Program(code, Input([])).genor)\n",
    "    n = len(out)\n",
    "    screen = {}\n",
    "    for i in range(0, n, 3):\n",
    "        x, y, t = out[i:i + 3]\n",
    "        screen[x, y] = t\n",
    "    return sum(t == 2 for t in screen.values())"
   ]
  },
  {
   "cell_type": "code",
   "execution_count": 70,
   "metadata": {},
   "outputs": [
    {
     "name": "stdout",
     "output_type": "stream",
     "text": [
      "280\n"
     ]
    }
   ],
   "source": [
    "print(draw_tiles(code13))"
   ]
  },
  {
   "cell_type": "code",
   "execution_count": 73,
   "metadata": {},
   "outputs": [],
   "source": [
    "def play_game(code):\n",
    "    \"\"\"play game.\"\"\"\n",
    "    class GameInput:\n",
    "        def __init__(self):\n",
    "            self.idx = 0\n",
    "            self.score = None\n",
    "            self.paddle = None\n",
    "            self.ball = None\n",
    "            self.x = None\n",
    "            self.y = None\n",
    "\n",
    "        def next_input(self):\n",
    "            assert(self.ball is not None and self.paddle is not None)\n",
    "            if self.ball < self.paddle:\n",
    "                return -1\n",
    "            elif self.ball > self.paddle:\n",
    "                return 1\n",
    "            else:\n",
    "                return 0\n",
    "            \n",
    "        def handle_out(self, data):\n",
    "            \"\"\"handle output.\"\"\"\n",
    "            if self.idx == 0:\n",
    "                self.x = data\n",
    "            elif self.idx == 1:\n",
    "                self.y = data\n",
    "            elif self.x == -1 and self.y == 0:\n",
    "                self.score = data\n",
    "            elif data == 3:\n",
    "                self.paddle = self.x\n",
    "            elif data == 4:\n",
    "                self.ball = self.x\n",
    "            self.idx = (self.idx + 1) % 3\n",
    "                \n",
    "    code[0] = 2\n",
    "    game_input = GameInput()\n",
    "    program = Program(code, game_input)\n",
    "    genor = program.genor\n",
    "    for nxt in genor:\n",
    "        game_input.handle_out(nxt)\n",
    "    return game_input.score"
   ]
  },
  {
   "cell_type": "code",
   "execution_count": 74,
   "metadata": {},
   "outputs": [
    {
     "name": "stdout",
     "output_type": "stream",
     "text": [
      "13298\n"
     ]
    }
   ],
   "source": [
    "print(play_game(code13))"
   ]
  },
  {
   "cell_type": "code",
   "execution_count": null,
   "metadata": {},
   "outputs": [],
   "source": []
  }
 ],
 "metadata": {
  "kernelspec": {
   "display_name": "Python 3",
   "language": "python",
   "name": "python3"
  },
  "language_info": {
   "codemirror_mode": {
    "name": "ipython",
    "version": 3
   },
   "file_extension": ".py",
   "mimetype": "text/x-python",
   "name": "python",
   "nbconvert_exporter": "python",
   "pygments_lexer": "ipython3",
   "version": "3.7.3"
  }
 },
 "nbformat": 4,
 "nbformat_minor": 2
}
