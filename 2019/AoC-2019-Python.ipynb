{
 "cells": [
  {
   "cell_type": "markdown",
   "metadata": {},
   "source": [
    "# Day 0: Imports and Utility Functions"
   ]
  },
  {
   "cell_type": "code",
   "execution_count": 1,
   "metadata": {},
   "outputs": [],
   "source": [
    "%matplotlib inline\n",
    "import matplotlib.pyplot as plt\n",
    "\n",
    "import math\n",
    "import numpy as np\n",
    "import os\n",
    "import operator\n",
    "import re\n",
    "import random\n",
    "import string\n",
    "import collections, itertools, functools, heapq, operator, bisect\n",
    "from collections import Counter, defaultdict, namedtuple, deque, OrderedDict\n",
    "from functools   import lru_cache, reduce\n",
    "from statistics  import mean, median, mode, stdev, variance\n",
    "from itertools   import (permutations, combinations, groupby, repeat,\n",
    "                         islice, repeat,cycle, chain, product, zip_longest, takewhile, dropwhile, count as count_from)\n",
    "from heapq       import heappush, heappop, heapify\n",
    "from operator    import iand, ior, ilshift, irshift\n",
    "from bisect      import bisect_left, bisect_right"
   ]
  },
  {
   "cell_type": "code",
   "execution_count": 2,
   "metadata": {},
   "outputs": [],
   "source": [
    "input_path = lambda day : \"inputs/day{}.txt\".format(day)\n",
    "input_path_sample = lambda day : \"inputs/day{}-sample.txt\".format(day)"
   ]
  },
  {
   "cell_type": "code",
   "execution_count": 3,
   "metadata": {},
   "outputs": [],
   "source": [
    "def get_ints(f):\n",
    "    \"\"\"extract ints from a file.\"\"\"\n",
    "    return map(int, re.findall(r'[+-]?[0-9]+', f.read()))"
   ]
  },
  {
   "cell_type": "markdown",
   "metadata": {},
   "source": [
    "# [Day 1: The Tyranny of the Rocket Equation](https://adventofcode.com/2019/day/1)"
   ]
  },
  {
   "cell_type": "code",
   "execution_count": 4,
   "metadata": {},
   "outputs": [
    {
     "name": "stdout",
     "output_type": "stream",
     "text": [
      "3160932\n"
     ]
    }
   ],
   "source": [
    "with open(input_path(1), 'r') as f:\n",
    "    fuel = sum(mass // 3 - 2 for mass in get_ints(f))\n",
    "print(fuel)"
   ]
  },
  {
   "cell_type": "code",
   "execution_count": 5,
   "metadata": {},
   "outputs": [],
   "source": [
    "def compute_fuel(mass):\n",
    "    \"\"\"compute fuel needed.\"\"\"\n",
    "    ans = 0\n",
    "    while True:\n",
    "        mass = mass // 3 - 2\n",
    "        if mass <= 0:\n",
    "            break\n",
    "        ans += mass\n",
    "    return ans"
   ]
  },
  {
   "cell_type": "code",
   "execution_count": 6,
   "metadata": {},
   "outputs": [],
   "source": [
    "assert(compute_fuel(100756) == 50346)\n",
    "assert(compute_fuel(14) == 2)\n",
    "assert(compute_fuel(1969) == 966)"
   ]
  },
  {
   "cell_type": "code",
   "execution_count": 7,
   "metadata": {},
   "outputs": [
    {
     "name": "stdout",
     "output_type": "stream",
     "text": [
      "4738549\n"
     ]
    }
   ],
   "source": [
    "with open(input_path(1), 'r') as f:\n",
    "    fuel = sum(compute_fuel(mass) for mass in get_ints(f))\n",
    "print(fuel)"
   ]
  },
  {
   "cell_type": "markdown",
   "metadata": {},
   "source": [
    "# [Day 2: 1202 Program Alarm](https://adventofcode.com/2019/day/2)"
   ]
  },
  {
   "cell_type": "code",
   "execution_count": 8,
   "metadata": {},
   "outputs": [],
   "source": [
    "def parse_code(code):\n",
    "    \"\"\"simple code parser.\"\"\"\n",
    "    import operator\n",
    "    n = len(code)\n",
    "    for i in range(0, n, 4):\n",
    "        opcode = code[i]\n",
    "        if opcode == 99:\n",
    "            break\n",
    "        else:\n",
    "            left_idx = code[i + 1]\n",
    "            right_idx = code[i + 2]\n",
    "            r_idx = code[i + 3]\n",
    "            op = operator.add if opcode == 1 else operator.mul\n",
    "            code[r_idx] = op(code[left_idx], code[right_idx])\n",
    "    return code"
   ]
  },
  {
   "cell_type": "code",
   "execution_count": 9,
   "metadata": {},
   "outputs": [],
   "source": [
    "assert(parse_code([1,0,0,0,99]) == [2,0,0,0,99])\n",
    "assert(parse_code([2,3,0,3,99]) == [2,3,0,6,99])\n",
    "assert(parse_code([2,4,4,5,99,0]) == [2,4,4,5,99,9801])\n",
    "assert(parse_code([1,1,1,4,99,5,6,0,99]) == [30,1,1,4,2,5,6,0,99])"
   ]
  },
  {
   "cell_type": "code",
   "execution_count": 10,
   "metadata": {},
   "outputs": [
    {
     "name": "stdout",
     "output_type": "stream",
     "text": [
      "2890696\n"
     ]
    }
   ],
   "source": [
    "with open(input_path(2), 'r') as f:\n",
    "    memory = list(get_ints(f))\n",
    "code = memory[:]\n",
    "code[1] = 12\n",
    "code[2] = 2\n",
    "print(parse_code(code)[0])"
   ]
  },
  {
   "cell_type": "code",
   "execution_count": 11,
   "metadata": {},
   "outputs": [],
   "source": [
    "def choose_noun_and_verb(memory, target):\n",
    "    \"\"\"search inputs.\"\"\"\n",
    "    n = len(memory)\n",
    "    for noun in range(n):\n",
    "        for verb in range(n):\n",
    "            code = memory[:]\n",
    "            code[1] = noun\n",
    "            code[2] = verb\n",
    "            if parse_code(code)[0] == target:\n",
    "                return noun, verb\n",
    "    return None"
   ]
  },
  {
   "cell_type": "code",
   "execution_count": 12,
   "metadata": {},
   "outputs": [
    {
     "name": "stdout",
     "output_type": "stream",
     "text": [
      "8226\n"
     ]
    }
   ],
   "source": [
    "target = 19690720\n",
    "noun, verb = choose_noun_and_verb(memory, target)\n",
    "print(100 * noun + verb)"
   ]
  },
  {
   "cell_type": "markdown",
   "metadata": {},
   "source": [
    "# [Day 3: Crossed Wires](https://adventofcode.com/2019/day/3)"
   ]
  },
  {
   "cell_type": "code",
   "execution_count": 13,
   "metadata": {},
   "outputs": [],
   "source": [
    "with open(input_path(3), 'r') as f:\n",
    "    paths = [tuple(token for token in line.split(',')) for line in f]\n",
    "path1, path2 = paths"
   ]
  },
  {
   "cell_type": "code",
   "execution_count": 14,
   "metadata": {},
   "outputs": [],
   "source": [
    "def compute_wire(path):\n",
    "    \"\"\"compute wire generated by path\"\"\"\n",
    "    moves = dict(zip(\"LRUD\", ((-1, 0), (1, 0), (0, 1), (0, -1))))\n",
    "    x, y = 0, 0\n",
    "    wire = {}\n",
    "    steps = 0\n",
    "    for item in path:\n",
    "        d, cnt = item[0], int(item[1:])\n",
    "        dx, dy = moves[d]\n",
    "        for i in range(cnt):\n",
    "            if (x, y) not in wire:\n",
    "                wire[x, y] = steps\n",
    "            x, y = x + dx, y + dy\n",
    "            steps += 1\n",
    "    return wire"
   ]
  },
  {
   "cell_type": "code",
   "execution_count": 15,
   "metadata": {},
   "outputs": [],
   "source": [
    "wire1, wire2 = compute_wire(path1), compute_wire(path2)"
   ]
  },
  {
   "cell_type": "code",
   "execution_count": 16,
   "metadata": {},
   "outputs": [
    {
     "name": "stdout",
     "output_type": "stream",
     "text": [
      "232\n"
     ]
    }
   ],
   "source": [
    "print(min(abs(x) + abs(y) for x, y in wire1.keys() & wire2.keys() if x != 0 and y != 0))"
   ]
  },
  {
   "cell_type": "code",
   "execution_count": 17,
   "metadata": {},
   "outputs": [
    {
     "name": "stdout",
     "output_type": "stream",
     "text": [
      "6084\n"
     ]
    }
   ],
   "source": [
    "print(min(wire1[key] + wire2[key] for key in wire1.keys() & wire2.keys() if key != (0, 0)))"
   ]
  },
  {
   "cell_type": "markdown",
   "metadata": {},
   "source": [
    "# [Day 4: Secure Container](https://adventofcode.com/2019/day/4)"
   ]
  },
  {
   "cell_type": "code",
   "execution_count": 18,
   "metadata": {},
   "outputs": [],
   "source": [
    "def valid_passwd(pw):\n",
    "    \"\"\"check if a passwd is valid.\"\"\"\n",
    "    pre = 10\n",
    "    has_double = False\n",
    "    while pw:\n",
    "        d = pw % 10\n",
    "        if pre != 10:\n",
    "            if pre == d:\n",
    "                has_double = True\n",
    "            if pre < d:\n",
    "                return False\n",
    "        pre = d\n",
    "        pw //= 10\n",
    "    return has_double"
   ]
  },
  {
   "cell_type": "code",
   "execution_count": 19,
   "metadata": {},
   "outputs": [
    {
     "name": "stdout",
     "output_type": "stream",
     "text": [
      "1099\n"
     ]
    }
   ],
   "source": [
    "lo_pw = 245182\n",
    "hi_pw = 790572\n",
    "print(sum(valid_passwd(pw) for pw in range(lo_pw, hi_pw + 1)))"
   ]
  },
  {
   "cell_type": "code",
   "execution_count": 20,
   "metadata": {},
   "outputs": [],
   "source": [
    "def valid_passwd_new(pw):\n",
    "    \"\"\"check if a passwd is valid.\"\"\"\n",
    "    pw_str = str(pw)\n",
    "    pre = None\n",
    "    has_double = False\n",
    "    for ch, g in itertools.groupby(pw_str):\n",
    "        cnt = len(list(g))\n",
    "        if pre and ch < pre:\n",
    "            return False\n",
    "        if cnt == 2:\n",
    "            has_double = True\n",
    "        pre = ch\n",
    "    return has_double"
   ]
  },
  {
   "cell_type": "code",
   "execution_count": 21,
   "metadata": {},
   "outputs": [
    {
     "name": "stdout",
     "output_type": "stream",
     "text": [
      "710\n"
     ]
    }
   ],
   "source": [
    "print(sum(valid_passwd_new(pw) for pw in range(lo_pw, hi_pw + 1)))"
   ]
  },
  {
   "cell_type": "markdown",
   "metadata": {},
   "source": [
    "# [Day 5: Sunny with a Chance of Asteroids](https://adventofcode.com/2019/day/5)"
   ]
  },
  {
   "cell_type": "code",
   "execution_count": 22,
   "metadata": {},
   "outputs": [],
   "source": [
    "with open(input_path(5), 'r') as f:\n",
    "    code5 = list(get_ints(f))"
   ]
  },
  {
   "cell_type": "code",
   "execution_count": 23,
   "metadata": {},
   "outputs": [],
   "source": [
    "class Input:\n",
    "    \"\"\"Input stream for the IntCode Program.\"\"\"\n",
    "    def __init__(self, vals):\n",
    "        self.stream = collections.deque(vals)\n",
    "    \n",
    "    def feed(self, val):\n",
    "        self.stream.append(val)\n",
    "        \n",
    "    def next_input(self):\n",
    "        return self.stream.popleft()"
   ]
  },
  {
   "cell_type": "code",
   "execution_count": 24,
   "metadata": {},
   "outputs": [],
   "source": [
    "class Program:\n",
    "    \"\"\"IntCode Program\"\"\"\n",
    "    def __init__(self, code, inputs):\n",
    "        self.code = code[:]\n",
    "        self.inputs = inputs\n",
    "        self.relative_base = 0\n",
    "        self.genor = self.run()\n",
    "        \n",
    "    def feed(self, val):\n",
    "        self.inputs.feed(val)\n",
    "    \n",
    "    def run(self):\n",
    "        \"\"\"Generate output.\"\"\"\n",
    "        memory = collections.defaultdict(int)\n",
    "        for j, c in enumerate(self.code):\n",
    "            memory[j] = c\n",
    "        pc = 0\n",
    "        def get_operand(para, mode):\n",
    "            \"\"\"mode: 0 position; 1 value; 2 relative position\"\"\"\n",
    "            if mode == 2:\n",
    "                para += self.relative_base\n",
    "                return memory[para]\n",
    "            return memory[para] if mode == 0 else para\n",
    "        def get_save_idx(para, mode):\n",
    "            \"\"\"mode: 0 absolute, 2 relative\"\"\"\n",
    "            return para if mode == 0 else para + self.relative_base\n",
    "        while True:\n",
    "            assert(memory[pc] >= 0)\n",
    "            instruct = \"{:05d}\".format(memory[pc])\n",
    "            assert(len(instruct) == 5)\n",
    "            opcode = int(instruct[-2:])\n",
    "            first_mode = int(instruct[2])\n",
    "            second_mode = int(instruct[1])\n",
    "            third_mode = int(instruct[0])\n",
    "            if opcode == 99:\n",
    "                break\n",
    "            elif opcode == 3:\n",
    "                # input\n",
    "                memory[get_save_idx(memory[pc + 1], first_mode)] = self.inputs.next_input()\n",
    "                pc += 2\n",
    "            elif opcode == 4:\n",
    "                # output\n",
    "                out = get_operand(memory[pc + 1], first_mode)\n",
    "                pc += 2\n",
    "                yield out\n",
    "            elif opcode == 1 or opcode == 2:\n",
    "                # addition and multiplication\n",
    "                op = operator.mul if opcode == 2 else operator.add\n",
    "                val = op(get_operand(memory[pc + 1], first_mode), get_operand(memory[pc + 2], second_mode))\n",
    "                memory[get_save_idx(memory[pc + 3], third_mode)] = val\n",
    "                pc += 4\n",
    "            elif opcode == 5:\n",
    "                # jump is true\n",
    "                first_operand = get_operand(memory[pc + 1], first_mode)\n",
    "                if first_operand != 0:\n",
    "                    pc = get_operand(memory[pc + 2], second_mode)\n",
    "                else:\n",
    "                    pc += 3\n",
    "            elif opcode == 6:\n",
    "                # jump if false\n",
    "                first_operand = get_operand(memory[pc + 1], first_mode)\n",
    "                if first_operand == 0:\n",
    "                    pc = get_operand(memory[pc + 2], second_mode)\n",
    "                else:\n",
    "                    pc += 3\n",
    "            elif opcode == 7:\n",
    "                if get_operand(memory[pc + 1], first_mode) < get_operand(memory[pc + 2], second_mode):\n",
    "                    memory[get_save_idx(memory[pc + 3], third_mode)] = 1\n",
    "                else:\n",
    "                    memory[get_save_idx(memory[pc + 3], third_mode)] = 0\n",
    "                pc += 4\n",
    "            elif opcode == 8:\n",
    "                if get_operand(memory[pc + 1], first_mode) == get_operand(memory[pc + 2], second_mode):\n",
    "                    memory[get_save_idx(memory[pc + 3], third_mode)] = 1\n",
    "                else:\n",
    "                    memory[get_save_idx(memory[pc + 3], third_mode)] = 0\n",
    "                pc += 4\n",
    "            elif opcode == 9:\n",
    "                self.relative_base += get_operand(memory[pc + 1], first_mode)\n",
    "                pc += 2\n",
    "            else:\n",
    "                assert False, \"Unkown opcode {}\".format(opcode)"
   ]
  },
  {
   "cell_type": "code",
   "execution_count": 25,
   "metadata": {},
   "outputs": [
    {
     "data": {
      "text/plain": [
       "[0, 0, 0, 0, 0, 0, 0, 0, 0, 6731945]"
      ]
     },
     "execution_count": 25,
     "metadata": {},
     "output_type": "execute_result"
    }
   ],
   "source": [
    "list(Program(code5, Input([1])).genor)"
   ]
  },
  {
   "cell_type": "code",
   "execution_count": 26,
   "metadata": {},
   "outputs": [],
   "source": [
    "test_in = [3,21,1008,21,8,20,1005,20,22,107,8,21,20,1006,20,31,\n",
    "1106,0,36,98,0,0,1002,21,125,20,4,20,1105,1,46,104,\n",
    "999,1105,1,46,1101,1000,1,20,4,20,1105,1,46,98,99]\n",
    "assert(list(Program(test_in, Input([7])).genor)[-1] == 999)"
   ]
  },
  {
   "cell_type": "code",
   "execution_count": 27,
   "metadata": {},
   "outputs": [
    {
     "data": {
      "text/plain": [
       "9571668"
      ]
     },
     "execution_count": 27,
     "metadata": {},
     "output_type": "execute_result"
    }
   ],
   "source": [
    "list(Program(code5, Input([5])).genor)[-1]"
   ]
  },
  {
   "cell_type": "markdown",
   "metadata": {},
   "source": [
    "# [Day 6: Universal Orbit Map](https://adventofcode.com/2019/day/6)"
   ]
  },
  {
   "cell_type": "code",
   "execution_count": 28,
   "metadata": {},
   "outputs": [],
   "source": [
    "def count_orbits(infile):\n",
    "    \"\"\"count number of orbits.\"\"\"\n",
    "    import collections\n",
    "    tree = collections.defaultdict(list)\n",
    "    with open(infile, 'r') as f:\n",
    "        for line in f:\n",
    "            u, v = line.strip().split(')')\n",
    "            tree[u].append(v)\n",
    "    norbits = 0\n",
    "    def dfs(node, depth):\n",
    "        nonlocal norbits\n",
    "        norbits += depth\n",
    "        for child in tree[node]:\n",
    "            dfs(child, depth + 1)\n",
    "    dfs('COM', 0)\n",
    "    return norbits"
   ]
  },
  {
   "cell_type": "code",
   "execution_count": 29,
   "metadata": {},
   "outputs": [],
   "source": [
    "# print(count_orbits(input_path_sample(6)))\n",
    "assert(count_orbits(input_path_sample(6)) == 42)"
   ]
  },
  {
   "cell_type": "code",
   "execution_count": 30,
   "metadata": {},
   "outputs": [
    {
     "name": "stdout",
     "output_type": "stream",
     "text": [
      "301100\n"
     ]
    }
   ],
   "source": [
    "print(count_orbits(input_path(6)))"
   ]
  },
  {
   "cell_type": "code",
   "execution_count": 31,
   "metadata": {},
   "outputs": [],
   "source": [
    "def find_path(infile, target=\"SAN\"):\n",
    "    \"\"\"find path between YOU and target.\"\"\"\n",
    "    import collections\n",
    "    tree = collections.defaultdict(list)\n",
    "    with open(infile, 'r') as f:\n",
    "        for line in f:\n",
    "            u, v = line.strip().split(')')\n",
    "            tree[u].append(v)\n",
    "            tree[v].append(u)\n",
    "    frontier = [(\"YOU\", None, 0)]\n",
    "    while frontier:\n",
    "        node, parent, depth = frontier.pop()\n",
    "        if node == target:\n",
    "            return depth - 2\n",
    "        for nei in tree[node]:\n",
    "            if nei != parent:\n",
    "                frontier.append((nei, node, depth + 1))"
   ]
  },
  {
   "cell_type": "code",
   "execution_count": 32,
   "metadata": {},
   "outputs": [
    {
     "name": "stdout",
     "output_type": "stream",
     "text": [
      "547\n"
     ]
    }
   ],
   "source": [
    "print(find_path(input_path(6)))"
   ]
  },
  {
   "cell_type": "markdown",
   "metadata": {},
   "source": [
    "# [Day 7: Amplification Circuit](https://adventofcode.com/2019/day/7)"
   ]
  },
  {
   "cell_type": "code",
   "execution_count": 33,
   "metadata": {},
   "outputs": [],
   "source": [
    "with open(input_path(7), 'r') as f:\n",
    "    code7 = list(get_ints(f))"
   ]
  },
  {
   "cell_type": "code",
   "execution_count": 34,
   "metadata": {},
   "outputs": [],
   "source": [
    "def amplify_circuit(code):\n",
    "    \"\"\"implement amplify circuit.\"\"\"\n",
    "    def amplify(setting):\n",
    "        signal = 0\n",
    "        for inst in setting:\n",
    "            amp = Program(code, Input([inst, signal]))\n",
    "            signal = next(amp.genor)\n",
    "        return signal\n",
    "    return max(amplify(setting) for setting in permutations(range(5)))"
   ]
  },
  {
   "cell_type": "code",
   "execution_count": 35,
   "metadata": {},
   "outputs": [
    {
     "name": "stdout",
     "output_type": "stream",
     "text": [
      "21000\n"
     ]
    }
   ],
   "source": [
    "print(amplify_circuit(code7))"
   ]
  },
  {
   "cell_type": "code",
   "execution_count": 36,
   "metadata": {},
   "outputs": [],
   "source": [
    "def feedback_amplify_circuit(code):\n",
    "    \"\"\"implement feedback amplify circuit.\"\"\"\n",
    "    def amplify(setting):\n",
    "        amps = [Program(code, Input([inst])) for inst in setting]\n",
    "        ans = None\n",
    "        signal = 0\n",
    "        while True:\n",
    "            for i, amp in enumerate(amps):\n",
    "                amps[i].inputs.feed(signal)\n",
    "                signal = next(amp.genor, None)\n",
    "                if signal is None:\n",
    "                    return ans\n",
    "                if i == 4:\n",
    "                    ans = signal\n",
    "    return max(amplify(setting) for setting in permutations(range(5, 10)))            "
   ]
  },
  {
   "cell_type": "code",
   "execution_count": 37,
   "metadata": {},
   "outputs": [],
   "source": [
    "assert(feedback_amplify_circuit([3,26,1001,26,-4,26,3,27,1002,27,2,27,1,27,26,27,4,27,\n",
    "                                 1001,28,-1,28,1005,28,6,99,0,0,5]) == 139629729)"
   ]
  },
  {
   "cell_type": "code",
   "execution_count": 38,
   "metadata": {},
   "outputs": [],
   "source": [
    "assert(feedback_amplify_circuit([3,52,1001,52,-5,52,3,53,1,52,56,54,1007,54,5,55,1005,55,26,1001,54,\n",
    "-5,54,1105,1,12,1,53,54,53,1008,54,0,55,1001,55,1,55,2,53,55,53,4,\n",
    "53,1001,56,-1,56,1005,56,6,99,0,0,0,0,10]) == 18216)"
   ]
  },
  {
   "cell_type": "code",
   "execution_count": 39,
   "metadata": {},
   "outputs": [
    {
     "name": "stdout",
     "output_type": "stream",
     "text": [
      "61379886\n"
     ]
    }
   ],
   "source": [
    "print(feedback_amplify_circuit(code7))"
   ]
  },
  {
   "cell_type": "markdown",
   "metadata": {},
   "source": [
    "# [Day 8: Space Image Format](https://adventofcode.com/2019/day/8)"
   ]
  },
  {
   "cell_type": "code",
   "execution_count": 40,
   "metadata": {},
   "outputs": [],
   "source": [
    "WIDTH = 25\n",
    "HEIGHT = 6\n",
    "with open(input_path(8), 'r') as f:\n",
    "    image = f.read().strip()\n",
    "n = len(image)\n",
    "assert(n % (WIDTH * HEIGHT) == 0)\n",
    "assert(image.isdigit())"
   ]
  },
  {
   "cell_type": "code",
   "execution_count": 41,
   "metadata": {},
   "outputs": [
    {
     "name": "stdout",
     "output_type": "stream",
     "text": [
      "1360\n"
     ]
    }
   ],
   "source": [
    "PIXELS = WIDTH * HEIGHT\n",
    "counter = [PIXELS + 1] * 10\n",
    "for i in range(n // (PIXELS)):\n",
    "    temp = [0] * 10\n",
    "    start = i * PIXELS\n",
    "    for i in range(start, start + PIXELS):\n",
    "        pix = image[i]\n",
    "        temp[ord(pix) - ord('0')] += 1\n",
    "    if temp[0] < counter[0]:\n",
    "        counter = temp\n",
    "print(counter[1] * counter[2])"
   ]
  },
  {
   "cell_type": "code",
   "execution_count": 42,
   "metadata": {},
   "outputs": [],
   "source": [
    "def decode_image(image, width=25, height=6):\n",
    "    \"\"\"decode and plot image.\"\"\"\n",
    "    n = len(image)\n",
    "    total = width * height\n",
    "    ans = [next(itertools.dropwhile(lambda x : x == '2', (image[j] for j in range(i, n, total))) ) for i in range(total)]\n",
    "    fig, ax = plt.subplots(figsize=(10, 10))\n",
    "    for row in range(height):\n",
    "        line = ''.join(ans[row * width: row * width + width])\n",
    "        y = height - 1 - row\n",
    "        for x, val in enumerate(line):\n",
    "            if val == '1':\n",
    "                ax.scatter(x, y, color='b')\n",
    "    ax.axis('equal')\n",
    "    plt.show()\n",
    "    return ans"
   ]
  },
  {
   "cell_type": "code",
   "execution_count": 43,
   "metadata": {},
   "outputs": [
    {
     "data": {
      "image/png": "[encoded data removed]",
      "text/plain": [
       "<Figure size 720x720 with 1 Axes>"
      ]
     },
     "metadata": {
      "needs_background": "light"
     },
     "output_type": "display_data"
    }
   ],
   "source": [
    "decode_image(image);\n",
    "# FPUAR"
   ]
  },
  {
   "cell_type": "markdown",
   "metadata": {},
   "source": [
    "# [Day 9: Sensor Boost](https://adventofcode.com/2019/day/9)"
   ]
  },
  {
   "cell_type": "code",
   "execution_count": 44,
   "metadata": {},
   "outputs": [],
   "source": [
    "with open(input_path(9), 'r') as f:\n",
    "    code9 = list(get_ints(f))"
   ]
  },
  {
   "cell_type": "code",
   "execution_count": 45,
   "metadata": {},
   "outputs": [],
   "source": [
    "assert(list(Program([104,1125899906842624,99], Input([1])).genor)[-1] == 1125899906842624)"
   ]
  },
  {
   "cell_type": "code",
   "execution_count": 46,
   "metadata": {},
   "outputs": [],
   "source": [
    "assert(list(Program([109,1,204,-1,1001,100,1,100,1008,100,16,101,1006,101,0,99], Input([1])).genor) == [109, 1, 204, -1, 1001, 100, 1, 100, 1008, 100, 16, 101, 1006, 101, 0, 99])"
   ]
  },
  {
   "cell_type": "code",
   "execution_count": 47,
   "metadata": {},
   "outputs": [],
   "source": [
    "assert(len(str(list(Program([1102,34915192,34915192,7,4,7,99,0], Input([1])).genor)[0])) == 16)"
   ]
  },
  {
   "cell_type": "code",
   "execution_count": 48,
   "metadata": {},
   "outputs": [
    {
     "data": {
      "text/plain": [
       "[3345854957]"
      ]
     },
     "execution_count": 48,
     "metadata": {},
     "output_type": "execute_result"
    }
   ],
   "source": [
    "list(Program(code9, Input([1])).genor)"
   ]
  },
  {
   "cell_type": "code",
   "execution_count": 49,
   "metadata": {},
   "outputs": [
    {
     "data": {
      "text/plain": [
       "[68938]"
      ]
     },
     "execution_count": 49,
     "metadata": {},
     "output_type": "execute_result"
    }
   ],
   "source": [
    "list(Program(code9, Input([2])).genor)"
   ]
  },
  {
   "cell_type": "markdown",
   "metadata": {},
   "source": [
    "# [Day 10: Monitoring Station](https://adventofcode.com/2019/day/10)"
   ]
  },
  {
   "cell_type": "code",
   "execution_count": 50,
   "metadata": {},
   "outputs": [],
   "source": [
    "with open(input_path(10), 'r') as f:\n",
    "    grid = [line.strip() for line in f]"
   ]
  },
  {
   "cell_type": "code",
   "execution_count": 51,
   "metadata": {},
   "outputs": [
    {
     "name": "stdout",
     "output_type": "stream",
     "text": [
      "307\n"
     ]
    }
   ],
   "source": [
    "print(sum(val == '#' for row in grid for val in row))"
   ]
  },
  {
   "cell_type": "code",
   "execution_count": 52,
   "metadata": {},
   "outputs": [],
   "source": [
    "def best_monitor_station(grid):\n",
    "    \"\"\"find the best monitor station.\"\"\"\n",
    "    m, n = len(grid), len(grid[0])\n",
    "    asters = [(x, y) for y in range(m) for x in range(n) if grid[y][x] == '#']\n",
    "    counter = collections.Counter()\n",
    "    for i, (x1, y1) in enumerate(asters):\n",
    "        for j in range(i):\n",
    "            x0, y0 = asters[j]\n",
    "            # check if there are any asteroids between (x0, y0) and (x1, y1)\n",
    "            dx, dy = x1 - x0, y1 - y0\n",
    "            xmin, xmax = sorted((x0, x1))\n",
    "            ymin, ymax = sorted((y0, y1))\n",
    "            for k in range(len(asters)):\n",
    "                if k not in (i, j):\n",
    "                    x, y = asters[k]\n",
    "                    if xmin <= x <= xmax and ymin <= y <= ymax and dy * (x - x0) == dx * (y - y0):\n",
    "                        break\n",
    "            else:\n",
    "                counter[i] += 1\n",
    "                counter[j] += 1\n",
    "    best_idx, mx = counter.most_common(1)[0]\n",
    "    return asters[best_idx], mx"
   ]
  },
  {
   "cell_type": "code",
   "execution_count": 53,
   "metadata": {},
   "outputs": [
    {
     "name": "stdout",
     "output_type": "stream",
     "text": [
      "Best location is at (8, 16) which connects 214 asteroid.\n"
     ]
    }
   ],
   "source": [
    "monitor, mx = best_monitor_station(grid)\n",
    "print(\"Best location is at ({}, {}) which connects {} asteroid.\".format(monitor[0], monitor[1], mx))"
   ]
  },
  {
   "cell_type": "code",
   "execution_count": 54,
   "metadata": {},
   "outputs": [],
   "source": [
    "def rotate_and_vaporize(grid, monitor):\n",
    "    \"\"\"rotate the laser clockwise and vaporize the asteroids.\"\"\"\n",
    "    m, n = len(grid), len(grid[0])\n",
    "    x0, y0 = monitor\n",
    "    asters = [(x, y) for y in range(m) for x in range(n) if grid[y][x] == '#' and (x != x0 or y != y0)]\n",
    "    removes = []\n",
    "    while asters:\n",
    "        cands = []\n",
    "        nas = len(asters)\n",
    "        next_asters = []\n",
    "        for i, (x1, y1) in enumerate(asters):\n",
    "            dx, dy = x1 - x0, y1 - y0\n",
    "            xmin, xmax = sorted((x0, x1))\n",
    "            ymin, ymax = sorted((y0, y1))\n",
    "            for j in range(nas):\n",
    "                if j != i:\n",
    "                    x, y = asters[j]\n",
    "                    if xmin <= x <= xmax and ymin <= y <= ymax and dy * (x - x0) == dx * (y - y0):\n",
    "                        next_asters.append((x1, y1))\n",
    "                        break\n",
    "            else:\n",
    "                theta = np.arctan2(-dy, dx)\n",
    "                if theta < 0:\n",
    "                    beta = -theta + np.pi / 2\n",
    "                elif theta <= np.pi / 2:\n",
    "                    beta = np.pi / 2 - theta\n",
    "                else:\n",
    "                    beta = np.pi * 2 - (theta - np.pi/2)\n",
    "                cands.append((beta, i))\n",
    "        cands.sort()\n",
    "        removes.extend(asters[idx] for _, idx in cands)\n",
    "        asters = next_asters\n",
    "    return removes"
   ]
  },
  {
   "cell_type": "code",
   "execution_count": 55,
   "metadata": {},
   "outputs": [
    {
     "name": "stdout",
     "output_type": "stream",
     "text": [
      "502\n"
     ]
    }
   ],
   "source": [
    "removes = rotate_and_vaporize(grid, monitor)\n",
    "x, y = removes[199]\n",
    "print(x * 100 + y)"
   ]
  },
  {
   "cell_type": "markdown",
   "metadata": {},
   "source": [
    "# [Day 11: Space Police](https://adventofcode.com/2019/day/11)"
   ]
  },
  {
   "cell_type": "code",
   "execution_count": 56,
   "metadata": {},
   "outputs": [],
   "source": [
    "with open(input_path(11), 'r') as f:\n",
    "    code11 = list(map(int, f.read().split(',')))"
   ]
  },
  {
   "cell_type": "code",
   "execution_count": 57,
   "metadata": {},
   "outputs": [],
   "source": [
    "def robot_paint(code, start=0):\n",
    "    \"\"\"simulate robot paint.\"\"\"\n",
    "    pos = 0\n",
    "    face = 1j\n",
    "    prog = Program(code, Input([start]))\n",
    "    board = collections.defaultdict(int)\n",
    "    cpu = prog.genor\n",
    "    while True:\n",
    "        command = next(cpu, None)\n",
    "        if command is None:\n",
    "            break\n",
    "        board[pos] = command\n",
    "        command = next(cpu, None)\n",
    "        if command is None:\n",
    "            break\n",
    "        if command == 0:\n",
    "            face *= 1j\n",
    "        else:\n",
    "            face *= (-1j)\n",
    "        pos += 1 * face\n",
    "        prog.inputs.feed(board.get(pos, 0))\n",
    "    return board"
   ]
  },
  {
   "cell_type": "code",
   "execution_count": 58,
   "metadata": {},
   "outputs": [
    {
     "name": "stdout",
     "output_type": "stream",
     "text": [
      "2418\n"
     ]
    }
   ],
   "source": [
    "board = robot_paint(code11, start=0)\n",
    "print(len(board))"
   ]
  },
  {
   "cell_type": "code",
   "execution_count": 59,
   "metadata": {},
   "outputs": [],
   "source": [
    "def plot_paint(board):\n",
    "    \"\"\"plot paint generated by the robot.\"\"\"\n",
    "    fig, ax = plt.subplots(figsize=(10, 10))\n",
    "    for key, value in board.items():\n",
    "        if value == 1:\n",
    "            x = key.real\n",
    "            y = key.imag\n",
    "            ax.scatter(x, y, color='b')\n",
    "    ax.axis('equal')\n",
    "    plt.show()"
   ]
  },
  {
   "cell_type": "code",
   "execution_count": 60,
   "metadata": {},
   "outputs": [
    {
     "data": {
      "image/png": "[encoded data removed]",
      "text/plain": [
       "<Figure size 720x720 with 1 Axes>"
      ]
     },
     "metadata": {
      "needs_background": "light"
     },
     "output_type": "display_data"
    }
   ],
   "source": [
    "board = robot_paint(code11, start=1)\n",
    "plot_paint(board)"
   ]
  },
  {
   "cell_type": "markdown",
   "metadata": {},
   "source": [
    "# [Day 12: The N-Body Problem](https://adventofcode.com/2019/day/12)"
   ]
  },
  {
   "cell_type": "code",
   "execution_count": 61,
   "metadata": {},
   "outputs": [],
   "source": [
    "with open(input_path(12), 'r') as f:\n",
    "    xyzs = list(get_ints(f))"
   ]
  },
  {
   "cell_type": "code",
   "execution_count": 62,
   "metadata": {},
   "outputs": [],
   "source": [
    "with open(input_path_sample(12), 'r') as f:\n",
    "    xyzs_sample = list(get_ints(f))"
   ]
  },
  {
   "cell_type": "code",
   "execution_count": 63,
   "metadata": {},
   "outputs": [],
   "source": [
    "def N_body_simulation(xyzs, nsteps):\n",
    "    \"\"\"conduct N-body simulation for nsteps, return total energy\"\"\"\n",
    "    xyzs = np.array(xyzs, dtype=np.int64)\n",
    "    n = 4\n",
    "    dim = 3\n",
    "    assert(len(xyzs) == dim * n)\n",
    "    vxyzs = np.zeros(dim * n, dtype=np.int64)\n",
    "    for _ in range(nsteps):\n",
    "        # 1. apply acceleration\n",
    "        axyzs = np.zeros(dim * n, dtype=np.int64)\n",
    "        for i in range(n):\n",
    "            for j in range(i + 1, n):\n",
    "                for d in range(dim):\n",
    "                    pi = xyzs[i * dim + d]\n",
    "                    pj = xyzs[j * dim + d]\n",
    "                    if pi > pj:\n",
    "                        axyzs[i * dim + d] -= 1\n",
    "                        axyzs[j * dim + d] += 1\n",
    "                    elif pi < pj:\n",
    "                        axyzs[i * dim + d] += 1\n",
    "                        axyzs[j * dim + d] -= 1\n",
    "        # 2. update velocity\n",
    "        vxyzs += axyzs\n",
    "        # 3. update position\n",
    "        xyzs += vxyzs\n",
    "    # compute energy\n",
    "    energy = 0\n",
    "    for i in range(n):\n",
    "        pot = 0\n",
    "        kin = 0\n",
    "        for d in range(3):\n",
    "            pot += abs(xyzs[i * dim + d])\n",
    "            kin += abs(vxyzs[i * dim + d])\n",
    "        energy += pot * kin\n",
    "    return energy"
   ]
  },
  {
   "cell_type": "code",
   "execution_count": 64,
   "metadata": {},
   "outputs": [],
   "source": [
    "assert(N_body_simulation(xyzs_sample, nsteps=100) == 1940)"
   ]
  },
  {
   "cell_type": "code",
   "execution_count": 65,
   "metadata": {},
   "outputs": [
    {
     "name": "stdout",
     "output_type": "stream",
     "text": [
      "8287\n"
     ]
    }
   ],
   "source": [
    "print(N_body_simulation(xyzs, nsteps=1000))"
   ]
  },
  {
   "cell_type": "code",
   "execution_count": 66,
   "metadata": {},
   "outputs": [],
   "source": [
    "def find_first_repeat(xyzs):\n",
    "    \"\"\"return the first repeat step.\"\"\"\n",
    "    xyzs = np.array(xyzs, dtype=np.int64)\n",
    "    n = 4\n",
    "    dim = 3\n",
    "    assert(len(xyzs) == dim * n)\n",
    "    def compute_period(ps):\n",
    "        \"\"\"compute the period.\"\"\"\n",
    "        n = len(ps)\n",
    "        vs = np.zeros(n, dtype=np.int64)\n",
    "        seen = {(ps.tobytes(), vs.tobytes()) : 0}\n",
    "        steps = 0\n",
    "        while True:\n",
    "            for i in range(n):\n",
    "                for j in range(i + 1, n):\n",
    "                    if ps[i] > ps[j]:\n",
    "                        vs[i] -= 1\n",
    "                        vs[j] += 1\n",
    "                    elif ps[i] < ps[j]:\n",
    "                        vs[i] += 1\n",
    "                        vs[j] -= 1\n",
    "            ps += vs\n",
    "            steps += 1\n",
    "            code = (ps.tobytes(), vs.tobytes())\n",
    "            if code in seen:\n",
    "                return seen[code], steps\n",
    "            seen[code] = steps\n",
    "    periods = []\n",
    "    for d in range(dim):\n",
    "        ps = np.zeros(n)\n",
    "        for i in range(n):\n",
    "            ps[i] += xyzs[i * dim + d]\n",
    "        a, b = compute_period(ps)\n",
    "        assert(a == 0)\n",
    "        periods.append(b - a)\n",
    "    ans = periods[0] * periods[1] // (math.gcd(periods[0], periods[1]))\n",
    "    for d in range(2, dim):\n",
    "        ans = ans * periods[d] // (math.gcd(ans, periods[d]))\n",
    "    return ans"
   ]
  },
  {
   "cell_type": "code",
   "execution_count": 67,
   "metadata": {},
   "outputs": [
    {
     "name": "stdout",
     "output_type": "stream",
     "text": [
      "528250271633772\n"
     ]
    }
   ],
   "source": [
    "print(find_first_repeat(xyzs))"
   ]
  },
  {
   "cell_type": "markdown",
   "metadata": {},
   "source": [
    "# [Day 13: Care Package](https://adventofcode.com/2019/day/13)\n",
    "\n",
    "- 0 is an empty tile. No game object appears in this tile.\n",
    "- 1 is a wall tile. Walls are indestructible barriers.\n",
    "- 2 is a block tile. Blocks can be broken by the ball.\n",
    "- 3 is a horizontal paddle tile. The paddle is indestructible.\n",
    "- 4 is a ball tile. The ball moves diagonally and bounces off objects."
   ]
  },
  {
   "cell_type": "code",
   "execution_count": 68,
   "metadata": {},
   "outputs": [],
   "source": [
    "with open(input_path(13), 'r') as f:\n",
    "    code13 = list(get_ints(f))"
   ]
  },
  {
   "cell_type": "code",
   "execution_count": 69,
   "metadata": {},
   "outputs": [],
   "source": [
    "def draw_tiles(code):\n",
    "    \"\"\"draw tiles based on code.\"\"\"\n",
    "    out = list(Program(code, Input([])).genor)\n",
    "    n = len(out)\n",
    "    screen = {}\n",
    "    for i in range(0, n, 3):\n",
    "        x, y, t = out[i:i + 3]\n",
    "        screen[x, y] = t\n",
    "    return sum(t == 2 for t in screen.values())"
   ]
  },
  {
   "cell_type": "code",
   "execution_count": 70,
   "metadata": {},
   "outputs": [
    {
     "name": "stdout",
     "output_type": "stream",
     "text": [
      "280\n"
     ]
    }
   ],
   "source": [
    "print(draw_tiles(code13))"
   ]
  },
  {
   "cell_type": "code",
   "execution_count": 71,
   "metadata": {},
   "outputs": [],
   "source": [
    "def play_game(code):\n",
    "    \"\"\"play game.\"\"\"\n",
    "    class GameInput:\n",
    "        def __init__(self):\n",
    "            self.idx = 0\n",
    "            self.score = None\n",
    "            self.paddle = None\n",
    "            self.ball = None\n",
    "            self.x = None\n",
    "            self.y = None\n",
    "\n",
    "        def next_input(self):\n",
    "            assert(self.ball is not None and self.paddle is not None)\n",
    "            if self.ball < self.paddle:\n",
    "                return -1\n",
    "            elif self.ball > self.paddle:\n",
    "                return 1\n",
    "            else:\n",
    "                return 0\n",
    "            \n",
    "        def handle_out(self, data):\n",
    "            \"\"\"handle output.\"\"\"\n",
    "            if self.idx == 0:\n",
    "                self.x = data\n",
    "            elif self.idx == 1:\n",
    "                self.y = data\n",
    "            elif self.x == -1 and self.y == 0:\n",
    "                self.score = data\n",
    "            elif data == 3:\n",
    "                self.paddle = self.x\n",
    "            elif data == 4:\n",
    "                self.ball = self.x\n",
    "            self.idx = (self.idx + 1) % 3\n",
    "                \n",
    "    code[0] = 2\n",
    "    game_input = GameInput()\n",
    "    program = Program(code, game_input)\n",
    "    genor = program.genor\n",
    "    for nxt in genor:\n",
    "        game_input.handle_out(nxt)\n",
    "    return game_input.score"
   ]
  },
  {
   "cell_type": "code",
   "execution_count": 72,
   "metadata": {},
   "outputs": [
    {
     "name": "stdout",
     "output_type": "stream",
     "text": [
      "13298\n"
     ]
    }
   ],
   "source": [
    "print(play_game(code13))"
   ]
  },
  {
   "cell_type": "markdown",
   "metadata": {},
   "source": [
    "# [Day 14: Space Stoichiometry](https://adventofcode.com/2019/day/14)"
   ]
  },
  {
   "cell_type": "code",
   "execution_count": 73,
   "metadata": {},
   "outputs": [],
   "source": [
    "formulas = []\n",
    "with open(input_path(14), 'r') as f:\n",
    "    for line in f:\n",
    "        lhs, rhs = line.strip().split('=>')\n",
    "        ls = lhs.split(', ')\n",
    "        rs = rhs.split(', ')\n",
    "        formula = []\n",
    "        for token in chain(ls, rs):\n",
    "            num, molecule = token.split()\n",
    "            formula.append((int(num), molecule.strip()))\n",
    "        formulas.append(formula)"
   ]
  },
  {
   "cell_type": "code",
   "execution_count": 74,
   "metadata": {},
   "outputs": [],
   "source": [
    "def compute_raw(formulas, ntargets=1, raw=\"ORE\", target=\"FUEL\"):\n",
    "    \"\"\"compute number of raw needed to produce ntargets unit of target.\"\"\"\n",
    "    # topological sort\n",
    "    items = set()\n",
    "    indegrees = collections.Counter()\n",
    "    follows = collections.defaultdict(dict)\n",
    "    for *lhs, rhs in formulas:\n",
    "        a, u = rhs\n",
    "        items.add(u)\n",
    "        for b, v in lhs:\n",
    "            items.add(u)\n",
    "            indegrees[v] += 1\n",
    "            follows[u][v] = (a, b)\n",
    "    level = {target : ntargets}\n",
    "    assert(indegrees[target] == 0)\n",
    "    cnt = 0\n",
    "    needs = collections.Counter()\n",
    "    extras = collections.Counter()\n",
    "    while level:\n",
    "        next_level = {}\n",
    "#         print(level, extras)\n",
    "        for u, num in level.items():\n",
    "            needs[u] += num\n",
    "            for v, (a, b) in follows[u].items():\n",
    "                indegrees[v] -= 1\n",
    "                if indegrees[v] == 0:\n",
    "                    next_level[v] = (num + a - 1) // a * b + extras[v]\n",
    "                else:\n",
    "                    extras[v] += (num + a - 1) // a * b\n",
    "        level = next_level\n",
    "#     print(needs)\n",
    "    return needs[raw]"
   ]
  },
  {
   "cell_type": "code",
   "execution_count": 75,
   "metadata": {
    "scrolled": true
   },
   "outputs": [
    {
     "data": {
      "text/plain": [
       "397771"
      ]
     },
     "execution_count": 75,
     "metadata": {},
     "output_type": "execute_result"
    }
   ],
   "source": [
    "compute_raw(formulas)"
   ]
  },
  {
   "cell_type": "code",
   "execution_count": 76,
   "metadata": {},
   "outputs": [],
   "source": [
    "def compute_target(formulas, nraws=1000000000000, raw=\"ORE\", target=\"FUEL\"):\n",
    "    \"\"\"compute how many units of target it can produce with nraws raw.\"\"\"\n",
    "    # binary search\n",
    "    lo = 0\n",
    "    hi = nraws\n",
    "    while lo < hi:\n",
    "        mid = hi - (hi - lo) // 2\n",
    "        need = compute_raw(formulas, mid, raw, target)\n",
    "        if need > nraws:\n",
    "            hi = mid - 1\n",
    "        else:\n",
    "            lo = mid\n",
    "    return lo"
   ]
  },
  {
   "cell_type": "code",
   "execution_count": 77,
   "metadata": {},
   "outputs": [
    {
     "data": {
      "text/plain": [
       "3126714"
      ]
     },
     "execution_count": 77,
     "metadata": {},
     "output_type": "execute_result"
    }
   ],
   "source": [
    "compute_target(formulas)"
   ]
  },
  {
   "cell_type": "markdown",
   "metadata": {},
   "source": [
    "# [Day 15: Oxygen System](https://adventofcode.com/2019/day/15)"
   ]
  },
  {
   "cell_type": "code",
   "execution_count": 78,
   "metadata": {},
   "outputs": [],
   "source": [
    "with open(input_path(15), 'r') as f:\n",
    "    code15 = list(get_ints(f))"
   ]
  },
  {
   "cell_type": "code",
   "execution_count": 79,
   "metadata": {},
   "outputs": [],
   "source": [
    "def repair_oxygen_system(code):\n",
    "    \"\"\"repair oxygen system, also get the map.\"\"\"\n",
    "    dirs = dict(zip([1,2,3,4], ((0, -1), (0, 1), (-1, 0), (1, 0))))\n",
    "    def get_out(in_stream):\n",
    "        program = Program(code, Input(in_stream))\n",
    "        n = len(in_stream)\n",
    "        genor = program.genor\n",
    "        for i in range(n - 1):\n",
    "            next(genor)\n",
    "        return next(genor)\n",
    "    in_stream = []\n",
    "    visited = set()\n",
    "    frontier = [(0, 0, [])]\n",
    "    nsteps = 0\n",
    "    while frontier:\n",
    "        next_level = []\n",
    "        for i, j, in_stream in frontier:\n",
    "            for command, (di, dj) in dirs.items():\n",
    "                ni, nj = i + di, j + dj\n",
    "                if (ni, nj) not in visited:\n",
    "                    visited.add((ni, nj))\n",
    "                    in_stream.append(command)\n",
    "                    status = get_out(in_stream)\n",
    "                    if status == 1:\n",
    "                        next_level.append((ni, nj, in_stream[:]))\n",
    "                    elif status == 2:\n",
    "                        return nsteps + 1\n",
    "                    in_stream.pop()\n",
    "        nsteps += 1\n",
    "        frontier = next_level\n",
    "    return -1"
   ]
  },
  {
   "cell_type": "code",
   "execution_count": 80,
   "metadata": {},
   "outputs": [],
   "source": [
    "def get_grid(code):\n",
    "    \"\"\"get the grid.\"\"\"\n",
    "    dirs = dict(zip([1,2,3,4], ((0, -1), (0, 1), (-1, 0), (1, 0))))\n",
    "    def get_out(in_stream):\n",
    "        program = Program(code, Input(in_stream))\n",
    "        n = len(in_stream)\n",
    "        genor = program.genor\n",
    "        for i in range(n - 1):\n",
    "            next(genor)\n",
    "        return next(genor)\n",
    "    in_stream = []\n",
    "    visited = set()\n",
    "    frontier = [(0, 0, [])]\n",
    "    nsteps = 0\n",
    "    grid = {(0, 0) : '.'}\n",
    "    while frontier:\n",
    "        next_level = []\n",
    "        for i, j, in_stream in frontier:\n",
    "            for command, (di, dj) in dirs.items():\n",
    "                ni, nj = i + di, j + dj\n",
    "                if (ni, nj) not in visited:\n",
    "                    visited.add((ni, nj))\n",
    "                    in_stream.append(command)\n",
    "                    status = get_out(in_stream)\n",
    "                    if status == 1:\n",
    "                        grid[ni, nj] = '.'\n",
    "                        next_level.append((ni, nj, in_stream[:]))\n",
    "                    elif status == 2:\n",
    "                        grid[ni, nj] = 'O'\n",
    "                    else:\n",
    "                        grid[ni, nj] = '#'\n",
    "                    in_stream.pop()\n",
    "        nsteps += 1\n",
    "        frontier = next_level\n",
    "    return grid"
   ]
  },
  {
   "cell_type": "code",
   "execution_count": 81,
   "metadata": {},
   "outputs": [
    {
     "name": "stdout",
     "output_type": "stream",
     "text": [
      "228\n"
     ]
    }
   ],
   "source": [
    "nsteps = repair_oxygen_system(code15)\n",
    "print(nsteps)"
   ]
  },
  {
   "cell_type": "code",
   "execution_count": 82,
   "metadata": {},
   "outputs": [],
   "source": [
    "# grid = get_grid(code15)"
   ]
  },
  {
   "cell_type": "code",
   "execution_count": 83,
   "metadata": {},
   "outputs": [],
   "source": [
    "def fill_oxygen(raw_grid):\n",
    "    \"\"\"fill oxygen in the grid.\"\"\"\n",
    "    grid = raw_grid.copy()\n",
    "    x0, y0 = None, None\n",
    "    for (x, y), status in grid.items():\n",
    "        if status == 'O':\n",
    "            x0 = x\n",
    "            y0 = y\n",
    "            break\n",
    "    frontier = [(x0, y0)]\n",
    "    nsteps = 0\n",
    "    while frontier:\n",
    "        next_level = []\n",
    "        for x, y in frontier:\n",
    "            for nx, ny in (x - 1, y), (x + 1, y), (x, y - 1), (x, y + 1):\n",
    "                if (nx, ny) in grid and grid[nx, ny] == '.':\n",
    "                    grid[nx, ny] = 'O'\n",
    "                    next_level.append((nx, ny))\n",
    "        nsteps += 1\n",
    "        frontier = next_level\n",
    "    return nsteps - 1"
   ]
  },
  {
   "cell_type": "code",
   "execution_count": 84,
   "metadata": {},
   "outputs": [],
   "source": [
    "# print(fill_oxygen(grid))\n",
    "# 348"
   ]
  },
  {
   "cell_type": "code",
   "execution_count": 85,
   "metadata": {},
   "outputs": [
    {
     "data": {
      "text/plain": [
       "228"
      ]
     },
     "execution_count": 85,
     "metadata": {},
     "output_type": "execute_result"
    }
   ],
   "source": [
    "nsteps"
   ]
  },
  {
   "cell_type": "markdown",
   "metadata": {},
   "source": [
    "# [Day 16: Flawed Frequency Transmission](https://adventofcode.com/2019/day/16)"
   ]
  },
  {
   "cell_type": "code",
   "execution_count": 86,
   "metadata": {},
   "outputs": [],
   "source": [
    "with open(input_path(16), 'r') as f:\n",
    "    nums16 = list(map(int, f.read().strip()))"
   ]
  },
  {
   "cell_type": "code",
   "execution_count": 87,
   "metadata": {},
   "outputs": [],
   "source": [
    "def flawed_frequency_transmission(nums, nphases=100, base_pattern=(0,1,0,-1)):\n",
    "    \"\"\"conduct fft for nphases.\"\"\"\n",
    "    def pattern_genor(m):\n",
    "        \"\"\"generate pattern based on base_pattern\"\"\"\n",
    "        for num in base_pattern:\n",
    "            for _ in range(m):\n",
    "                yield num\n",
    "    n = len(nums)\n",
    "    for _ in range(nphases):\n",
    "        temp = []\n",
    "        for m in range(1, n + 1):\n",
    "            temp.append(abs(sum(num * coeff for num, coeff in zip(nums, itertools.islice(itertools.cycle(pattern_genor(m)), 1, n + 1)))) % 10)\n",
    "        nums = temp\n",
    "    return nums"
   ]
  },
  {
   "cell_type": "code",
   "execution_count": 88,
   "metadata": {},
   "outputs": [
    {
     "name": "stdout",
     "output_type": "stream",
     "text": [
      "[2, 7, 2, 2, 9, 2, 6, 9]\n"
     ]
    }
   ],
   "source": [
    "nums = [1,2,3,4,5,6,7,8]\n",
    "print(flawed_frequency_transmission(nums16)[:8])"
   ]
  },
  {
   "cell_type": "code",
   "execution_count": 89,
   "metadata": {},
   "outputs": [],
   "source": [
    "def fast_flawed_frequency_transmission(nums, nphases=100, base_pattern=(0, 1, 0, -1)):\n",
    "    skip = int(''.join(map(str, nums[0:7])))\n",
    "    nums = nums * 10000\n",
    "\n",
    "    # confirm that only the first 2 elements of the pattern will be used:\n",
    "    assert(len(nums) < 2 * skip - 1)\n",
    "\n",
    "    for phase in range(nphases):\n",
    "        checksum = sum(nums[skip:])\n",
    "        new_nums = [0] * skip + [checksum % 10]\n",
    "        for n in range(skip + 2, len(nums)+1):\n",
    "            checksum -= nums[n-2]\n",
    "            new_nums += [checksum % 10]\n",
    "        nums = new_nums\n",
    "    return nums[skip:skip+8]"
   ]
  },
  {
   "cell_type": "code",
   "execution_count": 90,
   "metadata": {},
   "outputs": [
    {
     "data": {
      "text/plain": [
       "[2, 6, 8, 5, 7, 1, 6, 4]"
      ]
     },
     "execution_count": 90,
     "metadata": {},
     "output_type": "execute_result"
    }
   ],
   "source": [
    "fast_flawed_frequency_transmission(nums16)"
   ]
  },
  {
   "cell_type": "markdown",
   "metadata": {},
   "source": [
    "# [Day 17: Set and Forget](https://adventofcode.com/2019/day/17)"
   ]
  },
  {
   "cell_type": "code",
   "execution_count": 91,
   "metadata": {},
   "outputs": [],
   "source": [
    "with open(input_path(17), 'r') as f:\n",
    "    code17 = list(get_ints(f))"
   ]
  },
  {
   "cell_type": "code",
   "execution_count": 92,
   "metadata": {},
   "outputs": [],
   "source": [
    "def get_map(code):\n",
    "    \"\"\"get map by run Intcode.\"\"\"\n",
    "    program = Program(code, Input([]))\n",
    "    ans = ''.join(chr(out) for out in program.genor)\n",
    "    return [line for line in ans.split('\\n') if line]"
   ]
  },
  {
   "cell_type": "code",
   "execution_count": 93,
   "metadata": {},
   "outputs": [],
   "source": [
    "grid = get_map(code17)"
   ]
  },
  {
   "cell_type": "code",
   "execution_count": 94,
   "metadata": {},
   "outputs": [
    {
     "data": {
      "text/plain": [
       "['............................#......................',\n",
       " '............................#......................',\n",
       " '..........#######...........#......................',\n",
       " '..........#.....#...........#......................',\n",
       " '..........#.....#...........#.......###########....',\n",
       " '..........#.....#...........#.......#.........#....',\n",
       " '..........#.....#...........#############.....#....',\n",
       " '..........#.....#...................#...#.....#....',\n",
       " '..........#.....#.....#############.#...#.....#....',\n",
       " '..........#.....#.....#...........#.#...#.....#....',\n",
       " '..........#.....#.....#...........#.#############..',\n",
       " '..........#.....#.....#...........#.....#.....#.#..',\n",
       " '..........#.....#############.....#.....#.....#.#..',\n",
       " '..........#...........#.....#.....#.....#.....#.#..',\n",
       " '^##########...........#.###########.....#.....#.#..',\n",
       " '......................#.#...#...........#.....#.#..',\n",
       " '......................#.#...#...........#######.#..',\n",
       " '......................#.#...#...................#..',\n",
       " '......................#######...............#######',\n",
       " '........................#...................#...#.#',\n",
       " '........................#.#######...........#...#.#',\n",
       " '........................#.#.....#...........#...#.#',\n",
       " '........................#.#.....#.....###########.#',\n",
       " '........................#.#.....#.....#.....#.....#',\n",
       " '........................#.#.....#.....#.....#.....#',\n",
       " '........................#.#.....#.....#.....#.....#',\n",
       " '........................#############.#.....#.....#',\n",
       " '..........................#.....#...#.#.....#.....#',\n",
       " '..........................#.....#...#.#############',\n",
       " '..........................#.....#...#.......#......',\n",
       " '..........................#.....#############......',\n",
       " '..........................#.........#..............',\n",
       " '..........................###########..............']"
      ]
     },
     "execution_count": 94,
     "metadata": {},
     "output_type": "execute_result"
    }
   ],
   "source": [
    "grid"
   ]
  },
  {
   "cell_type": "code",
   "execution_count": 95,
   "metadata": {},
   "outputs": [],
   "source": [
    "def compute_intersects(grid, symbol=\"#\"):\n",
    "    \"\"\"compute intersections of the grid.\"\"\"\n",
    "    def check_neighbor4(r, c):\n",
    "        for nr, nc in (r - 1, c), (r + 1, c), (r, c - 1), (r, c + 1):\n",
    "            if 0 <= nr < len(grid) and 0 <= nc < len(grid[0]) and grid[nr][nc] == symbol:\n",
    "                yield True\n",
    "            else:\n",
    "                yield False\n",
    "    return [(r, c) for r in range(len(grid)) for c in range(len(grid[0])) \n",
    "                   if grid[r][c] == symbol and all(check_neighbor4(r, c))]"
   ]
  },
  {
   "cell_type": "code",
   "execution_count": 96,
   "metadata": {},
   "outputs": [],
   "source": [
    "inters = compute_intersects(grid)"
   ]
  },
  {
   "cell_type": "code",
   "execution_count": 97,
   "metadata": {},
   "outputs": [
    {
     "name": "stdout",
     "output_type": "stream",
     "text": [
      "7816\n"
     ]
    }
   ],
   "source": [
    "print(sum(r * c for r, c in inters))"
   ]
  },
  {
   "cell_type": "code",
   "execution_count": 98,
   "metadata": {},
   "outputs": [],
   "source": [
    "code17[0] = 2"
   ]
  },
  {
   "cell_type": "code",
   "execution_count": 99,
   "metadata": {},
   "outputs": [],
   "source": [
    "# code17"
   ]
  },
  {
   "cell_type": "code",
   "execution_count": 100,
   "metadata": {},
   "outputs": [],
   "source": [
    "# grid = get_map(code17)"
   ]
  },
  {
   "cell_type": "markdown",
   "metadata": {},
   "source": [
    "# [Day 18: Many-Worlds Interpretation](https://adventofcode.com/2019/day/18)"
   ]
  },
  {
   "cell_type": "code",
   "execution_count": 101,
   "metadata": {},
   "outputs": [],
   "source": [
    "with open(input_path(18), 'r') as f:\n",
    "    grid = [list(line.strip()) for line in f if line.strip()]"
   ]
  },
  {
   "cell_type": "code",
   "execution_count": 102,
   "metadata": {},
   "outputs": [
    {
     "data": {
      "text/plain": [
       "['#################################################################################',\n",
       " '#.#...#.........#.#.....F.........#.....#.#.....#.........#...#.#.....K...#.....#',\n",
       " '#.#.#.#.#.#####.#.#.#########.###.#.#####.#.#.###.#####.###E#.#.#.#######.#.#.###',\n",
       " '#.#.#...#.#...#...#.#.....#j..#.#.#.....#.#.#.....#...#.....#p#.....#.....#.#...#',\n",
       " '#.#.#####.#.#.#####.###.###.###.#.#.###.#.#.#######.#########.#.#####.#.###.###.#',\n",
       " '#..r#...#.#.#.....#.....#...#.....#.#...#...#...........#.....#...#...#.#...#.#.#',\n",
       " '#.###.#.#.#.#####.#####.#.#####.#####.#.#.#######.#####.#.#######.#.#####.###.#.#',\n",
       " '#...O.#.#.D.#.......#.#.#.#..v#.......#.#.#.....#.....#.#.......#.#.....#.....#.#',\n",
       " '#######.#####.#####.#.#.#.#.#.#.#########.#.#.#.#######.#######.#####.#.###.###.#',\n",
       " '#.#...#.#.....#...#...#.#...#.#.#.....C.#.#.#.#.......#.......#.....#.#...#.#...#',\n",
       " '#.#.#.#.#N#.###.#.#####.#####.###.#####.#.###.#######.#######.#####.#.###.#.#.#.#',\n",
       " '#.#.#...#.#.#...#.......#...#.#.....#...#...#.....#...........#.....#.#.#...#.#o#',\n",
       " '#.#.#####.###.###########.#.#.#.#####.#####.###.#.###########.#.#####.#.#####.#.#',\n",
       " '#x#.....#.....#...........#.#...#.#..y#.#.#...#.#.#.....#.....#.#.....#.#.....#.#',\n",
       " '#.#####.#########.#########.#####.#.###.#.###.#.#.#.###.#######.#####.#.#.#####.#',\n",
       " '#...#...#.#.......#...#...#...#...#...#.#...#.#.#.....#...#.....#...#...#.#.....#',\n",
       " '#.#.#.###.#.#.#######.#.#.###.###.###.#.#.###.#.#########.#.#####.#.#####.#######',\n",
       " '#.#...#...#.#.#...Z.#...#.......#...#.#.#...#.#.#.....#...#...#...#.....#.......#',\n",
       " '#.#####.###.#.#.###.#.#########.#.###.#.###.#.###.###.#.#.###.###.#####.#######.#',\n",
       " '#.....#.#...#.#..z#m#.#.......#...#...#.#...#.....#...#.#.#.#...#...#.#.#.......#',\n",
       " '#####.#.#.###.###.#.###.#####.#####.###.#.#########.###.#.#.###.###.#.#.#.#####.#',\n",
       " '#...#.#.....#...#.#.#.#...#........u#...#.........#.#...#...#...#...#.#.#.#.....#',\n",
       " '#.#.#.#######.#.#.#.#.#.#.###########.#.#.#####.#.#.#.#####.#####.###.#.#.#.#####',\n",
       " '#.#.#.........#.#.#.#.#.#......g#.....#.#...#...#.#...#.....#.....#...#b#.#.#.H.#',\n",
       " '#.###########.###.#.#.#Q#######.#.#####.#####.#########.#####.#####.###.#.#.###.#',\n",
       " '#...........#.#...#.M.#...#.....#.....#.#.....#...#.....#.....#.......#.#.#...#.#',\n",
       " '#.###.#.#####.#T###########.#####.###.#.#.#.###.#.#.#####.#######.###.#.#.###.#.#',\n",
       " '#.#...#.#.....#.............#...#.#...#.#.#.#...#.#.......#.....#.#...#.#.#.....#',\n",
       " '###.###.#.###################.#.###.#####.###.###.#########.###.#.#.###.#.#####.#',\n",
       " '#...#...#...#.................#.....#...#...#.#.#.....#.......#.#.#.#.W.#.#...#.#',\n",
       " '#.###.#####.#####.###################.#.#.#.#.#.#.###.#######.#.###.#.###.#.#.#.#',\n",
       " '#...#.....#.#...#...........#.....#.L.#.#.#...#.#...#.....#...#.#...#.#.....#.#.#',\n",
       " '#.#.#######.#.#.#########.#.#.###.#.###.#####.#.###.#####.#.###.#.#.#.#.#####.#.#',\n",
       " '#.#...#...#...#.........#.#.....#.....#.#...#.....#.....#.#.#.#.#.#.#.#.....#.#.#',\n",
       " '#A###.#.#.#############.###.#####.#####.#.#.###########.#.#.#.#.#.###.#######.###',\n",
       " '#...#.#.#.....#...#...#w..#.#...#.#.....#.#.............#.#.#....a#...#.....#...#',\n",
       " '###.#S#.#.#####.#.#.#.###.###.#.###.###.#.#######.#######.#.#.#####.###.###.###.#',\n",
       " '#...#...#.B.....#.#.#...#...#.#...#.#.#.#.......#.#...#.....#...#...#.....#.#...#',\n",
       " '#.###############.#.#.#####.#.###.#.#.#.#.#####.###.#.###########.#######.#.#.#.#',\n",
       " '#...............#...#.........#.....#.........#.....#...........I.........#...#.#',\n",
       " '#######################################.@.#######################################',\n",
       " '#.........#.........#..i......#.....#.................#...#.........#...........#',\n",
       " '###.#.#####.###.#####.#######.#.###.#.#.#.#########.#.#.#.#.###.#####.#########.#',\n",
       " '#...#.#h..#...#...#...#.....#.....#.#.#.#...#.....#.#...#...#...#.......#...#...#',\n",
       " '#.#####.#.###.###.#.###.#.#########.#.#.###.#.###.#.#########.###.#######.#.#.#.#',\n",
       " '#.#.....#...#...#.#...#.#.#.......#...#.#...#.#...#.........#...#s....#...#...#.#',\n",
       " '#.#.#######.#.###.###.#.#.#.#####.#####.#.#####.#.#########.#########.#.#########',\n",
       " '#...#.....#...#.....#.#.#.#...#.......#.#...#...#.#.....#...#.......#.#.........#',\n",
       " '#.#####.#######.#.###.#.#####.#######.#.###.#.###.###.###.###.#####.#.#########.#',\n",
       " '#.......#.......#.#...#.#.....#...#.#.#.#.#l#.#.#...#.#...#...#...#.#.#.......#.#',\n",
       " '#######.#.#####.###.###.#.#####.#.#.#.#.#.#.#.#.###.#.#.###.#####.#.#.#####.#.#.#',\n",
       " '#...#.#.#...#...#...#...#.#.....#.#.#...#.#...#...#.#.#.....#...#.#...#.....#.#.#',\n",
       " '#.#.#.#.###.#.###.###.###.#.#####.#.###.#.#####.#.#.#.#######.#.#.#####.###.###.#',\n",
       " '#.#...#...#.#...#.#...#...#.....#.#.....#.....#.#...#.........#.........#...#...#',\n",
       " '#.###.###.#.#####.#.###.#.#####.#.#.#####.###.#.#########.###################.#.#',\n",
       " '#...#...#.#.........#...#.....#.#.#.#...#.#...#.#.#.......#.................#.#.#',\n",
       " '#.#.#.###.###########.#######.#.#.#.#.#.#.#.###.#.#.#.#.###.###############.#.###',\n",
       " '#.#.#.#...#.....#.....#...#...#.#.#.#.#.#.#...#.#.#.#.#.#...#.........#.....#...#',\n",
       " '#.#.#.#.###.#####.#####.#.#####.#.###.#.#.#####.#.#.#.#.#.#######.#.#.#.#######.#',\n",
       " '#.#.#.#.#.....#...#.....#.....#.#.....#.#.......#...#.#.#.......#.#.#.#.#.....#.#',\n",
       " '#.#.###.#.###.#.###.#########.#.#######.#.###########.#.#######.###.#.#.#.###.#.#',\n",
       " '#.#.....#.#...#.#.G.#.#...#q..#.#.....#.#.#.#.........#.#.#...#...#.#.#...#.#.#.#',\n",
       " '#.#########.###.#.###.#.#.#.###U#.###.#.#.#.#.#.#######.#.#.#####.#.#.#####.#.#.#',\n",
       " '#.....#.....#...#t..#.#.#.#.....#...#.#.#.#...#.#.#...#.#.#.#.....#.#.......#.#.#',\n",
       " '#####.#.#####.#####.#.#.#.#########.#.#.#.#.###.#.#.#.#.#.#.#.#####.#.#######.#.#',\n",
       " '#.....#.#...#.....#...#.#...........#.#.#.#.#...#...#.#.#.#.#.#.....#.#...#...#.#',\n",
       " '#.#####.#.#.###.#.#####.#.#########.###.#.###.#######.#.#.#Y#.###.#####.#.#.###.#',\n",
       " '#.#.....#.#...#.#.......#.#.....#...#...#...#.#.....#.....#.#...#...#...#.#.....#',\n",
       " '#.#.#.###.###.###########.#.###.#.###.#####.#.#.###.#####.#.###.#.#.#.###.#####.#',\n",
       " '#.#.#.#...#.#.........#...#.#.#.#...#...#...#...#...#...#.#...#.#.#.....#...#...#',\n",
       " '#.#.###.###.#########.#.#.#.#.#.#######.#.###.###.###.#.#####.#.#########.###.###',\n",
       " '#...#...#.........#...#.#.#...#...#...#.#.#.....#.#...#.......#.........#.#...#.#',\n",
       " '###.#.#######.#.###.###.#.###.###.#.#.#.#.#######.#.###########P#######.#.#.###.#',\n",
       " '#...#...R...#.#.........#.#.#.#.#...#...#.....#...#..c....#...#.#f..#...#.#...#.#',\n",
       " '#.#########.#.###########.#.#.#.#############.#.#.#######.#.#.#.#.###.###.###.#.#',\n",
       " '#.#...#...#.#.#...#...#...#.#.....#.....#...#...#.#...#.V.#.#.#...#...#.#d....#.#',\n",
       " '#.#.#.#.#.#.#.#.#.#.#.#.###.#####.#####.#.#######.#.###.###.#####.#.###.#.#####.#',\n",
       " '#.#.#...#.#.#.#.#.#.#.#.........#.#.....#.#...#...#...#...#.......#.#...#...#k..#',\n",
       " '#.#.#####.#.###.#.#.#.###########.#.###.#.#X#.#.#####.###.#########.#.#####.###.#',\n",
       " '#...#.....#.....#...#..n.........e..#...#...#...........#.......J...#...........#',\n",
       " '#################################################################################']"
      ]
     },
     "execution_count": 102,
     "metadata": {},
     "output_type": "execute_result"
    }
   ],
   "source": [
    "[''.join(row) for row in grid]"
   ]
  },
  {
   "cell_type": "code",
   "execution_count": 103,
   "metadata": {},
   "outputs": [],
   "source": [
    "def compute_min_steps(grid):\n",
    "    \"\"\"compute minimum steps.\"\"\"\n",
    "    m, n = len(grid), len(grid[0])\n",
    "    target = 0\n",
    "    robot = None\n",
    "    for r, row in enumerate(grid):\n",
    "        for c, val in enumerate(row):\n",
    "            if val == '@':\n",
    "                assert(robot is None) # make sure there is only one robot\n",
    "                robot = (r, c)\n",
    "            elif val.islower():\n",
    "                target |= (1 << (ord(val) - ord('a')))\n",
    "    r0, c0 = robot\n",
    "    costs = {(r0, c0, 0) : 0}\n",
    "    # state: r, c, state\n",
    "    frontier = [(0, r0, c0, 0)]\n",
    "    processed = set()\n",
    "    def moves(r0, c0, state):\n",
    "        frontier = [(r0, c0)]\n",
    "        levels = {(r0, c0) : 0}\n",
    "        nsteps = 0\n",
    "        while frontier:\n",
    "            next_level = []\n",
    "            for r, c in frontier:\n",
    "                for nr, nc in (r - 1, c), (r + 1, c), (r, c - 1), (r, c + 1):\n",
    "                    if 0 <= nr < len(grid) and 0 <= nc < len(grid[0]) and grid[nr][nc] != '#' and (nr, nc) not in levels:\n",
    "                        if grid[nr][nc].isupper():\n",
    "                            idx = ord(grid[nr][nc]) - ord('A')\n",
    "                            if (state & (1 << idx)) == 0:\n",
    "                                continue\n",
    "                        levels[nr, nc] = nsteps + 1\n",
    "                        if grid[nr][nc].islower():\n",
    "                            idx = ord(grid[nr][nc]) - ord('a')\n",
    "                            if (state & (1 << idx)) == 0:\n",
    "                                yield nsteps + 1, nr, nc, (state | (1 << idx))\n",
    "                                continue\n",
    "                        next_level.append((nr, nc))\n",
    "            nsteps += 1\n",
    "            frontier = next_level\n",
    "            \n",
    "    while frontier:\n",
    "        cost, r, c, state = heapq.heappop(frontier)\n",
    "        if state == target:\n",
    "            return cost\n",
    "        if (r, c, state) in processed:\n",
    "            continue\n",
    "        processed.add((r, c, state))\n",
    "        for c, nr, nc, nstate in moves(r, c, state):\n",
    "            ncost = cost + c\n",
    "            if (nr, nc, nstate) not in costs or costs[nr, nc, nstate] > ncost:\n",
    "                costs[nr, nc, nstate] = ncost\n",
    "                heapq.heappush(frontier, (ncost, nr, nc, nstate))"
   ]
  },
  {
   "cell_type": "code",
   "execution_count": 104,
   "metadata": {},
   "outputs": [
    {
     "data": {
      "text/plain": [
       "4844"
      ]
     },
     "execution_count": 104,
     "metadata": {},
     "output_type": "execute_result"
    }
   ],
   "source": [
    "compute_min_steps(grid)"
   ]
  },
  {
   "cell_type": "code",
   "execution_count": 105,
   "metadata": {},
   "outputs": [],
   "source": [
    "# def compute_min_steps(grid, use_four_robots=False):\n",
    "#     \"\"\"compute minimum steps.\"\"\"\n",
    "#     m, n = len(grid), len(grid[0])\n",
    "#     target = 0\n",
    "#     robot = None\n",
    "#     for r, row in enumerate(grid):\n",
    "#         for c, val in enumerate(row):\n",
    "#             if val == '@':\n",
    "#                 assert(robot is None) # make sure there is only one robot\n",
    "#                 robot = (r, c)\n",
    "#             elif val.islower():\n",
    "#                 target |= (1 << (ord(val) - ord('a')))\n",
    "#     r0, c0 = robot\n",
    "#     robots = []\n",
    "#     if use_four_robots:\n",
    "#         for dr in (-1, 0, 1):\n",
    "#             for dc in (-1, 0, 1):\n",
    "#                 if abs(dr) == 1 and abs(dc) == 1:\n",
    "#                     grid[r0 + dr][c0 + dc] = '@'\n",
    "#                     robots.extend([r0 + dc, c0 + dc])\n",
    "#                 else:\n",
    "#                     grid[r0 + dr][c0 + dc] = '#'\n",
    "#     else:\n",
    "#         robots.extend([r0, c0])\n",
    "#     costs = {(*robots, 0) : 0}\n",
    "#     # state: r, c, state\n",
    "#     frontier = [(0, *robots, 0)]\n",
    "#     processed = set()\n",
    "#     def moves(robots, state):\n",
    "#         frontier = [robots]\n",
    "#         levels = {tuple(robots) : 0}\n",
    "#         nsteps = 0\n",
    "#         n = len(robots) // 2\n",
    "#         while frontier:\n",
    "#             next_level = []\n",
    "#             for robots in frontier:\n",
    "#                 for i in range(n):\n",
    "#                     r, c = robots[i * 2], robots[i * 2 + 1]\n",
    "#                     for nr, nc in (r - 1, c), (r + 1, c), (r, c - 1), (r, c + 1):\n",
    "#                         if 0 <= nr < len(grid) and 0 <= nc < len(grid[0]) and grid[nr][nc] != '#' and (nr, nc) not in levels:\n",
    "#                             if grid[nr][nc].isupper():\n",
    "#                                 idx = ord(grid[nr][nc]) - ord('A')\n",
    "#                                 if (state & (1 << idx)) == 0:\n",
    "#                                     continue\n",
    "#                             new_robots = robots[:]\n",
    "#                             new_robots[i * 2] = nr\n",
    "#                             new_robots[i * 2 + 1] = nc\n",
    "#                             levels[tuple(robots)] = nsteps + 1\n",
    "#                             if grid[nr][nc].islower():\n",
    "#                                 idx = ord(grid[nr][nc]) - ord('a')\n",
    "#                                 if (state & (1 << idx)) == 0:\n",
    "#                                     yield (nsteps + 1, *new_robots, (state | (1 << idx)))\n",
    "#                                     continue\n",
    "#                             next_level.append(new_robots)\n",
    "#             nsteps += 1\n",
    "#             frontier = next_level\n",
    "#     while frontier:\n",
    "#         cost, *robots, state = heapq.heappop(frontier)\n",
    "#         if state == target:\n",
    "#             return cost\n",
    "#         if (*robots, state) in processed:\n",
    "#             continue\n",
    "#         processed.add((*robots, state))\n",
    "#         for c, *new_robots, nstate in moves(robots, state):\n",
    "#             ncost = cost + c\n",
    "#             if (*new_robots, nstate) not in costs or costs[(*new_robots, nstate)] > ncost:\n",
    "#                 costs[(*new_robots, nstate)] = ncost\n",
    "#                 heapq.heappush(frontier, (ncost, *new_robots, nstate))"
   ]
  },
  {
   "cell_type": "code",
   "execution_count": 106,
   "metadata": {},
   "outputs": [],
   "source": [
    "# with open(input_path(18), 'r') as f:\n",
    "#     grid = [list(line.strip()) for line in f if line.strip()]"
   ]
  },
  {
   "cell_type": "code",
   "execution_count": 107,
   "metadata": {},
   "outputs": [],
   "source": [
    "# compute_min_steps(grid, True)"
   ]
  },
  {
   "cell_type": "markdown",
   "metadata": {},
   "source": [
    "# [Day 19: Tractor Beam](https://adventofcode.com/2019/day/19)"
   ]
  },
  {
   "cell_type": "code",
   "execution_count": 108,
   "metadata": {},
   "outputs": [],
   "source": [
    "with open(input_path(19), 'r') as f:\n",
    "    code19 = list(get_ints(f))"
   ]
  },
  {
   "cell_type": "code",
   "execution_count": 109,
   "metadata": {},
   "outputs": [],
   "source": [
    "def compute_beam(code):\n",
    "    \"\"\"compute tractor beam.\"\"\"\n",
    "    n = 50\n",
    "    nhits = 0\n",
    "    grid = []\n",
    "    for y in range(n):\n",
    "        row = []\n",
    "        for x in range(n):\n",
    "            program = Program(code, Input([x, y]))\n",
    "            hit = next(program.genor, 0)\n",
    "            assert(hit in (0, 1))\n",
    "            nhits += hit\n",
    "            if hit > 0:\n",
    "                row.append('#')\n",
    "            elif hit == 0:\n",
    "                row.append('.')\n",
    "        grid.append(''.join(row))\n",
    "    return nhits, grid"
   ]
  },
  {
   "cell_type": "code",
   "execution_count": 110,
   "metadata": {},
   "outputs": [
    {
     "name": "stdout",
     "output_type": "stream",
     "text": [
      "131\n"
     ]
    }
   ],
   "source": [
    "nhits, grid0 = compute_beam(code19)\n",
    "print(nhits)"
   ]
  },
  {
   "cell_type": "code",
   "execution_count": 111,
   "metadata": {},
   "outputs": [
    {
     "data": {
      "text/plain": [
       "['#.................................................',\n",
       " '..................................................',\n",
       " '...#..............................................',\n",
       " '..................................................',\n",
       " '......#...........................................',\n",
       " '.......#..........................................',\n",
       " '.........#........................................',\n",
       " '..........##......................................',\n",
       " '...........##.....................................',\n",
       " '.............##...................................',\n",
       " '..............##..................................',\n",
       " '...............###................................',\n",
       " '.................###..............................',\n",
       " '..................###.............................',\n",
       " '....................###...........................',\n",
       " '.....................###..........................',\n",
       " '......................####........................',\n",
       " '........................###.......................',\n",
       " '.........................####.....................',\n",
       " '..........................#####...................',\n",
       " '............................####..................',\n",
       " '.............................#####................',\n",
       " '..............................#####...............',\n",
       " '................................#####.............',\n",
       " '.................................######...........',\n",
       " '..................................######..........',\n",
       " '....................................######........',\n",
       " '.....................................######.......',\n",
       " '.......................................######.....',\n",
       " '........................................#######...',\n",
       " '.........................................#######..',\n",
       " '...........................................#######',\n",
       " '............................................######',\n",
       " '.............................................#####',\n",
       " '...............................................###',\n",
       " '................................................##',\n",
       " '.................................................#',\n",
       " '..................................................',\n",
       " '..................................................',\n",
       " '..................................................',\n",
       " '..................................................',\n",
       " '..................................................',\n",
       " '..................................................',\n",
       " '..................................................',\n",
       " '..................................................',\n",
       " '..................................................',\n",
       " '..................................................',\n",
       " '..................................................',\n",
       " '..................................................',\n",
       " '..................................................']"
      ]
     },
     "execution_count": 111,
     "metadata": {},
     "output_type": "execute_result"
    }
   ],
   "source": [
    "grid0"
   ]
  },
  {
   "cell_type": "code",
   "execution_count": 112,
   "metadata": {},
   "outputs": [
    {
     "data": {
      "text/plain": [
       "131"
      ]
     },
     "execution_count": 112,
     "metadata": {},
     "output_type": "execute_result"
    }
   ],
   "source": [
    "nhits"
   ]
  },
  {
   "cell_type": "code",
   "execution_count": 113,
   "metadata": {},
   "outputs": [
    {
     "name": "stdout",
     "output_type": "stream",
     "text": [
      "False\n"
     ]
    }
   ],
   "source": [
    "print(all(r0 == r for r0, r in zip(grid0, grid)))"
   ]
  },
  {
   "cell_type": "code",
   "execution_count": 114,
   "metadata": {},
   "outputs": [],
   "source": [
    "def check(point):\n",
    "    program = Program(code19, Input(list(point)))\n",
    "    return next(program.genor)"
   ]
  },
  {
   "cell_type": "code",
   "execution_count": 115,
   "metadata": {},
   "outputs": [
    {
     "name": "stdout",
     "output_type": "stream",
     "text": [
      "Closest point to fit santa's ship (1523, 1022): 15231022\n"
     ]
    }
   ],
   "source": [
    "prog = 0\n",
    "x = box = 100\n",
    "for y in range(box, 99999):\n",
    "    while check((x, y)) == 0:\n",
    "        x += 1\n",
    "    if check((x + box - 1, y - box + 1)) == 1:\n",
    "        break\n",
    "\n",
    "print(f\"Closest point to fit santa's ship {(x, y-99)}: {x * 10000 + y-99}\")"
   ]
  },
  {
   "cell_type": "markdown",
   "metadata": {},
   "source": [
    "# [Day 20: Donut Maze](https://adventofcode.com/2019/day/20)"
   ]
  },
  {
   "cell_type": "code",
   "execution_count": 116,
   "metadata": {},
   "outputs": [],
   "source": [
    "with open(input_path(20), 'r') as f:\n",
    "    grid = [line.strip('\\n') for line in f]"
   ]
  },
  {
   "cell_type": "code",
   "execution_count": 117,
   "metadata": {},
   "outputs": [],
   "source": [
    "def shortest_path_in_donut_maze(grid):\n",
    "    \"\"\"find shortest path in donut maze.\"\"\"\n",
    "    def build_graph(grid):\n",
    "        m, n = len(grid), len(grid[0])\n",
    "        ports = collections.defaultdict(list)\n",
    "        for i, row in enumerate(grid):\n",
    "            for j, val in enumerate(row):\n",
    "                if val == '.':\n",
    "                    for di, dj in (-1, 0), (1, 0), (0, -1), (0, 1):\n",
    "                        ni, nj = i + di, j + dj\n",
    "                        if grid[ni][nj].isalpha():\n",
    "                            is_portal = True\n",
    "                            A = grid[ni][nj]\n",
    "                            B = grid[ni + di][nj + dj]\n",
    "                            if A >= B:\n",
    "                                A, B = B, A\n",
    "                            ports[A + B].append((i, j))\n",
    "                            break\n",
    "        # build edge for same ports\n",
    "        nodes = {}\n",
    "        pos_to_node = {}\n",
    "        graph = collections.defaultdict(dict)\n",
    "        for key, ps in ports.items():\n",
    "            assert(len(ps) in (1, 2))\n",
    "            if len(ps) == 2:\n",
    "                port1 = key + '1'\n",
    "                port2 = key + '2'\n",
    "                nodes[port1] = ps[0]\n",
    "                nodes[port2] = ps[1]\n",
    "                graph[port1][port2] = 1\n",
    "                graph[port2][port1] = 1\n",
    "                pos_to_node[ps[0]] = port1\n",
    "                pos_to_node[ps[1]] = port2\n",
    "            else:\n",
    "                nodes[key] = ps[0]\n",
    "                pos_to_node[ps[0]] = key\n",
    "        # all pairs of shortest path, on each node run a BFS\n",
    "        def BFS(start):\n",
    "            frontier = [nodes[start]]\n",
    "            levels = {nodes[start] : 0}\n",
    "            nsteps = 0\n",
    "            while frontier:\n",
    "                next_level = []\n",
    "                for i, j in frontier:\n",
    "                    for ni, nj in (i - 1, j), (i + 1, j), (i, j - 1), (i, j + 1):\n",
    "                        if grid[ni][nj] == '.' and (ni, nj) not in levels:\n",
    "                            levels[ni, nj] = nsteps + 1\n",
    "                            if (ni, nj) in pos_to_node:\n",
    "                                port = pos_to_node[(ni, nj)]\n",
    "                                graph[start][port] = nsteps + 1\n",
    "                            next_level.append((ni, nj))\n",
    "                nsteps += 1\n",
    "                frontier = next_level\n",
    "        for node in nodes:\n",
    "            BFS(node)\n",
    "        return graph\n",
    "    def shortest_path(graph, start, target):\n",
    "        \"\"\"shortest path from start to target.\"\"\"\n",
    "        \n",
    "        assert(start in graph and target in graph)\n",
    "        costs = {start : 0}\n",
    "        frontier = [(0, start)]\n",
    "        processed = set()\n",
    "        while frontier:\n",
    "            cost, u = heapq.heappop(frontier)\n",
    "            if u == target:\n",
    "                return cost\n",
    "            if u in processed:\n",
    "                continue\n",
    "            processed.add(u)\n",
    "            for v, w in graph[u].items():\n",
    "                if v not in costs or cost + w < costs[v]:\n",
    "                    costs[v] = cost + w\n",
    "                    heapq.heappush(frontier, (cost + w, v))\n",
    "    graph = build_graph(grid)\n",
    "    return shortest_path(graph, 'AA', 'ZZ') "
   ]
  },
  {
   "cell_type": "code",
   "execution_count": 118,
   "metadata": {},
   "outputs": [
    {
     "data": {
      "text/plain": [
       "676"
      ]
     },
     "execution_count": 118,
     "metadata": {},
     "output_type": "execute_result"
    }
   ],
   "source": [
    "shortest_path_in_donut_maze(grid)"
   ]
  },
  {
   "cell_type": "markdown",
   "metadata": {},
   "source": [
    "# [Day 24: Planet of Discord](https://adventofcode.com/2019/day/24)"
   ]
  },
  {
   "cell_type": "code",
   "execution_count": 149,
   "metadata": {},
   "outputs": [],
   "source": [
    "with open(input_path(24), 'r') as f:\n",
    "    grid24 = [list(line.strip()) for line in f]"
   ]
  },
  {
   "cell_type": "code",
   "execution_count": 150,
   "metadata": {},
   "outputs": [
    {
     "data": {
      "text/plain": [
       "[['#', '.', '#', '.', '.'],\n",
       " ['.', '#', '.', '#', '.'],\n",
       " ['#', '.', '.', '.', '#'],\n",
       " ['.', '#', '.', '.', '#'],\n",
       " ['#', '#', '.', '#', '.']]"
      ]
     },
     "execution_count": 150,
     "metadata": {},
     "output_type": "execute_result"
    }
   ],
   "source": [
    "grid24"
   ]
  },
  {
   "cell_type": "code",
   "execution_count": 143,
   "metadata": {},
   "outputs": [],
   "source": [
    "def evolve_state(state):\n",
    "    \"\"\"evolve state to find the first repeat state and compute biodiversity rate.\"\"\"\n",
    "    import copy\n",
    "    def count_neighbor4(r, c, state):\n",
    "        return sum(state[nr][nc] == '#' for nr, nc in ((r - 1, c), (r + 1, c), (r, c - 1), (r, c + 1)) \n",
    "                   if 0 <= nr < len(state) and 0 <= nc < len(state[0]))\n",
    "    def hash_code(state):\n",
    "        return ''.join(itertools.chain(*state))\n",
    "    def update(state):\n",
    "        new_state = copy.deepcopy(state)\n",
    "        for i, row in enumerate(new_state):\n",
    "            for j, val in enumerate(row):\n",
    "                if val == '#' and count_neighbor4(i, j, state) != 1:\n",
    "                    new_state[i][j] = '.'\n",
    "                if val == '.' and 1 <= count_neighbor4(i, j, state) <= 2:\n",
    "                    new_state[i][j] = '#'\n",
    "        return new_state\n",
    "    seen = set()\n",
    "    while True:\n",
    "        code = hash_code(state)\n",
    "        if code in seen:\n",
    "            return state\n",
    "        seen.add(code)\n",
    "        state = update(state)"
   ]
  },
  {
   "cell_type": "code",
   "execution_count": 146,
   "metadata": {},
   "outputs": [],
   "source": [
    "def compute_biodiversity_rate(state):\n",
    "    n = len(state[0])\n",
    "    return sum((1 << (i * n + j)) for i, row in enumerate(state) \n",
    "                for j, val in enumerate(row)\n",
    "                if val == '#')"
   ]
  },
  {
   "cell_type": "code",
   "execution_count": 151,
   "metadata": {},
   "outputs": [
    {
     "data": {
      "text/plain": [
       "25719471"
      ]
     },
     "execution_count": 151,
     "metadata": {},
     "output_type": "execute_result"
    }
   ],
   "source": [
    "rstate = evolve_state(grid24)\n",
    "compute_biodiversity_rate(rstate)"
   ]
  },
  {
   "cell_type": "code",
   "execution_count": null,
   "metadata": {},
   "outputs": [],
   "source": []
  }
 ],
 "metadata": {
  "kernelspec": {
   "display_name": "Python 3",
   "language": "python",
   "name": "python3"
  },
  "language_info": {
   "codemirror_mode": {
    "name": "ipython",
    "version": 3
   },
   "file_extension": ".py",
   "mimetype": "text/x-python",
   "name": "python",
   "nbconvert_exporter": "python",
   "pygments_lexer": "ipython3",
   "version": "3.7.3"
  }
 },
 "nbformat": 4,
 "nbformat_minor": 2
}
