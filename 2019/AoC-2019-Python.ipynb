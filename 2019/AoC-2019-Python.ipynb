{
 "cells": [
  {
   "cell_type": "code",
   "execution_count": 1,
   "metadata": {},
   "outputs": [],
   "source": [
    "%matplotlib inline\n",
    "import matplotlib.pyplot as plt\n",
    "\n",
    "import os\n",
    "import re\n",
    "import numpy as np\n",
    "import random\n",
    "import string\n",
    "import collections, itertools\n",
    "from collections import Counter, defaultdict, namedtuple, deque, OrderedDict\n",
    "from functools   import lru_cache, reduce\n",
    "from statistics  import mean, median, mode, stdev, variance\n",
    "from itertools   import (permutations, combinations, groupby, \n",
    "                         islice, repeat,cycle, chain, product, zip_longest, takewhile, dropwhile, count as count_from)\n",
    "from heapq       import heappush, heappop, heapify\n",
    "from operator    import iand, ior, ilshift, irshift\n",
    "from bisect      import bisect_left, bisect_right"
   ]
  },
  {
   "cell_type": "markdown",
   "metadata": {},
   "source": [
    "# Day 1: The Tyranny of the Rocket Equation"
   ]
  },
  {
   "cell_type": "code",
   "execution_count": 3,
   "metadata": {},
   "outputs": [
    {
     "name": "stdout",
     "output_type": "stream",
     "text": [
      "3160932\n"
     ]
    }
   ],
   "source": [
    "fuel = 0\n",
    "with open('inputs/day1.txt', 'r') as f:\n",
    "    for line in f:\n",
    "        mass = int(line)\n",
    "        fuel += mass // 3 - 2\n",
    "print(fuel)"
   ]
  },
  {
   "cell_type": "code",
   "execution_count": 5,
   "metadata": {},
   "outputs": [
    {
     "name": "stdout",
     "output_type": "stream",
     "text": [
      "4738549\n"
     ]
    }
   ],
   "source": [
    "def compute_fuel(mass):\n",
    "    ans = 0\n",
    "    while True:\n",
    "        mass = mass // 3 - 2\n",
    "        if mass <= 0:\n",
    "            break\n",
    "        ans += mass\n",
    "    return ans\n",
    "assert(compute_fuel(100756) == 50346)\n",
    "assert(compute_fuel(14) == 2)\n",
    "assert(compute_fuel(1969) == 966)\n",
    "fuel = 0\n",
    "with open('inputs/day1.txt', 'r') as f:\n",
    "    for line in f:\n",
    "        mass = int(line)\n",
    "        fuel += compute_fuel(mass)\n",
    "print(fuel)"
   ]
  },
  {
   "cell_type": "markdown",
   "metadata": {},
   "source": [
    "# Day 2: 1202 Program Alarm"
   ]
  },
  {
   "cell_type": "code",
   "execution_count": 11,
   "metadata": {},
   "outputs": [],
   "source": [
    "def parse_code(code):\n",
    "    import operator\n",
    "    n = len(code)\n",
    "    for i in range(0, n, 4):\n",
    "        opcode = code[i]\n",
    "        if opcode == 99:\n",
    "            break\n",
    "        else:\n",
    "            left_idx = code[i + 1]\n",
    "            right_idx = code[i + 2]\n",
    "            r_idx = code[i + 3]\n",
    "            op = operator.add if opcode == 1 else operator.mul\n",
    "            code[r_idx] = op(code[left_idx], code[right_idx])\n",
    "    return code\n",
    "assert(parse_code([1,0,0,0,99]) == [2,0,0,0,99])\n",
    "assert(parse_code([2,3,0,3,99]) == [2,3,0,6,99])\n",
    "assert(parse_code([2,4,4,5,99,0]) == [2,4,4,5,99,9801])\n",
    "assert(parse_code([1,1,1,4,99,5,6,0,99]) == [30,1,1,4,2,5,6,0,99])"
   ]
  },
  {
   "cell_type": "code",
   "execution_count": 15,
   "metadata": {},
   "outputs": [
    {
     "name": "stdout",
     "output_type": "stream",
     "text": [
      "2890696\n"
     ]
    }
   ],
   "source": [
    "with open('inputs/day2.txt', 'r') as f:\n",
    "    memory = list(map(int, f.read().split(',')))\n",
    "code = memory[:]\n",
    "code[1] = 12\n",
    "code[2] = 2\n",
    "print(parse_code(code)[0])"
   ]
  },
  {
   "cell_type": "code",
   "execution_count": 20,
   "metadata": {},
   "outputs": [
    {
     "name": "stdout",
     "output_type": "stream",
     "text": [
      "8226\n"
     ]
    }
   ],
   "source": [
    "def choose_noun_and_verb(target, memory):\n",
    "    n = len(memory)\n",
    "    for noun in range(n):\n",
    "        for verb in range(n):\n",
    "            code = memory[:]\n",
    "            code[1] = noun\n",
    "            code[2] = verb\n",
    "            if parse_code(code)[0] == target:\n",
    "                return noun, verb\n",
    "    return None\n",
    "target = 19690720\n",
    "noun, verb = choose_noun_and_verb(target, memory)\n",
    "print(100 * noun + verb)"
   ]
  },
  {
   "cell_type": "markdown",
   "metadata": {},
   "source": [
    "# Day 3: Crossed Wires"
   ]
  },
  {
   "cell_type": "code",
   "execution_count": null,
   "metadata": {},
   "outputs": [],
   "source": []
  }
 ],
 "metadata": {
  "kernelspec": {
   "display_name": "Python 3",
   "language": "python",
   "name": "python3"
  },
  "language_info": {
   "codemirror_mode": {
    "name": "ipython",
    "version": 3
   },
   "file_extension": ".py",
   "mimetype": "text/x-python",
   "name": "python",
   "nbconvert_exporter": "python",
   "pygments_lexer": "ipython3",
   "version": "3.7.3"
  }
 },
 "nbformat": 4,
 "nbformat_minor": 2
}
