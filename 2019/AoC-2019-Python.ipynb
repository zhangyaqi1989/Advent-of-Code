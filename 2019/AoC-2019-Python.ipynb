{
 "cells": [
  {
   "cell_type": "code",
   "execution_count": 1,
   "metadata": {},
   "outputs": [],
   "source": [
    "%matplotlib inline\n",
    "import matplotlib.pyplot as plt\n",
    "\n",
    "import os\n",
    "import operator\n",
    "import re\n",
    "import numpy as np\n",
    "import random\n",
    "import string\n",
    "import collections, itertools\n",
    "from collections import Counter, defaultdict, namedtuple, deque, OrderedDict\n",
    "from functools   import lru_cache, reduce\n",
    "from statistics  import mean, median, mode, stdev, variance\n",
    "from itertools   import (permutations, combinations, groupby, repeat,\n",
    "                         islice, repeat,cycle, chain, product, zip_longest, takewhile, dropwhile, count as count_from)\n",
    "from heapq       import heappush, heappop, heapify\n",
    "from operator    import iand, ior, ilshift, irshift\n",
    "from bisect      import bisect_left, bisect_right"
   ]
  },
  {
   "cell_type": "code",
   "execution_count": 2,
   "metadata": {},
   "outputs": [],
   "source": [
    "import itertools"
   ]
  },
  {
   "cell_type": "code",
   "execution_count": 3,
   "metadata": {},
   "outputs": [],
   "source": [
    "input_path = lambda day : \"inputs/day{}.txt\".format(day)\n",
    "input_path_sample = lambda day : \"inputs/day{}-sample.txt\".format(day)"
   ]
  },
  {
   "cell_type": "markdown",
   "metadata": {},
   "source": [
    "# Day 1: The Tyranny of the Rocket Equation"
   ]
  },
  {
   "cell_type": "code",
   "execution_count": 4,
   "metadata": {},
   "outputs": [
    {
     "name": "stdout",
     "output_type": "stream",
     "text": [
      "3160932\n"
     ]
    }
   ],
   "source": [
    "fuel = 0\n",
    "with open(input_path(1), 'r') as f:\n",
    "    for line in f:\n",
    "        mass = int(line)\n",
    "        fuel += mass // 3 - 2\n",
    "print(fuel)"
   ]
  },
  {
   "cell_type": "code",
   "execution_count": 5,
   "metadata": {},
   "outputs": [
    {
     "name": "stdout",
     "output_type": "stream",
     "text": [
      "4738549\n"
     ]
    }
   ],
   "source": [
    "def compute_fuel(mass):\n",
    "    ans = 0\n",
    "    while True:\n",
    "        mass = mass // 3 - 2\n",
    "        if mass <= 0:\n",
    "            break\n",
    "        ans += mass\n",
    "    return ans\n",
    "assert(compute_fuel(100756) == 50346)\n",
    "assert(compute_fuel(14) == 2)\n",
    "assert(compute_fuel(1969) == 966)\n",
    "fuel = 0\n",
    "with open(input_path(1), 'r') as f:\n",
    "    for line in f:\n",
    "        mass = int(line)\n",
    "        fuel += compute_fuel(mass)\n",
    "print(fuel)"
   ]
  },
  {
   "cell_type": "markdown",
   "metadata": {},
   "source": [
    "# Day 2: 1202 Program Alarm"
   ]
  },
  {
   "cell_type": "code",
   "execution_count": 6,
   "metadata": {},
   "outputs": [],
   "source": [
    "def parse_code(code):\n",
    "    import operator\n",
    "    n = len(code)\n",
    "    for i in range(0, n, 4):\n",
    "        opcode = code[i]\n",
    "        if opcode == 99:\n",
    "            break\n",
    "        else:\n",
    "            left_idx = code[i + 1]\n",
    "            right_idx = code[i + 2]\n",
    "            r_idx = code[i + 3]\n",
    "            op = operator.add if opcode == 1 else operator.mul\n",
    "            code[r_idx] = op(code[left_idx], code[right_idx])\n",
    "    return code\n",
    "assert(parse_code([1,0,0,0,99]) == [2,0,0,0,99])\n",
    "assert(parse_code([2,3,0,3,99]) == [2,3,0,6,99])\n",
    "assert(parse_code([2,4,4,5,99,0]) == [2,4,4,5,99,9801])\n",
    "assert(parse_code([1,1,1,4,99,5,6,0,99]) == [30,1,1,4,2,5,6,0,99])"
   ]
  },
  {
   "cell_type": "code",
   "execution_count": 7,
   "metadata": {},
   "outputs": [
    {
     "name": "stdout",
     "output_type": "stream",
     "text": [
      "2890696\n"
     ]
    }
   ],
   "source": [
    "with open(input_path(2), 'r') as f:\n",
    "    memory = list(map(int, f.read().split(',')))\n",
    "code = memory[:]\n",
    "code[1] = 12\n",
    "code[2] = 2\n",
    "print(parse_code(code)[0])"
   ]
  },
  {
   "cell_type": "code",
   "execution_count": 8,
   "metadata": {},
   "outputs": [
    {
     "name": "stdout",
     "output_type": "stream",
     "text": [
      "8226\n"
     ]
    }
   ],
   "source": [
    "def choose_noun_and_verb(target, memory):\n",
    "    n = len(memory)\n",
    "    for noun in range(n):\n",
    "        for verb in range(n):\n",
    "            code = memory[:]\n",
    "            code[1] = noun\n",
    "            code[2] = verb\n",
    "            if parse_code(code)[0] == target:\n",
    "                return noun, verb\n",
    "    return None\n",
    "target = 19690720\n",
    "noun, verb = choose_noun_and_verb(target, memory)\n",
    "print(100 * noun + verb)"
   ]
  },
  {
   "cell_type": "markdown",
   "metadata": {},
   "source": [
    "# Day 3: Crossed Wires"
   ]
  },
  {
   "cell_type": "code",
   "execution_count": 9,
   "metadata": {},
   "outputs": [],
   "source": [
    "with open(input_path(3), 'r') as f:\n",
    "    paths = [tuple(token for token in line.split(',')) for line in f]\n",
    "path1, path2 = paths"
   ]
  },
  {
   "cell_type": "code",
   "execution_count": 10,
   "metadata": {},
   "outputs": [],
   "source": [
    "def compute_wire(path):\n",
    "    moves = dict(zip(\"LRUD\", ((-1, 0), (1, 0), (0, 1), (0, -1))))\n",
    "    x, y = 0, 0\n",
    "    wire = {}\n",
    "    steps = 0\n",
    "    for item in path:\n",
    "        d, cnt = item[0], int(item[1:])\n",
    "        dx, dy = moves[d]\n",
    "        for i in range(cnt):\n",
    "            if (x, y) not in wire:\n",
    "                wire[x, y] = steps\n",
    "            x, y = x + dx, y + dy\n",
    "            steps += 1\n",
    "    return wire"
   ]
  },
  {
   "cell_type": "code",
   "execution_count": 11,
   "metadata": {},
   "outputs": [],
   "source": [
    "wire1, wire2 = compute_wire(path1), compute_wire(path2)"
   ]
  },
  {
   "cell_type": "code",
   "execution_count": 12,
   "metadata": {},
   "outputs": [
    {
     "name": "stdout",
     "output_type": "stream",
     "text": [
      "232\n"
     ]
    }
   ],
   "source": [
    "print(min(abs(x) + abs(y) for x, y in wire1.keys() & wire2.keys() if x != 0 and y != 0))"
   ]
  },
  {
   "cell_type": "code",
   "execution_count": 13,
   "metadata": {},
   "outputs": [
    {
     "name": "stdout",
     "output_type": "stream",
     "text": [
      "6084\n"
     ]
    }
   ],
   "source": [
    "print(min(wire1[key] + wire2[key] for key in wire1.keys() & wire2.keys() if key != (0, 0)))"
   ]
  },
  {
   "cell_type": "markdown",
   "metadata": {},
   "source": [
    "# Day 4: Secure Container"
   ]
  },
  {
   "cell_type": "code",
   "execution_count": 14,
   "metadata": {},
   "outputs": [],
   "source": [
    "lo = 245182\n",
    "hi = 790572\n",
    "def valid_passwd(pw):\n",
    "    pre = 10\n",
    "    has_double = False\n",
    "    while pw:\n",
    "        d = pw % 10\n",
    "        if pre != 10:\n",
    "            if pre == d:\n",
    "                has_double = True\n",
    "            if pre < d:\n",
    "                return False\n",
    "        pre = d\n",
    "        pw //= 10\n",
    "    return has_double"
   ]
  },
  {
   "cell_type": "code",
   "execution_count": 15,
   "metadata": {},
   "outputs": [
    {
     "name": "stdout",
     "output_type": "stream",
     "text": [
      "1099\n"
     ]
    }
   ],
   "source": [
    "print(sum(valid_passwd(pw) for pw in range(lo, hi + 1)))"
   ]
  },
  {
   "cell_type": "code",
   "execution_count": 16,
   "metadata": {},
   "outputs": [],
   "source": [
    "def valid_passwd(pw):\n",
    "    pw_str = str(pw)\n",
    "    pre = None\n",
    "    has_double = False\n",
    "    for ch, g in itertools.groupby(pw_str):\n",
    "        cnt = len(list(g))\n",
    "        if pre and ch < pre:\n",
    "            return False\n",
    "        if cnt == 2:\n",
    "            has_double = True\n",
    "        pre = ch\n",
    "    return has_double"
   ]
  },
  {
   "cell_type": "code",
   "execution_count": 17,
   "metadata": {},
   "outputs": [
    {
     "name": "stdout",
     "output_type": "stream",
     "text": [
      "710\n"
     ]
    }
   ],
   "source": [
    "print(sum(valid_passwd(pw) for pw in range(lo, hi + 1)))"
   ]
  },
  {
   "cell_type": "markdown",
   "metadata": {},
   "source": [
    "# Day 5: Sunny with a Chance of Asteroids"
   ]
  },
  {
   "cell_type": "code",
   "execution_count": 18,
   "metadata": {},
   "outputs": [],
   "source": [
    "with open(input_path(5), 'r') as f:\n",
    "    code5 = list(map(int, f.read().split(',')))"
   ]
  },
  {
   "cell_type": "code",
   "execution_count": 88,
   "metadata": {},
   "outputs": [],
   "source": [
    "class Program:\n",
    "    def __init__(self, code, inputs):\n",
    "        self.code = code[:]\n",
    "        self.inputs = inputs\n",
    "        self.relative_base = 0\n",
    "        self.genor = self.run()\n",
    "    \n",
    "    def run(self):\n",
    "        code = collections.defaultdict(int)\n",
    "        for j, c in enumerate(self.code):\n",
    "            code[j] = c\n",
    "        n = len(self.code)\n",
    "        i = 0\n",
    "        def get(para, mode):\n",
    "            if mode == 2:\n",
    "                para += self.relative_base\n",
    "                mode = 0\n",
    "            return code[para] if mode == 0 else para\n",
    "        while True:\n",
    "            assert(code[i] >= 0)\n",
    "            instruct = \"{:05d}\".format(code[i])\n",
    "            opcode = int(instruct[-2:])\n",
    "            left_mode = int(instruct[2])\n",
    "            right_mode = int(instruct[1])\n",
    "            r_mode = int(instruct[0])\n",
    "            assert(r_mode == 0)\n",
    "            if opcode == 99:\n",
    "                break\n",
    "            elif opcode == 3:\n",
    "                code[code[i + 1]] = self.inputs.popleft()\n",
    "                i += 2\n",
    "            elif opcode == 4:\n",
    "                out = get(code[i + 1], left_mode)\n",
    "                i += 2\n",
    "#                 print(out)\n",
    "                yield out\n",
    "            elif opcode == 1 or opcode == 2:\n",
    "                op = operator.mul if opcode == 2 else operator.add\n",
    "                val = op(get(code[i + 1], left_mode), get(code[i + 2], right_mode))\n",
    "                code[code[i + 3]] = val\n",
    "                i += 4\n",
    "            elif opcode == 5:\n",
    "                first_para = get(code[i + 1], left_mode)\n",
    "                if first_para != 0:\n",
    "                    i = get(code[i + 2], right_mode)\n",
    "                else:\n",
    "                    i += 3\n",
    "            elif opcode == 6:\n",
    "                first_para = get(code[i + 1], left_mode)\n",
    "                if first_para == 0:\n",
    "                    i = get(code[i + 2], right_mode)\n",
    "                else:\n",
    "                    i += 3\n",
    "            elif opcode == 7:\n",
    "                if get(code[i + 1], left_mode) < get(code[i + 2], right_mode):\n",
    "                    code[code[i + 3]] = 1\n",
    "                else:\n",
    "                    code[code[i + 3]] = 0\n",
    "                i += 4\n",
    "            elif opcode == 8:\n",
    "                if get(code[i + 1], left_mode) == get(code[i + 2], right_mode):\n",
    "                    code[code[i + 3]] = 1\n",
    "                else:\n",
    "                    code[code[i + 3]] = 0\n",
    "                i += 4\n",
    "            elif opcode == 9:\n",
    "                self.relative_base += get(code[i + 1], left_mode)\n",
    "                i += 2\n",
    "            else:\n",
    "                assert False, \"Unkown opcode {}\".format(opcode)"
   ]
  },
  {
   "cell_type": "code",
   "execution_count": 89,
   "metadata": {},
   "outputs": [
    {
     "name": "stdout",
     "output_type": "stream",
     "text": [
      "0\n"
     ]
    },
    {
     "data": {
      "text/plain": [
       "[0, 0, 0, 0, 0, 0, 0, 0, 0, 6731945]"
      ]
     },
     "execution_count": 89,
     "metadata": {},
     "output_type": "execute_result"
    }
   ],
   "source": [
    "list(Program(code5, deque([1])).genor)"
   ]
  },
  {
   "cell_type": "code",
   "execution_count": 86,
   "metadata": {},
   "outputs": [],
   "source": [
    "test_in = [3,21,1008,21,8,20,1005,20,22,107,8,21,20,1006,20,31,\n",
    "1106,0,36,98,0,0,1002,21,125,20,4,20,1105,1,46,104,\n",
    "999,1105,1,46,1101,1000,1,20,4,20,1105,1,46,98,99]\n",
    "assert(list(Program(test_in, deque([7])).genor)[-1] == 999)"
   ]
  },
  {
   "cell_type": "code",
   "execution_count": 87,
   "metadata": {},
   "outputs": [
    {
     "data": {
      "text/plain": [
       "9571668"
      ]
     },
     "execution_count": 87,
     "metadata": {},
     "output_type": "execute_result"
    }
   ],
   "source": [
    "list(Program(code5, deque([5])).genor)[-1]"
   ]
  },
  {
   "cell_type": "markdown",
   "metadata": {},
   "source": [
    "# Day 6: Universal Orbit Map"
   ]
  },
  {
   "cell_type": "code",
   "execution_count": 23,
   "metadata": {},
   "outputs": [],
   "source": [
    "def count_orbits(infile):\n",
    "    import collections\n",
    "    tree = collections.defaultdict(list)\n",
    "    with open(infile, 'r') as f:\n",
    "        for line in f:\n",
    "            u, v = line.strip().split(')')\n",
    "            tree[u].append(v)\n",
    "    norbits = 0\n",
    "    def dfs(node, depth):\n",
    "        nonlocal norbits\n",
    "        norbits += depth\n",
    "        for child in tree[node]:\n",
    "            dfs(child, depth + 1)\n",
    "    dfs('COM', 0)\n",
    "    return norbits"
   ]
  },
  {
   "cell_type": "code",
   "execution_count": 24,
   "metadata": {},
   "outputs": [],
   "source": [
    "# print(count_orbits(input_path_sample(6)))\n",
    "assert(count_orbits(input_path_sample(6)) == 42)"
   ]
  },
  {
   "cell_type": "code",
   "execution_count": 25,
   "metadata": {},
   "outputs": [
    {
     "name": "stdout",
     "output_type": "stream",
     "text": [
      "301100\n"
     ]
    }
   ],
   "source": [
    "print(count_orbits(input_path(6)))"
   ]
  },
  {
   "cell_type": "code",
   "execution_count": 26,
   "metadata": {},
   "outputs": [],
   "source": [
    "def find_path(infile, target=\"SAN\"):\n",
    "    import collections\n",
    "    tree = collections.defaultdict(list)\n",
    "    with open(infile, 'r') as f:\n",
    "        for line in f:\n",
    "            u, v = line.strip().split(')')\n",
    "            tree[u].append(v)\n",
    "            tree[v].append(u)\n",
    "    frontier = [(\"YOU\", None, 0)]\n",
    "    while frontier:\n",
    "        node, parent, depth = frontier.pop()\n",
    "        if node == target:\n",
    "            return depth - 2\n",
    "        for nei in tree[node]:\n",
    "            if nei != parent:\n",
    "                frontier.append((nei, node, depth + 1))"
   ]
  },
  {
   "cell_type": "code",
   "execution_count": 27,
   "metadata": {},
   "outputs": [
    {
     "name": "stdout",
     "output_type": "stream",
     "text": [
      "547\n"
     ]
    }
   ],
   "source": [
    "print(find_path(input_path(6)))"
   ]
  },
  {
   "cell_type": "markdown",
   "metadata": {},
   "source": [
    "# Day 7: Amplification Circuit"
   ]
  },
  {
   "cell_type": "code",
   "execution_count": 28,
   "metadata": {},
   "outputs": [],
   "source": [
    "with open(input_path(7), 'r') as f:\n",
    "    code7 = list(map(int, f.read().split(',')))"
   ]
  },
  {
   "cell_type": "code",
   "execution_count": 29,
   "metadata": {},
   "outputs": [],
   "source": [
    "def amplify_circuit(code):\n",
    "    def amplify(setting):\n",
    "        signal = 0\n",
    "        for inst in setting:\n",
    "            amp = Program(code, deque([inst, signal]))\n",
    "            signal = next(amp.genor)\n",
    "        return signal\n",
    "    return max(amplify(setting) for setting in permutations(range(5)))"
   ]
  },
  {
   "cell_type": "code",
   "execution_count": 30,
   "metadata": {},
   "outputs": [
    {
     "name": "stdout",
     "output_type": "stream",
     "text": [
      "21000\n"
     ]
    }
   ],
   "source": [
    "print(amplify_circuit(code7))"
   ]
  },
  {
   "cell_type": "code",
   "execution_count": 31,
   "metadata": {},
   "outputs": [],
   "source": [
    "def feedback_amplify_circuit(code):\n",
    "    def amplify(setting):\n",
    "        amps = [Program(code, deque([inst])) for inst in setting]\n",
    "        ans = None\n",
    "        signal = 0\n",
    "        while True:\n",
    "            for i, amp in enumerate(amps):\n",
    "                amps[i].inputs.append(signal)\n",
    "                signal = next(amp.genor, None)\n",
    "                if signal is None:\n",
    "                    return ans\n",
    "                if i == 4:\n",
    "                    ans = signal\n",
    "    return max(amplify(setting) for setting in permutations(range(5, 10)))            "
   ]
  },
  {
   "cell_type": "code",
   "execution_count": 32,
   "metadata": {},
   "outputs": [],
   "source": [
    "assert(feedback_amplify_circuit([3,26,1001,26,-4,26,3,27,1002,27,2,27,1,27,26,27,4,27,\n",
    "                                 1001,28,-1,28,1005,28,6,99,0,0,5]) == 139629729)"
   ]
  },
  {
   "cell_type": "code",
   "execution_count": 33,
   "metadata": {},
   "outputs": [],
   "source": [
    "assert(feedback_amplify_circuit([3,52,1001,52,-5,52,3,53,1,52,56,54,1007,54,5,55,1005,55,26,1001,54,\n",
    "-5,54,1105,1,12,1,53,54,53,1008,54,0,55,1001,55,1,55,2,53,55,53,4,\n",
    "53,1001,56,-1,56,1005,56,6,99,0,0,0,0,10]) == 18216)"
   ]
  },
  {
   "cell_type": "code",
   "execution_count": 34,
   "metadata": {},
   "outputs": [
    {
     "name": "stdout",
     "output_type": "stream",
     "text": [
      "61379886\n"
     ]
    }
   ],
   "source": [
    "print(feedback_amplify_circuit(code7))"
   ]
  },
  {
   "cell_type": "markdown",
   "metadata": {},
   "source": [
    "# Day 8: Space Image Format"
   ]
  },
  {
   "cell_type": "code",
   "execution_count": 35,
   "metadata": {},
   "outputs": [],
   "source": [
    "WIDTH = 25\n",
    "HEIGHT = 6\n",
    "with open(input_path(8), 'r') as f:\n",
    "    image = f.read().strip()\n",
    "n = len(image)\n",
    "assert(n % (WIDTH * HEIGHT) == 0)\n",
    "assert(image.isdigit())"
   ]
  },
  {
   "cell_type": "code",
   "execution_count": 36,
   "metadata": {},
   "outputs": [
    {
     "name": "stdout",
     "output_type": "stream",
     "text": [
      "1360\n"
     ]
    }
   ],
   "source": [
    "PIXELS = WIDTH * HEIGHT\n",
    "counter = [PIXELS + 1] * 10\n",
    "for i in range(n // (PIXELS)):\n",
    "    temp = [0] * 10\n",
    "    start = i * PIXELS\n",
    "    for i in range(start, start + PIXELS):\n",
    "        pix = image[i]\n",
    "        temp[ord(pix) - ord('0')] += 1\n",
    "    if temp[0] < counter[0]:\n",
    "        counter = temp\n",
    "print(counter[1] * counter[2])"
   ]
  },
  {
   "cell_type": "code",
   "execution_count": 37,
   "metadata": {},
   "outputs": [],
   "source": [
    "def decode_image(image, width=25, height=6):\n",
    "    n = len(image)\n",
    "    total = width * height\n",
    "    ans = [next(itertools.dropwhile(lambda x : x == '2', (image[j] for j in range(i, n, total))) ) for i in range(total)]\n",
    "    for row in range(height):\n",
    "        line = ''.join(ans[row * width: row * width + width])\n",
    "        print(line)\n",
    "    return ans"
   ]
  },
  {
   "cell_type": "code",
   "execution_count": 38,
   "metadata": {},
   "outputs": [
    {
     "name": "stdout",
     "output_type": "stream",
     "text": [
      "1111011100100100110011100\n",
      "1000010010100101001010010\n",
      "1110010010100101001010010\n",
      "1000011100100101111011100\n",
      "1000010000100101001010100\n",
      "1000010000011001001010010\n"
     ]
    }
   ],
   "source": [
    "decode_image(image);\n",
    "# FPUAR"
   ]
  },
  {
   "cell_type": "markdown",
   "metadata": {},
   "source": [
    "# Day 9: Sensor Boost"
   ]
  },
  {
   "cell_type": "code",
   "execution_count": 73,
   "metadata": {},
   "outputs": [],
   "source": [
    "with open(input_path(9), 'r') as f:\n",
    "    code9 = list(map(int, f.read().split(',')))"
   ]
  },
  {
   "cell_type": "code",
   "execution_count": 74,
   "metadata": {},
   "outputs": [
    {
     "data": {
      "text/plain": [
       "[203, 0]"
      ]
     },
     "execution_count": 74,
     "metadata": {},
     "output_type": "execute_result"
    }
   ],
   "source": [
    "list(Program(code9, deque([1])).genor)"
   ]
  },
  {
   "cell_type": "code",
   "execution_count": 75,
   "metadata": {},
   "outputs": [],
   "source": [
    "assert(list(Program([104,1125899906842624,99], deque([1])).genor)[-1] == 1125899906842624)"
   ]
  },
  {
   "cell_type": "code",
   "execution_count": 76,
   "metadata": {},
   "outputs": [],
   "source": [
    "assert(list(Program([109,1,204,-1,1001,100,1,100,1008,100,16,101,1006,101,0,99], deque([1])).genor) == [109, 1, 204, -1, 1001, 100, 1, 100, 1008, 100, 16, 101, 1006, 101, 0, 99])"
   ]
  },
  {
   "cell_type": "code",
   "execution_count": 77,
   "metadata": {},
   "outputs": [],
   "source": [
    "assert(len(str(list(Program([1102,34915192,34915192,7,4,7,99,0], deque([1])).genor)[0])) == 16)"
   ]
  },
  {
   "cell_type": "markdown",
   "metadata": {},
   "source": [
    "# Day 10: Monitoring Station "
   ]
  },
  {
   "cell_type": "code",
   "execution_count": 160,
   "metadata": {},
   "outputs": [],
   "source": [
    "with open(input_path_sample(10), 'r') as f:\n",
    "    grid = [line.strip() for line in f]"
   ]
  },
  {
   "cell_type": "code",
   "execution_count": 161,
   "metadata": {},
   "outputs": [
    {
     "name": "stdout",
     "output_type": "stream",
     "text": [
      "300\n"
     ]
    }
   ],
   "source": [
    "print(sum(val == '#' for row in grid for val in row))"
   ]
  },
  {
   "cell_type": "code",
   "execution_count": 130,
   "metadata": {},
   "outputs": [],
   "source": [
    "def best_monitor_station(grid):\n",
    "    \"\"\"find the best monitor station.\"\"\"\n",
    "    m, n = len(grid), len(grid[0])\n",
    "    asters = [(x, y) for y in range(m) for x in range(n) if grid[y][x] == '#']\n",
    "    counter = collections.Counter()\n",
    "    for i, (x1, y1) in enumerate(asters):\n",
    "        for j in range(i):\n",
    "            x0, y0 = asters[j]\n",
    "            # check if there are any asteroids between (x0, y0) and (x1, y1)\n",
    "            dx, dy = x1 - x0, y1 - y0\n",
    "            xmin, xmax = sorted((x0, x1))\n",
    "            ymin, ymax = sorted((y0, y1))\n",
    "            for k in range(len(asters)):\n",
    "                if k not in (i, j):\n",
    "                    x, y = asters[k]\n",
    "                    if xmin <= x <= xmax and ymin <= y <= ymax and dy * (x - x0) == dx * (y - y0):\n",
    "                        break\n",
    "            else:\n",
    "                counter[i] += 1\n",
    "                counter[j] += 1\n",
    "    best_idx, mx = counter.most_common(1)[0]\n",
    "    return asters[best_idx], mx"
   ]
  },
  {
   "cell_type": "code",
   "execution_count": 133,
   "metadata": {},
   "outputs": [
    {
     "name": "stdout",
     "output_type": "stream",
     "text": [
      "Best location is at (11, 13) which connects 210 asteroid\n"
     ]
    }
   ],
   "source": [
    "monitor, mx = best_monitor_station(grid)\n",
    "print(\"Best location is at ({}, {}) which connects {} asteroid.\".format(monitor[0], monitor[1], mx))"
   ]
  },
  {
   "cell_type": "code",
   "execution_count": 156,
   "metadata": {},
   "outputs": [],
   "source": [
    "\n",
    "def rotate_and_vaporize(grid, monitor):\n",
    "    \"\"\"rotate the laser clockwise and vaporize the asteroids.\"\"\"\n",
    "    m, n = len(grid), len(grid[0])\n",
    "    x0, y0 = monitor\n",
    "    asters = [(x, y) for y in range(m) for x in range(n) if grid[y][x] == '#' and (x != x0 or y != y0)]\n",
    "    removes = []\n",
    "    while asters:\n",
    "        cands = []\n",
    "        nas = len(asters)\n",
    "        next_asters = []\n",
    "        for i, (x1, y1) in enumerate(asters):\n",
    "            dx, dy = x1 - x0, y1 - y0\n",
    "            xmin, xmax = sorted((x0, x1))\n",
    "            ymin, ymax = sorted((y0, y1))\n",
    "            for j in range(nas):\n",
    "                if j != i:\n",
    "                    x, y = asters[j]\n",
    "                    if xmin <= x <= xmax and ymin <= y <= ymax and dy * (x - x0) == dx * (y - y0):\n",
    "                        next_asters.append((x1, y1))\n",
    "                        break\n",
    "            else:\n",
    "                theta = \n",
    "                cands.append((np.arctan2(-dy, dx), i))\n",
    "        cands.sort()\n",
    "        print([asters[idx] for _, idx in cands])\n",
    "        removes.extend(asters[idx] for _, idx in cands)\n",
    "        asters = next_asters\n",
    "    return removes"
   ]
  },
  {
   "cell_type": "code",
   "execution_count": 157,
   "metadata": {},
   "outputs": [
    {
     "name": "stdout",
     "output_type": "stream",
     "text": [
      "[(0, 14), (2, 14), (3, 14), (4, 14), (5, 14), (6, 14), (2, 15), (7, 14), (4, 15), (8, 14), (6, 15), (4, 16), (0, 18), (9, 14), (0, 19), (2, 18), (1, 19), (8, 15), (4, 18), (7, 16), (6, 17), (4, 19), (10, 14), (7, 18), (8, 17), (7, 19), (8, 18), (10, 15), (9, 18), (10, 16), (10, 17), (10, 18), (10, 19), (11, 14), (12, 19), (12, 18), (12, 17), (12, 16), (13, 18), (12, 15), (14, 18), (15, 19), (14, 17), (15, 18), (13, 15), (18, 19), (17, 18), (15, 16), (18, 18), (14, 15), (19, 18), (16, 16), (18, 17), (13, 14), (18, 16), (16, 15), (19, 16), (14, 14), (18, 15), (15, 14), (16, 14), (17, 14), (18, 14), (19, 14), (12, 13), (19, 12), (18, 12), (17, 12), (15, 12), (14, 12), (19, 10), (16, 11), (18, 10), (13, 12), (16, 10), (19, 8), (17, 9), (18, 8), (15, 10), (16, 9), (17, 8), (18, 7), (19, 6), (12, 12), (19, 4), (18, 5), (17, 6), (16, 7), (15, 8), (18, 4), (14, 9), (19, 2), (16, 6), (18, 3), (13, 10), (16, 5), (19, 0), (14, 8), (18, 1), (15, 6), (16, 4), (17, 2), (18, 0), (14, 7), (17, 0), (16, 2), (15, 4), (14, 6), (13, 8), (16, 0), (14, 5), (15, 2), (14, 4), (15, 0), (14, 3), (13, 6), (14, 2), (13, 5), (14, 0), (12, 8), (13, 2), (12, 7), (13, 0), (12, 6), (12, 5), (12, 4), (12, 2), (12, 1), (11, 12), (10, 1), (10, 2), (10, 3), (10, 6), (9, 0), (10, 7), (10, 8), (9, 4), (8, 0), (10, 9), (8, 2), (9, 6), (8, 3), (7, 0), (10, 10), (7, 2), (9, 8), (6, 1), (8, 6), (7, 4), (6, 2), (5, 0), (10, 11), (4, 0), (5, 2), (6, 4), (7, 6), (4, 1), (8, 8), (6, 5), (4, 2), (3, 1), (6, 6), (3, 2), (5, 5), (1, 0), (4, 4), (7, 8), (1, 1), (5, 6), (4, 5), (3, 4), (2, 3), (1, 2), (0, 1), (10, 12), (1, 4), (2, 5), (3, 6), (4, 7), (5, 8), (0, 4), (6, 9), (2, 6), (7, 10), (4, 8), (1, 6), (8, 11), (0, 6), (3, 8), (6, 10), (4, 9), (0, 7), (5, 10), (0, 8), (2, 9), (4, 10), (6, 11), (3, 10), (0, 9), (8, 12), (3, 11), (2, 11), (1, 11), (0, 11), (5, 12), (4, 12), (3, 12), (2, 12), (1, 12), (10, 13)]\n",
      "[(1, 15), (3, 15), (1, 17), (5, 16), (5, 17), (9, 15), (9, 17), (9, 19), (11, 16), (13, 19), (13, 17), (15, 17), (19, 19), (17, 17), (17, 16), (19, 15), (13, 13), (19, 11), (15, 11), (19, 7), (14, 10), (17, 5), (15, 5), (15, 3), (14, 1), (13, 3), (13, 1), (11, 11), (9, 1), (9, 3), (9, 5), (7, 1), (7, 3), (9, 9), (5, 3), (3, 3), (9, 11), (3, 7), (2, 7), (3, 9), (1, 9), (5, 11), (9, 13)]\n",
      "[(3, 17), (2, 19), (8, 16), (8, 19), (11, 17), (19, 17), (14, 13), (17, 10), (15, 9), (16, 3), (11, 10), (8, 1), (6, 3), (7, 9), (1, 8), (2, 10), (8, 13)]\n",
      "[(7, 17), (15, 13), (16, 8), (17, 1), (11, 9), (5, 1), (6, 8), (7, 13)]\n",
      "[(6, 18), (16, 13), (18, 6), (11, 8), (5, 7), (5, 13)]\n",
      "[(5, 19), (19, 5), (11, 7), (4, 6), (1, 13)]\n",
      "[(11, 6), (3, 5), (0, 13)]\n",
      "[(11, 5), (2, 4)]\n",
      "[(11, 4), (1, 3)]\n",
      "[(11, 3)]\n",
      "[(11, 2)]\n",
      "[(11, 1)]\n"
     ]
    }
   ],
   "source": [
    "rotate_and_vaporize(grid, monitor);"
   ]
  },
  {
   "cell_type": "code",
   "execution_count": null,
   "metadata": {},
   "outputs": [],
   "source": []
  }
 ],
 "metadata": {
  "kernelspec": {
   "display_name": "Python 3",
   "language": "python",
   "name": "python3"
  },
  "language_info": {
   "codemirror_mode": {
    "name": "ipython",
    "version": 3
   },
   "file_extension": ".py",
   "mimetype": "text/x-python",
   "name": "python",
   "nbconvert_exporter": "python",
   "pygments_lexer": "ipython3",
   "version": "3.7.3"
  }
 },
 "nbformat": 4,
 "nbformat_minor": 2
}
