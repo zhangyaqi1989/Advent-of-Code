{
 "cells": [
  {
   "cell_type": "code",
   "execution_count": 1,
   "metadata": {},
   "outputs": [],
   "source": [
    "%matplotlib inline\n",
    "import matplotlib.pyplot as plt\n",
    "\n",
    "import os\n",
    "import operator\n",
    "import re\n",
    "import numpy as np\n",
    "import random\n",
    "import string\n",
    "import collections, itertools\n",
    "from collections import Counter, defaultdict, namedtuple, deque, OrderedDict\n",
    "from functools   import lru_cache, reduce\n",
    "from statistics  import mean, median, mode, stdev, variance\n",
    "from itertools   import (permutations, combinations, groupby, repeat,\n",
    "                         islice, repeat,cycle, chain, product, zip_longest, takewhile, dropwhile, count as count_from)\n",
    "from heapq       import heappush, heappop, heapify\n",
    "from operator    import iand, ior, ilshift, irshift\n",
    "from bisect      import bisect_left, bisect_right"
   ]
  },
  {
   "cell_type": "code",
   "execution_count": 2,
   "metadata": {},
   "outputs": [],
   "source": [
    "import itertools"
   ]
  },
  {
   "cell_type": "code",
   "execution_count": 3,
   "metadata": {},
   "outputs": [],
   "source": [
    "input_path = lambda day : \"inputs/day{}.txt\".format(day)\n",
    "input_path_sample = lambda day : \"inputs/day{}-sample.txt\".format(day)"
   ]
  },
  {
   "cell_type": "markdown",
   "metadata": {},
   "source": [
    "# Day 1: The Tyranny of the Rocket Equation"
   ]
  },
  {
   "cell_type": "code",
   "execution_count": 4,
   "metadata": {},
   "outputs": [
    {
     "name": "stdout",
     "output_type": "stream",
     "text": [
      "3160932\n"
     ]
    }
   ],
   "source": [
    "fuel = 0\n",
    "with open(input_path(1), 'r') as f:\n",
    "    for line in f:\n",
    "        mass = int(line)\n",
    "        fuel += mass // 3 - 2\n",
    "print(fuel)"
   ]
  },
  {
   "cell_type": "code",
   "execution_count": 5,
   "metadata": {},
   "outputs": [
    {
     "name": "stdout",
     "output_type": "stream",
     "text": [
      "4738549\n"
     ]
    }
   ],
   "source": [
    "def compute_fuel(mass):\n",
    "    ans = 0\n",
    "    while True:\n",
    "        mass = mass // 3 - 2\n",
    "        if mass <= 0:\n",
    "            break\n",
    "        ans += mass\n",
    "    return ans\n",
    "assert(compute_fuel(100756) == 50346)\n",
    "assert(compute_fuel(14) == 2)\n",
    "assert(compute_fuel(1969) == 966)\n",
    "fuel = 0\n",
    "with open(input_path(1), 'r') as f:\n",
    "    for line in f:\n",
    "        mass = int(line)\n",
    "        fuel += compute_fuel(mass)\n",
    "print(fuel)"
   ]
  },
  {
   "cell_type": "markdown",
   "metadata": {},
   "source": [
    "# Day 2: 1202 Program Alarm"
   ]
  },
  {
   "cell_type": "code",
   "execution_count": 6,
   "metadata": {},
   "outputs": [],
   "source": [
    "def parse_code(code):\n",
    "    import operator\n",
    "    n = len(code)\n",
    "    for i in range(0, n, 4):\n",
    "        opcode = code[i]\n",
    "        if opcode == 99:\n",
    "            break\n",
    "        else:\n",
    "            left_idx = code[i + 1]\n",
    "            right_idx = code[i + 2]\n",
    "            r_idx = code[i + 3]\n",
    "            op = operator.add if opcode == 1 else operator.mul\n",
    "            code[r_idx] = op(code[left_idx], code[right_idx])\n",
    "    return code\n",
    "assert(parse_code([1,0,0,0,99]) == [2,0,0,0,99])\n",
    "assert(parse_code([2,3,0,3,99]) == [2,3,0,6,99])\n",
    "assert(parse_code([2,4,4,5,99,0]) == [2,4,4,5,99,9801])\n",
    "assert(parse_code([1,1,1,4,99,5,6,0,99]) == [30,1,1,4,2,5,6,0,99])"
   ]
  },
  {
   "cell_type": "code",
   "execution_count": 7,
   "metadata": {},
   "outputs": [
    {
     "name": "stdout",
     "output_type": "stream",
     "text": [
      "2890696\n"
     ]
    }
   ],
   "source": [
    "with open(input_path(2), 'r') as f:\n",
    "    memory = list(map(int, f.read().split(',')))\n",
    "code = memory[:]\n",
    "code[1] = 12\n",
    "code[2] = 2\n",
    "print(parse_code(code)[0])"
   ]
  },
  {
   "cell_type": "code",
   "execution_count": 8,
   "metadata": {},
   "outputs": [
    {
     "name": "stdout",
     "output_type": "stream",
     "text": [
      "8226\n"
     ]
    }
   ],
   "source": [
    "def choose_noun_and_verb(target, memory):\n",
    "    n = len(memory)\n",
    "    for noun in range(n):\n",
    "        for verb in range(n):\n",
    "            code = memory[:]\n",
    "            code[1] = noun\n",
    "            code[2] = verb\n",
    "            if parse_code(code)[0] == target:\n",
    "                return noun, verb\n",
    "    return None\n",
    "target = 19690720\n",
    "noun, verb = choose_noun_and_verb(target, memory)\n",
    "print(100 * noun + verb)"
   ]
  },
  {
   "cell_type": "markdown",
   "metadata": {},
   "source": [
    "# Day 3: Crossed Wires"
   ]
  },
  {
   "cell_type": "code",
   "execution_count": 9,
   "metadata": {},
   "outputs": [],
   "source": [
    "with open(input_path(3), 'r') as f:\n",
    "    paths = [tuple(token for token in line.split(',')) for line in f]\n",
    "path1, path2 = paths"
   ]
  },
  {
   "cell_type": "code",
   "execution_count": 10,
   "metadata": {},
   "outputs": [],
   "source": [
    "def compute_wire(path):\n",
    "    moves = dict(zip(\"LRUD\", ((-1, 0), (1, 0), (0, 1), (0, -1))))\n",
    "    x, y = 0, 0\n",
    "    wire = {}\n",
    "    steps = 0\n",
    "    for item in path:\n",
    "        d, cnt = item[0], int(item[1:])\n",
    "        dx, dy = moves[d]\n",
    "        for i in range(cnt):\n",
    "            if (x, y) not in wire:\n",
    "                wire[x, y] = steps\n",
    "            x, y = x + dx, y + dy\n",
    "            steps += 1\n",
    "    return wire"
   ]
  },
  {
   "cell_type": "code",
   "execution_count": 11,
   "metadata": {},
   "outputs": [],
   "source": [
    "wire1, wire2 = compute_wire(path1), compute_wire(path2)"
   ]
  },
  {
   "cell_type": "code",
   "execution_count": 12,
   "metadata": {},
   "outputs": [
    {
     "name": "stdout",
     "output_type": "stream",
     "text": [
      "232\n"
     ]
    }
   ],
   "source": [
    "print(min(abs(x) + abs(y) for x, y in wire1.keys() & wire2.keys() if x != 0 and y != 0))"
   ]
  },
  {
   "cell_type": "code",
   "execution_count": 13,
   "metadata": {},
   "outputs": [
    {
     "name": "stdout",
     "output_type": "stream",
     "text": [
      "6084\n"
     ]
    }
   ],
   "source": [
    "print(min(wire1[key] + wire2[key] for key in wire1.keys() & wire2.keys() if key != (0, 0)))"
   ]
  },
  {
   "cell_type": "markdown",
   "metadata": {},
   "source": [
    "# Day 4: Secure Container"
   ]
  },
  {
   "cell_type": "code",
   "execution_count": 14,
   "metadata": {},
   "outputs": [],
   "source": [
    "lo = 245182\n",
    "hi = 790572\n",
    "def valid_passwd(pw):\n",
    "    pre = 10\n",
    "    has_double = False\n",
    "    while pw:\n",
    "        d = pw % 10\n",
    "        if pre != 10:\n",
    "            if pre == d:\n",
    "                has_double = True\n",
    "            if pre < d:\n",
    "                return False\n",
    "        pre = d\n",
    "        pw //= 10\n",
    "    return has_double"
   ]
  },
  {
   "cell_type": "code",
   "execution_count": 15,
   "metadata": {},
   "outputs": [
    {
     "name": "stdout",
     "output_type": "stream",
     "text": [
      "1099\n"
     ]
    }
   ],
   "source": [
    "print(sum(valid_passwd(pw) for pw in range(lo, hi + 1)))"
   ]
  },
  {
   "cell_type": "code",
   "execution_count": 16,
   "metadata": {},
   "outputs": [],
   "source": [
    "def valid_passwd(pw):\n",
    "    pw_str = str(pw)\n",
    "    pre = None\n",
    "    has_double = False\n",
    "    for ch, g in itertools.groupby(pw_str):\n",
    "        cnt = len(list(g))\n",
    "        if pre and ch < pre:\n",
    "            return False\n",
    "        if cnt == 2:\n",
    "            has_double = True\n",
    "        pre = ch\n",
    "    return has_double"
   ]
  },
  {
   "cell_type": "code",
   "execution_count": 17,
   "metadata": {},
   "outputs": [
    {
     "name": "stdout",
     "output_type": "stream",
     "text": [
      "710\n"
     ]
    }
   ],
   "source": [
    "print(sum(valid_passwd(pw) for pw in range(lo, hi + 1)))"
   ]
  },
  {
   "cell_type": "markdown",
   "metadata": {},
   "source": [
    "# Day 5: Sunny with a Chance of Asteroids"
   ]
  },
  {
   "cell_type": "code",
   "execution_count": 18,
   "metadata": {},
   "outputs": [],
   "source": [
    "with open(input_path(5), 'r') as f:\n",
    "    code5 = list(map(int, f.read().split(',')))"
   ]
  },
  {
   "cell_type": "code",
   "execution_count": 19,
   "metadata": {},
   "outputs": [],
   "source": [
    "class Program:\n",
    "    def __init__(self, code, inputs):\n",
    "        self.code = code[:]\n",
    "        self.inputs = inputs\n",
    "        self.relative_base = 0\n",
    "        self.genor = self.run()\n",
    "    \n",
    "    def run(self):\n",
    "        memory = collections.defaultdict(int)\n",
    "        for j, c in enumerate(self.code):\n",
    "            memory[j] = c\n",
    "        pc = 0\n",
    "        def get_operand(para, mode):\n",
    "            \"\"\"mode: 0 position; 1 value; 2 relative position\"\"\"\n",
    "            if mode == 2:\n",
    "                para += self.relative_base\n",
    "                return memory[para]\n",
    "            return memory[para] if mode == 0 else para\n",
    "        def get_save_idx(para, mode):\n",
    "            \"\"\"mode: 0 absolute, 2 relative\"\"\"\n",
    "            return para if mode == 0 else para + self.relative_base\n",
    "        while True:\n",
    "            assert(memory[pc] >= 0)\n",
    "            instruct = \"{:05d}\".format(memory[pc])\n",
    "            assert(len(instruct) == 5)\n",
    "            opcode = int(instruct[-2:])\n",
    "            first_mode = int(instruct[2])\n",
    "            second_mode = int(instruct[1])\n",
    "            third_mode = int(instruct[0])\n",
    "            if opcode == 99:\n",
    "                break\n",
    "            elif opcode == 3:\n",
    "                # input\n",
    "                memory[get_save_idx(memory[pc + 1], first_mode)] = self.inputs.popleft()\n",
    "                pc += 2\n",
    "            elif opcode == 4:\n",
    "                # output\n",
    "                out = get_operand(memory[pc + 1], first_mode)\n",
    "                pc += 2\n",
    "                yield out\n",
    "            elif opcode == 1 or opcode == 2:\n",
    "                # addition and multiplication\n",
    "                op = operator.mul if opcode == 2 else operator.add\n",
    "                val = op(get_operand(memory[pc + 1], first_mode), get_operand(memory[pc + 2], second_mode))\n",
    "                memory[get_save_idx(memory[pc + 3], third_mode)] = val\n",
    "                pc += 4\n",
    "            elif opcode == 5:\n",
    "                # jump is true\n",
    "                first_operand = get_operand(memory[pc + 1], first_mode)\n",
    "                if first_operand != 0:\n",
    "                    pc = get_operand(memory[pc + 2], second_mode)\n",
    "                else:\n",
    "                    pc += 3\n",
    "            elif opcode == 6:\n",
    "                # jump if false\n",
    "                first_operand = get_operand(memory[pc + 1], first_mode)\n",
    "                if first_operand == 0:\n",
    "                    pc = get_operand(memory[pc + 2], second_mode)\n",
    "                else:\n",
    "                    pc += 3\n",
    "            elif opcode == 7:\n",
    "                if get_operand(memory[pc + 1], first_mode) < get_operand(memory[pc + 2], second_mode):\n",
    "                    memory[get_save_idx(memory[pc + 3], third_mode)] = 1\n",
    "                else:\n",
    "                    memory[get_save_idx(memory[pc + 3], third_mode)] = 0\n",
    "                pc += 4\n",
    "            elif opcode == 8:\n",
    "                if get_operand(memory[pc + 1], first_mode) == get_operand(memory[pc + 2], second_mode):\n",
    "                    memory[get_save_idx(memory[pc + 3], third_mode)] = 1\n",
    "                else:\n",
    "                    memory[get_save_idx(memory[pc + 3], third_mode)] = 0\n",
    "                pc += 4\n",
    "            elif opcode == 9:\n",
    "                self.relative_base += get_operand(memory[pc + 1], first_mode)\n",
    "                pc += 2\n",
    "            else:\n",
    "                assert False, \"Unkown opcode {}\".format(opcode)"
   ]
  },
  {
   "cell_type": "code",
   "execution_count": 20,
   "metadata": {},
   "outputs": [
    {
     "data": {
      "text/plain": [
       "[0, 0, 0, 0, 0, 0, 0, 0, 0, 6731945]"
      ]
     },
     "execution_count": 20,
     "metadata": {},
     "output_type": "execute_result"
    }
   ],
   "source": [
    "list(Program(code5, deque([1])).genor)"
   ]
  },
  {
   "cell_type": "code",
   "execution_count": 21,
   "metadata": {},
   "outputs": [],
   "source": [
    "test_in = [3,21,1008,21,8,20,1005,20,22,107,8,21,20,1006,20,31,\n",
    "1106,0,36,98,0,0,1002,21,125,20,4,20,1105,1,46,104,\n",
    "999,1105,1,46,1101,1000,1,20,4,20,1105,1,46,98,99]\n",
    "assert(list(Program(test_in, deque([7])).genor)[-1] == 999)"
   ]
  },
  {
   "cell_type": "code",
   "execution_count": 22,
   "metadata": {},
   "outputs": [
    {
     "data": {
      "text/plain": [
       "9571668"
      ]
     },
     "execution_count": 22,
     "metadata": {},
     "output_type": "execute_result"
    }
   ],
   "source": [
    "list(Program(code5, deque([5])).genor)[-1]"
   ]
  },
  {
   "cell_type": "markdown",
   "metadata": {},
   "source": [
    "# Day 6: Universal Orbit Map"
   ]
  },
  {
   "cell_type": "code",
   "execution_count": 23,
   "metadata": {},
   "outputs": [],
   "source": [
    "def count_orbits(infile):\n",
    "    import collections\n",
    "    tree = collections.defaultdict(list)\n",
    "    with open(infile, 'r') as f:\n",
    "        for line in f:\n",
    "            u, v = line.strip().split(')')\n",
    "            tree[u].append(v)\n",
    "    norbits = 0\n",
    "    def dfs(node, depth):\n",
    "        nonlocal norbits\n",
    "        norbits += depth\n",
    "        for child in tree[node]:\n",
    "            dfs(child, depth + 1)\n",
    "    dfs('COM', 0)\n",
    "    return norbits"
   ]
  },
  {
   "cell_type": "code",
   "execution_count": 24,
   "metadata": {},
   "outputs": [],
   "source": [
    "# print(count_orbits(input_path_sample(6)))\n",
    "assert(count_orbits(input_path_sample(6)) == 42)"
   ]
  },
  {
   "cell_type": "code",
   "execution_count": 25,
   "metadata": {},
   "outputs": [
    {
     "name": "stdout",
     "output_type": "stream",
     "text": [
      "301100\n"
     ]
    }
   ],
   "source": [
    "print(count_orbits(input_path(6)))"
   ]
  },
  {
   "cell_type": "code",
   "execution_count": 26,
   "metadata": {},
   "outputs": [],
   "source": [
    "def find_path(infile, target=\"SAN\"):\n",
    "    import collections\n",
    "    tree = collections.defaultdict(list)\n",
    "    with open(infile, 'r') as f:\n",
    "        for line in f:\n",
    "            u, v = line.strip().split(')')\n",
    "            tree[u].append(v)\n",
    "            tree[v].append(u)\n",
    "    frontier = [(\"YOU\", None, 0)]\n",
    "    while frontier:\n",
    "        node, parent, depth = frontier.pop()\n",
    "        if node == target:\n",
    "            return depth - 2\n",
    "        for nei in tree[node]:\n",
    "            if nei != parent:\n",
    "                frontier.append((nei, node, depth + 1))"
   ]
  },
  {
   "cell_type": "code",
   "execution_count": 27,
   "metadata": {},
   "outputs": [
    {
     "name": "stdout",
     "output_type": "stream",
     "text": [
      "547\n"
     ]
    }
   ],
   "source": [
    "print(find_path(input_path(6)))"
   ]
  },
  {
   "cell_type": "markdown",
   "metadata": {},
   "source": [
    "# Day 7: Amplification Circuit"
   ]
  },
  {
   "cell_type": "code",
   "execution_count": 28,
   "metadata": {},
   "outputs": [],
   "source": [
    "with open(input_path(7), 'r') as f:\n",
    "    code7 = list(map(int, f.read().split(',')))"
   ]
  },
  {
   "cell_type": "code",
   "execution_count": 29,
   "metadata": {},
   "outputs": [],
   "source": [
    "def amplify_circuit(code):\n",
    "    def amplify(setting):\n",
    "        signal = 0\n",
    "        for inst in setting:\n",
    "            amp = Program(code, deque([inst, signal]))\n",
    "            signal = next(amp.genor)\n",
    "        return signal\n",
    "    return max(amplify(setting) for setting in permutations(range(5)))"
   ]
  },
  {
   "cell_type": "code",
   "execution_count": 30,
   "metadata": {},
   "outputs": [
    {
     "name": "stdout",
     "output_type": "stream",
     "text": [
      "21000\n"
     ]
    }
   ],
   "source": [
    "print(amplify_circuit(code7))"
   ]
  },
  {
   "cell_type": "code",
   "execution_count": 31,
   "metadata": {},
   "outputs": [],
   "source": [
    "def feedback_amplify_circuit(code):\n",
    "    def amplify(setting):\n",
    "        amps = [Program(code, deque([inst])) for inst in setting]\n",
    "        ans = None\n",
    "        signal = 0\n",
    "        while True:\n",
    "            for i, amp in enumerate(amps):\n",
    "                amps[i].inputs.append(signal)\n",
    "                signal = next(amp.genor, None)\n",
    "                if signal is None:\n",
    "                    return ans\n",
    "                if i == 4:\n",
    "                    ans = signal\n",
    "    return max(amplify(setting) for setting in permutations(range(5, 10)))            "
   ]
  },
  {
   "cell_type": "code",
   "execution_count": 32,
   "metadata": {},
   "outputs": [],
   "source": [
    "assert(feedback_amplify_circuit([3,26,1001,26,-4,26,3,27,1002,27,2,27,1,27,26,27,4,27,\n",
    "                                 1001,28,-1,28,1005,28,6,99,0,0,5]) == 139629729)"
   ]
  },
  {
   "cell_type": "code",
   "execution_count": 33,
   "metadata": {},
   "outputs": [],
   "source": [
    "assert(feedback_amplify_circuit([3,52,1001,52,-5,52,3,53,1,52,56,54,1007,54,5,55,1005,55,26,1001,54,\n",
    "-5,54,1105,1,12,1,53,54,53,1008,54,0,55,1001,55,1,55,2,53,55,53,4,\n",
    "53,1001,56,-1,56,1005,56,6,99,0,0,0,0,10]) == 18216)"
   ]
  },
  {
   "cell_type": "code",
   "execution_count": 34,
   "metadata": {},
   "outputs": [
    {
     "name": "stdout",
     "output_type": "stream",
     "text": [
      "61379886\n"
     ]
    }
   ],
   "source": [
    "print(feedback_amplify_circuit(code7))"
   ]
  },
  {
   "cell_type": "markdown",
   "metadata": {},
   "source": [
    "# Day 8: Space Image Format"
   ]
  },
  {
   "cell_type": "code",
   "execution_count": 35,
   "metadata": {},
   "outputs": [],
   "source": [
    "WIDTH = 25\n",
    "HEIGHT = 6\n",
    "with open(input_path(8), 'r') as f:\n",
    "    image = f.read().strip()\n",
    "n = len(image)\n",
    "assert(n % (WIDTH * HEIGHT) == 0)\n",
    "assert(image.isdigit())"
   ]
  },
  {
   "cell_type": "code",
   "execution_count": 36,
   "metadata": {},
   "outputs": [
    {
     "name": "stdout",
     "output_type": "stream",
     "text": [
      "1360\n"
     ]
    }
   ],
   "source": [
    "PIXELS = WIDTH * HEIGHT\n",
    "counter = [PIXELS + 1] * 10\n",
    "for i in range(n // (PIXELS)):\n",
    "    temp = [0] * 10\n",
    "    start = i * PIXELS\n",
    "    for i in range(start, start + PIXELS):\n",
    "        pix = image[i]\n",
    "        temp[ord(pix) - ord('0')] += 1\n",
    "    if temp[0] < counter[0]:\n",
    "        counter = temp\n",
    "print(counter[1] * counter[2])"
   ]
  },
  {
   "cell_type": "code",
   "execution_count": 37,
   "metadata": {},
   "outputs": [],
   "source": [
    "def decode_image(image, width=25, height=6):\n",
    "    n = len(image)\n",
    "    total = width * height\n",
    "    ans = [next(itertools.dropwhile(lambda x : x == '2', (image[j] for j in range(i, n, total))) ) for i in range(total)]\n",
    "    for row in range(height):\n",
    "        line = ''.join(ans[row * width: row * width + width])\n",
    "        print(line)\n",
    "    return ans"
   ]
  },
  {
   "cell_type": "code",
   "execution_count": 38,
   "metadata": {},
   "outputs": [
    {
     "name": "stdout",
     "output_type": "stream",
     "text": [
      "1111011100100100110011100\n",
      "1000010010100101001010010\n",
      "1110010010100101001010010\n",
      "1000011100100101111011100\n",
      "1000010000100101001010100\n",
      "1000010000011001001010010\n"
     ]
    }
   ],
   "source": [
    "decode_image(image);\n",
    "# FPUAR"
   ]
  },
  {
   "cell_type": "markdown",
   "metadata": {},
   "source": [
    "# Day 9: Sensor Boost"
   ]
  },
  {
   "cell_type": "code",
   "execution_count": 39,
   "metadata": {},
   "outputs": [],
   "source": [
    "with open(input_path(9), 'r') as f:\n",
    "    code9 = list(map(int, f.read().split(',')))"
   ]
  },
  {
   "cell_type": "code",
   "execution_count": 40,
   "metadata": {},
   "outputs": [],
   "source": [
    "assert(list(Program([104,1125899906842624,99], deque([1])).genor)[-1] == 1125899906842624)"
   ]
  },
  {
   "cell_type": "code",
   "execution_count": 41,
   "metadata": {},
   "outputs": [],
   "source": [
    "assert(list(Program([109,1,204,-1,1001,100,1,100,1008,100,16,101,1006,101,0,99], deque([1])).genor) == [109, 1, 204, -1, 1001, 100, 1, 100, 1008, 100, 16, 101, 1006, 101, 0, 99])"
   ]
  },
  {
   "cell_type": "code",
   "execution_count": 42,
   "metadata": {},
   "outputs": [],
   "source": [
    "assert(len(str(list(Program([1102,34915192,34915192,7,4,7,99,0], deque([1])).genor)[0])) == 16)"
   ]
  },
  {
   "cell_type": "code",
   "execution_count": 43,
   "metadata": {},
   "outputs": [
    {
     "data": {
      "text/plain": [
       "[3345854957]"
      ]
     },
     "execution_count": 43,
     "metadata": {},
     "output_type": "execute_result"
    }
   ],
   "source": [
    "list(Program(code9, deque([1])).genor)"
   ]
  },
  {
   "cell_type": "code",
   "execution_count": 44,
   "metadata": {},
   "outputs": [
    {
     "data": {
      "text/plain": [
       "[68938]"
      ]
     },
     "execution_count": 44,
     "metadata": {},
     "output_type": "execute_result"
    }
   ],
   "source": [
    "list(Program(code9, deque([2])).genor)"
   ]
  },
  {
   "cell_type": "markdown",
   "metadata": {},
   "source": [
    "# Day 10: Monitoring Station "
   ]
  },
  {
   "cell_type": "code",
   "execution_count": 45,
   "metadata": {},
   "outputs": [],
   "source": [
    "with open(input_path(10), 'r') as f:\n",
    "    grid = [line.strip() for line in f]"
   ]
  },
  {
   "cell_type": "code",
   "execution_count": 46,
   "metadata": {},
   "outputs": [
    {
     "name": "stdout",
     "output_type": "stream",
     "text": [
      "307\n"
     ]
    }
   ],
   "source": [
    "print(sum(val == '#' for row in grid for val in row))"
   ]
  },
  {
   "cell_type": "code",
   "execution_count": 47,
   "metadata": {},
   "outputs": [],
   "source": [
    "def best_monitor_station(grid):\n",
    "    \"\"\"find the best monitor station.\"\"\"\n",
    "    m, n = len(grid), len(grid[0])\n",
    "    asters = [(x, y) for y in range(m) for x in range(n) if grid[y][x] == '#']\n",
    "    counter = collections.Counter()\n",
    "    for i, (x1, y1) in enumerate(asters):\n",
    "        for j in range(i):\n",
    "            x0, y0 = asters[j]\n",
    "            # check if there are any asteroids between (x0, y0) and (x1, y1)\n",
    "            dx, dy = x1 - x0, y1 - y0\n",
    "            xmin, xmax = sorted((x0, x1))\n",
    "            ymin, ymax = sorted((y0, y1))\n",
    "            for k in range(len(asters)):\n",
    "                if k not in (i, j):\n",
    "                    x, y = asters[k]\n",
    "                    if xmin <= x <= xmax and ymin <= y <= ymax and dy * (x - x0) == dx * (y - y0):\n",
    "                        break\n",
    "            else:\n",
    "                counter[i] += 1\n",
    "                counter[j] += 1\n",
    "    best_idx, mx = counter.most_common(1)[0]\n",
    "    return asters[best_idx], mx"
   ]
  },
  {
   "cell_type": "code",
   "execution_count": 48,
   "metadata": {},
   "outputs": [
    {
     "name": "stdout",
     "output_type": "stream",
     "text": [
      "Best location is at (8, 16) which connects 214 asteroid.\n"
     ]
    }
   ],
   "source": [
    "monitor, mx = best_monitor_station(grid)\n",
    "print(\"Best location is at ({}, {}) which connects {} asteroid.\".format(monitor[0], monitor[1], mx))"
   ]
  },
  {
   "cell_type": "code",
   "execution_count": 49,
   "metadata": {},
   "outputs": [],
   "source": [
    "def rotate_and_vaporize(grid, monitor):\n",
    "    \"\"\"rotate the laser clockwise and vaporize the asteroids.\"\"\"\n",
    "    m, n = len(grid), len(grid[0])\n",
    "    x0, y0 = monitor\n",
    "    asters = [(x, y) for y in range(m) for x in range(n) if grid[y][x] == '#' and (x != x0 or y != y0)]\n",
    "    removes = []\n",
    "    while asters:\n",
    "        cands = []\n",
    "        nas = len(asters)\n",
    "        next_asters = []\n",
    "        for i, (x1, y1) in enumerate(asters):\n",
    "            dx, dy = x1 - x0, y1 - y0\n",
    "            xmin, xmax = sorted((x0, x1))\n",
    "            ymin, ymax = sorted((y0, y1))\n",
    "            for j in range(nas):\n",
    "                if j != i:\n",
    "                    x, y = asters[j]\n",
    "                    if xmin <= x <= xmax and ymin <= y <= ymax and dy * (x - x0) == dx * (y - y0):\n",
    "                        next_asters.append((x1, y1))\n",
    "                        break\n",
    "            else:\n",
    "                theta = np.arctan2(-dy, dx)\n",
    "                if theta < 0:\n",
    "                    beta = -theta + np.pi / 2\n",
    "                elif theta <= np.pi / 2:\n",
    "                    beta = np.pi / 2 - theta\n",
    "                else:\n",
    "                    beta = np.pi * 2 - (theta - np.pi/2)\n",
    "                cands.append((beta, i))\n",
    "        cands.sort()\n",
    "        removes.extend(asters[idx] for _, idx in cands)\n",
    "        asters = next_asters\n",
    "    return removes"
   ]
  },
  {
   "cell_type": "code",
   "execution_count": 50,
   "metadata": {},
   "outputs": [
    {
     "name": "stdout",
     "output_type": "stream",
     "text": [
      "502\n"
     ]
    }
   ],
   "source": [
    "removes = rotate_and_vaporize(grid, monitor)\n",
    "x, y = removes[199]\n",
    "print(x * 100 + y)"
   ]
  },
  {
   "cell_type": "code",
   "execution_count": null,
   "metadata": {},
   "outputs": [],
   "source": []
  }
 ],
 "metadata": {
  "kernelspec": {
   "display_name": "Python 3",
   "language": "python",
   "name": "python3"
  },
  "language_info": {
   "codemirror_mode": {
    "name": "ipython",
    "version": 3
   },
   "file_extension": ".py",
   "mimetype": "text/x-python",
   "name": "python",
   "nbconvert_exporter": "python",
   "pygments_lexer": "ipython3",
   "version": "3.7.3"
  }
 },
 "nbformat": 4,
 "nbformat_minor": 2
}
