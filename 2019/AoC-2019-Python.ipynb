{
 "cells": [
  {
   "cell_type": "code",
   "execution_count": 1,
   "metadata": {},
   "outputs": [],
   "source": [
    "%matplotlib inline\n",
    "import matplotlib.pyplot as plt\n",
    "\n",
    "import os\n",
    "import re\n",
    "import numpy as np\n",
    "import random\n",
    "import string\n",
    "import collections, itertools\n",
    "from collections import Counter, defaultdict, namedtuple, deque, OrderedDict\n",
    "from functools   import lru_cache, reduce\n",
    "from statistics  import mean, median, mode, stdev, variance\n",
    "from itertools   import (permutations, combinations, groupby, \n",
    "                         islice, repeat,cycle, chain, product, zip_longest, takewhile, dropwhile, count as count_from)\n",
    "from heapq       import heappush, heappop, heapify\n",
    "from operator    import iand, ior, ilshift, irshift\n",
    "from bisect      import bisect_left, bisect_right"
   ]
  },
  {
   "cell_type": "code",
   "execution_count": 2,
   "metadata": {},
   "outputs": [],
   "source": [
    "import itertools"
   ]
  },
  {
   "cell_type": "code",
   "execution_count": 3,
   "metadata": {},
   "outputs": [],
   "source": [
    "input_path = lambda day : \"inputs/day{}.txt\".format(day)\n",
    "input_path_sample = lambda day : \"inputs/day{}-sample.txt\".format(day)"
   ]
  },
  {
   "cell_type": "markdown",
   "metadata": {},
   "source": [
    "# Day 1: The Tyranny of the Rocket Equation"
   ]
  },
  {
   "cell_type": "code",
   "execution_count": 4,
   "metadata": {},
   "outputs": [
    {
     "name": "stdout",
     "output_type": "stream",
     "text": [
      "3160932\n"
     ]
    }
   ],
   "source": [
    "fuel = 0\n",
    "with open(input_path(1), 'r') as f:\n",
    "    for line in f:\n",
    "        mass = int(line)\n",
    "        fuel += mass // 3 - 2\n",
    "print(fuel)"
   ]
  },
  {
   "cell_type": "code",
   "execution_count": 5,
   "metadata": {},
   "outputs": [
    {
     "name": "stdout",
     "output_type": "stream",
     "text": [
      "4738549\n"
     ]
    }
   ],
   "source": [
    "def compute_fuel(mass):\n",
    "    ans = 0\n",
    "    while True:\n",
    "        mass = mass // 3 - 2\n",
    "        if mass <= 0:\n",
    "            break\n",
    "        ans += mass\n",
    "    return ans\n",
    "assert(compute_fuel(100756) == 50346)\n",
    "assert(compute_fuel(14) == 2)\n",
    "assert(compute_fuel(1969) == 966)\n",
    "fuel = 0\n",
    "with open(input_path(1), 'r') as f:\n",
    "    for line in f:\n",
    "        mass = int(line)\n",
    "        fuel += compute_fuel(mass)\n",
    "print(fuel)"
   ]
  },
  {
   "cell_type": "markdown",
   "metadata": {},
   "source": [
    "# Day 2: 1202 Program Alarm"
   ]
  },
  {
   "cell_type": "code",
   "execution_count": 6,
   "metadata": {},
   "outputs": [],
   "source": [
    "def parse_code(code):\n",
    "    import operator\n",
    "    n = len(code)\n",
    "    for i in range(0, n, 4):\n",
    "        opcode = code[i]\n",
    "        if opcode == 99:\n",
    "            break\n",
    "        else:\n",
    "            left_idx = code[i + 1]\n",
    "            right_idx = code[i + 2]\n",
    "            r_idx = code[i + 3]\n",
    "            op = operator.add if opcode == 1 else operator.mul\n",
    "            code[r_idx] = op(code[left_idx], code[right_idx])\n",
    "    return code\n",
    "assert(parse_code([1,0,0,0,99]) == [2,0,0,0,99])\n",
    "assert(parse_code([2,3,0,3,99]) == [2,3,0,6,99])\n",
    "assert(parse_code([2,4,4,5,99,0]) == [2,4,4,5,99,9801])\n",
    "assert(parse_code([1,1,1,4,99,5,6,0,99]) == [30,1,1,4,2,5,6,0,99])"
   ]
  },
  {
   "cell_type": "code",
   "execution_count": 7,
   "metadata": {},
   "outputs": [
    {
     "name": "stdout",
     "output_type": "stream",
     "text": [
      "2890696\n"
     ]
    }
   ],
   "source": [
    "with open(input_path(2), 'r') as f:\n",
    "    memory = list(map(int, f.read().split(',')))\n",
    "code = memory[:]\n",
    "code[1] = 12\n",
    "code[2] = 2\n",
    "print(parse_code(code)[0])"
   ]
  },
  {
   "cell_type": "code",
   "execution_count": 8,
   "metadata": {},
   "outputs": [
    {
     "name": "stdout",
     "output_type": "stream",
     "text": [
      "8226\n"
     ]
    }
   ],
   "source": [
    "def choose_noun_and_verb(target, memory):\n",
    "    n = len(memory)\n",
    "    for noun in range(n):\n",
    "        for verb in range(n):\n",
    "            code = memory[:]\n",
    "            code[1] = noun\n",
    "            code[2] = verb\n",
    "            if parse_code(code)[0] == target:\n",
    "                return noun, verb\n",
    "    return None\n",
    "target = 19690720\n",
    "noun, verb = choose_noun_and_verb(target, memory)\n",
    "print(100 * noun + verb)"
   ]
  },
  {
   "cell_type": "markdown",
   "metadata": {},
   "source": [
    "# Day 3: Crossed Wires"
   ]
  },
  {
   "cell_type": "code",
   "execution_count": 9,
   "metadata": {},
   "outputs": [],
   "source": [
    "with open(input_path(3), 'r') as f:\n",
    "    paths = [tuple(token for token in line.split(',')) for line in f]\n",
    "path1, path2 = paths"
   ]
  },
  {
   "cell_type": "code",
   "execution_count": 10,
   "metadata": {},
   "outputs": [],
   "source": [
    "def compute_wire(path):\n",
    "    moves = dict(zip(\"LRUD\", ((-1, 0), (1, 0), (0, 1), (0, -1))))\n",
    "    x, y = 0, 0\n",
    "    wire = {}\n",
    "    steps = 0\n",
    "    for item in path:\n",
    "        d, cnt = item[0], int(item[1:])\n",
    "        dx, dy = moves[d]\n",
    "        for i in range(cnt):\n",
    "            if (x, y) not in wire:\n",
    "                wire[x, y] = steps\n",
    "            x, y = x + dx, y + dy\n",
    "            steps += 1\n",
    "    return wire"
   ]
  },
  {
   "cell_type": "code",
   "execution_count": 11,
   "metadata": {},
   "outputs": [],
   "source": [
    "wire1, wire2 = compute_wire(path1), compute_wire(path2)"
   ]
  },
  {
   "cell_type": "code",
   "execution_count": 12,
   "metadata": {},
   "outputs": [
    {
     "name": "stdout",
     "output_type": "stream",
     "text": [
      "232\n"
     ]
    }
   ],
   "source": [
    "print(min(abs(x) + abs(y) for x, y in wire1.keys() & wire2.keys() if x != 0 and y != 0))"
   ]
  },
  {
   "cell_type": "code",
   "execution_count": 13,
   "metadata": {},
   "outputs": [
    {
     "name": "stdout",
     "output_type": "stream",
     "text": [
      "6084\n"
     ]
    }
   ],
   "source": [
    "print(min(wire1[key] + wire2[key] for key in wire1.keys() & wire2.keys() if key != (0, 0)))"
   ]
  },
  {
   "cell_type": "markdown",
   "metadata": {},
   "source": [
    "# Day 4: Secure Container"
   ]
  },
  {
   "cell_type": "code",
   "execution_count": 14,
   "metadata": {},
   "outputs": [],
   "source": [
    "lo = 245182\n",
    "hi = 790572\n",
    "def valid_passwd(pw):\n",
    "    pre = 10\n",
    "    has_double = False\n",
    "    while pw:\n",
    "        d = pw % 10\n",
    "        if pre != 10:\n",
    "            if pre == d:\n",
    "                has_double = True\n",
    "            if pre < d:\n",
    "                return False\n",
    "        pre = d\n",
    "        pw //= 10\n",
    "    return has_double"
   ]
  },
  {
   "cell_type": "code",
   "execution_count": 15,
   "metadata": {},
   "outputs": [
    {
     "name": "stdout",
     "output_type": "stream",
     "text": [
      "1099\n"
     ]
    }
   ],
   "source": [
    "print(sum(valid_passwd(pw) for pw in range(lo, hi + 1)))"
   ]
  },
  {
   "cell_type": "code",
   "execution_count": 16,
   "metadata": {},
   "outputs": [],
   "source": [
    "def valid_passwd(pw):\n",
    "    pw_str = str(pw)\n",
    "    pre = None\n",
    "    has_double = False\n",
    "    for ch, g in itertools.groupby(pw_str):\n",
    "        cnt = len(list(g))\n",
    "        if pre and ch < pre:\n",
    "            return False\n",
    "        if cnt == 2:\n",
    "            has_double = True\n",
    "        pre = ch\n",
    "    return has_double"
   ]
  },
  {
   "cell_type": "code",
   "execution_count": 17,
   "metadata": {},
   "outputs": [
    {
     "name": "stdout",
     "output_type": "stream",
     "text": [
      "710\n"
     ]
    }
   ],
   "source": [
    "print(sum(valid_passwd(pw) for pw in range(lo, hi + 1)))"
   ]
  },
  {
   "cell_type": "markdown",
   "metadata": {},
   "source": [
    "# Day 5: Sunny with a Chance of Asteroids"
   ]
  },
  {
   "cell_type": "code",
   "execution_count": 18,
   "metadata": {},
   "outputs": [],
   "source": [
    "with open(input_path(5), 'r') as f:\n",
    "    code = list(map(int, f.read().split(',')))"
   ]
  },
  {
   "cell_type": "code",
   "execution_count": 19,
   "metadata": {},
   "outputs": [],
   "source": [
    "def parse_code_new(in_code, in_val):\n",
    "    import operator\n",
    "    code = in_code[:]\n",
    "    n = len(code)\n",
    "    i = 0\n",
    "    def get(para, mode):\n",
    "        return code[para] if mode == 0 else para\n",
    "    while i < n:\n",
    "        instruct = \"{:05d}\".format(code[i])\n",
    "        opcode = int(instruct[-2:])\n",
    "        left_mode = int(instruct[2])\n",
    "        right_mode = int(instruct[1])\n",
    "        r_mode = int(instruct[0])\n",
    "        if opcode == 99:\n",
    "            break\n",
    "        elif opcode == 3:\n",
    "            code[code[i + 1]] = in_val\n",
    "            i += 2\n",
    "        elif opcode == 4:\n",
    "            print(get(code[i + 1], left_mode))\n",
    "            i += 2\n",
    "        elif opcode == 1 or opcode == 2:\n",
    "            op = operator.mul if opcode == 2 else operator.add\n",
    "            val = op(get(code[i + 1], left_mode), get(code[i + 2], right_mode))\n",
    "            code[code[i + 3]] = val\n",
    "            i += 4\n",
    "        elif opcode == 5:\n",
    "            first_para = get(code[i + 1], left_mode)\n",
    "            if first_para != 0:\n",
    "                i = get(code[i + 2], right_mode)\n",
    "            else:\n",
    "                i += 3\n",
    "        elif opcode == 6:\n",
    "            first_para = get(code[i + 1], left_mode)\n",
    "            if first_para == 0:\n",
    "                i = get(code[i + 2], right_mode)\n",
    "            else:\n",
    "                i += 3\n",
    "        elif opcode == 7:\n",
    "            if get(code[i + 1], left_mode) < get(code[i + 2], right_mode):\n",
    "                code[code[i + 3]] = 1\n",
    "            else:\n",
    "                code[code[i + 3]] = 0\n",
    "            i += 4\n",
    "        elif opcode == 8:\n",
    "            if get(code[i + 1], left_mode) == get(code[i + 2], right_mode):\n",
    "                code[code[i + 3]] = 1\n",
    "            else:\n",
    "                code[code[i + 3]] = 0\n",
    "            i += 4\n",
    "        else:\n",
    "            assert(False)\n",
    "    return code"
   ]
  },
  {
   "cell_type": "code",
   "execution_count": 20,
   "metadata": {},
   "outputs": [
    {
     "name": "stdout",
     "output_type": "stream",
     "text": [
      "0\n",
      "0\n",
      "0\n",
      "0\n",
      "0\n",
      "0\n",
      "0\n",
      "0\n",
      "0\n",
      "6731945\n"
     ]
    }
   ],
   "source": [
    "parse_code_new(code, in_val=1);"
   ]
  },
  {
   "cell_type": "code",
   "execution_count": 21,
   "metadata": {},
   "outputs": [
    {
     "name": "stdout",
     "output_type": "stream",
     "text": [
      "999\n"
     ]
    }
   ],
   "source": [
    "test_in = [3,21,1008,21,8,20,1005,20,22,107,8,21,20,1006,20,31,\n",
    "1106,0,36,98,0,0,1002,21,125,20,4,20,1105,1,46,104,\n",
    "999,1105,1,46,1101,1000,1,20,4,20,1105,1,46,98,99]\n",
    "parse_code_new(test_in, 7);"
   ]
  },
  {
   "cell_type": "code",
   "execution_count": 22,
   "metadata": {},
   "outputs": [
    {
     "name": "stdout",
     "output_type": "stream",
     "text": [
      "9571668\n"
     ]
    }
   ],
   "source": [
    "parse_code_new(code, in_val=5);"
   ]
  },
  {
   "cell_type": "markdown",
   "metadata": {},
   "source": [
    "# Day 6: Universal Orbit Map"
   ]
  },
  {
   "cell_type": "code",
   "execution_count": 23,
   "metadata": {},
   "outputs": [],
   "source": [
    "def count_orbits(infile):\n",
    "    import collections\n",
    "    tree = collections.defaultdict(list)\n",
    "    with open(infile, 'r') as f:\n",
    "        for line in f:\n",
    "            u, v = line.strip().split(')')\n",
    "            tree[u].append(v)\n",
    "    norbits = 0\n",
    "    def dfs(node, depth):\n",
    "        nonlocal norbits\n",
    "        norbits += depth\n",
    "        for child in tree[node]:\n",
    "            dfs(child, depth + 1)\n",
    "    dfs('COM', 0)\n",
    "    return norbits"
   ]
  },
  {
   "cell_type": "code",
   "execution_count": 24,
   "metadata": {},
   "outputs": [],
   "source": [
    "# print(count_orbits(input_path_sample(6)))\n",
    "assert(count_orbits(input_path_sample(6)) == 42)"
   ]
  },
  {
   "cell_type": "code",
   "execution_count": 25,
   "metadata": {},
   "outputs": [
    {
     "name": "stdout",
     "output_type": "stream",
     "text": [
      "301100\n"
     ]
    }
   ],
   "source": [
    "print(count_orbits(input_path(6)))"
   ]
  },
  {
   "cell_type": "code",
   "execution_count": 26,
   "metadata": {},
   "outputs": [],
   "source": [
    "def find_path(infile, target=\"SAN\"):\n",
    "    import collections\n",
    "    tree = collections.defaultdict(list)\n",
    "    with open(infile, 'r') as f:\n",
    "        for line in f:\n",
    "            u, v = line.strip().split(')')\n",
    "            tree[u].append(v)\n",
    "            tree[v].append(u)\n",
    "    frontier = [(\"YOU\", None, 0)]\n",
    "    while frontier:\n",
    "        node, parent, depth = frontier.pop()\n",
    "        if node == target:\n",
    "            return depth - 2\n",
    "        for nei in tree[node]:\n",
    "            if nei != parent:\n",
    "                frontier.append((nei, node, depth + 1))"
   ]
  },
  {
   "cell_type": "code",
   "execution_count": 27,
   "metadata": {},
   "outputs": [
    {
     "name": "stdout",
     "output_type": "stream",
     "text": [
      "547\n"
     ]
    }
   ],
   "source": [
    "print(find_path(input_path(6)))"
   ]
  },
  {
   "cell_type": "code",
   "execution_count": null,
   "metadata": {},
   "outputs": [],
   "source": []
  }
 ],
 "metadata": {
  "kernelspec": {
   "display_name": "Python 3",
   "language": "python",
   "name": "python3"
  },
  "language_info": {
   "codemirror_mode": {
    "name": "ipython",
    "version": 3
   },
   "file_extension": ".py",
   "mimetype": "text/x-python",
   "name": "python",
   "nbconvert_exporter": "python",
   "pygments_lexer": "ipython3",
   "version": "3.7.3"
  }
 },
 "nbformat": 4,
 "nbformat_minor": 2
}
