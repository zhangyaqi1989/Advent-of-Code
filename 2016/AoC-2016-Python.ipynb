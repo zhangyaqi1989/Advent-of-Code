{
 "cells": [
  {
   "cell_type": "markdown",
   "metadata": {},
   "source": [
    "# Day 0: Imports and Utility Functions"
   ]
  },
  {
   "cell_type": "code",
   "execution_count": 1,
   "metadata": {},
   "outputs": [],
   "source": [
    "%matplotlib inline\n",
    "import matplotlib.pyplot as plt\n",
    "\n",
    "import os\n",
    "import re\n",
    "import numpy as np\n",
    "import random\n",
    "import string\n",
    "from collections import Counter, defaultdict, namedtuple, deque, OrderedDict\n",
    "from functools   import lru_cache, reduce\n",
    "from statistics  import mean, median, mode, stdev, variance\n",
    "from itertools   import (permutations, combinations, groupby, cycle, chain, zip_longest, takewhile, dropwhile, count as count_from)\n",
    "from heapq       import heappush, heappop, nsmallest\n",
    "from operator    import iand, ior, ilshift, irshift"
   ]
  },
  {
   "cell_type": "markdown",
   "metadata": {},
   "source": [
    "# Day 1: No Time for a Taxicab"
   ]
  },
  {
   "cell_type": "code",
   "execution_count": 2,
   "metadata": {},
   "outputs": [
    {
     "name": "stdout",
     "output_type": "stream",
     "text": [
      "300\n",
      "(9, -150)\n"
     ]
    }
   ],
   "source": [
    "with open(\"inputs/day1.txt\", 'r') as f:\n",
    "    dirs = [(0, 1), (1, 0), (0, -1), (-1, 0)]\n",
    "    orders = f.read().split(', ')\n",
    "    x, y = 0, 0\n",
    "    idx = 0\n",
    "    repeat = None\n",
    "    positions = {(x, y)}\n",
    "    for order in orders:\n",
    "        d, num = order[0], int(order[1:])\n",
    "        if d == 'L':\n",
    "            idx -= 1\n",
    "            if idx < 0:\n",
    "                idx = 3\n",
    "        else:\n",
    "            idx += 1\n",
    "            if idx > 3:\n",
    "                idx = 0\n",
    "        dx, dy = dirs[idx]\n",
    "        for i in range(num):\n",
    "            x, y = x + dx, y + dy\n",
    "            if (x, y) in positions:\n",
    "                if repeat is None:\n",
    "                    repeat = (x, y)\n",
    "            else:\n",
    "                positions.add((x, y))\n",
    "    print(abs(x) + abs(y))\n",
    "    print(repeat)"
   ]
  },
  {
   "cell_type": "markdown",
   "metadata": {},
   "source": [
    "# Day 2: Bathroom Security"
   ]
  },
  {
   "cell_type": "code",
   "execution_count": 3,
   "metadata": {},
   "outputs": [],
   "source": [
    "grid = [[1, 2, 3], [4, 5, 6], [7, 8, 9]]\n",
    "dirs = dict(U=(-1, 0), D=(1, 0), L=(0, -1), R=(0, 1))"
   ]
  },
  {
   "cell_type": "code",
   "execution_count": 4,
   "metadata": {},
   "outputs": [
    {
     "name": "stdout",
     "output_type": "stream",
     "text": [
      "33444\n"
     ]
    }
   ],
   "source": [
    "with open('inputs/day2.txt', 'r') as f:\n",
    "    i, j = 1, 1\n",
    "    ans = []\n",
    "    m, n = len(grid), len(grid[0])\n",
    "    for line in f.readlines():\n",
    "        for ch in line.strip():\n",
    "            di, dj = dirs[ch]\n",
    "            i, j = i + di, j + dj\n",
    "            if not (0 <= i < m and 0 <= j < n):\n",
    "                i, j = i - di, j - dj\n",
    "        ans.append(grid[i][j])\n",
    "    print(''.join(map(str, ans)))"
   ]
  },
  {
   "cell_type": "code",
   "execution_count": 5,
   "metadata": {},
   "outputs": [
    {
     "name": "stdout",
     "output_type": "stream",
     "text": [
      "446A6\n"
     ]
    }
   ],
   "source": [
    "grid = [[0, 0, 1, 0, 0], [0, 2, 3, 4, 0], [5, 6, 7, 8, 9], [0, 'A', 'B', 'C', 0], [0, 0, 'D', 0, 0]]\n",
    "with open('inputs/day2.txt', 'r') as f:\n",
    "    i, j = 2, 0\n",
    "    ans = []\n",
    "    m, n = len(grid), len(grid[0])\n",
    "    for line in f.readlines():\n",
    "        for ch in line.strip():\n",
    "            di, dj = dirs[ch]\n",
    "            i, j = i + di, j + dj\n",
    "            if not (0 <= i < m and 0 <= j < n) or grid[i][j] == 0:\n",
    "                i, j = i - di, j - dj\n",
    "        ans.append(grid[i][j])\n",
    "    print(''.join(map(str, ans)))"
   ]
  },
  {
   "cell_type": "markdown",
   "metadata": {},
   "source": [
    "# Day 3: Squares With Three Sides"
   ]
  },
  {
   "cell_type": "code",
   "execution_count": 6,
   "metadata": {},
   "outputs": [],
   "source": [
    "def is_triangle(triangle):\n",
    "    s = sum(triangle)\n",
    "    m = max(triangle)\n",
    "    return s - m > m"
   ]
  },
  {
   "cell_type": "code",
   "execution_count": 7,
   "metadata": {},
   "outputs": [
    {
     "name": "stdout",
     "output_type": "stream",
     "text": [
      "917\n"
     ]
    }
   ],
   "source": [
    "with open('inputs/day3.txt', 'r') as f:\n",
    "    print(sum(is_triangle(tuple(map(int, line.split()))) for line in f))"
   ]
  },
  {
   "cell_type": "code",
   "execution_count": 8,
   "metadata": {},
   "outputs": [],
   "source": [
    "m = np.loadtxt('inputs/day3.txt').flatten('F') # flatten "
   ]
  },
  {
   "cell_type": "code",
   "execution_count": 9,
   "metadata": {},
   "outputs": [],
   "source": [
    "m = m.reshape((len(m)//3, 3))"
   ]
  },
  {
   "cell_type": "code",
   "execution_count": 10,
   "metadata": {},
   "outputs": [
    {
     "name": "stdout",
     "output_type": "stream",
     "text": [
      "1649\n"
     ]
    }
   ],
   "source": [
    "print(sum(is_triangle(tuple(row)) for row in m))"
   ]
  },
  {
   "cell_type": "markdown",
   "metadata": {},
   "source": [
    "# Day 4: Security Through Obscurity"
   ]
  },
  {
   "cell_type": "code",
   "execution_count": 11,
   "metadata": {},
   "outputs": [
    {
     "name": "stdout",
     "output_type": "stream",
     "text": [
      "361724\n"
     ]
    }
   ],
   "source": [
    "with open('inputs/day4.txt', 'r') as f:\n",
    "    ans = 0\n",
    "    for line in f.readlines():\n",
    "        line = line.strip()\n",
    "        letters, id_check = line.rsplit('-', 1)\n",
    "        counter = Counter(letters.replace('-', ''))\n",
    "        pairs = [(-cnt, ch) for ch, cnt in counter.items() if ch.isalpha()]\n",
    "        checksum = ''.join(ch for _, ch in heapq.nsmallest(5, pairs))\n",
    "        if checksum == id_check[-6:-1]:\n",
    "            ans += int(id_check[:-7])\n",
    "print(ans)"
   ]
  },
  {
   "cell_type": "code",
   "execution_count": 12,
   "metadata": {},
   "outputs": [
    {
     "name": "stdout",
     "output_type": "stream",
     "text": [
      "482\n"
     ]
    }
   ],
   "source": [
    "with open('inputs/day4.txt', 'r') as f:\n",
    "    L = string.ascii_lowercase\n",
    "    for line in f:\n",
    "        line = line.strip()\n",
    "        letters, id_check = line.rsplit('-', 1)\n",
    "        ID = int(id_check[:-7])\n",
    "        move = ID % 26\n",
    "        letters = list(letters)\n",
    "        for i, ch in enumerate(letters):\n",
    "            if ch.isalpha():\n",
    "                pos = ord(ch) - 97\n",
    "                pos = (pos + move) % 26\n",
    "                letters[i] = L[pos]\n",
    "            else:\n",
    "                letters[i] = ' '\n",
    "        letters = ''.join(letters)\n",
    "        if \"north\" in letters:\n",
    "            print(ID)"
   ]
  },
  {
   "cell_type": "markdown",
   "metadata": {},
   "source": [
    "# Day 5: How About a Nice Game of Chess?"
   ]
  },
  {
   "cell_type": "code",
   "execution_count": 13,
   "metadata": {},
   "outputs": [
    {
     "name": "stdout",
     "output_type": "stream",
     "text": [
      "2414bc77\n"
     ]
    }
   ],
   "source": [
    "import hashlib\n",
    "s = \"wtnhxymk\"\n",
    "i = 0\n",
    "ans = ''\n",
    "while len(ans) < 8:\n",
    "    m = hashlib.md5()\n",
    "    m.update((s + str(i)).encode('utf-8'))\n",
    "    code = m.hexdigest()\n",
    "    if code.startswith('00000'):\n",
    "        ans += code[5]\n",
    "    i += 1\n",
    "print(ans)"
   ]
  },
  {
   "cell_type": "code",
   "execution_count": 14,
   "metadata": {},
   "outputs": [
    {
     "name": "stdout",
     "output_type": "stream",
     "text": [
      "['4', '3', '7', 'e', '6', '0', 'f', 'c']\n"
     ]
    }
   ],
   "source": [
    "s = \"wtnhxymk\"\n",
    "i = 0\n",
    "ans = [None] * 8\n",
    "cnt = 0\n",
    "while cnt < 8:\n",
    "    m = hashlib.md5()\n",
    "    m.update((s + str(i)).encode('utf-8'))\n",
    "    code = m.hexdigest()\n",
    "    if code.startswith('00000'):\n",
    "        if code[5].isdigit() and int(code[5]) < 8 and ans[int(code[5])] is None:\n",
    "            ans[int(code[5])] = code[6]\n",
    "            cnt += 1\n",
    "    i += 1\n",
    "print(ans)"
   ]
  },
  {
   "cell_type": "code",
   "execution_count": 15,
   "metadata": {},
   "outputs": [
    {
     "name": "stdout",
     "output_type": "stream",
     "text": [
      "437e60fc\n"
     ]
    }
   ],
   "source": [
    "print(''.join(ans))"
   ]
  },
  {
   "cell_type": "markdown",
   "metadata": {},
   "source": [
    "# Day 6: Signals and Noise"
   ]
  },
  {
   "cell_type": "code",
   "execution_count": 16,
   "metadata": {},
   "outputs": [
    {
     "name": "stdout",
     "output_type": "stream",
     "text": [
      "mshjnduc\n",
      "apfeeebz\n"
     ]
    }
   ],
   "source": [
    "counters = [Counter() for _ in range(8)]\n",
    "with open('inputs/day6.txt', 'r') as f:\n",
    "    for line in f:\n",
    "        for counter, ch in zip(counters, line):\n",
    "            counter[ch] += 1\n",
    "print(''.join([counter.most_common(1)[0][0] for counter in counters]))\n",
    "print(''.join([counter.most_common()[-1][0] for counter in counters]))"
   ]
  },
  {
   "cell_type": "markdown",
   "metadata": {},
   "source": [
    "# Day 7: Internet Protocol Version 7"
   ]
  },
  {
   "cell_type": "code",
   "execution_count": 17,
   "metadata": {},
   "outputs": [],
   "source": [
    "def support_TLS(line):\n",
    "    has = False\n",
    "    for i in range(len(line) - 3):\n",
    "        four = line[i:i + 4]\n",
    "        if four[0] == four[3] and four[1] == four[2] and four[0] != four[1]:\n",
    "            j = i - 1\n",
    "            while j >= 0 and line[j] != ']':\n",
    "                if line[j] == '[':\n",
    "                    return False\n",
    "                j -= 1\n",
    "            has = True\n",
    "    return has"
   ]
  },
  {
   "cell_type": "code",
   "execution_count": 18,
   "metadata": {},
   "outputs": [
    {
     "name": "stdout",
     "output_type": "stream",
     "text": [
      "105\n"
     ]
    }
   ],
   "source": [
    "with open('inputs/day7.txt', 'r') as f:\n",
    "    print(sum(support_TLS(line) for line in f))"
   ]
  },
  {
   "cell_type": "code",
   "execution_count": 19,
   "metadata": {},
   "outputs": [
    {
     "name": "stdout",
     "output_type": "stream",
     "text": [
      "258\n"
     ]
    }
   ],
   "source": [
    "def support_SSL(line):\n",
    "    outs = set()\n",
    "    ins = set()\n",
    "    for i in range(len(line) - 2):\n",
    "        three = line[i:i + 3]\n",
    "        if three[0] == three[2] != three[1]:\n",
    "            j = i - 1\n",
    "            while j >= 0 and line[j] != ']':\n",
    "                if line[j] == '[':\n",
    "                    ins.add(three)\n",
    "                    break\n",
    "                j -= 1\n",
    "            else:\n",
    "                outs.add(three)\n",
    "    return any((three[1] + three[0] + three[1]) in outs for three in ins)\n",
    "with open('inputs/day7.txt', 'r') as f:\n",
    "    print(sum(support_SSL(line) for line in f))"
   ]
  },
  {
   "cell_type": "markdown",
   "metadata": {},
   "source": [
    "# Day 8: Two-Factor Authentication"
   ]
  },
  {
   "cell_type": "code",
   "execution_count": 20,
   "metadata": {},
   "outputs": [
    {
     "name": "stdout",
     "output_type": "stream",
     "text": [
      "119\n"
     ]
    }
   ],
   "source": [
    "m, n = 6, 50\n",
    "grid = [[0] * n for _ in range(m)]\n",
    "with open('inputs/day8.txt', 'r') as f:\n",
    "    for i, line in enumerate(f):\n",
    "#         print(i)\n",
    "        if line.startswith('rect'):\n",
    "            _, item = line.split()\n",
    "            c, r = item.split('x')\n",
    "            for i in range(int(r)):\n",
    "                for j in range(int(c)):\n",
    "                    grid[i][j] = 1\n",
    "        else:\n",
    "            *_, rc, _, num = line.split()\n",
    "            num = int(num)\n",
    "            if rc[0] == 'y':\n",
    "                # rotate row\n",
    "                r = int(rc[2:])\n",
    "                num = num % n\n",
    "                if num != 0:\n",
    "                    grid[r] = grid[r][-num:] + grid[r][:-num]\n",
    "            else:\n",
    "                # rotate col\n",
    "                c =int(rc[2:])\n",
    "                col = [grid[i][c] for i in range(m)]\n",
    "                num = num % m\n",
    "                if num != 0:\n",
    "                    col = col[-num:] + col[:-num]\n",
    "                    for i in range(m):\n",
    "                        grid[i][c] = col[i]\n",
    "print(sum(map(sum, grid)))"
   ]
  },
  {
   "cell_type": "code",
   "execution_count": 21,
   "metadata": {},
   "outputs": [
    {
     "data": {
      "text/plain": [
       "(6, 50)"
      ]
     },
     "execution_count": 21,
     "metadata": {},
     "output_type": "execute_result"
    }
   ],
   "source": [
    "len(grid), len(grid[0])"
   ]
  },
  {
   "cell_type": "code",
   "execution_count": 22,
   "metadata": {},
   "outputs": [
    {
     "data": {
      "text/plain": [
       "[12, 11, 14, 11, 11, 11, 12, 13, 12, 12]"
      ]
     },
     "execution_count": 22,
     "metadata": {},
     "output_type": "execute_result"
    }
   ],
   "source": [
    "cols = zip(*grid)\n",
    "iters = [iter(cols)] * 5\n",
    "code = list(zip(*iters))\n",
    "[sum(map(sum, item)) for item in code]"
   ]
  },
  {
   "cell_type": "code",
   "execution_count": 23,
   "metadata": {},
   "outputs": [
    {
     "name": "stdout",
     "output_type": "stream",
     "text": [
      "(1, 1, 1, 1, 0)\n",
      "(0, 0, 0, 1, 0)\n",
      "(0, 0, 1, 0, 0)\n",
      "(0, 1, 0, 0, 0)\n",
      "(1, 0, 0, 0, 0)\n",
      "(1, 1, 1, 1, 0)\n",
      "\n",
      "(1, 1, 1, 1, 0)\n",
      "(1, 0, 0, 0, 0)\n",
      "(1, 1, 1, 0, 0)\n",
      "(1, 0, 0, 0, 0)\n",
      "(1, 0, 0, 0, 0)\n",
      "(1, 0, 0, 0, 0)\n",
      "\n",
      "(1, 0, 0, 1, 0)\n",
      "(1, 0, 0, 1, 0)\n",
      "(1, 1, 1, 1, 0)\n",
      "(1, 0, 0, 1, 0)\n",
      "(1, 0, 0, 1, 0)\n",
      "(1, 0, 0, 1, 0)\n",
      "\n",
      "(1, 1, 1, 1, 0)\n",
      "(1, 0, 0, 0, 0)\n",
      "(1, 1, 1, 0, 0)\n",
      "(1, 0, 0, 0, 0)\n",
      "(1, 0, 0, 0, 0)\n",
      "(1, 0, 0, 0, 0)\n",
      "\n",
      "(0, 1, 1, 1, 0)\n",
      "(1, 0, 0, 0, 0)\n",
      "(1, 0, 0, 0, 0)\n",
      "(0, 1, 1, 0, 0)\n",
      "(0, 0, 0, 1, 0)\n",
      "(1, 1, 1, 0, 0)\n",
      "\n",
      "(1, 1, 1, 1, 0)\n",
      "(1, 0, 0, 0, 0)\n",
      "(1, 1, 1, 0, 0)\n",
      "(1, 0, 0, 0, 0)\n",
      "(1, 0, 0, 0, 0)\n",
      "(1, 0, 0, 0, 0)\n",
      "\n",
      "(0, 1, 1, 0, 0)\n",
      "(1, 0, 0, 1, 0)\n",
      "(1, 0, 0, 1, 0)\n",
      "(1, 0, 0, 1, 0)\n",
      "(1, 0, 0, 1, 0)\n",
      "(0, 1, 1, 0, 0)\n",
      "\n",
      "(0, 1, 1, 0, 0)\n",
      "(1, 0, 0, 1, 0)\n",
      "(1, 0, 0, 0, 0)\n",
      "(1, 0, 1, 1, 0)\n",
      "(1, 0, 0, 1, 0)\n",
      "(0, 1, 1, 1, 0)\n",
      "\n",
      "(1, 1, 1, 0, 0)\n",
      "(1, 0, 0, 1, 0)\n",
      "(1, 0, 0, 1, 0)\n",
      "(1, 1, 1, 0, 0)\n",
      "(1, 0, 0, 0, 0)\n",
      "(1, 0, 0, 0, 0)\n",
      "\n",
      "(0, 1, 1, 0, 0)\n",
      "(1, 0, 0, 1, 0)\n",
      "(1, 0, 0, 1, 0)\n",
      "(1, 0, 0, 1, 0)\n",
      "(1, 0, 0, 1, 0)\n",
      "(0, 1, 1, 0, 0)\n",
      "\n"
     ]
    }
   ],
   "source": [
    "for letter in code:\n",
    "    for row in zip(*letter):\n",
    "        print(row)\n",
    "    print()"
   ]
  },
  {
   "cell_type": "markdown",
   "metadata": {},
   "source": [
    "# Day 9: Explosives in Cyberspace"
   ]
  },
  {
   "cell_type": "code",
   "execution_count": 24,
   "metadata": {},
   "outputs": [
    {
     "name": "stdout",
     "output_type": "stream",
     "text": [
      "183269\n",
      "11317278863\n"
     ]
    }
   ],
   "source": [
    "def decompress_v1(line):\n",
    "    l = line.find('(')\n",
    "    if l != -1:\n",
    "        r = line.find(')', l)\n",
    "        length, num = line[l+1:r].split('x')\n",
    "        num = int(num)\n",
    "        length = int(length)\n",
    "        return l + length * num + decompress_v1(line[r + 1 + length:])\n",
    "    else:\n",
    "        return len(line)\n",
    "def decompress_v2(line):\n",
    "    l = line.find('(')\n",
    "    if l != -1:\n",
    "        r = line.find(')', l)\n",
    "        length, num = line[l+1:r].split('x')\n",
    "        num = int(num)\n",
    "        length = int(length)\n",
    "        return l + num * decompress_v2(line[r+1:r+1+length]) + decompress_v2(line[r + 1 + length:])\n",
    "    else:\n",
    "        return len(line)\n",
    "with open('inputs/day9.txt', 'r') as f:\n",
    "    line = f.read()\n",
    "print(decompress_v1(line))\n",
    "print(decompress_v2(line))"
   ]
  },
  {
   "cell_type": "markdown",
   "metadata": {},
   "source": [
    "# Day 10: Balance Bots"
   ]
  },
  {
   "cell_type": "code",
   "execution_count": 25,
   "metadata": {},
   "outputs": [],
   "source": [
    "bots = defaultdict(list)\n",
    "operators = defaultdict(list)\n",
    "bins = defaultdict(list)\n",
    "with open('inputs/day10.txt', 'r') as f:\n",
    "    lines = f.readlines()\n",
    "    inits = [line.strip() for line in lines if line.startswith('value')]\n",
    "    ops = [line.strip() for line in lines if line.startswith('bot')]\n",
    "for init in inits:\n",
    "    _, num, *_, bot_num = init.split()\n",
    "    bots[int(bot_num)].append(int(num))\n",
    "for key in bots:\n",
    "    bots[key].sort()\n",
    "for op in ops:\n",
    "    items = op.split()\n",
    "    assert(int(items[1]) not in operators)\n",
    "    operators[int(items[1])] = [items[5:7], items[-2:]]"
   ]
  },
  {
   "cell_type": "code",
   "execution_count": 26,
   "metadata": {},
   "outputs": [],
   "source": [
    "def bot_op(dest, dest_num, num):\n",
    "    if dest == 'output':\n",
    "        bins[dest_num].append(num)\n",
    "    else:\n",
    "        bots[dest_num].append(num)\n",
    "        bots[dest_num].sort()\n",
    "flag = True\n",
    "while flag:\n",
    "    flag = False\n",
    "    for bot_num in bots:\n",
    "        if len(bots[bot_num]) == 2 and bot_num in operators:\n",
    "            assert(bot_num in operators)\n",
    "            low, high = operators.pop(bot_num)\n",
    "            low, low_dest = low\n",
    "            high, high_dest = high\n",
    "            low_num, high_num = bots[bot_num]\n",
    "            if low_num == 17 and high_num == 62:\n",
    "                print(bot_num)\n",
    "            bot_op(low, int(low_dest), low_num)\n",
    "            bot_op(high, int(high_dest), high_num)\n",
    "            flag = True\n",
    "            break"
   ]
  },
  {
   "cell_type": "code",
   "execution_count": 27,
   "metadata": {},
   "outputs": [
    {
     "name": "stdout",
     "output_type": "stream",
     "text": [
      "86\n"
     ]
    }
   ],
   "source": [
    "for key in bots:\n",
    "    if bots[key] == [17, 61]:\n",
    "        print(key)"
   ]
  },
  {
   "cell_type": "code",
   "execution_count": 28,
   "metadata": {},
   "outputs": [
    {
     "data": {
      "text/plain": [
       "22847"
      ]
     },
     "execution_count": 28,
     "metadata": {},
     "output_type": "execute_result"
    }
   ],
   "source": [
    "bins[0][0] * bins[1][0] * bins[2][0]"
   ]
  },
  {
   "cell_type": "markdown",
   "metadata": {},
   "source": [
    "# Day 11: Radioisotope Thermoelectric Generators"
   ]
  },
  {
   "cell_type": "code",
   "execution_count": null,
   "metadata": {},
   "outputs": [],
   "source": []
  }
 ],
 "metadata": {
  "kernelspec": {
   "display_name": "Python 3",
   "language": "python",
   "name": "python3"
  },
  "language_info": {
   "codemirror_mode": {
    "name": "ipython",
    "version": 3
   },
   "file_extension": ".py",
   "mimetype": "text/x-python",
   "name": "python",
   "nbconvert_exporter": "python",
   "pygments_lexer": "ipython3",
   "version": "3.6.6"
  }
 },
 "nbformat": 4,
 "nbformat_minor": 2
}
