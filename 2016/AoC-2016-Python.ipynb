{
 "cells": [
  {
   "cell_type": "code",
   "execution_count": 14,
   "metadata": {},
   "outputs": [],
   "source": [
    "using DelimitedFiles"
   ]
  },
  {
   "cell_type": "markdown",
   "metadata": {},
   "source": [
    "# Day 1: No Time for a Taxicab"
   ]
  },
  {
   "cell_type": "code",
   "execution_count": 1,
   "metadata": {},
   "outputs": [
    {
     "name": "stdout",
     "output_type": "stream",
     "text": [
      "300\n",
      "(9, -150)\n"
     ]
    }
   ],
   "source": [
    "open(\"inputs/day1.txt\", \"r\") do f\n",
    "    content = read(f, String)\n",
    "    orders = [(item[1], parse(Int64, item[2:end])) for item in split(content, \", \")]\n",
    "    x, y = 0, 0\n",
    "    dirs = [(0, 1), (1, 0), (0, -1), (-1, 0)]\n",
    "    repeat_pos = Inf\n",
    "    positions = Set([(x, y)])\n",
    "    idx = 1\n",
    "    for (dir, dis) in orders\n",
    "        if dir == 'L'\n",
    "            idx -= 1\n",
    "            if idx < 1\n",
    "                idx = 4\n",
    "            end\n",
    "        else\n",
    "            idx += 1\n",
    "            if idx > 4\n",
    "                idx = 1\n",
    "            end\n",
    "        end\n",
    "        dx, dy = dirs[idx]\n",
    "        for i = 1:dis\n",
    "            x, y = dx + x, dy + y\n",
    "            if in((x, y), positions)\n",
    "                if repeat_pos == Inf\n",
    "                    repeat_pos = (x, y)\n",
    "                end\n",
    "            else\n",
    "                push!(positions, (x, y))\n",
    "            end\n",
    "        end\n",
    "    end\n",
    "    println(abs(x) + abs(y))\n",
    "    println(repeat_pos)\n",
    "end\n"
   ]
  },
  {
   "cell_type": "markdown",
   "metadata": {},
   "source": [
    "# Day 2: Bathroom Security"
   ]
  },
  {
   "cell_type": "code",
   "execution_count": 2,
   "metadata": {},
   "outputs": [
    {
     "name": "stdout",
     "output_type": "stream",
     "text": [
      "33444\n",
      "446A6\n"
     ]
    }
   ],
   "source": [
    "function bathroom_code(grid)\n",
    "    res = \"\"\n",
    "    m, n = size(grid)\n",
    "    open(\"inputs/day2.txt\", \"r\") do f\n",
    "        content = read(f, String)\n",
    "        dirs = Dict('R'=>(0, 1), 'L'=>(0, -1), 'U'=>(-1, 0), 'D'=>(1, 0))\n",
    "        i, j = 2, 2\n",
    "        for line in split(content, '\\n')\n",
    "            for ch in line\n",
    "                di, dj = dirs[ch]\n",
    "                i, j = i + di, j + dj\n",
    "                if i < 1 || i > m || j < 1 || j > n || grid[i, j] == 0\n",
    "                    i, j = i - di, j - dj\n",
    "                end\n",
    "            end\n",
    "            res = res * string(grid[i, j])\n",
    "        end\n",
    "    end\n",
    "    return res\n",
    "end\n",
    "grid = [1 2 3; 4 5 6; 7 8 9]\n",
    "println(bathroom_code(grid))\n",
    "grid = [0 0 1 0 0; 0 2 3 4 0; 5 6 7 8 9; 0 'A' 'B' 'C' 0; 0 0 'D' 0 0]\n",
    "println(bathroom_code(grid))"
   ]
  },
  {
   "cell_type": "markdown",
   "metadata": {},
   "source": [
    "# Day 3: Squares With Three Sides"
   ]
  },
  {
   "cell_type": "code",
   "execution_count": 11,
   "metadata": {},
   "outputs": [
    {
     "name": "stdout",
     "output_type": "stream",
     "text": [
      "917"
     ]
    }
   ],
   "source": [
    "function valid_triangle(triangle)\n",
    "    m = maximum(triangle)\n",
    "    s = sum(triangle) - m\n",
    "    return s > m\n",
    "end\n",
    "\n",
    "\n",
    "open(\"inputs/day3.txt\", \"r\") do file\n",
    "    cnt = 0\n",
    "    for ln in eachline(file)\n",
    "        triangle = [parse(Int64, x) for x in split(ln)]\n",
    "        if valid_triangle(triangle)\n",
    "            cnt += 1\n",
    "        end\n",
    "    end\n",
    "    print(cnt)\n",
    "end"
   ]
  },
  {
   "cell_type": "code",
   "execution_count": 13,
   "metadata": {},
   "outputs": [
    {
     "ename": "UndefVarError",
     "evalue": "UndefVarError: readlm not defined",
     "output_type": "error",
     "traceback": [
      "UndefVarError: readlm not defined",
      "",
      "Stacktrace:",
      " [1] top-level scope at In[13]:1"
     ]
    }
   ],
   "source": [
    "readlm(\"inputs/day3.txt\")"
   ]
  },
  {
   "cell_type": "code",
   "execution_count": null,
   "metadata": {},
   "outputs": [],
   "source": []
  }
 ],
 "metadata": {
  "kernelspec": {
   "display_name": "Julia 1.0.2",
   "language": "julia",
   "name": "julia-1.0"
  },
  "language_info": {
   "file_extension": ".jl",
   "mimetype": "application/julia",
   "name": "julia",
   "version": "1.0.2"
  }
 },
 "nbformat": 4,
 "nbformat_minor": 2
}
