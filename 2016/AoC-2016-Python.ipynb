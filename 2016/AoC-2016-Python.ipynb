{
 "cells": [
  {
   "cell_type": "markdown",
   "metadata": {},
   "source": [
    "# Day 0: Imports and Utility Functions"
   ]
  },
  {
   "cell_type": "code",
   "execution_count": 1,
   "metadata": {},
   "outputs": [],
   "source": [
    "%matplotlib inline\n",
    "import matplotlib.pyplot as plt\n",
    "\n",
    "import os\n",
    "import re\n",
    "import numpy as np\n",
    "import random\n",
    "from collections import Counter, defaultdict, namedtuple, deque, OrderedDict\n",
    "from functools   import lru_cache, reduce\n",
    "from statistics  import mean, median, mode, stdev, variance\n",
    "from itertools   import (permutations, combinations, groupby, cycle, chain, zip_longest, takewhile, dropwhile, count as count_from)\n",
    "from heapq       import heappush, heappop\n",
    "from operator    import iand, ior, ilshift, irshift"
   ]
  },
  {
   "cell_type": "markdown",
   "metadata": {},
   "source": [
    "# Day 1: No Time for a Taxicab"
   ]
  },
  {
   "cell_type": "code",
   "execution_count": 2,
   "metadata": {},
   "outputs": [
    {
     "name": "stdout",
     "output_type": "stream",
     "text": [
      "300\n",
      "(9, -150)\n"
     ]
    }
   ],
   "source": [
    "with open(\"inputs/day1.txt\", 'r') as f:\n",
    "    dirs = [(0, 1), (1, 0), (0, -1), (-1, 0)]\n",
    "    orders = f.read().split(', ')\n",
    "    x, y = 0, 0\n",
    "    idx = 0\n",
    "    repeat = None\n",
    "    positions = {(x, y)}\n",
    "    for order in orders:\n",
    "        d, num = order[0], int(order[1:])\n",
    "        if d == 'L':\n",
    "            idx -= 1\n",
    "            if idx < 0:\n",
    "                idx = 3\n",
    "        else:\n",
    "            idx += 1\n",
    "            if idx > 3:\n",
    "                idx = 0\n",
    "        dx, dy = dirs[idx]\n",
    "        for i in range(num):\n",
    "            x, y = x + dx, y + dy\n",
    "            if (x, y) in positions:\n",
    "                if repeat is None:\n",
    "                    repeat = (x, y)\n",
    "            else:\n",
    "                positions.add((x, y))\n",
    "    print(abs(x) + abs(y))\n",
    "    print(repeat)"
   ]
  },
  {
   "cell_type": "markdown",
   "metadata": {},
   "source": [
    "# Day 2: Bathroom Security"
   ]
  },
  {
   "cell_type": "code",
   "execution_count": null,
   "metadata": {},
   "outputs": [],
   "source": []
  }
 ],
 "metadata": {
  "kernelspec": {
   "display_name": "Python 3",
   "language": "python",
   "name": "python3"
  },
  "language_info": {
   "codemirror_mode": {
    "name": "ipython",
    "version": 3
   },
   "file_extension": ".py",
   "mimetype": "text/x-python",
   "name": "python",
   "nbconvert_exporter": "python",
   "pygments_lexer": "ipython3",
   "version": "3.6.6"
  }
 },
 "nbformat": 4,
 "nbformat_minor": 2
}
