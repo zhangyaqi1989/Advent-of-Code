{
 "cells": [
  {
   "cell_type": "markdown",
   "metadata": {},
   "source": [
    "# Day 0: Imports and Utility Functions"
   ]
  },
  {
   "cell_type": "code",
   "execution_count": 1,
   "metadata": {},
   "outputs": [],
   "source": [
    "%matplotlib inline\n",
    "import matplotlib.pyplot as plt\n",
    "\n",
    "import os\n",
    "import re\n",
    "import numpy as np\n",
    "import random\n",
    "import string\n",
    "from collections import Counter, defaultdict, namedtuple, deque, OrderedDict\n",
    "from functools   import lru_cache, reduce\n",
    "from statistics  import mean, median, mode, stdev, variance\n",
    "from itertools   import (permutations, combinations, groupby, cycle, chain, zip_longest, takewhile, dropwhile, count as count_from)\n",
    "from heapq       import heappush, heappop, nsmallest\n",
    "from operator    import iand, ior, ilshift, irshift"
   ]
  },
  {
   "cell_type": "markdown",
   "metadata": {},
   "source": [
    "# Day 1: No Time for a Taxicab"
   ]
  },
  {
   "cell_type": "code",
   "execution_count": 2,
   "metadata": {},
   "outputs": [
    {
     "name": "stdout",
     "output_type": "stream",
     "text": [
      "300\n",
      "(9, -150)\n"
     ]
    }
   ],
   "source": [
    "with open(\"inputs/day1.txt\", 'r') as f:\n",
    "    dirs = [(0, 1), (1, 0), (0, -1), (-1, 0)]\n",
    "    orders = f.read().split(', ')\n",
    "    x, y = 0, 0\n",
    "    idx = 0\n",
    "    repeat = None\n",
    "    positions = {(x, y)}\n",
    "    for order in orders:\n",
    "        d, num = order[0], int(order[1:])\n",
    "        if d == 'L':\n",
    "            idx -= 1\n",
    "            if idx < 0:\n",
    "                idx = 3\n",
    "        else:\n",
    "            idx += 1\n",
    "            if idx > 3:\n",
    "                idx = 0\n",
    "        dx, dy = dirs[idx]\n",
    "        for i in range(num):\n",
    "            x, y = x + dx, y + dy\n",
    "            if (x, y) in positions:\n",
    "                if repeat is None:\n",
    "                    repeat = (x, y)\n",
    "            else:\n",
    "                positions.add((x, y))\n",
    "    print(abs(x) + abs(y))\n",
    "    print(repeat)"
   ]
  },
  {
   "cell_type": "markdown",
   "metadata": {},
   "source": [
    "# Day 2: Bathroom Security"
   ]
  },
  {
   "cell_type": "code",
   "execution_count": 3,
   "metadata": {},
   "outputs": [],
   "source": [
    "grid = [[1, 2, 3], [4, 5, 6], [7, 8, 9]]\n",
    "dirs = dict(U=(-1, 0), D=(1, 0), L=(0, -1), R=(0, 1))"
   ]
  },
  {
   "cell_type": "code",
   "execution_count": 4,
   "metadata": {},
   "outputs": [
    {
     "name": "stdout",
     "output_type": "stream",
     "text": [
      "33444\n"
     ]
    }
   ],
   "source": [
    "with open('inputs/day2.txt', 'r') as f:\n",
    "    i, j = 1, 1\n",
    "    ans = []\n",
    "    m, n = len(grid), len(grid[0])\n",
    "    for line in f.readlines():\n",
    "        for ch in line.strip():\n",
    "            di, dj = dirs[ch]\n",
    "            i, j = i + di, j + dj\n",
    "            if not (0 <= i < m and 0 <= j < n):\n",
    "                i, j = i - di, j - dj\n",
    "        ans.append(grid[i][j])\n",
    "    print(''.join(map(str, ans)))"
   ]
  },
  {
   "cell_type": "code",
   "execution_count": 5,
   "metadata": {},
   "outputs": [
    {
     "name": "stdout",
     "output_type": "stream",
     "text": [
      "446A6\n"
     ]
    }
   ],
   "source": [
    "grid = [[0, 0, 1, 0, 0], [0, 2, 3, 4, 0], [5, 6, 7, 8, 9], [0, 'A', 'B', 'C', 0], [0, 0, 'D', 0, 0]]\n",
    "with open('inputs/day2.txt', 'r') as f:\n",
    "    i, j = 2, 0\n",
    "    ans = []\n",
    "    m, n = len(grid), len(grid[0])\n",
    "    for line in f.readlines():\n",
    "        for ch in line.strip():\n",
    "            di, dj = dirs[ch]\n",
    "            i, j = i + di, j + dj\n",
    "            if not (0 <= i < m and 0 <= j < n) or grid[i][j] == 0:\n",
    "                i, j = i - di, j - dj\n",
    "        ans.append(grid[i][j])\n",
    "    print(''.join(map(str, ans)))"
   ]
  },
  {
   "cell_type": "markdown",
   "metadata": {},
   "source": [
    "# Day 3: Squares With Three Sides"
   ]
  },
  {
   "cell_type": "code",
   "execution_count": 6,
   "metadata": {},
   "outputs": [],
   "source": [
    "def is_triangle(triangle):\n",
    "    s = sum(triangle)\n",
    "    m = max(triangle)\n",
    "    return s - m > m"
   ]
  },
  {
   "cell_type": "code",
   "execution_count": 7,
   "metadata": {},
   "outputs": [
    {
     "name": "stdout",
     "output_type": "stream",
     "text": [
      "917\n"
     ]
    }
   ],
   "source": [
    "with open('inputs/day3.txt', 'r') as f:\n",
    "    print(sum(is_triangle(tuple(map(int, line.split()))) for line in f))"
   ]
  },
  {
   "cell_type": "code",
   "execution_count": 8,
   "metadata": {},
   "outputs": [],
   "source": [
    "m = np.loadtxt('inputs/day3.txt').flatten('F') # flatten "
   ]
  },
  {
   "cell_type": "code",
   "execution_count": 9,
   "metadata": {},
   "outputs": [],
   "source": [
    "m = m.reshape((len(m)//3, 3))"
   ]
  },
  {
   "cell_type": "code",
   "execution_count": 10,
   "metadata": {},
   "outputs": [
    {
     "name": "stdout",
     "output_type": "stream",
     "text": [
      "1649\n"
     ]
    }
   ],
   "source": [
    "print(sum(is_triangle(tuple(row)) for row in m))"
   ]
  },
  {
   "cell_type": "markdown",
   "metadata": {},
   "source": [
    "# Day 4: Security Through Obscurity"
   ]
  },
  {
   "cell_type": "code",
   "execution_count": 11,
   "metadata": {},
   "outputs": [
    {
     "name": "stdout",
     "output_type": "stream",
     "text": [
      "361724\n"
     ]
    }
   ],
   "source": [
    "with open('inputs/day4.txt', 'r') as f:\n",
    "    ans = 0\n",
    "    for line in f.readlines():\n",
    "        line = line.strip()\n",
    "        letters, id_check = line.rsplit('-', 1)\n",
    "        counter = Counter(letters.replace('-', ''))\n",
    "        pairs = [(-cnt, ch) for ch, cnt in counter.items() if ch.isalpha()]\n",
    "        checksum = ''.join(ch for _, ch in heapq.nsmallest(5, pairs))\n",
    "        if checksum == id_check[-6:-1]:\n",
    "            ans += int(id_check[:-7])\n",
    "print(ans)"
   ]
  },
  {
   "cell_type": "code",
   "execution_count": 12,
   "metadata": {},
   "outputs": [
    {
     "name": "stdout",
     "output_type": "stream",
     "text": [
      "482\n"
     ]
    }
   ],
   "source": [
    "with open('inputs/day4.txt', 'r') as f:\n",
    "    L = string.ascii_lowercase\n",
    "    for line in f:\n",
    "        line = line.strip()\n",
    "        letters, id_check = line.rsplit('-', 1)\n",
    "        ID = int(id_check[:-7])\n",
    "        move = ID % 26\n",
    "        letters = list(letters)\n",
    "        for i, ch in enumerate(letters):\n",
    "            if ch.isalpha():\n",
    "                pos = ord(ch) - 97\n",
    "                pos = (pos + move) % 26\n",
    "                letters[i] = L[pos]\n",
    "            else:\n",
    "                letters[i] = ' '\n",
    "        letters = ''.join(letters)\n",
    "        if \"north\" in letters:\n",
    "            print(ID)"
   ]
  },
  {
   "cell_type": "markdown",
   "metadata": {},
   "source": [
    "# Day 5: How About a Nice Game of Chess?"
   ]
  },
  {
   "cell_type": "code",
   "execution_count": 13,
   "metadata": {},
   "outputs": [
    {
     "name": "stdout",
     "output_type": "stream",
     "text": [
      "2414bc77\n"
     ]
    }
   ],
   "source": [
    "import hashlib\n",
    "s = \"wtnhxymk\"\n",
    "i = 0\n",
    "ans = ''\n",
    "while len(ans) < 8:\n",
    "    m = hashlib.md5()\n",
    "    m.update((s + str(i)).encode('utf-8'))\n",
    "    code = m.hexdigest()\n",
    "    if code.startswith('00000'):\n",
    "        ans += code[5]\n",
    "    i += 1\n",
    "print(ans)"
   ]
  },
  {
   "cell_type": "code",
   "execution_count": null,
   "metadata": {},
   "outputs": [],
   "source": []
  }
 ],
 "metadata": {
  "kernelspec": {
   "display_name": "Python 3",
   "language": "python",
   "name": "python3"
  },
  "language_info": {
   "codemirror_mode": {
    "name": "ipython",
    "version": 3
   },
   "file_extension": ".py",
   "mimetype": "text/x-python",
   "name": "python",
   "nbconvert_exporter": "python",
   "pygments_lexer": "ipython3",
   "version": "3.6.3"
  }
 },
 "nbformat": 4,
 "nbformat_minor": 2
}
