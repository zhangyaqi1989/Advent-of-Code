{
 "cells": [
  {
   "cell_type": "markdown",
   "metadata": {},
   "source": [
    "# Day 1: No Time for a Taxicab"
   ]
  },
  {
   "cell_type": "code",
   "execution_count": 19,
   "metadata": {},
   "outputs": [
    {
     "name": "stdout",
     "output_type": "stream",
     "text": [
      "300\n",
      "(9, -150)\n"
     ]
    }
   ],
   "source": [
    "open(\"inputs/day1.txt\", \"r\") do f\n",
    "    content = read(f, String)\n",
    "    orders = [(item[1], parse(Int64, item[2:end])) for item in split(content, \", \")]\n",
    "    x, y = 0, 0\n",
    "    dirs = [(0, 1), (1, 0), (0, -1), (-1, 0)]\n",
    "    repeat_pos = Inf\n",
    "    positions = Set([(x, y)])\n",
    "    idx = 1\n",
    "    for (dir, dis) in orders\n",
    "        if dir == 'L'\n",
    "            idx -= 1\n",
    "            if idx < 1\n",
    "                idx = 4\n",
    "            end\n",
    "        else\n",
    "            idx += 1\n",
    "            if idx > 4\n",
    "                idx = 1\n",
    "            end\n",
    "        end\n",
    "        dx, dy = dirs[idx]\n",
    "        for i = 1:dis\n",
    "            x, y = dx + x, dy + y\n",
    "            if in((x, y), positions)\n",
    "                if repeat_pos == Inf\n",
    "                    repeat_pos = (x, y)\n",
    "                end\n",
    "            else\n",
    "                push!(positions, (x, y))\n",
    "            end\n",
    "        end\n",
    "    end\n",
    "    println(abs(x) + abs(y))\n",
    "    println(repeat_pos)\n",
    "end\n"
   ]
  },
  {
   "cell_type": "code",
   "execution_count": 18,
   "metadata": {},
   "outputs": [
    {
     "data": {
      "text/plain": [
       "false"
      ]
     },
     "execution_count": 18,
     "metadata": {},
     "output_type": "execute_result"
    }
   ],
   "source": [
    "NaN == NaN"
   ]
  },
  {
   "cell_type": "code",
   "execution_count": null,
   "metadata": {},
   "outputs": [],
   "source": []
  }
 ],
 "metadata": {
  "kernelspec": {
   "display_name": "Julia 1.0.2",
   "language": "julia",
   "name": "julia-1.0"
  },
  "language_info": {
   "file_extension": ".jl",
   "mimetype": "application/julia",
   "name": "julia",
   "version": "1.0.2"
  }
 },
 "nbformat": 4,
 "nbformat_minor": 2
}
