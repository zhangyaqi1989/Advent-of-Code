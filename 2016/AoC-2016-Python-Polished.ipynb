{
 "cells": [
  {
   "cell_type": "markdown",
   "metadata": {},
   "source": [
    "# Day 0: Imports and Utility Functions"
   ]
  },
  {
   "cell_type": "code",
   "execution_count": 1,
   "metadata": {},
   "outputs": [],
   "source": [
    "%matplotlib inline\n",
    "import matplotlib.pyplot as plt\n",
    "\n",
    "import os\n",
    "import re\n",
    "import numpy as np\n",
    "import random\n",
    "import string\n",
    "import itertools\n",
    "from collections import Counter, defaultdict, namedtuple, deque, OrderedDict\n",
    "from functools   import lru_cache, reduce\n",
    "from statistics  import mean, median, mode, stdev, variance\n",
    "from itertools   import (permutations, combinations, groupby, cycle, chain, zip_longest, takewhile, dropwhile, count as count_from)\n",
    "from heapq       import heappush, heappop, nsmallest\n",
    "from operator    import iand, ior, ilshift, irshift"
   ]
  },
  {
   "cell_type": "code",
   "execution_count": 21,
   "metadata": {},
   "outputs": [],
   "source": [
    "def Input(day):\n",
    "    \"Open this day's input file\"\n",
    "    return open('inputs/day{}.txt'.format(day))\n",
    "\n",
    "cat = ''.join"
   ]
  },
  {
   "cell_type": "markdown",
   "metadata": {},
   "source": [
    "## General Programming Tips\n",
    "\n",
    "1. Use assert to test function and show usage\n",
    "2. "
   ]
  },
  {
   "cell_type": "markdown",
   "metadata": {},
   "source": [
    "# [Day 1: No Time for a Taxicab](https://adventofcode.com/2016/day/1)\n",
    "\n",
    "1. Use regex to parse is more robust than using str.split();\n",
    "2. Use complex number to represent points on 2D plane is handy, turn left is equivalent to multiply 1j, turn right is equivalent to multiply -1j."
   ]
  },
  {
   "cell_type": "code",
   "execution_count": 13,
   "metadata": {},
   "outputs": [
    {
     "name": "stdout",
     "output_type": "stream",
     "text": [
      "300.0\n",
      "159.0\n"
     ]
    }
   ],
   "source": [
    "N, S, E, W = 1j, -1j, 1, -1 # unit vector in each direction\n",
    "def parse(text):\n",
    "    \"Return a list of (turn, distance) pairs text of form 'R2, L32, ...'\"\n",
    "    turns = dict(L=N, R=S)\n",
    "    return [(turns[RL], int(d))\n",
    "            for (RL, d) in re.findall(r'(R|L)(\\d+)', text)]\n",
    "    \n",
    "def taxicab_distance(point):\n",
    "    \"Taxicab distance between point and the origin.\"\n",
    "    return abs(point.real) + abs(point.imag)\n",
    "    \n",
    "def travel_distance(moves):\n",
    "    \"After following moves, how far away from the origin do we end up?\"\n",
    "    loc, heading = 0, N\n",
    "    for turn, d in parse(moves):\n",
    "        heading *= turn\n",
    "        loc += heading * d\n",
    "    return taxicab_distance(loc)\n",
    "\n",
    "def visited_twice(moves):\n",
    "    \"Following moves in text, find the first location we visited twice, and return its distance to origin\"\n",
    "    loc, heading = 0, N\n",
    "    visited = {loc}\n",
    "    for turn, d in parse(moves):\n",
    "        heading *= turn\n",
    "        for _ in range(d):\n",
    "            loc += heading\n",
    "            if loc in visited:\n",
    "                return taxicab_distance(loc)\n",
    "            visited.add(loc)\n",
    "\n",
    "assert travel_distance('R2, L3') == 5\n",
    "assert travel_distance('R2, R2, R2') == 2\n",
    "assert visited_twice(\"R8, R0, R1\") == 7\n",
    "# with open('inputs/day1.txt', 'r') as f:\n",
    "#     text = f.read()\n",
    "text = Input(1).read()\n",
    "print(travel_distance(text))\n",
    "print(visited_twice(text))"
   ]
  },
  {
   "cell_type": "markdown",
   "metadata": {},
   "source": [
    "# [Day 2: Bathroom Security](https://adventofcode.com/2016/day/2)\n",
    "\n",
    "1. A list of string could be seen as matrix of characters;\n",
    "2. Use margin instead of bounday check;\n",
    "3. Consise if...else to improve readibility;\n",
    "4. Use yield instead of return a list."
   ]
  },
  {
   "cell_type": "code",
   "execution_count": 22,
   "metadata": {},
   "outputs": [
    {
     "name": "stdout",
     "output_type": "stream",
     "text": [
      "33444\n"
     ]
    }
   ],
   "source": [
    "Keypad = str.split\n",
    "keypad = \"\"\"\n",
    ".....\n",
    ".123.\n",
    ".456.\n",
    ".789.\n",
    ".....\n",
    "\"\"\"\n",
    "\n",
    "off = '.' # improve readibility\n",
    "\n",
    "keypad = Keypad(keypad)\n",
    "\n",
    "assert keypad[2][2] == '5'\n",
    "\n",
    "def decode(keyboard, instructions, x=2,y=2):\n",
    "    \"Following instructions and decode each line to a key\"\n",
    "    for inst in instructions:\n",
    "        for ch in inst:\n",
    "            x, y = move(keyboard, ch, x, y)\n",
    "        yield keypad[y][x]\n",
    "    \n",
    "def move(keypad, ch, x, y):\n",
    "    \"Update position (x, y) on keypad according to character (L/R/U/D)\"\n",
    "    if   ch == 'L' and keypad[y][x - 1] is not off: x -= 1\n",
    "    elif ch == 'R' and keypad[y][x + 1] is not off: x += 1\n",
    "    elif ch == 'U' and keypad[y - 1][x] is not off: y -= 1\n",
    "    elif ch == 'D' and keypad[y + 1][x] is not off: y += 1\n",
    "    return x, y\n",
    "\n",
    "assert move(keypad, 'U', 2, 2) == (2, 1)\n",
    "assert cat(decode(keypad, \"ULL RRDDD LURDL UUUUD\".split())) == '1985'\n",
    "\n",
    "instructions = Input(2)\n",
    "print(cat(decode(keypad, instructions)))"
   ]
  },
  {
   "cell_type": "code",
   "execution_count": 23,
   "metadata": {},
   "outputs": [
    {
     "name": "stdout",
     "output_type": "stream",
     "text": [
      "446A6\n"
     ]
    }
   ],
   "source": [
    "keypad = \"\"\"\n",
    ".......\n",
    "...1...\n",
    "..234..\n",
    ".56789.\n",
    "..ABC..\n",
    "...D...\n",
    ".......\n",
    "\"\"\"\n",
    "\n",
    "keypad = Keypad(keypad)\n",
    "\n",
    "print(cat(decode(keypad, Input(2))))"
   ]
  },
  {
   "cell_type": "markdown",
   "metadata": {},
   "source": [
    "# [Day 3: Squares With Three Sides](https://adventofcode.com/2016/day/3)"
   ]
  },
  {
   "cell_type": "markdown",
   "metadata": {},
   "source": [
    "1. Use numpy loadtxt to read file to matrix, do not forget to set dtype"
   ]
  },
  {
   "cell_type": "code",
   "execution_count": 25,
   "metadata": {},
   "outputs": [],
   "source": [
    "def is_triangle(sides):\n",
    "    \"Do this side lengths form a valid triangle?\"\n",
    "    x, y, z = sorted(sides)\n",
    "    return z < x + y"
   ]
  },
  {
   "cell_type": "code",
   "execution_count": 27,
   "metadata": {},
   "outputs": [
    {
     "name": "stdout",
     "output_type": "stream",
     "text": [
      "917\n"
     ]
    }
   ],
   "source": [
    "m = np.loadtxt('inputs/day3.txt', dtype=np.int64)\n",
    "print(sum(map(is_triangle, m)))"
   ]
  },
  {
   "cell_type": "code",
   "execution_count": 29,
   "metadata": {},
   "outputs": [],
   "source": [
    "m = np.loadtxt('inputs/day3.txt', dtype=np.int64).flatten('F')\n",
    "m = m.reshape((len(m)//3, 3))"
   ]
  },
  {
   "cell_type": "code",
   "execution_count": 31,
   "metadata": {},
   "outputs": [
    {
     "name": "stdout",
     "output_type": "stream",
     "text": [
      "1649\n"
     ]
    }
   ],
   "source": [
    "print(sum(map(is_triangle, m)))"
   ]
  },
  {
   "cell_type": "markdown",
   "metadata": {},
   "source": [
    "# [Day 4: Security Through Obscurity](https://adventofcode.com/2016/day/4)\n",
    "1. A drawback of using nested function is hard to test"
   ]
  },
  {
   "cell_type": "code",
   "execution_count": 35,
   "metadata": {},
   "outputs": [],
   "source": [
    "def parse(line):\n",
    "    \"Return (name, sector, checksum).\"\n",
    "    return re.match(r\"(.+)-(\\d+)\\[([a-z]+)\\]\", line).groups()\n",
    "assert parse('aaaaa-bbb-z-y-x-123[abxyz]') == ('aaaaa-bbb-z-y-x', '123', 'abxyz')"
   ]
  },
  {
   "cell_type": "code",
   "execution_count": 39,
   "metadata": {},
   "outputs": [
    {
     "name": "stdout",
     "output_type": "stream",
     "text": [
      "361724\n"
     ]
    }
   ],
   "source": [
    "def sector(line):\n",
    "    \"Return the sector number if valid, otherwise return 0.\"\n",
    "    name, sector, checksum = parse(line)\n",
    "    return int(sector) if valid(name, checksum) else 0\n",
    "\n",
    "def valid(name, checksum):\n",
    "    \"Determine if name is valid according to checksum.\"\n",
    "    counts = Counter(name.replace('-', ''))\n",
    "    letters = sorted(counts, key=lambda x : (-counts[x], x))\n",
    "    return checksum == cat(letters[:5])\n",
    "\n",
    "assert sector('aaaaa-bbb-z-y-x-123[abxyz]') == 123\n",
    "print(sum(map(sector, Input(4))))"
   ]
  },
  {
   "cell_type": "markdown",
   "metadata": {},
   "source": [
    "# Day 5: How About a Nice Game of Chess?"
   ]
  },
  {
   "cell_type": "code",
   "execution_count": 13,
   "metadata": {},
   "outputs": [
    {
     "name": "stdout",
     "output_type": "stream",
     "text": [
      "2414bc77\n"
     ]
    }
   ],
   "source": [
    "import hashlib\n",
    "s = \"wtnhxymk\"\n",
    "i = 0\n",
    "ans = ''\n",
    "while len(ans) < 8:\n",
    "    m = hashlib.md5()\n",
    "    m.update((s + str(i)).encode('utf-8'))\n",
    "    code = m.hexdigest()\n",
    "    if code.startswith('00000'):\n",
    "        ans += code[5]\n",
    "    i += 1\n",
    "print(ans)"
   ]
  },
  {
   "cell_type": "code",
   "execution_count": 14,
   "metadata": {},
   "outputs": [
    {
     "name": "stdout",
     "output_type": "stream",
     "text": [
      "['4', '3', '7', 'e', '6', '0', 'f', 'c']\n"
     ]
    }
   ],
   "source": [
    "s = \"wtnhxymk\"\n",
    "i = 0\n",
    "ans = [None] * 8\n",
    "cnt = 0\n",
    "while cnt < 8:\n",
    "    m = hashlib.md5()\n",
    "    m.update((s + str(i)).encode('utf-8'))\n",
    "    code = m.hexdigest()\n",
    "    if code.startswith('00000'):\n",
    "        if code[5].isdigit() and int(code[5]) < 8 and ans[int(code[5])] is None:\n",
    "            ans[int(code[5])] = code[6]\n",
    "            cnt += 1\n",
    "    i += 1\n",
    "print(ans)"
   ]
  },
  {
   "cell_type": "code",
   "execution_count": 15,
   "metadata": {},
   "outputs": [
    {
     "name": "stdout",
     "output_type": "stream",
     "text": [
      "437e60fc\n"
     ]
    }
   ],
   "source": [
    "print(''.join(ans))"
   ]
  },
  {
   "cell_type": "markdown",
   "metadata": {},
   "source": [
    "# Day 6: Signals and Noise"
   ]
  },
  {
   "cell_type": "code",
   "execution_count": 16,
   "metadata": {},
   "outputs": [
    {
     "name": "stdout",
     "output_type": "stream",
     "text": [
      "mshjnduc\n",
      "apfeeebz\n"
     ]
    }
   ],
   "source": [
    "counters = [Counter() for _ in range(8)]\n",
    "with open('inputs/day6.txt', 'r') as f:\n",
    "    for line in f:\n",
    "        for counter, ch in zip(counters, line):\n",
    "            counter[ch] += 1\n",
    "print(''.join([counter.most_common(1)[0][0] for counter in counters]))\n",
    "print(''.join([counter.most_common()[-1][0] for counter in counters]))"
   ]
  },
  {
   "cell_type": "markdown",
   "metadata": {},
   "source": [
    "# Day 7: Internet Protocol Version 7"
   ]
  },
  {
   "cell_type": "code",
   "execution_count": 17,
   "metadata": {},
   "outputs": [],
   "source": [
    "def support_TLS(line):\n",
    "    has = False\n",
    "    for i in range(len(line) - 3):\n",
    "        four = line[i:i + 4]\n",
    "        if four[0] == four[3] and four[1] == four[2] and four[0] != four[1]:\n",
    "            j = i - 1\n",
    "            while j >= 0 and line[j] != ']':\n",
    "                if line[j] == '[':\n",
    "                    return False\n",
    "                j -= 1\n",
    "            has = True\n",
    "    return has"
   ]
  },
  {
   "cell_type": "code",
   "execution_count": 18,
   "metadata": {},
   "outputs": [
    {
     "name": "stdout",
     "output_type": "stream",
     "text": [
      "105\n"
     ]
    }
   ],
   "source": [
    "with open('inputs/day7.txt', 'r') as f:\n",
    "    print(sum(support_TLS(line) for line in f))"
   ]
  },
  {
   "cell_type": "code",
   "execution_count": 19,
   "metadata": {},
   "outputs": [
    {
     "name": "stdout",
     "output_type": "stream",
     "text": [
      "258\n"
     ]
    }
   ],
   "source": [
    "def support_SSL(line):\n",
    "    outs = set()\n",
    "    ins = set()\n",
    "    for i in range(len(line) - 2):\n",
    "        three = line[i:i + 3]\n",
    "        if three[0] == three[2] != three[1]:\n",
    "            j = i - 1\n",
    "            while j >= 0 and line[j] != ']':\n",
    "                if line[j] == '[':\n",
    "                    ins.add(three)\n",
    "                    break\n",
    "                j -= 1\n",
    "            else:\n",
    "                outs.add(three)\n",
    "    return any((three[1] + three[0] + three[1]) in outs for three in ins)\n",
    "with open('inputs/day7.txt', 'r') as f:\n",
    "    print(sum(support_SSL(line) for line in f))"
   ]
  },
  {
   "cell_type": "markdown",
   "metadata": {},
   "source": [
    "# Day 8: Two-Factor Authentication"
   ]
  },
  {
   "cell_type": "code",
   "execution_count": 20,
   "metadata": {},
   "outputs": [
    {
     "name": "stdout",
     "output_type": "stream",
     "text": [
      "119\n"
     ]
    }
   ],
   "source": [
    "m, n = 6, 50\n",
    "grid = [[0] * n for _ in range(m)]\n",
    "with open('inputs/day8.txt', 'r') as f:\n",
    "    for i, line in enumerate(f):\n",
    "#         print(i)\n",
    "        if line.startswith('rect'):\n",
    "            _, item = line.split()\n",
    "            c, r = item.split('x')\n",
    "            for i in range(int(r)):\n",
    "                for j in range(int(c)):\n",
    "                    grid[i][j] = 1\n",
    "        else:\n",
    "            *_, rc, _, num = line.split()\n",
    "            num = int(num)\n",
    "            if rc[0] == 'y':\n",
    "                # rotate row\n",
    "                r = int(rc[2:])\n",
    "                num = num % n\n",
    "                if num != 0:\n",
    "                    grid[r] = grid[r][-num:] + grid[r][:-num]\n",
    "            else:\n",
    "                # rotate col\n",
    "                c =int(rc[2:])\n",
    "                col = [grid[i][c] for i in range(m)]\n",
    "                num = num % m\n",
    "                if num != 0:\n",
    "                    col = col[-num:] + col[:-num]\n",
    "                    for i in range(m):\n",
    "                        grid[i][c] = col[i]\n",
    "print(sum(map(sum, grid)))"
   ]
  },
  {
   "cell_type": "code",
   "execution_count": 21,
   "metadata": {},
   "outputs": [
    {
     "data": {
      "text/plain": [
       "(6, 50)"
      ]
     },
     "execution_count": 21,
     "metadata": {},
     "output_type": "execute_result"
    }
   ],
   "source": [
    "len(grid), len(grid[0])"
   ]
  },
  {
   "cell_type": "code",
   "execution_count": 22,
   "metadata": {},
   "outputs": [
    {
     "data": {
      "text/plain": [
       "[12, 11, 14, 11, 11, 11, 12, 13, 12, 12]"
      ]
     },
     "execution_count": 22,
     "metadata": {},
     "output_type": "execute_result"
    }
   ],
   "source": [
    "cols = zip(*grid)\n",
    "iters = [iter(cols)] * 5\n",
    "code = list(zip(*iters))\n",
    "[sum(map(sum, item)) for item in code]"
   ]
  },
  {
   "cell_type": "code",
   "execution_count": 23,
   "metadata": {},
   "outputs": [
    {
     "name": "stdout",
     "output_type": "stream",
     "text": [
      "(1, 1, 1, 1, 0)\n",
      "(0, 0, 0, 1, 0)\n",
      "(0, 0, 1, 0, 0)\n",
      "(0, 1, 0, 0, 0)\n",
      "(1, 0, 0, 0, 0)\n",
      "(1, 1, 1, 1, 0)\n",
      "\n",
      "(1, 1, 1, 1, 0)\n",
      "(1, 0, 0, 0, 0)\n",
      "(1, 1, 1, 0, 0)\n",
      "(1, 0, 0, 0, 0)\n",
      "(1, 0, 0, 0, 0)\n",
      "(1, 0, 0, 0, 0)\n",
      "\n",
      "(1, 0, 0, 1, 0)\n",
      "(1, 0, 0, 1, 0)\n",
      "(1, 1, 1, 1, 0)\n",
      "(1, 0, 0, 1, 0)\n",
      "(1, 0, 0, 1, 0)\n",
      "(1, 0, 0, 1, 0)\n",
      "\n",
      "(1, 1, 1, 1, 0)\n",
      "(1, 0, 0, 0, 0)\n",
      "(1, 1, 1, 0, 0)\n",
      "(1, 0, 0, 0, 0)\n",
      "(1, 0, 0, 0, 0)\n",
      "(1, 0, 0, 0, 0)\n",
      "\n",
      "(0, 1, 1, 1, 0)\n",
      "(1, 0, 0, 0, 0)\n",
      "(1, 0, 0, 0, 0)\n",
      "(0, 1, 1, 0, 0)\n",
      "(0, 0, 0, 1, 0)\n",
      "(1, 1, 1, 0, 0)\n",
      "\n",
      "(1, 1, 1, 1, 0)\n",
      "(1, 0, 0, 0, 0)\n",
      "(1, 1, 1, 0, 0)\n",
      "(1, 0, 0, 0, 0)\n",
      "(1, 0, 0, 0, 0)\n",
      "(1, 0, 0, 0, 0)\n",
      "\n",
      "(0, 1, 1, 0, 0)\n",
      "(1, 0, 0, 1, 0)\n",
      "(1, 0, 0, 1, 0)\n",
      "(1, 0, 0, 1, 0)\n",
      "(1, 0, 0, 1, 0)\n",
      "(0, 1, 1, 0, 0)\n",
      "\n",
      "(0, 1, 1, 0, 0)\n",
      "(1, 0, 0, 1, 0)\n",
      "(1, 0, 0, 0, 0)\n",
      "(1, 0, 1, 1, 0)\n",
      "(1, 0, 0, 1, 0)\n",
      "(0, 1, 1, 1, 0)\n",
      "\n",
      "(1, 1, 1, 0, 0)\n",
      "(1, 0, 0, 1, 0)\n",
      "(1, 0, 0, 1, 0)\n",
      "(1, 1, 1, 0, 0)\n",
      "(1, 0, 0, 0, 0)\n",
      "(1, 0, 0, 0, 0)\n",
      "\n",
      "(0, 1, 1, 0, 0)\n",
      "(1, 0, 0, 1, 0)\n",
      "(1, 0, 0, 1, 0)\n",
      "(1, 0, 0, 1, 0)\n",
      "(1, 0, 0, 1, 0)\n",
      "(0, 1, 1, 0, 0)\n",
      "\n"
     ]
    }
   ],
   "source": [
    "for letter in code:\n",
    "    for row in zip(*letter):\n",
    "        print(row)\n",
    "    print()"
   ]
  },
  {
   "cell_type": "markdown",
   "metadata": {},
   "source": [
    "# Day 9: Explosives in Cyberspace"
   ]
  },
  {
   "cell_type": "code",
   "execution_count": 24,
   "metadata": {},
   "outputs": [
    {
     "name": "stdout",
     "output_type": "stream",
     "text": [
      "183269\n",
      "11317278863\n"
     ]
    }
   ],
   "source": [
    "def decompress_v1(line):\n",
    "    l = line.find('(')\n",
    "    if l != -1:\n",
    "        r = line.find(')', l)\n",
    "        length, num = line[l+1:r].split('x')\n",
    "        num = int(num)\n",
    "        length = int(length)\n",
    "        return l + length * num + decompress_v1(line[r + 1 + length:])\n",
    "    else:\n",
    "        return len(line)\n",
    "def decompress_v2(line):\n",
    "    l = line.find('(')\n",
    "    if l != -1:\n",
    "        r = line.find(')', l)\n",
    "        length, num = line[l+1:r].split('x')\n",
    "        num = int(num)\n",
    "        length = int(length)\n",
    "        return l + num * decompress_v2(line[r+1:r+1+length]) + decompress_v2(line[r + 1 + length:])\n",
    "    else:\n",
    "        return len(line)\n",
    "with open('inputs/day9.txt', 'r') as f:\n",
    "    line = f.read()\n",
    "print(decompress_v1(line))\n",
    "print(decompress_v2(line))"
   ]
  },
  {
   "cell_type": "markdown",
   "metadata": {},
   "source": [
    "# Day 10: Balance Bots"
   ]
  },
  {
   "cell_type": "code",
   "execution_count": 25,
   "metadata": {},
   "outputs": [],
   "source": [
    "bots = defaultdict(list)\n",
    "operators = defaultdict(list)\n",
    "bins = defaultdict(list)\n",
    "with open('inputs/day10.txt', 'r') as f:\n",
    "    lines = f.readlines()\n",
    "    inits = [line.strip() for line in lines if line.startswith('value')]\n",
    "    ops = [line.strip() for line in lines if line.startswith('bot')]\n",
    "for init in inits:\n",
    "    _, num, *_, bot_num = init.split()\n",
    "    bots[int(bot_num)].append(int(num))\n",
    "for key in bots:\n",
    "    bots[key].sort()\n",
    "for op in ops:\n",
    "    items = op.split()\n",
    "    assert(int(items[1]) not in operators)\n",
    "    operators[int(items[1])] = [items[5:7], items[-2:]]"
   ]
  },
  {
   "cell_type": "code",
   "execution_count": 26,
   "metadata": {},
   "outputs": [],
   "source": [
    "def bot_op(dest, dest_num, num):\n",
    "    if dest == 'output':\n",
    "        bins[dest_num].append(num)\n",
    "    else:\n",
    "        bots[dest_num].append(num)\n",
    "        bots[dest_num].sort()\n",
    "flag = True\n",
    "while flag:\n",
    "    flag = False\n",
    "    for bot_num in bots:\n",
    "        if len(bots[bot_num]) == 2 and bot_num in operators:\n",
    "            assert(bot_num in operators)\n",
    "            low, high = operators.pop(bot_num)\n",
    "            low, low_dest = low\n",
    "            high, high_dest = high\n",
    "            low_num, high_num = bots[bot_num]\n",
    "            if low_num == 17 and high_num == 62:\n",
    "                print(bot_num)\n",
    "            bot_op(low, int(low_dest), low_num)\n",
    "            bot_op(high, int(high_dest), high_num)\n",
    "            flag = True\n",
    "            break"
   ]
  },
  {
   "cell_type": "code",
   "execution_count": 27,
   "metadata": {},
   "outputs": [
    {
     "name": "stdout",
     "output_type": "stream",
     "text": [
      "86\n"
     ]
    }
   ],
   "source": [
    "for key in bots:\n",
    "    if bots[key] == [17, 61]:\n",
    "        print(key)"
   ]
  },
  {
   "cell_type": "code",
   "execution_count": 28,
   "metadata": {},
   "outputs": [
    {
     "data": {
      "text/plain": [
       "22847"
      ]
     },
     "execution_count": 28,
     "metadata": {},
     "output_type": "execute_result"
    }
   ],
   "source": [
    "bins[0][0] * bins[1][0] * bins[2][0]"
   ]
  },
  {
   "cell_type": "markdown",
   "metadata": {},
   "source": [
    "# Day 11: Radioisotope Thermoelectric Generators"
   ]
  },
  {
   "cell_type": "code",
   "execution_count": null,
   "metadata": {},
   "outputs": [],
   "source": []
  },
  {
   "cell_type": "markdown",
   "metadata": {},
   "source": [
    "# Day 12: Leonardo's Monorail"
   ]
  },
  {
   "cell_type": "code",
   "execution_count": 43,
   "metadata": {},
   "outputs": [
    {
     "name": "stdout",
     "output_type": "stream",
     "text": [
      "318003\n",
      "9227657\n"
     ]
    }
   ],
   "source": [
    "with open('inputs/day12.txt', 'r') as f:\n",
    "    ops = [line.strip().split() for line in f]\n",
    "def get_value(s, registers):\n",
    "    if s.isalpha():\n",
    "        return registers[s]\n",
    "    else:\n",
    "        return int(s)\n",
    "def run(registers, ops):\n",
    "    i = 0\n",
    "    while i < len(ops):\n",
    "        op, *values = ops[i]\n",
    "        if op == 'inc':\n",
    "            registers[values[0]] += 1\n",
    "        elif op == 'dec':\n",
    "            registers[values[0]] -= 1\n",
    "        elif op == 'cpy':\n",
    "            y = values[1]\n",
    "            v = get_value(values[0], registers)\n",
    "            registers[y] = v\n",
    "        else:\n",
    "            v = get_value(values[1], registers)\n",
    "            a = get_value(values[0], registers)\n",
    "            if a != 0:\n",
    "                i += v\n",
    "                continue\n",
    "        i += 1\n",
    "    return registers\n",
    "registers = {'a' : 0, 'b' : 0, 'c' : 0, 'd' : 0}\n",
    "registers = run(registers, ops)\n",
    "print(registers['a'])\n",
    "registers = {'a' : 0, 'b' : 0, 'c' : 1, 'd' : 0}\n",
    "registers = run(registers, ops)\n",
    "print(registers['a'])"
   ]
  },
  {
   "cell_type": "markdown",
   "metadata": {},
   "source": [
    "# Day 13: A Maze of Twisty Little Cubicles"
   ]
  },
  {
   "cell_type": "code",
   "execution_count": 29,
   "metadata": {},
   "outputs": [
    {
     "name": "stdout",
     "output_type": "stream",
     "text": [
      "82\n"
     ]
    }
   ],
   "source": [
    "def maze_func(x, y):\n",
    "    return x * x + 3 * x + 2 * x * y + y + y * y\n",
    "def is_open(d, x, y, num):\n",
    "    if (x, y) in d:\n",
    "        return d[x, y]\n",
    "    else:\n",
    "        m = maze_func(x, y) + num\n",
    "        ones = bin(m).count('1')\n",
    "        d[x, y] = (ones % 2 == 0)\n",
    "        return d[x, y]\n",
    "    \n",
    "def maze_bfs(start, target, num):\n",
    "    dq = deque([start])\n",
    "    visited = {start}\n",
    "    step = 0\n",
    "    d = {}\n",
    "    while dq:\n",
    "        size = len(dq)\n",
    "        for _ in range(size):\n",
    "            x, y = dq.popleft()\n",
    "#             print(x, y)\n",
    "            if (x, y) == target:\n",
    "                return step\n",
    "            for dx, dy in (-1, 0), (1, 0), (0, -1), (0, 1):\n",
    "                newx, newy = x + dx, y + dy\n",
    "                if 0 <= newx and 0 <= newy and is_open(d, newx, newy, num) and (newx, newy) not in visited:\n",
    "                    visited.add((newx, newy))\n",
    "                    dq.append((newx, newy))\n",
    "        step += 1\n",
    "num = 1362 # 10\n",
    "start = (1, 1)\n",
    "target = (31, 39) # (7, 4)\n",
    "print(maze_bfs(start, target, num))"
   ]
  },
  {
   "cell_type": "code",
   "execution_count": 30,
   "metadata": {},
   "outputs": [
    {
     "name": "stdout",
     "output_type": "stream",
     "text": [
      "138\n"
     ]
    }
   ],
   "source": [
    "def maze_bfs_part2(start, nsteps, num):\n",
    "    dq = deque([start])\n",
    "    visited = {start}\n",
    "    step = 0\n",
    "    d = {}\n",
    "    cnt = 0\n",
    "    while dq and step <= nsteps:\n",
    "        size = len(dq)\n",
    "        for _ in range(size):\n",
    "            x, y = dq.popleft()\n",
    "            cnt += 1\n",
    "            for dx, dy in (-1, 0), (1, 0), (0, -1), (0, 1):\n",
    "                newx, newy = x + dx, y + dy\n",
    "                if 0 <= newx and 0 <= newy and is_open(d, newx, newy, num) and (newx, newy) not in visited:\n",
    "                    visited.add((newx, newy))\n",
    "                    dq.append((newx, newy))\n",
    "        step += 1\n",
    "    return cnt\n",
    "print(maze_bfs_part2((1, 1), 50, num))"
   ]
  },
  {
   "cell_type": "markdown",
   "metadata": {},
   "source": [
    "# Day 14: One-Time Pad"
   ]
  },
  {
   "cell_type": "code",
   "execution_count": 31,
   "metadata": {},
   "outputs": [],
   "source": [
    "import hashlib\n",
    "\n",
    "@lru_cache(None)\n",
    "def md5_code(s, i, times=1):\n",
    "    string = s + str(i)\n",
    "    for _ in range(times):\n",
    "        m = hashlib.md5()\n",
    "        m.update(string.encode('utf-8'))\n",
    "        string = m.hexdigest()\n",
    "    return string\n",
    "\n",
    "def gen_key(s, times):\n",
    "    i = 0\n",
    "    while True:\n",
    "        code = md5_code(s, i, times)\n",
    "        for j in range(len(code) - 2):\n",
    "            if code[j] == code[j + 1] == code[j + 2]:\n",
    "                five = code[j] * 5\n",
    "                k = i + 1\n",
    "                while k < i + 1001:\n",
    "                    if five in md5_code(s, k, times):\n",
    "                        yield i\n",
    "                        break\n",
    "                    k += 1\n",
    "                break\n",
    "        i += 1"
   ]
  },
  {
   "cell_type": "code",
   "execution_count": 32,
   "metadata": {},
   "outputs": [
    {
     "name": "stdout",
     "output_type": "stream",
     "text": [
      "15035\n"
     ]
    }
   ],
   "source": [
    "s = \"ihaygndm\"\n",
    "genor = gen_key(s, times=1)\n",
    "print(list(itertools.islice(genor, 64))[-1])"
   ]
  },
  {
   "cell_type": "code",
   "execution_count": 33,
   "metadata": {},
   "outputs": [
    {
     "name": "stdout",
     "output_type": "stream",
     "text": [
      "19968\n"
     ]
    }
   ],
   "source": [
    "s = \"ihaygndm\"\n",
    "genor = gen_key(s, times=2017)\n",
    "print(list(itertools.islice(genor, 64))[-1])"
   ]
  },
  {
   "cell_type": "markdown",
   "metadata": {},
   "source": [
    "# [Day 15: Timing is Everything](https://adventofcode.com/2016/day/15)"
   ]
  },
  {
   "cell_type": "code",
   "execution_count": 66,
   "metadata": {},
   "outputs": [],
   "source": [
    "Disc = namedtuple('Disc', 'length, start_time, start_pos')\n",
    "discs = []\n",
    "with open('inputs/day15.txt', 'r') as f:\n",
    "    for line in f:\n",
    "        discs.append(Disc(*map(int, re.findall(r'[0-9]+', line)[1:])))"
   ]
  },
  {
   "cell_type": "code",
   "execution_count": 67,
   "metadata": {},
   "outputs": [
    {
     "name": "stdout",
     "output_type": "stream",
     "text": [
      "[Disc(length=7, start_time=0, start_pos=0), Disc(length=13, start_time=0, start_pos=0), Disc(length=3, start_time=0, start_pos=2), Disc(length=5, start_time=0, start_pos=2), Disc(length=17, start_time=0, start_pos=0), Disc(length=19, start_time=0, start_pos=7)]\n"
     ]
    }
   ],
   "source": [
    "print(discs)"
   ]
  },
  {
   "cell_type": "code",
   "execution_count": 68,
   "metadata": {},
   "outputs": [
    {
     "name": "stdout",
     "output_type": "stream",
     "text": [
      "121834\n"
     ]
    }
   ],
   "source": [
    "def push_time(discs):\n",
    "    # init discs\n",
    "    iters = []\n",
    "    for idx, disc in enumerate(discs, 1):\n",
    "        lst = list(range(disc.length))\n",
    "        assert(disc.start_time == 0)\n",
    "        iterable = cycle(lst)\n",
    "        for _ in range(disc.start_pos + idx):\n",
    "            next(iterable)\n",
    "        iters.append(iterable)\n",
    "    for i in count_from(0):\n",
    "        vs = [next(iterable) for iterable in iters]\n",
    "        if not any(vs):\n",
    "            return i\n",
    "print(push_time(discs))"
   ]
  },
  {
   "cell_type": "code",
   "execution_count": 70,
   "metadata": {},
   "outputs": [
    {
     "name": "stdout",
     "output_type": "stream",
     "text": [
      "3208099\n"
     ]
    }
   ],
   "source": [
    "discs.append(Disc(11, 0, 0))\n",
    "print(push_time(discs))"
   ]
  },
  {
   "cell_type": "markdown",
   "metadata": {},
   "source": [
    "# [Day 16: Dragon Checksum](https://adventofcode.com/2016/day/16)"
   ]
  },
  {
   "cell_type": "code",
   "execution_count": 46,
   "metadata": {},
   "outputs": [],
   "source": [
    "# 11100010111110100\n",
    "def process(a):\n",
    "    lst = list(a)\n",
    "    b = ''.join('0' if ch == '1' else '1' for ch in reversed(lst))\n",
    "    return a + '0' + b\n",
    "assert(process('1') == '100')\n",
    "assert(process('111100001010') == '1111000010100101011110000')\n",
    "def checksum(a):\n",
    "    iters = [iter(a)] * 2\n",
    "    lst = []\n",
    "    for a, b in zip(*iters):\n",
    "        if a == b:\n",
    "            lst.append('1')\n",
    "        else:\n",
    "            lst.append('0')\n",
    "    return ''.join(lst) if len(lst) % 2 == 1 else checksum(lst)\n",
    "assert(checksum('110010110100') == '100')"
   ]
  },
  {
   "cell_type": "code",
   "execution_count": 47,
   "metadata": {},
   "outputs": [],
   "source": [
    "def dragon_checksum(length, init):\n",
    "    while len(init) < length:\n",
    "        init = process(init)\n",
    "    init = init[:length]\n",
    "    return checksum(init)\n",
    "assert(dragon_checksum(20, '10000') == '01100')"
   ]
  },
  {
   "cell_type": "code",
   "execution_count": 48,
   "metadata": {},
   "outputs": [
    {
     "name": "stdout",
     "output_type": "stream",
     "text": [
      "10100011010101011\n"
     ]
    }
   ],
   "source": [
    "print(dragon_checksum(272, '11100010111110100'))"
   ]
  },
  {
   "cell_type": "code",
   "execution_count": 49,
   "metadata": {},
   "outputs": [
    {
     "name": "stdout",
     "output_type": "stream",
     "text": [
      "01010001101011001\n"
     ]
    }
   ],
   "source": [
    "print(dragon_checksum(35651584, '11100010111110100'))"
   ]
  },
  {
   "cell_type": "markdown",
   "metadata": {},
   "source": [
    "# Day 17: Two Steps Forward"
   ]
  },
  {
   "cell_type": "code",
   "execution_count": 34,
   "metadata": {},
   "outputs": [],
   "source": [
    "dirs = {(-1, 0) : 'L', (1, 0) : 'R', (0, 1) : 'D', (0, -1) : 'U'}\n",
    "def shortest_path(passcode):\n",
    "    def door_conditions(path):\n",
    "        m = hashlib.md5()\n",
    "        m.update((passcode + path).encode('utf-8'))\n",
    "        ans = m.hexdigest()[:4]\n",
    "        return [item in 'bcdef' for item in ans] # up down left right\n",
    "    dq = deque([(1, 1, '')])\n",
    "    seen = {''}\n",
    "    while dq:\n",
    "        x, y, path = dq.popleft()\n",
    "        if x == y == 4:\n",
    "            return path\n",
    "        for (dx, dy), valid in zip(((0, -1), (0, 1), (-1, 0), (1, 0)), door_conditions(path)):\n",
    "            if valid and 0 < x + dx <= 4 and 0 < y + dy <= 4 and path + dirs[(dx, dy)] not in seen:\n",
    "                seen.add(path + dirs[(dx, dy)])\n",
    "                dq.append((x + dx, y + dy, path + dirs[(dx, dy)]))"
   ]
  },
  {
   "cell_type": "code",
   "execution_count": 35,
   "metadata": {},
   "outputs": [],
   "source": [
    "assert(shortest_path('ihgpwlah') == 'DDRRRD')\n",
    "assert(shortest_path('kglvqrro') == 'DDUDRLRRUDRD')\n",
    "assert(shortest_path('ulqzkmiv') == 'DRURDRUDDLLDLUURRDULRLDUUDDDRR')"
   ]
  },
  {
   "cell_type": "code",
   "execution_count": 36,
   "metadata": {},
   "outputs": [
    {
     "name": "stdout",
     "output_type": "stream",
     "text": [
      "RDDRLDRURD\n"
     ]
    }
   ],
   "source": [
    "passcode = 'qzthpkfp'\n",
    "print(shortest_path(passcode))"
   ]
  },
  {
   "cell_type": "code",
   "execution_count": 37,
   "metadata": {},
   "outputs": [],
   "source": [
    "def longest_path(passcode):\n",
    "    def door_conditions(path):\n",
    "        m = hashlib.md5()\n",
    "        m.update((passcode + path).encode('utf-8'))\n",
    "        ans = m.hexdigest()[:4]\n",
    "        return [item in 'bcdef' for item in ans] # up down left right\n",
    "    dq = deque([(1, 1, '')])\n",
    "    seen = {''}\n",
    "    mx_length = 0\n",
    "    while dq:\n",
    "        x, y, path = dq.popleft()\n",
    "        if x == y == 4:\n",
    "            mx_length = max(mx_length, len(path))\n",
    "            continue\n",
    "        for (dx, dy), valid in zip(((0, -1), (0, 1), (-1, 0), (1, 0)), door_conditions(path)):\n",
    "            if valid and 0 < x + dx <= 4 and 0 < y + dy <= 4 and path + dirs[(dx, dy)] not in seen:\n",
    "                seen.add(path + dirs[(dx, dy)])\n",
    "                dq.append((x + dx, y + dy, path + dirs[(dx, dy)]))\n",
    "    return mx_length"
   ]
  },
  {
   "cell_type": "code",
   "execution_count": 38,
   "metadata": {},
   "outputs": [],
   "source": [
    "assert(longest_path('ihgpwlah') == 370)\n",
    "assert(longest_path('kglvqrro') == 492)\n",
    "assert(longest_path('ulqzkmiv') == 830)"
   ]
  },
  {
   "cell_type": "code",
   "execution_count": 39,
   "metadata": {},
   "outputs": [
    {
     "name": "stdout",
     "output_type": "stream",
     "text": [
      "448\n"
     ]
    }
   ],
   "source": [
    "print(longest_path('qzthpkfp'))"
   ]
  },
  {
   "cell_type": "markdown",
   "metadata": {},
   "source": [
    "# Day 18: Like a Rogue"
   ]
  },
  {
   "cell_type": "code",
   "execution_count": 46,
   "metadata": {},
   "outputs": [],
   "source": [
    "rules = {'^^.', '.^^', '^..', '..^'}\n",
    "def next_row(row, rules):\n",
    "    n = len(row)\n",
    "    ans = ''\n",
    "    for i, center in enumerate(row):\n",
    "        left = '.' if i == 0 else row[i - 1]\n",
    "        right = '.' if i == n - 1 else row[i + 1]\n",
    "        if (left + center + right) in rules:\n",
    "            ans += '^'\n",
    "        else:\n",
    "            ans += '.'\n",
    "    return ans\n",
    "def day18(row, rules, nrows = 40):\n",
    "    cnt = 0\n",
    "    for i in range(nrows):\n",
    "        cnt += sum(ch == '.' for ch in row)\n",
    "        row = next_row(row, rules)\n",
    "    return cnt"
   ]
  },
  {
   "cell_type": "code",
   "execution_count": 50,
   "metadata": {},
   "outputs": [
    {
     "name": "stdout",
     "output_type": "stream",
     "text": [
      "2013\n"
     ]
    }
   ],
   "source": [
    "assert(day18('.^^.^.^^^^', rules, 10) == 38)\n",
    "with open('inputs/day18.txt', 'r') as f:\n",
    "    print(day18(f.read().strip(), rules, 40))\n",
    "#     print(day18(f.read().strip(), rules, 400000)) # 20006289"
   ]
  },
  {
   "cell_type": "markdown",
   "metadata": {},
   "source": [
    "# Day 19: An Elephant Named Joseph"
   ]
  },
  {
   "cell_type": "code",
   "execution_count": 57,
   "metadata": {},
   "outputs": [],
   "source": [
    "def day19(n):\n",
    "    lst = [1] * n\n",
    "    cur = 0\n",
    "    while True:\n",
    "        if lst[cur] > 0:\n",
    "            nxt = (cur + 1) % n\n",
    "            while lst[nxt] == 0:\n",
    "                nxt = (nxt + 1) % n\n",
    "            lst[cur] += lst[nxt]\n",
    "            lst[nxt] = 0\n",
    "            if lst[cur] == n:\n",
    "                return cur + 1\n",
    "            cur = (nxt + 1) % n\n",
    "        else:\n",
    "            cur = (cur + 1) % n"
   ]
  },
  {
   "cell_type": "code",
   "execution_count": 59,
   "metadata": {},
   "outputs": [
    {
     "name": "stdout",
     "output_type": "stream",
     "text": [
      "1841611\n"
     ]
    }
   ],
   "source": [
    "assert(day19(5) == 3)\n",
    "print(day19(3017957))"
   ]
  },
  {
   "cell_type": "markdown",
   "metadata": {},
   "source": [
    "# Day 20: Firewall Rules"
   ]
  },
  {
   "cell_type": "code",
   "execution_count": 67,
   "metadata": {},
   "outputs": [
    {
     "name": "stdout",
     "output_type": "stream",
     "text": [
      "(19449262, 119)\n"
     ]
    }
   ],
   "source": [
    "with open('inputs/day20.txt', 'r') as f:\n",
    "    intervals = []\n",
    "    for line in f:\n",
    "        left, right = line.strip().split('-')\n",
    "        intervals.append((int(left), int(right)))\n",
    "def day20(low, high, intervals):\n",
    "    # compute the lowest allowed IP and number of allowed IPs\n",
    "    lowest = None\n",
    "    cnt = 0\n",
    "    for start, end in sorted(intervals):\n",
    "        if start > low:\n",
    "            if lowest is None:\n",
    "                lowest = low\n",
    "            cnt += start - low\n",
    "        low = max(end + 1, low)\n",
    "    if lowest is None:\n",
    "        lowest = low\n",
    "    return lowest, cnt + (high - low + 1)\n",
    "print(day20(0, 4294967295, intervals))"
   ]
  },
  {
   "cell_type": "markdown",
   "metadata": {},
   "source": [
    "# [Day 21: Scrambled Letters and Hash](https://adventofcode.com/2016/day/21)"
   ]
  },
  {
   "cell_type": "code",
   "execution_count": 24,
   "metadata": {},
   "outputs": [],
   "source": [
    "with open('inputs/day21.txt', 'r') as f:\n",
    "    ops = [line.strip() for line in f]"
   ]
  },
  {
   "cell_type": "code",
   "execution_count": 40,
   "metadata": {},
   "outputs": [],
   "source": [
    "def scramble_password(string, ops, reverse=False, verbose=False):\n",
    "    ans = list(string)\n",
    "    n = len(ans)\n",
    "    def move_right(ans, step):\n",
    "        step = step % len(ans)\n",
    "        return ans[-step:] + ans[:-step]\n",
    "    extract_nums = lambda line : map(int, re.findall(r'-?[0-9]+', line))\n",
    "    for op in ops:\n",
    "        if op.startswith('rotate left') or op.startswith('rotate right'):\n",
    "            step, = re.findall(r'-?[0-9]+', op)\n",
    "            if 'right' in op:\n",
    "                step = int(step) % n\n",
    "            else:\n",
    "                step = n - int(step) % n\n",
    "            if reverse: step = n - step\n",
    "            ans = move_right(ans, step)\n",
    "        elif op.startswith('swap position'):\n",
    "            x, y = extract_nums(op)\n",
    "            ans[x], ans[y] = ans[y], ans[x]\n",
    "        elif op.startswith('swap letter'):\n",
    "            _, _, x, *_, y = op.split()\n",
    "            ix, iy = ans.index(x), ans.index(y)\n",
    "            ans[ix], ans[iy] = ans[iy], ans[ix]\n",
    "        elif op.startswith('reverse'):\n",
    "            x, y = extract_nums(op)\n",
    "            ans = ans[:x] + ans[x:y+1][::-1] + ans[y+1:]\n",
    "        elif op.startswith('move'):\n",
    "            x, y = extract_nums(op)\n",
    "            if reverse:\n",
    "                x, y = y, x\n",
    "            item = ans.pop(x)\n",
    "            ans.insert(y, item)\n",
    "        else:\n",
    "            *_, x = op.rsplit(' ', 1)\n",
    "            if not reverse:\n",
    "                idx = ans.index(x)\n",
    "                step = idx + 2 if idx >= 4 else idx + 1\n",
    "                ans = move_right(ans, step)\n",
    "            else:\n",
    "                idx = ans.index(x)\n",
    "                i = 0 # previous idx\n",
    "                while i < n:\n",
    "                    step = i + 2 if i >= 4 else i + 1\n",
    "                    if (i + step) % n == idx:\n",
    "                        break\n",
    "                    i += 1\n",
    "                step = (idx - i) if idx >= i else n - (i - idx)\n",
    "                ans = move_right(ans, n - step)\n",
    "        if verbose: print(ans)\n",
    "    return ''.join(ans)"
   ]
  },
  {
   "cell_type": "code",
   "execution_count": 41,
   "metadata": {},
   "outputs": [
    {
     "name": "stdout",
     "output_type": "stream",
     "text": [
      "gbhafcde\n"
     ]
    }
   ],
   "source": [
    "string = \"abcdefgh\"\n",
    "print(scramble_password(string, ops, verbose=False))"
   ]
  },
  {
   "cell_type": "code",
   "execution_count": 42,
   "metadata": {},
   "outputs": [
    {
     "name": "stdout",
     "output_type": "stream",
     "text": [
      "bcfaegdh\n"
     ]
    }
   ],
   "source": [
    "string = \"fbgdceah\"\n",
    "print(scramble_password(string, ops[::-1], reverse=True, verbose=False))"
   ]
  },
  {
   "cell_type": "markdown",
   "metadata": {},
   "source": [
    "# Day 22: Grid Computing"
   ]
  },
  {
   "cell_type": "code",
   "execution_count": 45,
   "metadata": {},
   "outputs": [
    {
     "name": "stdout",
     "output_type": "stream",
     "text": [
      "/dev/grid/node-x0-y0     91T   66T    25T   72%\n",
      "(0, 0, 66, 25)\n"
     ]
    }
   ],
   "source": [
    "# root@ebhq-gridcenter# df -h\n",
    "# Filesystem              Size  Used  Avail  Use%\n",
    "nodes = []\n",
    "with open('inputs/day22.txt', 'r') as f:\n",
    "    lines = [line.strip() for line in f if line.startswith('/dev')]\n",
    "print(lines[0])\n",
    "for line in lines:\n",
    "    path, size, used, avail, _ = line.split()\n",
    "    _, x, y = path.split('-')\n",
    "    nodes.append(tuple(map(int, [x[1:], y[1:], used[:-1], avail[:-1]])))\n",
    "print(nodes[0])"
   ]
  },
  {
   "cell_type": "code",
   "execution_count": 46,
   "metadata": {},
   "outputs": [
    {
     "name": "stdout",
     "output_type": "stream",
     "text": [
      "901\n"
     ]
    }
   ],
   "source": [
    "# number of pairs of node used fit into avail\n",
    "print(sum(used > 0 and used <= avail for \n",
    "          (_, _, used, _), (_, _, _, avail) in permutations(nodes, 2)))"
   ]
  },
  {
   "cell_type": "code",
   "execution_count": 47,
   "metadata": {},
   "outputs": [],
   "source": [
    "# this is a A* search\n",
    "xmax = max(x for x, _, _, _ in nodes)\n",
    "ymax = max(y for _, y, _, _ in nodes)\n",
    "m = ymax + 1\n",
    "n = xmax + 1\n",
    "from copy import deepcopy\n",
    "# BFS\n",
    "grid = [[None] * n for _ in range(m)]\n",
    "for x, y, used, avail in nodes:\n",
    "    grid[y][x] = [used, avail + used]\n",
    "empty = next((node for node in nodes if node[2] == 0))"
   ]
  },
  {
   "cell_type": "code",
   "execution_count": 48,
   "metadata": {},
   "outputs": [
    {
     "name": "stdout",
     "output_type": "stream",
     "text": [
      "(35, 18, 0, 85)\n"
     ]
    }
   ],
   "source": [
    "print(empty)"
   ]
  },
  {
   "cell_type": "code",
   "execution_count": 49,
   "metadata": {},
   "outputs": [
    {
     "name": "stdout",
     "output_type": "stream",
     "text": [
      "238\n"
     ]
    }
   ],
   "source": [
    "start = ((xmax, 0), (empty[0], empty[1]))\n",
    "def distance(state):\n",
    "    data_x, data_y = state[0]\n",
    "    return abs(data_x) + abs(data_y)\n",
    "def Path(previous, s):\n",
    "    return ([] if (s is None) else Path(previous, previous[s]) + [s])\n",
    "pq = [(distance(start), start)]\n",
    "previous = {start : None}\n",
    "path_cost = {start : 0}\n",
    "while pq:\n",
    "    (f, s) = heappop(pq)\n",
    "    if distance(s) == 0:\n",
    "        path = Path(previous, s)\n",
    "        break\n",
    "    data_x, data_y = s[0]\n",
    "    empty_x, empty_y = s[1]\n",
    "    for dx, dy in (-1, 0), (1, 0), (0, -1), (0, 1):\n",
    "        newx, newy = empty_x + dx, + empty_y + dy\n",
    "        if 0 <= newy < len(grid) and 0 <= newx < len(grid[0]):\n",
    "            used, size = grid[newy][newx][0], grid[empty_y][empty_x][1]\n",
    "            if used <= size:\n",
    "                if newx == data_x and newy == data_y:\n",
    "                    new_data_x, new_data_y = empty_x, empty_y\n",
    "                else:\n",
    "                    new_data_x, new_data_y = data_x, data_y\n",
    "                news = ((new_data_x, new_data_y), (newx, newy))\n",
    "                newcost = path_cost[s] + 1\n",
    "                if news not in path_cost or newcost < path_cost[news]:\n",
    "                    heappush(pq, (newcost + distance(news), news))\n",
    "                    path_cost[news] = newcost\n",
    "                    previous[news] = s\n",
    "print(len(path) - 1)"
   ]
  },
  {
   "cell_type": "code",
   "execution_count": 36,
   "metadata": {},
   "outputs": [
    {
     "name": "stdout",
     "output_type": "stream",
     "text": [
      "7\n"
     ]
    }
   ],
   "source": [
    "# # the key is how to encode the state, and from a state generate next state\n",
    "# xmax = max(x for x, _, _, _ in nodes)\n",
    "# ymax = max(y for _, y, _, _ in nodes)\n",
    "# m = ymax + 1\n",
    "# n = xmax + 1\n",
    "# from copy import deepcopy\n",
    "# # BFS\n",
    "# grid = [[None] * n for _ in range(m)]\n",
    "# for x, y, used, avail in nodes:\n",
    "#     grid[y][x] = [used, avail + used]\n",
    "# def encode_grid(grid, x, y):\n",
    "#     lst = []\n",
    "#     for row in grid:\n",
    "#         for a, b in row:\n",
    "#             lst.append(a)\n",
    "#             lst.append(b)\n",
    "#     lst.append(x)\n",
    "#     lst.append(y)\n",
    "#     return tuple(lst)\n",
    "# x, y = xmax, 0\n",
    "# dq = deque([(grid, (x, y), 0)])\n",
    "# visited = {encode_grid(grid, xmax, 0)}\n",
    "# while dq:\n",
    "#     grid, (x, y), dis = dq.popleft()\n",
    "#     if x == y == 0:\n",
    "#         print(dis)\n",
    "#         break\n",
    "#     for i, row in enumerate(grid):\n",
    "#         for j, (used, total) in enumerate(row):\n",
    "#             for di, dj in (-1, 0), (1, 0), (0, -1), (0, 1):\n",
    "#                 newi, newj = i + di, j + dj\n",
    "#                 if 0 <= newi < len(grid) and 0 <= newj < len(grid[0]):\n",
    "#                     if grid[newi][newj][1] - grid[newi][newj][0] >= used:\n",
    "#                         # it can move\n",
    "#                         if i == y and j == x:\n",
    "#                             newx, newy = newj, newi\n",
    "#                         else:\n",
    "#                             newx, newy = x, y\n",
    "#                         new_grid = deepcopy(grid)\n",
    "#                         new_grid[newi][newj][0] += new_grid[i][j][0]\n",
    "#                         new_grid[i][j][0] = 0\n",
    "#                         code = encode_grid(new_grid, newx, newy)\n",
    "#                         if code not in visited:\n",
    "#                             visited.add(code)\n",
    "#                         dq.append((new_grid, (newx, newy), dis + 1))"
   ]
  },
  {
   "cell_type": "markdown",
   "metadata": {},
   "source": [
    "# [Day 23: Safe Cracking](https://adventofcode.com/2016/day/23) "
   ]
  },
  {
   "cell_type": "code",
   "execution_count": 98,
   "metadata": {},
   "outputs": [
    {
     "name": "stdout",
     "output_type": "stream",
     "text": [
      "['cpy', 'a', 'b'] ['jnz', 'c', -5]\n",
      "[['cpy', 'a', 'b'], ['dec', 'b'], ['cpy', 'a', 'd'], ['cpy', 0, 'a'], ['cpy', 'b', 'c'], ['inc', 'a'], ['dec', 'c'], ['jnz', 'c', -2], ['dec', 'd'], ['jnz', 'd', -5], ['dec', 'b'], ['cpy', 'b', 'c'], ['cpy', 'c', 'd'], ['dec', 'd'], ['inc', 'c'], ['jnz', 'd', -2], ['tgl', 'c'], ['cpy', -16, 'c'], ['jnz', 1, 'c'], ['cpy', 78, 'c'], ['jnz', 70, 'd'], ['inc', 'a'], ['inc', 'd'], ['jnz', 'd', -2], ['inc', 'c'], ['jnz', 'c', -5]]\n"
     ]
    }
   ],
   "source": [
    "with open('inputs/day23.txt', 'r') as f:\n",
    "    program = [[(x if x.isalpha() else int(x))\n",
    "                for x in line.strip().split()]\n",
    "               for line in f]\n",
    "print(program[0], program[-1])\n",
    "print(program)"
   ]
  },
  {
   "cell_type": "code",
   "execution_count": 99,
   "metadata": {},
   "outputs": [],
   "source": [
    "def run(registers, program):\n",
    "    pc = 0\n",
    "    n = len(program)\n",
    "    fetch = lambda x : x if type(x) == int else registers[x]\n",
    "    while 0 <= pc < n:\n",
    "        inst = program[pc]\n",
    "        ins, x, y = inst[0], inst[1], inst[-1]\n",
    "        if ins == 'inc':\n",
    "            registers[x] += 1\n",
    "        elif ins == 'dec':\n",
    "            registers[x] -= 1\n",
    "        elif ins == 'jnz':\n",
    "            val = fetch(x)\n",
    "            if val != 0:\n",
    "                pc += fetch(y)\n",
    "                continue\n",
    "        elif ins == 'tgl':\n",
    "            toggle(program, pc + fetch(x))\n",
    "        else:\n",
    "            val = fetch(x)\n",
    "            registers[y] = val\n",
    "        pc += 1\n",
    "    return registers['a']\n",
    "def toggle(program, i):\n",
    "    if 0 <= i < len(program):\n",
    "        inst = program[i]\n",
    "        inst[0] = ('dec' if inst[0] == 'inc' else\n",
    "                   'inc' if len(inst) == 2 else\n",
    "                   'cpy' if inst[0] == 'jnz' else\n",
    "                   'jnz')"
   ]
  },
  {
   "cell_type": "code",
   "execution_count": 100,
   "metadata": {},
   "outputs": [
    {
     "data": {
      "text/plain": [
       "10500"
      ]
     },
     "execution_count": 100,
     "metadata": {},
     "output_type": "execute_result"
    }
   ],
   "source": [
    "registers = dict(a=7, b=0, c=0, d=0)\n",
    "run(registers, program)"
   ]
  },
  {
   "cell_type": "markdown",
   "metadata": {},
   "source": [
    "# Day 24: Air Duct Spelunking"
   ]
  },
  {
   "cell_type": "code",
   "execution_count": 24,
   "metadata": {},
   "outputs": [],
   "source": [
    "with open('inputs/day24.txt', 'r') as f:\n",
    "    grid = [list(line.strip()) for line in f]"
   ]
  },
  {
   "cell_type": "code",
   "execution_count": 25,
   "metadata": {},
   "outputs": [],
   "source": [
    "locs = {}\n",
    "for i, row in enumerate(grid):\n",
    "    for j, ch in enumerate(row):\n",
    "        if ch.isdigit():\n",
    "            locs[ch] = (i, j)\n",
    "distances = {(i, j) : float('inf') for i, j in permutations(locs, 2)}\n",
    "def bfs(grid, start, locs, distances):\n",
    "    \"Do BFS from start and update its distance to all other nums\"\n",
    "    x, y = locs[start]\n",
    "    dq = deque([(x, y, 0)])\n",
    "    visited = {(x, y)}\n",
    "    while dq:\n",
    "        i, j, dis = dq.popleft()\n",
    "        for di, dj in (-1, 0), (1, 0), (0, -1), (0, 1):\n",
    "            newi, newj = i + di, j + dj\n",
    "            if grid[newi][newj] != '#' and (newi, newj) not in visited:\n",
    "                if grid[newi][newj].isdigit() and distances[start, grid[newi][newj]] > dis + 1:\n",
    "                    distances[start, grid[newi][newj]] = distances[grid[newi][newj], start] = dis + 1\n",
    "                visited.add((newi, newj))\n",
    "                dq.append((newi, newj, dis + 1))\n",
    "for i, row in enumerate(grid):\n",
    "    for j, ch in enumerate(row):\n",
    "        if ch.isdigit():\n",
    "            bfs(grid, ch, locs, distances)"
   ]
  },
  {
   "cell_type": "code",
   "execution_count": 26,
   "metadata": {},
   "outputs": [],
   "source": [
    "others = list(locs.keys() - {'0'})"
   ]
  },
  {
   "cell_type": "code",
   "execution_count": 29,
   "metadata": {},
   "outputs": [
    {
     "name": "stdout",
     "output_type": "stream",
     "text": [
      "462\n",
      "676\n"
     ]
    }
   ],
   "source": [
    "def travel_distance(path, distances, closed=False):\n",
    "    ans = sum(distances[a, b] for a, b in zip(path, path[1:]))\n",
    "    return ans + distances[path[-1], path[0]] if closed else ans\n",
    "print(min(travel_distance(['0'] + list(path), distances) for path in permutations(others)))\n",
    "print(min(travel_distance(['0'] + list(path), distances, closed=True) for path in permutations(others)))"
   ]
  },
  {
   "cell_type": "markdown",
   "metadata": {},
   "source": [
    "# [Day 25: Clock Signal](https://adventofcode.com/2016/day/25)"
   ]
  },
  {
   "cell_type": "code",
   "execution_count": 73,
   "metadata": {},
   "outputs": [],
   "source": [
    "program = []\n",
    "with open('inputs/day25.txt', 'r') as f:\n",
    "    for line in f:\n",
    "        op, *opands = re.findall(r'[-\\w]+', line)\n",
    "        program.append((op, [int(opand) if re.match(r'-?[0-9]+', opand) else opand \n",
    "                             for opand in opands] ))"
   ]
  },
  {
   "cell_type": "code",
   "execution_count": 74,
   "metadata": {},
   "outputs": [
    {
     "name": "stdout",
     "output_type": "stream",
     "text": [
      "[('cpy', ['a', 'd']), ('cpy', [4, 'c']), ('cpy', [633, 'b']), ('inc', ['d']), ('dec', ['b']), ('jnz', ['b', -2]), ('dec', ['c']), ('jnz', ['c', -5]), ('cpy', ['d', 'a']), ('jnz', [0, 0]), ('cpy', ['a', 'b']), ('cpy', [0, 'a']), ('cpy', [2, 'c']), ('jnz', ['b', 2]), ('jnz', [1, 6]), ('dec', ['b']), ('dec', ['c']), ('jnz', ['c', -4]), ('inc', ['a']), ('jnz', [1, -7]), ('cpy', [2, 'b']), ('jnz', ['c', 2]), ('jnz', [1, 4]), ('dec', ['b']), ('dec', ['c']), ('jnz', [1, -4]), ('jnz', [0, 0]), ('out', ['b']), ('jnz', ['a', -19]), ('jnz', [1, -21])]\n"
     ]
    }
   ],
   "source": [
    "print(program)"
   ]
  },
  {
   "cell_type": "code",
   "execution_count": 75,
   "metadata": {},
   "outputs": [],
   "source": [
    "def run(a, program):\n",
    "    \"yield value one by one\"\n",
    "    registers = defaultdict(int)\n",
    "    registers['a'] = a\n",
    "    pc = 0\n",
    "    n = len(program)\n",
    "    fetch = lambda x : x if type(x) == int else registers[x]\n",
    "    while 0 <= pc < n:\n",
    "        ins, opands = program[pc]\n",
    "        if ins == 'inc':\n",
    "            registers[opands[0]] += 1\n",
    "        elif ins == 'dec':\n",
    "            registers[opands[0]] -= 1\n",
    "        elif ins == 'out':\n",
    "            yield registers[opands[0]]\n",
    "        elif ins == 'jnz':\n",
    "            val = fetch(opands[0])\n",
    "            if val != 0:\n",
    "                pc += opands[1]\n",
    "                continue\n",
    "        else:\n",
    "            assert(ins == 'cpy')\n",
    "            val = fetch(opands[0])\n",
    "            registers[opands[1]] = val\n",
    "        pc += 1"
   ]
  },
  {
   "cell_type": "code",
   "execution_count": 76,
   "metadata": {},
   "outputs": [
    {
     "name": "stdout",
     "output_type": "stream",
     "text": [
      "[0, 0, 0, 1, 0, 0, 1, 0, 0, 1]\n",
      "[0, 1, 0, 1, 0, 1, 0, 1, 0, 1]\n"
     ]
    }
   ],
   "source": [
    "print(list(itertools.islice(run(100, program), 10)))\n",
    "print(list(itertools.islice(cycle([0, 1]), 10)))"
   ]
  },
  {
   "cell_type": "code",
   "execution_count": 77,
   "metadata": {},
   "outputs": [],
   "source": [
    "def probe_a(program, times = 1000):\n",
    "    \"compute the lowest positive integer of a\"\n",
    "    a = 1\n",
    "    while True:\n",
    "        g = run(a, program)\n",
    "        for v1, v2 in itertools.islice(zip(g, cycle((0, 1))), times):\n",
    "            if v1 != v2:\n",
    "                break\n",
    "        else:\n",
    "            break\n",
    "        a += 1\n",
    "    return a"
   ]
  },
  {
   "cell_type": "code",
   "execution_count": 78,
   "metadata": {},
   "outputs": [
    {
     "data": {
      "text/plain": [
       "198"
      ]
     },
     "execution_count": 78,
     "metadata": {},
     "output_type": "execute_result"
    }
   ],
   "source": [
    "probe_a(program, times=1000)"
   ]
  },
  {
   "cell_type": "code",
   "execution_count": null,
   "metadata": {},
   "outputs": [],
   "source": []
  }
 ],
 "metadata": {
  "kernelspec": {
   "display_name": "Python 3",
   "language": "python",
   "name": "python3"
  },
  "language_info": {
   "codemirror_mode": {
    "name": "ipython",
    "version": 3
   },
   "file_extension": ".py",
   "mimetype": "text/x-python",
   "name": "python",
   "nbconvert_exporter": "python",
   "pygments_lexer": "ipython3",
   "version": "3.6.6"
  }
 },
 "nbformat": 4,
 "nbformat_minor": 2
}
