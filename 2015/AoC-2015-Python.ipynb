{
 "cells": [
  {
   "cell_type": "markdown",
   "metadata": {},
   "source": [
    "# Day 0: Imports and Utility Functions"
   ]
  },
  {
   "cell_type": "code",
   "execution_count": 1,
   "metadata": {},
   "outputs": [],
   "source": [
    "%matplotlib inline\n",
    "import matplotlib.pyplot as plt\n",
    "\n",
    "import os\n",
    "import re\n",
    "import numpy as np\n",
    "import random\n",
    "import string\n",
    "from collections import Counter, defaultdict, namedtuple, deque, OrderedDict\n",
    "from functools   import lru_cache, reduce\n",
    "from statistics  import mean, median, mode, stdev, variance\n",
    "from itertools   import (permutations, combinations, groupby, cycle, \n",
    "                         islice, chain, zip_longest, takewhile, dropwhile, count as count_from)\n",
    "from heapq       import heappush, heappop\n",
    "from operator    import iand, ior, ilshift, irshift\n",
    "from numba       import jit"
   ]
  },
  {
   "cell_type": "markdown",
   "metadata": {},
   "source": [
    "# Day 1: Not Quite Lisp"
   ]
  },
  {
   "cell_type": "code",
   "execution_count": 2,
   "metadata": {},
   "outputs": [
    {
     "name": "stdout",
     "output_type": "stream",
     "text": [
      "232\n",
      "1783\n"
     ]
    }
   ],
   "source": [
    "with open('inputs/day1.txt') as f:\n",
    "    content = f.read()\n",
    "print(content.count('(') - content.count(')'))\n",
    "cnt = 0\n",
    "for idx, ch in enumerate(content, 1):\n",
    "    if ch == '(':\n",
    "        cnt += 1\n",
    "    else:\n",
    "        cnt -= 1\n",
    "        if cnt < 0:\n",
    "            print(idx)\n",
    "            break"
   ]
  },
  {
   "cell_type": "markdown",
   "metadata": {},
   "source": [
    "# Day 2: I Was Told There Would Be No Math"
   ]
  },
  {
   "cell_type": "code",
   "execution_count": 3,
   "metadata": {},
   "outputs": [
    {
     "name": "stdout",
     "output_type": "stream",
     "text": [
      "1606483\n",
      "3842356\n"
     ]
    }
   ],
   "source": [
    "paper = 0\n",
    "ribbon = 0\n",
    "with open('inputs/day2.txt') as f:\n",
    "    for line in f:\n",
    "        a, b, c = tuple(map(int, line.split('x')))\n",
    "        ribbon += (sum((a, b, c)) - max(a, b, c)) * 2 + a * b * c\n",
    "        s1, s2, s3 = a * b, a * c, b * c\n",
    "        paper += min(s1, s2, s3) + sum((s1, s2, s3)) * 2\n",
    "print(paper)\n",
    "print(ribbon)"
   ]
  },
  {
   "cell_type": "markdown",
   "metadata": {},
   "source": [
    "# Day 3: Perfectly Spherical Houses in a Vacuum"
   ]
  },
  {
   "cell_type": "code",
   "execution_count": 4,
   "metadata": {},
   "outputs": [
    {
     "name": "stdout",
     "output_type": "stream",
     "text": [
      "2592\n",
      "2360\n"
     ]
    }
   ],
   "source": [
    "with open('inputs/day3.txt') as f:\n",
    "    content = ''.join([line.strip() for line in f])\n",
    "# print(content)\n",
    "direction = {'>' : (0, 1), '<' : (0, -1), '^' : (1, 0), 'v' : (-1, 0)}\n",
    "i, j = 0, 0\n",
    "visited = set([(i, j)])\n",
    "for ch in content:\n",
    "    di, dj = direction[ch]\n",
    "    i, j = i + di, j + dj\n",
    "    visited.add((i, j))\n",
    "print(len(visited))\n",
    "i, j = 0, 0\n",
    "visited = set([(i, j)])\n",
    "for ch in content[::2]:\n",
    "    di, dj = direction[ch]\n",
    "    i, j = i + di, j + dj\n",
    "    visited.add((i, j))\n",
    "i, j = 0, 0\n",
    "for ch in content[1::2]:\n",
    "    di, dj = direction[ch]\n",
    "    i, j = i + di, j + dj\n",
    "    visited.add((i, j))\n",
    "print(len(visited))"
   ]
  },
  {
   "cell_type": "markdown",
   "metadata": {},
   "source": [
    "# Day 4: The Ideal Stocking Stuffer"
   ]
  },
  {
   "cell_type": "code",
   "execution_count": 5,
   "metadata": {},
   "outputs": [
    {
     "name": "stdout",
     "output_type": "stream",
     "text": [
      "346386\n"
     ]
    }
   ],
   "source": [
    "import hashlib\n",
    "\n",
    "def valid_md5(s):\n",
    "    m = hashlib.md5(s.encode('utf-8'))\n",
    "    code = m.hexdigest()\n",
    "    return len(code) >= 5 and all(code[i] == '0' for i in range(5))\n",
    "\n",
    "s = \"iwrupvqb\"\n",
    "# s = \"pqrstuv\"\n",
    "print(next(dropwhile(lambda x : not valid_md5(s + str(x)), count_from(0))))"
   ]
  },
  {
   "cell_type": "markdown",
   "metadata": {},
   "source": [
    "# Day 5: Doesn't He Have Intern-Elves For This?\n",
    "Old rule\n",
    "* It contains at least three vowels (aeiou only), like aei, xazegov, or aeiouaeiouaeiou.\n",
    "* It contains at least one letter that appears twice in a row, like xx, abcdde (dd), or aabbccdd (aa, bb, cc, or dd).\n",
    "* It does not contain the strings ab, cd, pq, or xy, even if they are part of one of the other requirements.\n",
    "\n",
    "New rule\n",
    "\n",
    "* It contains a pair of any two letters that appears at least twice in the string without overlapping, like xyxy (xy) or aabcdefgaa (aa), but not like aaa (aa, but it overlaps).\n",
    "* It contains at least one letter which repeats with exactly one letter between them, like xyx, abcdefeghi (efe), or even aaa."
   ]
  },
  {
   "cell_type": "code",
   "execution_count": 6,
   "metadata": {},
   "outputs": [
    {
     "name": "stdout",
     "output_type": "stream",
     "text": [
      "238\n"
     ]
    }
   ],
   "source": [
    "def is_nice(s):\n",
    "    return (sum(ch in 'aeiou' for ch in s) >= 3 \n",
    "            and any(len(list(g)) >= 2 for key, g in groupby(s)) \n",
    "            and all(item not in s for item in ('ab', 'cd', 'pq', 'xy')))\n",
    "cnt = 0\n",
    "with open('inputs/day5.txt') as f:\n",
    "    for line in f:\n",
    "        cnt += is_nice(line)\n",
    "print(cnt)"
   ]
  },
  {
   "cell_type": "code",
   "execution_count": 7,
   "metadata": {},
   "outputs": [
    {
     "name": "stdout",
     "output_type": "stream",
     "text": [
      "69\n"
     ]
    }
   ],
   "source": [
    "def is_nice_new(s):\n",
    "    d = {}\n",
    "    flag = False\n",
    "    for i in range(len(s) - 1):\n",
    "        x = s[i : i + 2]\n",
    "        if x in d:\n",
    "            if i - d[x] > 1:\n",
    "                flag = True\n",
    "                break\n",
    "        else:\n",
    "            d[x] = i\n",
    "    return flag and any(s[i] == s[i + 2] for i in range(len(s) - 2))\n",
    "cnt = 0\n",
    "with open('inputs/day5.txt') as f:\n",
    "    for line in f:\n",
    "        cnt += is_nice_new(line)\n",
    "print(cnt)"
   ]
  },
  {
   "cell_type": "markdown",
   "metadata": {},
   "source": [
    "# Day 6: Probably a Fire Hazard"
   ]
  },
  {
   "cell_type": "code",
   "execution_count": 8,
   "metadata": {},
   "outputs": [
    {
     "name": "stdout",
     "output_type": "stream",
     "text": [
      "400410\n"
     ]
    }
   ],
   "source": [
    "lights = np.zeros((1000, 1000))\n",
    "def parse_coords(lst):\n",
    "    a, b = lst[0].split(',')\n",
    "    c, d = lst[1].split(',')\n",
    "    return tuple(map(int, (a, b, c, d)))\n",
    "\n",
    "with open('inputs/day6.txt') as f:\n",
    "    for line in f:\n",
    "        lst = re.findall('[0-9]+,[0-9]+', line)\n",
    "        a, b, c, d = parse_coords(lst)\n",
    "        if line.startswith('turn off'):\n",
    "            lights[a:c + 1, b:d + 1] = 0\n",
    "        elif line.startswith('turn on'):\n",
    "            lights[a:c + 1, b:d + 1] = 1\n",
    "        else:\n",
    "            lights[a:c + 1, b:d + 1] = 1 - lights[a:c + 1, b:d + 1]\n",
    "print(int(np.sum(lights)))"
   ]
  },
  {
   "cell_type": "code",
   "execution_count": 9,
   "metadata": {},
   "outputs": [
    {
     "name": "stdout",
     "output_type": "stream",
     "text": [
      "15343601\n"
     ]
    }
   ],
   "source": [
    "lights = np.zeros((1000, 1000))\n",
    "def turn_off(x):\n",
    "    return max(x - 1, 0)\n",
    "v_turn_off = np.vectorize(turn_off)\n",
    "with open('inputs/day6.txt') as f:\n",
    "    for line in f:\n",
    "        lst = re.findall('[0-9]+,[0-9]+', line)\n",
    "        a, b, c, d = parse_coords(lst)\n",
    "        if line.startswith('turn off'):\n",
    "            lights[a:c + 1, b:d + 1] = v_turn_off(lights[a:c + 1, b:d + 1])\n",
    "        elif line.startswith('turn on'):\n",
    "            lights[a:c + 1, b:d + 1] += 1\n",
    "        else:\n",
    "            lights[a:c + 1, b:d + 1] += 2\n",
    "print(int(np.sum(lights)))"
   ]
  },
  {
   "cell_type": "markdown",
   "metadata": {},
   "source": [
    "# Day 7: Some Assembly Required"
   ]
  },
  {
   "cell_type": "code",
   "execution_count": 10,
   "metadata": {},
   "outputs": [
    {
     "name": "stdout",
     "output_type": "stream",
     "text": [
      "14710\n"
     ]
    }
   ],
   "source": [
    "operators = {'OR' : ior, 'AND' : iand, 'NOT' : lambda x : ~x, 'LSHIFT' : ilshift, 'RSHIFT' : irshift}\n",
    "wires = {}\n",
    "def digitify(s):\n",
    "    return int(s) if s.isdigit() else s\n",
    "lines = [] # lines of dictionary\n",
    "with open('inputs/day7-1.txt') as f:\n",
    "    for line in f:\n",
    "        d = {}\n",
    "        lh, rh = line.split(' -> ')\n",
    "        rh = rh.strip('\\n')\n",
    "        rh = digitify(rh)\n",
    "        d['rh'] = rh\n",
    "        if line.startswith('NOT'):\n",
    "            op, lh1 = lh.split(' ')\n",
    "            lh = [digitify(lh1)]\n",
    "        elif ' ' not in lh:\n",
    "            op = None\n",
    "            lh = [digitify(lh)]\n",
    "        else:\n",
    "            lh1, op, lh2 = lh.split(' ')\n",
    "            lh = [digitify(lh1), digitify(lh2)]\n",
    "        d['op'] = op\n",
    "        d['lh'] = lh\n",
    "        lines.append(d)\n",
    "def is_valid(d):\n",
    "    return all(( lh in wires or type(lh) == int) for lh in d['lh'])\n",
    "nlines = len(lines)\n",
    "used = [False] * nlines\n",
    "cnt = 0\n",
    "while cnt < nlines:\n",
    "    cnt += 1\n",
    "    for i, d in enumerate(lines):\n",
    "        if used[i]: continue\n",
    "        if is_valid(d):\n",
    "            break\n",
    "    used[i] = True\n",
    "    rh = d['rh']\n",
    "    lh = d['lh']\n",
    "    op = d['op']\n",
    "    if op is None:\n",
    "        wires[rh] = lh[0] if type(lh[0]) == int else wires[lh[0]]\n",
    "    elif op == 'NOT':\n",
    "        wires[rh] = ~lh[0] if type(lh[0]) == int else ~wires[lh[0]]\n",
    "    else:\n",
    "        v1, v2 = lh[0] if type(lh[0]) == int else wires[lh[0]], lh[1] if type(lh[1]) == int else wires[lh[1]]\n",
    "        wires[rh] = operators[op](v1, v2)\n",
    "print(wires['a'])"
   ]
  },
  {
   "cell_type": "markdown",
   "metadata": {},
   "source": [
    "# Day 8: Matchsticks"
   ]
  },
  {
   "cell_type": "code",
   "execution_count": 11,
   "metadata": {},
   "outputs": [
    {
     "name": "stdout",
     "output_type": "stream",
     "text": [
      "1333\n"
     ]
    }
   ],
   "source": [
    "def count_characters(line):\n",
    "    cnt = 2\n",
    "    i = 0\n",
    "    n = len(line)\n",
    "    while i < n:\n",
    "        if line[i] == '\\\\':\n",
    "            if line[i + 1] in ('\"', '\\\\'):\n",
    "                i += 2\n",
    "                cnt += 1\n",
    "            elif line[i + 1] == 'x':\n",
    "                i += 4\n",
    "                cnt += 3\n",
    "            else:\n",
    "                i += 1\n",
    "        else:\n",
    "            i += 1\n",
    "    return cnt\n",
    "\n",
    "with open('inputs/day8.txt', 'r') as f:\n",
    "    print(sum(count_characters(line.strip()) for line in f))"
   ]
  },
  {
   "cell_type": "code",
   "execution_count": 12,
   "metadata": {},
   "outputs": [
    {
     "name": "stdout",
     "output_type": "stream",
     "text": [
      "2046\n"
     ]
    }
   ],
   "source": [
    "def count_characters_new(line):\n",
    "    cnt = 4\n",
    "    i = 0\n",
    "    n = len(line)\n",
    "    while i < n:\n",
    "        if line[i] == '\\\\':\n",
    "            if line[i + 1] in ('\"', '\\\\'):\n",
    "                i += 2\n",
    "                cnt += 2\n",
    "            elif line[i + 1] == 'x':\n",
    "                i += 4\n",
    "                cnt += 1\n",
    "            else:\n",
    "                i += 1\n",
    "        else:\n",
    "            i += 1\n",
    "    return cnt\n",
    "with open('inputs/day8.txt', 'r') as f:\n",
    "    print(sum(count_characters_new(line.strip()) for line in f))"
   ]
  },
  {
   "cell_type": "markdown",
   "metadata": {},
   "source": [
    "# Day 9: All in a Single Night"
   ]
  },
  {
   "cell_type": "code",
   "execution_count": 13,
   "metadata": {},
   "outputs": [],
   "source": [
    "graph = defaultdict(dict)\n",
    "with open('inputs/day9.txt', 'r') as f:\n",
    "    for line in f:\n",
    "        a, _, b, _, dis = line.strip().split()\n",
    "        graph[a][b] = graph[b][a] = int(dis)"
   ]
  },
  {
   "cell_type": "code",
   "execution_count": 14,
   "metadata": {},
   "outputs": [
    {
     "name": "stdout",
     "output_type": "stream",
     "text": [
      "117\n",
      "909\n"
     ]
    }
   ],
   "source": [
    "def trip(cities):\n",
    "    return sum(graph[a][b] for a, b in zip(cities, cities[1:]))\n",
    "print(min(trip(cities) for cities in permutations(graph)))\n",
    "print(max(trip(cities) for cities in permutations(graph)))"
   ]
  },
  {
   "cell_type": "markdown",
   "metadata": {},
   "source": [
    "# Day 10: Elves Look, Elves Say\n",
    "inputs: 1113222113"
   ]
  },
  {
   "cell_type": "code",
   "execution_count": 15,
   "metadata": {},
   "outputs": [
    {
     "name": "stdout",
     "output_type": "stream",
     "text": [
      "3579328\n"
     ]
    }
   ],
   "source": [
    "s = \"1113222113\"\n",
    "for _ in range(50):\n",
    "    s = ''.join([item for ch, g in groupby(s)\n",
    "                      for item in (str(len(tuple(g))), ch)])\n",
    "print(len(s))"
   ]
  },
  {
   "cell_type": "markdown",
   "metadata": {},
   "source": [
    "# Day 11: Corporate Policy"
   ]
  },
  {
   "cell_type": "code",
   "execution_count": 16,
   "metadata": {},
   "outputs": [
    {
     "name": "stdout",
     "output_type": "stream",
     "text": [
      "hxcaabcc\n"
     ]
    }
   ],
   "source": [
    "# password = \"hxbxwxba\"\n",
    "password = \"hxbxxyzz\"\n",
    "def isvalid(s):\n",
    "    return (any(ord(s[i]) + 1 == ord(s[i + 1]) == ord(s[i + 2]) - 1 for i in range(len(s) - 2))\n",
    "            and all(not ch in s for ch in ('i', 'o', 'l'))\n",
    "            and sum(ch * 2 in s for ch in string.ascii_lowercase) >= 2\n",
    "           )\n",
    "def increment(s):\n",
    "    carry = 1\n",
    "    ans = ''\n",
    "    for i, ch in enumerate(s[::-1]):\n",
    "        val = ord(ch) - 97\n",
    "        carry, val = divmod(val + carry, 26)\n",
    "        ans += chr(val + 97)\n",
    "        if carry == 0:\n",
    "            return (ans + s[::-1][i + 1:])[::-1]\n",
    "\n",
    "while True:\n",
    "    password = increment(password)\n",
    "    if isvalid(password):\n",
    "        print(password)\n",
    "        break"
   ]
  },
  {
   "cell_type": "markdown",
   "metadata": {},
   "source": [
    "# Day 12: JSAbacusFramework.io"
   ]
  },
  {
   "cell_type": "code",
   "execution_count": 17,
   "metadata": {},
   "outputs": [],
   "source": [
    "import json\n",
    "with open('inputs/day12.json') as f:\n",
    "    data = json.load(f)"
   ]
  },
  {
   "cell_type": "code",
   "execution_count": 18,
   "metadata": {},
   "outputs": [],
   "source": [
    "# import collections\n",
    "# def iterate(data):\n",
    "#     cnt = 0\n",
    "#     print(data)\n",
    "#     for key, value in data.items():\n",
    "#         if isinstance(value, dict):\n",
    "#             cnt += iterate(value)\n",
    "#         else:\n",
    "#             if isinstance(value, collections.Iterable):\n",
    "#                 cnt += sum([item for item in value if type(item) == int])\n",
    "#             else:\n",
    "#                 if type(value) == int:\n",
    "#                     cnt += value\n",
    "#     return cnt\n",
    "# # print(sum(iterate(item) for item in data))\n",
    "# for item in d"
   ]
  },
  {
   "cell_type": "markdown",
   "metadata": {},
   "source": [
    "# Day 13: Knights of the Dinner Table "
   ]
  },
  {
   "cell_type": "code",
   "execution_count": 19,
   "metadata": {},
   "outputs": [],
   "source": [
    "# Alice would lose 57 happiness units by sitting next to Bob.\n",
    "graph = defaultdict(dict)\n",
    "with open('inputs/day13.txt', 'r') as f:\n",
    "    for line in f:\n",
    "        a, *rest, b = line.strip().split()\n",
    "        b = b[:-1]\n",
    "        lose_or_gain = rest[1]\n",
    "        v = -int(rest[2]) if lose_or_gain == 'lose' else int(rest[2])\n",
    "        graph[a][b] = v\n",
    "# print(graph)"
   ]
  },
  {
   "cell_type": "code",
   "execution_count": 20,
   "metadata": {},
   "outputs": [
    {
     "name": "stdout",
     "output_type": "stream",
     "text": [
      "618\n"
     ]
    }
   ],
   "source": [
    "print(max(sum(graph[perm[i]][perm[(i + 1) % len(graph)]] + graph[perm[(i + 1) % len(graph)]][perm[i]]\n",
    "          for i in range(len(graph)))\n",
    "          for perm in permutations(graph.keys())))"
   ]
  },
  {
   "cell_type": "code",
   "execution_count": 21,
   "metadata": {},
   "outputs": [],
   "source": [
    "keys = list(graph.keys())\n",
    "for key in keys:\n",
    "    graph[key]['YZ'] = 0\n",
    "    graph['YZ'][key] = 0"
   ]
  },
  {
   "cell_type": "code",
   "execution_count": 22,
   "metadata": {},
   "outputs": [
    {
     "data": {
      "text/plain": [
       "9"
      ]
     },
     "execution_count": 22,
     "metadata": {},
     "output_type": "execute_result"
    }
   ],
   "source": [
    "len(graph)"
   ]
  },
  {
   "cell_type": "code",
   "execution_count": 23,
   "metadata": {},
   "outputs": [
    {
     "name": "stdout",
     "output_type": "stream",
     "text": [
      "601\n"
     ]
    }
   ],
   "source": [
    "print(max(sum(graph[perm[i]][perm[(i + 1) % len(graph)]] + graph[perm[(i + 1) % len(graph)]][perm[i]]\n",
    "          for i in range(len(graph)))\n",
    "          for perm in permutations(graph.keys())))"
   ]
  },
  {
   "cell_type": "markdown",
   "metadata": {},
   "source": [
    "# Day 14: Reindeer Olympics"
   ]
  },
  {
   "cell_type": "code",
   "execution_count": 24,
   "metadata": {},
   "outputs": [],
   "source": [
    "def travel(speed, run_time, rest_time, time):\n",
    "    period = run_time + rest_time\n",
    "    dis_period = run_time * speed\n",
    "    q, r = divmod(time, period)\n",
    "    return q * dis_period + speed * min(run_time, r)"
   ]
  },
  {
   "cell_type": "code",
   "execution_count": 25,
   "metadata": {},
   "outputs": [],
   "source": [
    "assert(travel(14, 10, 127, 1000) == 1120)\n",
    "assert(travel(16, 11, 162, 1000) == 1056)"
   ]
  },
  {
   "cell_type": "code",
   "execution_count": 26,
   "metadata": {},
   "outputs": [
    {
     "name": "stdout",
     "output_type": "stream",
     "text": [
      "[(8, 8, 53), (13, 4, 49), (20, 7, 132), (12, 4, 43), (9, 5, 38), (10, 4, 37), (3, 37, 76), (9, 12, 97), (37, 1, 36)]\n"
     ]
    }
   ],
   "source": [
    "deers = []\n",
    "with open('inputs/day14.txt', 'r') as f:\n",
    "    for line in f:\n",
    "        items = line.strip().split()\n",
    "        deers.append((int(items[3]), int(items[6]), int(items[13])))\n",
    "print(deers)"
   ]
  },
  {
   "cell_type": "code",
   "execution_count": 27,
   "metadata": {},
   "outputs": [
    {
     "name": "stdout",
     "output_type": "stream",
     "text": [
      "2655\n"
     ]
    }
   ],
   "source": [
    "time = 2503\n",
    "print(max(travel(speed, run_time, rest_time, time) for speed, run_time, rest_time in deers))"
   ]
  },
  {
   "cell_type": "code",
   "execution_count": 28,
   "metadata": {},
   "outputs": [
    {
     "name": "stdout",
     "output_type": "stream",
     "text": [
      "1059\n"
     ]
    }
   ],
   "source": [
    "awards = [0] * len(deers)\n",
    "for i in range(1, time + 1):\n",
    "    distances = [travel(speed, run_time, rest_time, i) \n",
    "                 for speed, run_time, rest_time in deers]\n",
    "    mx = max(distances)\n",
    "    for j, distance in enumerate(distances):\n",
    "        if distance == mx:\n",
    "            awards[j] += 1\n",
    "print(max(awards))\n",
    "# print(max(travel(speed, run_time, rest_time, time) + award\n",
    "#           for award, (speed, run_time, rest_time) in zip(awards, deers)))"
   ]
  },
  {
   "cell_type": "markdown",
   "metadata": {},
   "source": [
    "# Day 16: Aunt Sue"
   ]
  },
  {
   "cell_type": "code",
   "execution_count": 29,
   "metadata": {},
   "outputs": [],
   "source": [
    "aunts_info = []\n",
    "def parse_aunt(line):\n",
    "    line = line.strip()\n",
    "    name, rest = line.split(': ', 1)\n",
    "    idx = int(name[4:])\n",
    "    ans = {'idx' : idx}\n",
    "    ans['idx'] = idx\n",
    "    for item in rest.split(', '):\n",
    "        left, right = item.split(': ')\n",
    "        ans[left] = int(right)\n",
    "    return ans\n",
    "with open('inputs/day16.txt', 'r') as f:\n",
    "    for line in f:\n",
    "        aunts_info.append(parse_aunt(line))"
   ]
  },
  {
   "cell_type": "code",
   "execution_count": 30,
   "metadata": {},
   "outputs": [
    {
     "name": "stdout",
     "output_type": "stream",
     "text": [
      "373\n"
     ]
    }
   ],
   "source": [
    "from copy import deepcopy\n",
    "aunts = deepcopy(aunts_info)\n",
    "rules = {'children' : 3, 'cats' : 7, 'samoyeds' : 2,\n",
    "         'pomeranians' : 3, 'akitas' : 0, 'vizslas' : 0, 'goldfish' : 5,\n",
    "         'trees' : 3, 'cars' : 2, 'perfumes' : 1}\n",
    "for key, cnt in rules.items():\n",
    "    aunts = [aunt for aunt in aunts if key not in aunt or aunt[key] == cnt]\n",
    "assert(len(aunts) == 1)\n",
    "print(aunts[0]['idx'])"
   ]
  },
  {
   "cell_type": "code",
   "execution_count": 31,
   "metadata": {},
   "outputs": [
    {
     "name": "stdout",
     "output_type": "stream",
     "text": [
      "260\n"
     ]
    }
   ],
   "source": [
    "aunts = deepcopy(aunts_info)\n",
    "for key, cnt in rules.items():\n",
    "    if key in ('cats', 'trees'):\n",
    "        aunts = [aunt for aunt in aunts if key not in aunt or aunt[key] > cnt]\n",
    "    elif key in ('pomeranians', 'goldfish'):\n",
    "        aunts = [aunt for aunt in aunts if key not in aunt or aunt[key] < cnt]\n",
    "    else:\n",
    "        aunts = [aunt for aunt in aunts if key not in aunt or aunt[key] == cnt]\n",
    "assert(len(aunts) == 1)\n",
    "print(aunts[0]['idx'])"
   ]
  },
  {
   "cell_type": "markdown",
   "metadata": {},
   "source": [
    "# Day 17: No Such Thing as Too Much"
   ]
  },
  {
   "cell_type": "code",
   "execution_count": 32,
   "metadata": {},
   "outputs": [
    {
     "name": "stdout",
     "output_type": "stream",
     "text": [
      "654\n"
     ]
    }
   ],
   "source": [
    "nums = []\n",
    "with open('inputs/day17.txt', 'r') as f:\n",
    "    for line in f:\n",
    "        nums.append(int(line))\n",
    "target = 150\n",
    "def num_of_combo_limited(nums, target):\n",
    "    # the number of containers are fixed\n",
    "    num_of_combo_limited.cnt = 0\n",
    "    def helper(idx, target):\n",
    "        if idx == len(nums):\n",
    "            if target == 0:\n",
    "                num_of_combo_limited.cnt += 1\n",
    "            return\n",
    "        if target < 0:\n",
    "            return\n",
    "        helper(idx + 1, target - nums[idx])\n",
    "        helper(idx + 1, target)\n",
    "    helper(0, target)\n",
    "    return num_of_combo_limited.cnt\n",
    "assert(num_of_combo_limited([20, 15, 5, 10, 5], 25) == 4)\n",
    "print(num_of_combo_limited(nums, target))"
   ]
  },
  {
   "cell_type": "code",
   "execution_count": 33,
   "metadata": {},
   "outputs": [
    {
     "name": "stdout",
     "output_type": "stream",
     "text": [
      "57\n"
     ]
    }
   ],
   "source": [
    "def num_of_min_combo(nums, target):\n",
    "    num_of_min_combo.cnt = 0\n",
    "    num_of_min_combo.mn = len(nums)\n",
    "    def helper(num_used, idx, target):\n",
    "        if idx == len(nums):\n",
    "            if target == 0:\n",
    "                if num_used < num_of_min_combo.mn:\n",
    "                    num_of_min_combo.mn = num_used\n",
    "                    num_of_min_combo.cnt = 1\n",
    "                elif num_used == num_of_min_combo.mn:\n",
    "                    num_of_min_combo.cnt += 1\n",
    "            return\n",
    "        if target < 0:\n",
    "            return\n",
    "        helper(num_used + 1, idx + 1, target - nums[idx])\n",
    "        helper(num_used, idx + 1, target)\n",
    "    helper(0, 0, target)\n",
    "    return num_of_min_combo.cnt\n",
    "print(num_of_min_combo(nums, target))"
   ]
  },
  {
   "cell_type": "markdown",
   "metadata": {},
   "source": [
    "# Day 18: Like a GIF For Your Yard"
   ]
  },
  {
   "cell_type": "code",
   "execution_count": 34,
   "metadata": {},
   "outputs": [],
   "source": [
    "n = 100\n",
    "grid = np.zeros((n, n), dtype=np.int8)\n",
    "with open('inputs/day18.txt', 'r') as f:\n",
    "    for i, line in enumerate(f):\n",
    "        for j, ch in enumerate(line.strip()):\n",
    "            if ch == '#':\n",
    "                grid[i, j] = 1"
   ]
  },
  {
   "cell_type": "code",
   "execution_count": 35,
   "metadata": {},
   "outputs": [
    {
     "name": "stdout",
     "output_type": "stream",
     "text": [
      "781\n"
     ]
    }
   ],
   "source": [
    "def update_lights(grid, stuck=False):\n",
    "    n = grid.shape[0]\n",
    "    ans = np.zeros((n, n), dtype=np.int8)\n",
    "    if stuck:\n",
    "        ans[0, 0] = ans[0, 99] = ans[99, 0] = ans[99, 99] = 1\n",
    "    for i in range(n):\n",
    "        for j in range(n):\n",
    "            cnt = 0\n",
    "            for di in (-1, 0, 1):\n",
    "                for dj in (-1, 0, 1):\n",
    "                    if di == dj == 0:\n",
    "                        continue\n",
    "                    if 0 <= i + di < n and 0 <= j + dj < n and grid[i + di][j + dj] == 1:\n",
    "                        cnt += 1\n",
    "            if (grid[i][j] and cnt in (2, 3)) or (grid[i][j] == 0 and cnt == 3):\n",
    "                ans[i][j] = 1\n",
    "    return ans\n",
    "# for _ in range(100):\n",
    "#     grid = update_lights(grid, stuck=False)\n",
    "# ans = 768\n",
    "for _ in range(100):\n",
    "    grid = update_lights(grid, stuck=True)\n",
    "print(grid.sum())"
   ]
  },
  {
   "cell_type": "markdown",
   "metadata": {},
   "source": [
    "# Day 19: Medicine for Rudolph"
   ]
  },
  {
   "cell_type": "code",
   "execution_count": 36,
   "metadata": {},
   "outputs": [
    {
     "name": "stdout",
     "output_type": "stream",
     "text": [
      "CRnCaSiRnBSiRnFArTiBPTiTiBFArPBCaSiThSiRnTiBPBPMgArCaSiRnTiMgArCaSiThCaSiRnFArRnSiRnFArTiTiBFArCaCaSiRnSiThCaCaSiRnMgArFYSiRnFYCaFArSiThCaSiThPBPTiMgArCaPRnSiAlArPBCaCaSiRnFYSiThCaRnFArArCaCaSiRnPBSiRnFArMgYCaCaCaCaSiThCaCaSiAlArCaCaSiRnPBSiAlArBCaCaCaCaSiThCaPBSiThPBPBCaSiRnFYFArSiThCaSiRnFArBCaCaSiRnFYFArSiThCaPBSiThCaSiRnPMgArRnFArPTiBCaPRnFArCaCaCaCaSiRnCaCaSiRnFYFArFArBCaSiThFArThSiThSiRnTiRnPMgArFArCaSiThCaPBCaSiRnBFArCaCaPRnCaCaPMgArSiRnFYFArCaSiThRnPBPMgAr\n",
      "('Al', 'ThF')\n"
     ]
    }
   ],
   "source": [
    "rules = []\n",
    "with open('inputs/day19.txt', 'r') as f:\n",
    "    lines = [line.strip() for line in f.readlines() if line.strip()]\n",
    "    for line in lines[:-1]:\n",
    "        left, right = line.split(' => ')\n",
    "        rules.append((left, right))\n",
    "    string = lines[-1]\n",
    "print(string)\n",
    "print(rules[0])"
   ]
  },
  {
   "cell_type": "code",
   "execution_count": 37,
   "metadata": {},
   "outputs": [
    {
     "name": "stdout",
     "output_type": "stream",
     "text": [
      "509\n"
     ]
    }
   ],
   "source": [
    "molecules = set()\n",
    "for left, right in rules:\n",
    "    n = len(left)\n",
    "    i = 0\n",
    "    while i < len(string):\n",
    "        idx = string.find(left, i)\n",
    "        if idx == -1:\n",
    "            break\n",
    "        else:\n",
    "            molecules.add(string[:idx] + right + string[idx+n:])\n",
    "            i = idx + n\n",
    "print(len(molecules))"
   ]
  },
  {
   "cell_type": "code",
   "execution_count": 38,
   "metadata": {},
   "outputs": [],
   "source": [
    "## BFS does not work\n",
    "# def molecule_fabrication(target, rules):\n",
    "#     dq = deque([(target, 0)])\n",
    "#     seen = set()\n",
    "#     while dq:\n",
    "#         s, step = dq.popleft()\n",
    "#         cands = set()\n",
    "#         for right, left in rules:\n",
    "#             n = len(left)\n",
    "#             i = 0\n",
    "#             while i < len(s):\n",
    "#                 idx = s.find(left, i)\n",
    "#                 if idx == -1:\n",
    "#                     break\n",
    "#                 else:\n",
    "#                     new_s = s[:idx] + right + s[idx + n:]\n",
    "#                     if new_s == 'e':\n",
    "#                         return step + 1\n",
    "#                     if len(new_s) < len(target) and new_s not in seen:\n",
    "#                         seen.add(new_s)\n",
    "#                         cands.add((new_s, step + 1))\n",
    "#                     i = idx + n\n",
    "#         for cand in cands:\n",
    "#             dq.append(cand)\n",
    "# print(molecule_fabrication(string, rules))"
   ]
  },
  {
   "cell_type": "markdown",
   "metadata": {},
   "source": [
    "# Day 20: Infinite Elves and Infinite Houses"
   ]
  },
  {
   "cell_type": "code",
   "execution_count": 39,
   "metadata": {},
   "outputs": [
    {
     "name": "stdout",
     "output_type": "stream",
     "text": [
      "665280\n"
     ]
    }
   ],
   "source": [
    "# 29000000\n",
    "n = 29000000\n",
    "n //= 10\n",
    "import math\n",
    "def count_presents(num):\n",
    "    return sum((i + num // i if i != num // i else i)\n",
    "               for i in range(1, int(math.sqrt(num)) + 1) \n",
    "               if num % i == 0)\n",
    "i = 500000\n",
    "while True:\n",
    "    if count_presents(i) >= n:\n",
    "        print(i)\n",
    "        break\n",
    "    i += 1"
   ]
  },
  {
   "cell_type": "code",
   "execution_count": 40,
   "metadata": {},
   "outputs": [
    {
     "name": "stdout",
     "output_type": "stream",
     "text": [
      "705600\n"
     ]
    }
   ],
   "source": [
    "# up to 50\n",
    "def count_presents_new(num):\n",
    "    factors = set()\n",
    "    for i in range(1, int(math.sqrt(num)) + 1):\n",
    "        if num % i == 0:\n",
    "            factors.add(i)\n",
    "            factors.add(num // i)\n",
    "    return sum(factor for factor in factors if num // factor <= 50)\n",
    "i = 600000\n",
    "n = 29000000\n",
    "while True:\n",
    "    if count_presents_new(i) * 11 >= n:\n",
    "        print(i)\n",
    "        break\n",
    "    i += 1"
   ]
  },
  {
   "cell_type": "markdown",
   "metadata": {},
   "source": [
    "# Day 21: RPG Simulator 20XX\n",
    "Hit Points: 109\n",
    "\n",
    "Damage: 8\n",
    "\n",
    "Armor: 2"
   ]
  },
  {
   "cell_type": "code",
   "execution_count": 41,
   "metadata": {},
   "outputs": [
    {
     "name": "stdout",
     "output_type": "stream",
     "text": [
      "111\n",
      "188\n"
     ]
    }
   ],
   "source": [
    "weapons = [(8, 4, 0), (10, 5, 0), (25, 6, 0), (40, 7, 0), (74, 8, 0)]\n",
    "armors = [(0, 0, 0), (13, 0, 1), (31, 0, 2), (53, 0, 3), (75, 0, 4), (102, 0, 5)]\n",
    "rings = [(0, 0, 0), (25, 1, 0), (50, 2, 0), (100, 3, 0), (40, 0, 1), (40, 0, 2), (80, 0, 3)]\n",
    "def can_win(pp, pd, pa):\n",
    "    bp, bd, ba = 109, 8, 2\n",
    "    while True:\n",
    "        d = max(1, pd - ba)\n",
    "        bp -= d\n",
    "        if bp <= 0:\n",
    "            return True\n",
    "        d = max(1, bd - pa)\n",
    "        pp -= d\n",
    "        if pp <= 0:\n",
    "            return False\n",
    "pp = 100\n",
    "win_costs = []\n",
    "lose_costs = []\n",
    "for w in weapons:\n",
    "    for a in armors:\n",
    "        for r1 in rings:\n",
    "            for r2 in rings:\n",
    "                if r1 == r2 != (0, 0, 0):\n",
    "                    continue\n",
    "                cost = w[0] + a[0] + r1[0] + r2[0]\n",
    "                pd = w[1] + a[1] + r1[1] + r2[1]\n",
    "                pa = w[2] + a[2] + r1[2] + r2[2]\n",
    "                if can_win(pp, pd, pa):\n",
    "                    win_costs.append(cost)\n",
    "                else:\n",
    "                    lose_costs.append(cost)\n",
    "print(min(win_costs))\n",
    "print(max(lose_costs))"
   ]
  },
  {
   "cell_type": "markdown",
   "metadata": {},
   "source": [
    "# Day 22: Wizard Simulator 20XX"
   ]
  },
  {
   "cell_type": "code",
   "execution_count": null,
   "metadata": {},
   "outputs": [],
   "source": []
  },
  {
   "cell_type": "markdown",
   "metadata": {},
   "source": [
    "# Day 23: Opening the Turing Lock"
   ]
  },
  {
   "cell_type": "code",
   "execution_count": 42,
   "metadata": {},
   "outputs": [],
   "source": [
    "# hlf r\n",
    "with open('inputs/day23.txt', 'r') as f:\n",
    "    program = []\n",
    "    for line in f:\n",
    "        ins, *operands = re.findall(r'[\\w-]+', line)\n",
    "        program.append((ins, operands))\n",
    "\n",
    "def run(registers, program, verbose=False):\n",
    "    funcs = {'hlf' : lambda x : x // 2,\n",
    "             'tpl' : lambda x : x * 3,\n",
    "             'inc' : lambda x : x + 1,\n",
    "            }\n",
    "    pc = 0\n",
    "    n = len(program)\n",
    "    while 0 <= pc < n:\n",
    "        ins, operands = program[pc]\n",
    "        if ins in ('hlf', 'tpl', 'inc'):\n",
    "            var = operands[0]\n",
    "            registers[var] = funcs[ins](registers[var])\n",
    "            pc += 1\n",
    "        else:\n",
    "            if ins == 'jmp':\n",
    "                pc += int(operands[0])\n",
    "            else:\n",
    "                var, offset = operands\n",
    "                if (ins == 'jie' and registers[var] % 2 == 0) or (ins == 'jio' and registers[var] == 1):\n",
    "                    pc += int(offset)\n",
    "                else:\n",
    "                    pc += 1\n",
    "        if verbose: print(pc, registers)\n",
    "    return registers['b']"
   ]
  },
  {
   "cell_type": "code",
   "execution_count": 43,
   "metadata": {
    "scrolled": true
   },
   "outputs": [
    {
     "name": "stdout",
     "output_type": "stream",
     "text": [
      "307\n"
     ]
    }
   ],
   "source": [
    "registers = {'a' : 0, 'b' : 0}\n",
    "print(run(registers, program, verbose=False))"
   ]
  },
  {
   "cell_type": "code",
   "execution_count": 44,
   "metadata": {
    "scrolled": true
   },
   "outputs": [
    {
     "name": "stdout",
     "output_type": "stream",
     "text": [
      "160\n"
     ]
    }
   ],
   "source": [
    "registers = {'a' : 1, 'b' : 0}\n",
    "print(run(registers, program, verbose=False))"
   ]
  },
  {
   "cell_type": "markdown",
   "metadata": {},
   "source": [
    "# Day 24: It Hangs in the Balance"
   ]
  },
  {
   "cell_type": "code",
   "execution_count": 45,
   "metadata": {},
   "outputs": [],
   "source": [
    "with open('inputs/day24.txt', 'r') as f:\n",
    "    weights = [int(line) for line in f]"
   ]
  },
  {
   "cell_type": "code",
   "execution_count": 46,
   "metadata": {},
   "outputs": [],
   "source": [
    "def quantum(weights, groups):\n",
    "    avg_weight = sum(weights) // groups\n",
    "    def helper(weights, idx, target, n, cand, ans):\n",
    "        \"populate ans with all candidates with n items and has target sum\"\n",
    "        if len(cand) > n:\n",
    "            return\n",
    "        if len(cand) == n:\n",
    "            if target == 0:\n",
    "                ans.append(cand)\n",
    "            return\n",
    "        for i in range(idx, len(weights)):\n",
    "            helper(weights, i + 1, target - weights[i], n, cand | {weights[i]}, ans)\n",
    "    for i in range(1, len(weights) // 2):\n",
    "        cands = []\n",
    "        helper(weights, 0, avg_weight, i, set(), cands)\n",
    "        if cands: # should check if the lefts are separable\n",
    "            return min(reduce(operator.mul, cand) for cand in cands)\n",
    "            break"
   ]
  },
  {
   "cell_type": "code",
   "execution_count": 47,
   "metadata": {},
   "outputs": [
    {
     "name": "stdout",
     "output_type": "stream",
     "text": [
      "10439961859\n"
     ]
    }
   ],
   "source": [
    "assert(quantum([1, 2, 3, 4, 5, 7, 8, 9, 10, 11], 3) == 99)\n",
    "print(quantum(weights, groups=3))"
   ]
  },
  {
   "cell_type": "code",
   "execution_count": 48,
   "metadata": {},
   "outputs": [
    {
     "name": "stdout",
     "output_type": "stream",
     "text": [
      "72050269\n"
     ]
    }
   ],
   "source": [
    "assert(quantum([1, 2, 3, 4, 5, 7, 8, 9, 10, 11], 4) == 44)\n",
    "print(quantum(weights, groups=4))"
   ]
  },
  {
   "cell_type": "markdown",
   "metadata": {},
   "source": [
    "# Day 25: Let It Snow"
   ]
  },
  {
   "cell_type": "markdown",
   "metadata": {},
   "source": [
    "Enter the code at row 2978, column 3083."
   ]
  },
  {
   "cell_type": "code",
   "execution_count": 49,
   "metadata": {},
   "outputs": [],
   "source": [
    "def gen_code():\n",
    "    row, col = 1, 1\n",
    "    cnt = 1\n",
    "    num = 20151125\n",
    "    while True:\n",
    "        yield (row, col, num)\n",
    "        if row == 1:\n",
    "            row, col = cnt + 1, 1\n",
    "            cnt += 1\n",
    "        else:\n",
    "            row, col = row - 1, col + 1\n",
    "        num = (num * 252533) % 33554393"
   ]
  },
  {
   "cell_type": "code",
   "execution_count": 50,
   "metadata": {},
   "outputs": [
    {
     "data": {
      "text/plain": [
       "2650453"
      ]
     },
     "execution_count": 50,
     "metadata": {},
     "output_type": "execute_result"
    }
   ],
   "source": [
    "next(num for row, col, num in gen_code() if row == 2978 and col == 3083)"
   ]
  },
  {
   "cell_type": "code",
   "execution_count": null,
   "metadata": {},
   "outputs": [],
   "source": []
  }
 ],
 "metadata": {
  "kernelspec": {
   "display_name": "Python 3",
   "language": "python",
   "name": "python3"
  },
  "language_info": {
   "codemirror_mode": {
    "name": "ipython",
    "version": 3
   },
   "file_extension": ".py",
   "mimetype": "text/x-python",
   "name": "python",
   "nbconvert_exporter": "python",
   "pygments_lexer": "ipython3",
   "version": "3.6.6"
  }
 },
 "nbformat": 4,
 "nbformat_minor": 2
}
