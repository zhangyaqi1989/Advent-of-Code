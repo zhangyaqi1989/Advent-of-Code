{
 "cells": [
  {
   "cell_type": "markdown",
   "metadata": {},
   "source": [
    "# Day 0: Imports and Utility Functions"
   ]
  },
  {
   "cell_type": "code",
   "execution_count": 1,
   "metadata": {},
   "outputs": [],
   "source": [
    "%matplotlib inline\n",
    "import matplotlib.pyplot as plt\n",
    "\n",
    "import os\n",
    "import re\n",
    "import numpy as np\n",
    "import random\n",
    "import string\n",
    "from collections import Counter, defaultdict, namedtuple, deque, OrderedDict\n",
    "from functools   import lru_cache, reduce\n",
    "from statistics  import mean, median, mode, stdev, variance\n",
    "from itertools   import (permutations, combinations, groupby, cycle, chain, zip_longest, takewhile, dropwhile, count as count_from)\n",
    "from heapq       import heappush, heappop\n",
    "from operator    import iand, ior, ilshift, irshift"
   ]
  },
  {
   "cell_type": "markdown",
   "metadata": {},
   "source": [
    "# Day 1: Not Quite Lisp"
   ]
  },
  {
   "cell_type": "code",
   "execution_count": 2,
   "metadata": {},
   "outputs": [
    {
     "name": "stdout",
     "output_type": "stream",
     "text": [
      "232\n",
      "1783\n"
     ]
    }
   ],
   "source": [
    "with open('inputs/day1.txt') as f:\n",
    "    content = f.read()\n",
    "print(content.count('(') - content.count(')'))\n",
    "cnt = 0\n",
    "for idx, ch in enumerate(content, 1):\n",
    "    if ch == '(':\n",
    "        cnt += 1\n",
    "    else:\n",
    "        cnt -= 1\n",
    "        if cnt < 0:\n",
    "            print(idx)\n",
    "            break"
   ]
  },
  {
   "cell_type": "markdown",
   "metadata": {},
   "source": [
    "# Day 2: I Was Told There Would Be No Math"
   ]
  },
  {
   "cell_type": "code",
   "execution_count": 3,
   "metadata": {},
   "outputs": [
    {
     "name": "stdout",
     "output_type": "stream",
     "text": [
      "1606483\n",
      "3842356\n"
     ]
    }
   ],
   "source": [
    "paper = 0\n",
    "ribbon = 0\n",
    "with open('inputs/day2.txt') as f:\n",
    "    for line in f:\n",
    "        a, b, c = tuple(map(int, line.split('x')))\n",
    "        ribbon += (sum((a, b, c)) - max(a, b, c)) * 2 + a * b * c\n",
    "        s1, s2, s3 = a * b, a * c, b * c\n",
    "        paper += min(s1, s2, s3) + sum((s1, s2, s3)) * 2\n",
    "print(paper)\n",
    "print(ribbon)"
   ]
  },
  {
   "cell_type": "markdown",
   "metadata": {},
   "source": [
    "# Day 3: Perfectly Spherical Houses in a Vacuum"
   ]
  },
  {
   "cell_type": "code",
   "execution_count": 4,
   "metadata": {},
   "outputs": [
    {
     "name": "stdout",
     "output_type": "stream",
     "text": [
      "2592\n",
      "2360\n"
     ]
    }
   ],
   "source": [
    "with open('inputs/day3.txt') as f:\n",
    "    content = ''.join([line.strip() for line in f])\n",
    "# print(content)\n",
    "direction = {'>' : (0, 1), '<' : (0, -1), '^' : (1, 0), 'v' : (-1, 0)}\n",
    "i, j = 0, 0\n",
    "visited = set([(i, j)])\n",
    "for ch in content:\n",
    "    di, dj = direction[ch]\n",
    "    i, j = i + di, j + dj\n",
    "    visited.add((i, j))\n",
    "print(len(visited))\n",
    "i, j = 0, 0\n",
    "visited = set([(i, j)])\n",
    "for ch in content[::2]:\n",
    "    di, dj = direction[ch]\n",
    "    i, j = i + di, j + dj\n",
    "    visited.add((i, j))\n",
    "i, j = 0, 0\n",
    "for ch in content[1::2]:\n",
    "    di, dj = direction[ch]\n",
    "    i, j = i + di, j + dj\n",
    "    visited.add((i, j))\n",
    "print(len(visited))"
   ]
  },
  {
   "cell_type": "markdown",
   "metadata": {},
   "source": [
    "# Day 4: The Ideal Stocking Stuffer"
   ]
  },
  {
   "cell_type": "code",
   "execution_count": 5,
   "metadata": {},
   "outputs": [
    {
     "name": "stdout",
     "output_type": "stream",
     "text": [
      "346386\n"
     ]
    }
   ],
   "source": [
    "import hashlib\n",
    "\n",
    "def valid_md5(s):\n",
    "    m = hashlib.md5(s.encode('utf-8'))\n",
    "    code = m.hexdigest()\n",
    "    return len(code) >= 5 and all(code[i] == '0' for i in range(5))\n",
    "\n",
    "s = \"iwrupvqb\"\n",
    "# s = \"pqrstuv\"\n",
    "print(next(dropwhile(lambda x : not valid_md5(s + str(x)), count_from(0))))"
   ]
  },
  {
   "cell_type": "markdown",
   "metadata": {},
   "source": [
    "# Day 5: Doesn't He Have Intern-Elves For This?\n",
    "Old rule\n",
    "* It contains at least three vowels (aeiou only), like aei, xazegov, or aeiouaeiouaeiou.\n",
    "* It contains at least one letter that appears twice in a row, like xx, abcdde (dd), or aabbccdd (aa, bb, cc, or dd).\n",
    "* It does not contain the strings ab, cd, pq, or xy, even if they are part of one of the other requirements.\n",
    "\n",
    "New rule\n",
    "\n",
    "* It contains a pair of any two letters that appears at least twice in the string without overlapping, like xyxy (xy) or aabcdefgaa (aa), but not like aaa (aa, but it overlaps).\n",
    "* It contains at least one letter which repeats with exactly one letter between them, like xyx, abcdefeghi (efe), or even aaa."
   ]
  },
  {
   "cell_type": "code",
   "execution_count": 6,
   "metadata": {},
   "outputs": [
    {
     "name": "stdout",
     "output_type": "stream",
     "text": [
      "238\n"
     ]
    }
   ],
   "source": [
    "def is_nice(s):\n",
    "    return (sum(ch in 'aeiou' for ch in s) >= 3 \n",
    "            and any(len(list(g)) >= 2 for key, g in groupby(s)) \n",
    "            and all(item not in s for item in ('ab', 'cd', 'pq', 'xy')))\n",
    "cnt = 0\n",
    "with open('inputs/day5.txt') as f:\n",
    "    for line in f:\n",
    "        cnt += is_nice(line)\n",
    "print(cnt)"
   ]
  },
  {
   "cell_type": "code",
   "execution_count": 7,
   "metadata": {},
   "outputs": [
    {
     "name": "stdout",
     "output_type": "stream",
     "text": [
      "69\n"
     ]
    }
   ],
   "source": [
    "def is_nice_new(s):\n",
    "    d = {}\n",
    "    flag = False\n",
    "    for i in range(len(s) - 1):\n",
    "        x = s[i : i + 2]\n",
    "        if x in d:\n",
    "            if i - d[x] > 1:\n",
    "                flag = True\n",
    "                break\n",
    "        else:\n",
    "            d[x] = i\n",
    "    return flag and any(s[i] == s[i + 2] for i in range(len(s) - 2))\n",
    "cnt = 0\n",
    "with open('inputs/day5.txt') as f:\n",
    "    for line in f:\n",
    "        cnt += is_nice_new(line)\n",
    "print(cnt)"
   ]
  },
  {
   "cell_type": "markdown",
   "metadata": {},
   "source": [
    "# Day 6: Probably a Fire Hazard"
   ]
  },
  {
   "cell_type": "code",
   "execution_count": 8,
   "metadata": {},
   "outputs": [
    {
     "name": "stdout",
     "output_type": "stream",
     "text": [
      "400410\n"
     ]
    }
   ],
   "source": [
    "lights = np.zeros((1000, 1000))\n",
    "def parse_coords(lst):\n",
    "    a, b = lst[0].split(',')\n",
    "    c, d = lst[1].split(',')\n",
    "    return tuple(map(int, (a, b, c, d)))\n",
    "\n",
    "with open('inputs/day6.txt') as f:\n",
    "    for line in f:\n",
    "        lst = re.findall('[0-9]+,[0-9]+', line)\n",
    "        a, b, c, d = parse_coords(lst)\n",
    "        if line.startswith('turn off'):\n",
    "            lights[a:c + 1, b:d + 1] = 0\n",
    "        elif line.startswith('turn on'):\n",
    "            lights[a:c + 1, b:d + 1] = 1\n",
    "        else:\n",
    "            lights[a:c + 1, b:d + 1] = 1 - lights[a:c + 1, b:d + 1]\n",
    "print(int(np.sum(lights)))"
   ]
  },
  {
   "cell_type": "code",
   "execution_count": 9,
   "metadata": {},
   "outputs": [
    {
     "name": "stdout",
     "output_type": "stream",
     "text": [
      "15343601\n"
     ]
    }
   ],
   "source": [
    "lights = np.zeros((1000, 1000))\n",
    "def turn_off(x):\n",
    "    return max(x - 1, 0)\n",
    "v_turn_off = np.vectorize(turn_off)\n",
    "with open('inputs/day6.txt') as f:\n",
    "    for line in f:\n",
    "        lst = re.findall('[0-9]+,[0-9]+', line)\n",
    "        a, b, c, d = parse_coords(lst)\n",
    "        if line.startswith('turn off'):\n",
    "            lights[a:c + 1, b:d + 1] = v_turn_off(lights[a:c + 1, b:d + 1])\n",
    "        elif line.startswith('turn on'):\n",
    "            lights[a:c + 1, b:d + 1] += 1\n",
    "        else:\n",
    "            lights[a:c + 1, b:d + 1] += 2\n",
    "print(int(np.sum(lights)))"
   ]
  },
  {
   "cell_type": "markdown",
   "metadata": {},
   "source": [
    "# Day 7: Some Assembly Required"
   ]
  },
  {
   "cell_type": "code",
   "execution_count": 10,
   "metadata": {},
   "outputs": [
    {
     "name": "stdout",
     "output_type": "stream",
     "text": [
      "14710\n"
     ]
    }
   ],
   "source": [
    "operators = {'OR' : ior, 'AND' : iand, 'NOT' : lambda x : ~x, 'LSHIFT' : ilshift, 'RSHIFT' : irshift}\n",
    "wires = {}\n",
    "def digitify(s):\n",
    "    return int(s) if s.isdigit() else s\n",
    "lines = [] # lines of dictionary\n",
    "with open('inputs/day7-1.txt') as f:\n",
    "    for line in f:\n",
    "        d = {}\n",
    "        lh, rh = line.split(' -> ')\n",
    "        rh = rh.strip('\\n')\n",
    "        rh = digitify(rh)\n",
    "        d['rh'] = rh\n",
    "        if line.startswith('NOT'):\n",
    "            op, lh1 = lh.split(' ')\n",
    "            lh = [digitify(lh1)]\n",
    "        elif ' ' not in lh:\n",
    "            op = None\n",
    "            lh = [digitify(lh)]\n",
    "        else:\n",
    "            lh1, op, lh2 = lh.split(' ')\n",
    "            lh = [digitify(lh1), digitify(lh2)]\n",
    "        d['op'] = op\n",
    "        d['lh'] = lh\n",
    "        lines.append(d)\n",
    "def is_valid(d):\n",
    "    return all(( lh in wires or type(lh) == int) for lh in d['lh'])\n",
    "nlines = len(lines)\n",
    "used = [False] * nlines\n",
    "cnt = 0\n",
    "while cnt < nlines:\n",
    "    cnt += 1\n",
    "    for i, d in enumerate(lines):\n",
    "        if used[i]: continue\n",
    "        if is_valid(d):\n",
    "            break\n",
    "    used[i] = True\n",
    "    rh = d['rh']\n",
    "    lh = d['lh']\n",
    "    op = d['op']\n",
    "    if op is None:\n",
    "        wires[rh] = lh[0] if type(lh[0]) == int else wires[lh[0]]\n",
    "    elif op == 'NOT':\n",
    "        wires[rh] = ~lh[0] if type(lh[0]) == int else ~wires[lh[0]]\n",
    "    else:\n",
    "        v1, v2 = lh[0] if type(lh[0]) == int else wires[lh[0]], lh[1] if type(lh[1]) == int else wires[lh[1]]\n",
    "        wires[rh] = operators[op](v1, v2)\n",
    "print(wires['a'])"
   ]
  },
  {
   "cell_type": "markdown",
   "metadata": {},
   "source": [
    "# Day 8: Matchsticks"
   ]
  },
  {
   "cell_type": "code",
   "execution_count": 11,
   "metadata": {},
   "outputs": [
    {
     "name": "stdout",
     "output_type": "stream",
     "text": [
      "1333\n"
     ]
    }
   ],
   "source": [
    "def count_characters(line):\n",
    "    cnt = 2\n",
    "    i = 0\n",
    "    n = len(line)\n",
    "    while i < n:\n",
    "        if line[i] == '\\\\':\n",
    "            if line[i + 1] in ('\"', '\\\\'):\n",
    "                i += 2\n",
    "                cnt += 1\n",
    "            elif line[i + 1] == 'x':\n",
    "                i += 4\n",
    "                cnt += 3\n",
    "            else:\n",
    "                i += 1\n",
    "        else:\n",
    "            i += 1\n",
    "    return cnt\n",
    "\n",
    "with open('inputs/day8.txt', 'r') as f:\n",
    "    print(sum(count_characters(line.strip()) for line in f))"
   ]
  },
  {
   "cell_type": "code",
   "execution_count": 12,
   "metadata": {},
   "outputs": [
    {
     "name": "stdout",
     "output_type": "stream",
     "text": [
      "2046\n"
     ]
    }
   ],
   "source": [
    "def count_characters_new(line):\n",
    "    cnt = 4\n",
    "    i = 0\n",
    "    n = len(line)\n",
    "    while i < n:\n",
    "        if line[i] == '\\\\':\n",
    "            if line[i + 1] in ('\"', '\\\\'):\n",
    "                i += 2\n",
    "                cnt += 2\n",
    "            elif line[i + 1] == 'x':\n",
    "                i += 4\n",
    "                cnt += 1\n",
    "            else:\n",
    "                i += 1\n",
    "        else:\n",
    "            i += 1\n",
    "    return cnt\n",
    "with open('inputs/day8.txt', 'r') as f:\n",
    "    print(sum(count_characters_new(line.strip()) for line in f))"
   ]
  },
  {
   "cell_type": "markdown",
   "metadata": {},
   "source": [
    "# Day 9: All in a Single Night"
   ]
  },
  {
   "cell_type": "code",
   "execution_count": 13,
   "metadata": {},
   "outputs": [],
   "source": [
    "graph = defaultdict(dict)\n",
    "with open('inputs/day9.txt', 'r') as f:\n",
    "    for line in f:\n",
    "        a, _, b, _, dis = line.strip().split()\n",
    "        graph[a][b] = graph[b][a] = int(dis)"
   ]
  },
  {
   "cell_type": "code",
   "execution_count": 22,
   "metadata": {},
   "outputs": [
    {
     "name": "stdout",
     "output_type": "stream",
     "text": [
      "117\n",
      "909\n"
     ]
    }
   ],
   "source": [
    "def trip(cities):\n",
    "    return sum(graph[a][b] for a, b in zip(cities, cities[1:]))\n",
    "print(min(trip(cities) for cities in permutations(graph)))\n",
    "print(max(trip(cities) for cities in permutations(graph)))"
   ]
  },
  {
   "cell_type": "markdown",
   "metadata": {},
   "source": [
    "# Day 10: Elves Look, Elves Say\n",
    "inputs: 1113222113"
   ]
  },
  {
   "cell_type": "code",
   "execution_count": 34,
   "metadata": {},
   "outputs": [
    {
     "name": "stdout",
     "output_type": "stream",
     "text": [
      "3579328\n"
     ]
    }
   ],
   "source": [
    "s = \"1113222113\"\n",
    "for _ in range(50):\n",
    "    s = ''.join([item for ch, g in groupby(s)\n",
    "                      for item in (str(len(tuple(g))), ch)])\n",
    "print(len(s))"
   ]
  },
  {
   "cell_type": "markdown",
   "metadata": {},
   "source": [
    "# Day 11: Corporate Policy"
   ]
  },
  {
   "cell_type": "code",
   "execution_count": 44,
   "metadata": {},
   "outputs": [
    {
     "name": "stdout",
     "output_type": "stream",
     "text": [
      "hxcaabcc\n"
     ]
    }
   ],
   "source": [
    "# password = \"hxbxwxba\"\n",
    "password = \"hxbxxyzz\"\n",
    "def isvalid(s):\n",
    "    return (any(ord(s[i]) + 1 == ord(s[i + 1]) == ord(s[i + 2]) - 1 for i in range(len(s) - 2))\n",
    "            and all(not ch in s for ch in ('i', 'o', 'l'))\n",
    "            and sum(ch * 2 in s for ch in string.ascii_lowercase) >= 2\n",
    "           )\n",
    "def increment(s):\n",
    "    carry = 1\n",
    "    ans = ''\n",
    "    for i, ch in enumerate(s[::-1]):\n",
    "        val = ord(ch) - 97\n",
    "        carry, val = divmod(val + carry, 26)\n",
    "        ans += chr(val + 97)\n",
    "        if carry == 0:\n",
    "            return (ans + s[::-1][i + 1:])[::-1]\n",
    "\n",
    "while True:\n",
    "    password = increment(password)\n",
    "    if isvalid(password):\n",
    "        print(password)\n",
    "        break"
   ]
  },
  {
   "cell_type": "markdown",
   "metadata": {},
   "source": [
    "# Day 12: JSAbacusFramework.io"
   ]
  },
  {
   "cell_type": "code",
   "execution_count": 45,
   "metadata": {},
   "outputs": [],
   "source": [
    "import json\n",
    "with open('inputs/day12.json') as f:\n",
    "    data = json.load(f)"
   ]
  },
  {
   "cell_type": "code",
   "execution_count": 55,
   "metadata": {},
   "outputs": [
    {
     "name": "stdout",
     "output_type": "stream",
     "text": [
      "False\n"
     ]
    }
   ],
   "source": [
    "import collections\n",
    "def iterate(data):\n",
    "    cnt = 0\n",
    "    print(data)\n",
    "    for key, value in data.items():\n",
    "        if isinstance(value, dict):\n",
    "            cnt += iterate(value)\n",
    "        else:\n",
    "            if isinstance(value, collections.Iterable):\n",
    "                cnt += sum([item for item in value if type(item) == int])\n",
    "            else:\n",
    "                if type(value) == int:\n",
    "                    cnt += value\n",
    "    return cnt\n",
    "# print(sum(iterate(item) for item in data))\n",
    "for item in d"
   ]
  },
  {
   "cell_type": "code",
   "execution_count": 49,
   "metadata": {},
   "outputs": [
    {
     "data": {
      "text/plain": [
       "list"
      ]
     },
     "execution_count": 49,
     "metadata": {},
     "output_type": "execute_result"
    }
   ],
   "source": [
    "type(data)"
   ]
  },
  {
   "cell_type": "code",
   "execution_count": 51,
   "metadata": {},
   "outputs": [
    {
     "data": {
      "text/plain": [
       "dict"
      ]
     },
     "execution_count": 51,
     "metadata": {},
     "output_type": "execute_result"
    }
   ],
   "source": [
    "type(data[0])"
   ]
  },
  {
   "cell_type": "code",
   "execution_count": null,
   "metadata": {},
   "outputs": [],
   "source": []
  }
 ],
 "metadata": {
  "kernelspec": {
   "display_name": "Python 3",
   "language": "python",
   "name": "python3"
  },
  "language_info": {
   "codemirror_mode": {
    "name": "ipython",
    "version": 3
   },
   "file_extension": ".py",
   "mimetype": "text/x-python",
   "name": "python",
   "nbconvert_exporter": "python",
   "pygments_lexer": "ipython3",
   "version": "3.6.6"
  }
 },
 "nbformat": 4,
 "nbformat_minor": 2
}
