{
 "cells": [
  {
   "cell_type": "markdown",
   "metadata": {},
   "source": [
    "# Day 0: Imports and Utility Functions"
   ]
  },
  {
   "cell_type": "code",
   "execution_count": 30,
   "metadata": {},
   "outputs": [],
   "source": [
    "%matplotlib inline\n",
    "import matplotlib.pyplot as plt\n",
    "\n",
    "import os\n",
    "import re\n",
    "import numpy as np\n",
    "import random\n",
    "from collections import Counter, defaultdict, namedtuple, deque, OrderedDict\n",
    "from functools   import lru_cache, reduce\n",
    "from statistics  import mean, median, mode, stdev, variance\n",
    "from itertools   import (permutations, combinations, chain, zip_longest, takewhile, dropwhile, count as count_from)\n",
    "from heapq       import heappush, heappop"
   ]
  },
  {
   "cell_type": "markdown",
   "metadata": {},
   "source": [
    "# Day 1"
   ]
  },
  {
   "cell_type": "code",
   "execution_count": 6,
   "metadata": {},
   "outputs": [
    {
     "name": "stdout",
     "output_type": "stream",
     "text": [
      "232\n",
      "1783\n"
     ]
    }
   ],
   "source": [
    "with open('inputs/day1.txt') as f:\n",
    "    content = f.read()\n",
    "print(content.count('(') - content.count(')'))\n",
    "cnt = 0\n",
    "for idx, ch in enumerate(content, 1):\n",
    "    if ch == '(':\n",
    "        cnt += 1\n",
    "    else:\n",
    "        cnt -= 1\n",
    "        if cnt < 0:\n",
    "            print(idx)\n",
    "            break"
   ]
  },
  {
   "cell_type": "markdown",
   "metadata": {},
   "source": [
    "# Day 2"
   ]
  },
  {
   "cell_type": "code",
   "execution_count": 10,
   "metadata": {},
   "outputs": [
    {
     "name": "stdout",
     "output_type": "stream",
     "text": [
      "1606483\n",
      "3842356\n"
     ]
    }
   ],
   "source": [
    "paper = 0\n",
    "ribbon = 0\n",
    "with open('inputs/day2.txt') as f:\n",
    "    for line in f:\n",
    "        a, b, c = tuple(map(int, line.split('x')))\n",
    "        ribbon += (sum((a, b, c)) - max(a, b, c)) * 2 + a * b * c\n",
    "        s1, s2, s3 = a * b, a * c, b * c\n",
    "        paper += min(s1, s2, s3) + sum((s1, s2, s3)) * 2\n",
    "print(paper)\n",
    "print(ribbon)"
   ]
  },
  {
   "cell_type": "markdown",
   "metadata": {},
   "source": [
    "# Day 3"
   ]
  },
  {
   "cell_type": "code",
   "execution_count": 14,
   "metadata": {},
   "outputs": [
    {
     "name": "stdout",
     "output_type": "stream",
     "text": [
      "2592\n",
      "2360\n"
     ]
    }
   ],
   "source": [
    "with open('inputs/day3.txt') as f:\n",
    "    content = ''.join([line.strip() for line in f])\n",
    "# print(content)\n",
    "direction = {'>' : (0, 1), '<' : (0, -1), '^' : (1, 0), 'v' : (-1, 0)}\n",
    "i, j = 0, 0\n",
    "visited = set([(i, j)])\n",
    "for ch in content:\n",
    "    di, dj = direction[ch]\n",
    "    i, j = i + di, j + dj\n",
    "    visited.add((i, j))\n",
    "print(len(visited))\n",
    "i, j = 0, 0\n",
    "visited = set([(i, j)])\n",
    "for ch in content[::2]:\n",
    "    di, dj = direction[ch]\n",
    "    i, j = i + di, j + dj\n",
    "    visited.add((i, j))\n",
    "i, j = 0, 0\n",
    "for ch in content[1::2]:\n",
    "    di, dj = direction[ch]\n",
    "    i, j = i + di, j + dj\n",
    "    visited.add((i, j))\n",
    "print(len(visited))"
   ]
  },
  {
   "cell_type": "markdown",
   "metadata": {},
   "source": [
    "# Day 4"
   ]
  },
  {
   "cell_type": "code",
   "execution_count": 35,
   "metadata": {},
   "outputs": [
    {
     "name": "stdout",
     "output_type": "stream",
     "text": [
      "9958218\n"
     ]
    }
   ],
   "source": [
    "import hashlib\n",
    "\n",
    "def valid_md5(s):\n",
    "    m = hashlib.md5(s.encode('utf-8'))\n",
    "    code = m.hexdigest()\n",
    "    return len(code) >= 5 and all(code[i] == '0' for i in range(5))\n",
    "\n",
    "s = \"iwrupvqb\"\n",
    "# s = \"pqrstuv\"\n",
    "print(next(dropwhile(lambda x : not valid_md5(s + str(x)), count_from(0))))"
   ]
  },
  {
   "cell_type": "code",
   "execution_count": null,
   "metadata": {},
   "outputs": [],
   "source": []
  },
  {
   "cell_type": "code",
   "execution_count": null,
   "metadata": {},
   "outputs": [],
   "source": []
  }
 ],
 "metadata": {
  "kernelspec": {
   "display_name": "Python (venv3.6)",
   "language": "python",
   "name": "venv3.6"
  },
  "language_info": {
   "codemirror_mode": {
    "name": "ipython",
    "version": 3
   },
   "file_extension": ".py",
   "mimetype": "text/x-python",
   "name": "python",
   "nbconvert_exporter": "python",
   "pygments_lexer": "ipython3",
   "version": "3.6.3"
  }
 },
 "nbformat": 4,
 "nbformat_minor": 2
}
