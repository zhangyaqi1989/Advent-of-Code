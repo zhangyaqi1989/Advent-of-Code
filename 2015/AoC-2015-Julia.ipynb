{
 "cells": [
  {
   "cell_type": "code",
   "execution_count": 1,
   "metadata": {},
   "outputs": [],
   "source": [
    "using Plots"
   ]
  },
  {
   "cell_type": "markdown",
   "metadata": {},
   "source": [
    "# Day 1: Not Quite Lisp"
   ]
  },
  {
   "cell_type": "code",
   "execution_count": 2,
   "metadata": {},
   "outputs": [
    {
     "name": "stdout",
     "output_type": "stream",
     "text": [
      "232\n",
      "1783\n"
     ]
    }
   ],
   "source": [
    "open(\"inputs/day1.txt\") do f\n",
    "    line = read(f, String)\n",
    "    println(count(x->x=='(', line) - count(x->x==')', line)) \n",
    "end\n",
    "\n",
    "open(\"inputs/day1.txt\") do f\n",
    "    cnt = 0\n",
    "    line = read(f, String)\n",
    "    for (idx, ch) in enumerate(line) \n",
    "        if ch == '('\n",
    "            cnt += 1\n",
    "        else\n",
    "            cnt -= 1\n",
    "            if cnt < 0\n",
    "                println(idx)\n",
    "                break\n",
    "            end\n",
    "        end\n",
    "    end\n",
    "end"
   ]
  },
  {
   "cell_type": "markdown",
   "metadata": {},
   "source": [
    "# Day 2: I Was Told There Would Be No Math"
   ]
  },
  {
   "cell_type": "code",
   "execution_count": 3,
   "metadata": {},
   "outputs": [
    {
     "name": "stdout",
     "output_type": "stream",
     "text": [
      "paper = 1606483\n",
      "ribbon = 3842356\n"
     ]
    }
   ],
   "source": [
    "using Printf\n",
    "open(\"inputs/day2.txt\", \"r\") do f\n",
    "    paper = 0\n",
    "    ribbon = 0\n",
    "    for ln in eachline(f)\n",
    "        a, b, c = parse.(Int64, split(ln, 'x'))\n",
    "        ribbon += (sum([a, b, c]) - max(a, b, c)) * 2 + a * b * c\n",
    "        s1, s2, s3 = a * b, a * c, b * c\n",
    "        paper += min(s1, s2, s3) + sum([s1 s2 s3]) * 2\n",
    "    end\n",
    "    println(\"paper = $paper\")\n",
    "    println(\"ribbon = $ribbon\")\n",
    "end"
   ]
  },
  {
   "cell_type": "markdown",
   "metadata": {},
   "source": [
    "# Day 3: Perfectly Spherical Houses in a Vacuum"
   ]
  },
  {
   "cell_type": "code",
   "execution_count": 4,
   "metadata": {},
   "outputs": [
    {
     "name": "stdout",
     "output_type": "stream",
     "text": [
      "2592\n",
      "2360\n"
     ]
    }
   ],
   "source": [
    "open(\"inputs/day3.txt\", \"r\") do f\n",
    "    line = read(f, String)\n",
    "    dirs = Dict('>'=>(0, 1), '<'=>(0, -1), '^'=>(1, 0), 'v'=>(-1, 0))\n",
    "    i, j = 0, 0\n",
    "    visited = Set([(i, j)])\n",
    "    for ch in line\n",
    "        di, dj = dirs[ch]\n",
    "        i, j = i + di, j + dj\n",
    "        push!(visited, (i, j))\n",
    "    end\n",
    "    println(length(visited))\n",
    "    i, j = 0, 0\n",
    "    visited = Set([(i, j)])\n",
    "    for ch in line[1:2:end]\n",
    "        di, dj = dirs[ch]\n",
    "        i, j = i + di, j + dj\n",
    "        push!(visited, (i, j))\n",
    "    end\n",
    "    i, j = 0, 0\n",
    "    for ch in line[2:2:end]\n",
    "        di, dj = dirs[ch]\n",
    "        i, j = i + di, j + dj\n",
    "        push!(visited, (i, j))\n",
    "    end\n",
    "    println(length(visited))\n",
    "end"
   ]
  },
  {
   "cell_type": "markdown",
   "metadata": {},
   "source": [
    "# Day 4: The Ideal Stocking Stuffer"
   ]
  },
  {
   "cell_type": "code",
   "execution_count": 5,
   "metadata": {},
   "outputs": [],
   "source": [
    "using MD5"
   ]
  },
  {
   "cell_type": "code",
   "execution_count": 6,
   "metadata": {},
   "outputs": [
    {
     "data": {
      "text/plain": [
       "valid_md5 (generic function with 2 methods)"
      ]
     },
     "execution_count": 6,
     "metadata": {},
     "output_type": "execute_result"
    }
   ],
   "source": [
    "function valid_md5(s, n=5)\n",
    "    code = bytes2hex(md5(s))\n",
    "    return code[1:n] ==  \"0\"^n && code[n+1] != '0'\n",
    "end"
   ]
  },
  {
   "cell_type": "code",
   "execution_count": 7,
   "metadata": {},
   "outputs": [
    {
     "name": "stdout",
     "output_type": "stream",
     "text": [
      "true"
     ]
    }
   ],
   "source": [
    "print(valid_md5(\"abcdef609043\"))"
   ]
  },
  {
   "cell_type": "code",
   "execution_count": 8,
   "metadata": {},
   "outputs": [
    {
     "name": "stdout",
     "output_type": "stream",
     "text": [
      "346386\n"
     ]
    }
   ],
   "source": [
    "num = 0\n",
    "s = \"iwrupvqb\"\n",
    "# s = \"pqrstuv\"\n",
    "# s = \"abcdef\"\n",
    "n = 5\n",
    "while true\n",
    "    if valid_md5(string(s, num), n)\n",
    "        println(num)\n",
    "        break\n",
    "    end\n",
    "    num += 1\n",
    "end"
   ]
  },
  {
   "cell_type": "markdown",
   "metadata": {},
   "source": [
    "# Day 5: Doesn't He Have Intern-Elves For This?"
   ]
  },
  {
   "cell_type": "code",
   "execution_count": 16,
   "metadata": {},
   "outputs": [
    {
     "data": {
      "text/plain": [
       "is_nice (generic function with 1 method)"
      ]
     },
     "execution_count": 16,
     "metadata": {},
     "output_type": "execute_result"
    }
   ],
   "source": [
    "function is_nice(s)\n",
    "    function twice(s)\n",
    "        i, cnt = 1, 0\n",
    "        for (j, ch) in enumerate(s)\n",
    "            if ch != s[i]\n",
    "                if cnt >= 2\n",
    "                    return true\n",
    "                else\n",
    "                    cnt = 1\n",
    "                    i = j\n",
    "                end\n",
    "            else\n",
    "                cnt += 1\n",
    "            end\n",
    "        end\n",
    "        return cnt >= 2\n",
    "    end\n",
    "    return count(ch->(ch in \"aeiou\"), s) >= 3 && twice(s) && all(!occursin(item, s) for item in (\"ab\", \"cd\", \"pq\", \"xy\"))\n",
    "end"
   ]
  },
  {
   "cell_type": "code",
   "execution_count": 17,
   "metadata": {},
   "outputs": [
    {
     "name": "stdout",
     "output_type": "stream",
     "text": [
      "238\n"
     ]
    }
   ],
   "source": [
    "open(\"inputs/day5.txt\") do f\n",
    "    cnt = 0\n",
    "    for ln in eachline(f)\n",
    "        if is_nice(ln)\n",
    "            cnt += 1\n",
    "        end\n",
    "    end\n",
    "    println(cnt)\n",
    "end"
   ]
  },
  {
   "cell_type": "code",
   "execution_count": 22,
   "metadata": {},
   "outputs": [
    {
     "data": {
      "text/plain": [
       "is_nice_new (generic function with 1 method)"
      ]
     },
     "execution_count": 22,
     "metadata": {},
     "output_type": "execute_result"
    }
   ],
   "source": [
    "function is_nice_new(s)\n",
    "    d = Dict()\n",
    "    flag = false\n",
    "    for i = 1:length(s)-1\n",
    "        x = s[i:i+1]\n",
    "        if haskey(d, i)\n",
    "            if i - d[i] > 1\n",
    "                flag = true\n",
    "                break\n",
    "            end\n",
    "        else\n",
    "            d[x] = i\n",
    "        end\n",
    "    end\n",
    "    return flag && any(s[i] == s[i + 2] for i=1:length(s)-2)\n",
    "end"
   ]
  },
  {
   "cell_type": "code",
   "execution_count": 23,
   "metadata": {},
   "outputs": [
    {
     "name": "stdout",
     "output_type": "stream",
     "text": [
      "0\n"
     ]
    }
   ],
   "source": [
    "open(\"inputs/day5.txt\") do f\n",
    "    cnt = 0\n",
    "    for ln in eachline(f)\n",
    "        if is_nice_new(ln)\n",
    "            cnt += 1\n",
    "        end\n",
    "    end\n",
    "    println(cnt)\n",
    "end"
   ]
  },
  {
   "cell_type": "code",
   "execution_count": null,
   "metadata": {},
   "outputs": [],
   "source": []
  }
 ],
 "metadata": {
  "kernelspec": {
   "display_name": "Julia 1.0.2",
   "language": "julia",
   "name": "julia-1.0"
  },
  "language_info": {
   "file_extension": ".jl",
   "mimetype": "application/julia",
   "name": "julia",
   "version": "1.0.2"
  }
 },
 "nbformat": 4,
 "nbformat_minor": 2
}
