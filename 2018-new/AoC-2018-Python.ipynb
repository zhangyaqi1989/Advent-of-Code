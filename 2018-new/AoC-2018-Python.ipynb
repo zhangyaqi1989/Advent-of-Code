{
 "cells": [
  {
   "cell_type": "markdown",
   "metadata": {},
   "source": [
    "# Day 0: Imports and Utility Functions"
   ]
  },
  {
   "cell_type": "code",
   "execution_count": 1,
   "metadata": {},
   "outputs": [],
   "source": [
    "%matplotlib inline\n",
    "import matplotlib.pyplot as plt\n",
    "\n",
    "import math\n",
    "import numpy as np\n",
    "import os\n",
    "import operator\n",
    "import re\n",
    "import random\n",
    "import string\n",
    "import collections, itertools, functools, heapq, operator, bisect\n",
    "from collections import Counter, defaultdict, namedtuple, deque, OrderedDict\n",
    "from functools   import lru_cache, reduce\n",
    "from statistics  import mean, median, mode, stdev, variance\n",
    "from itertools   import (permutations, combinations, groupby, repeat,\n",
    "                         islice, repeat,cycle, chain, product, zip_longest, takewhile, dropwhile, count as count_from)\n",
    "from heapq       import heappush, heappop, heapify\n",
    "from operator    import iand, ior, ilshift, irshift\n",
    "from bisect      import bisect_left, bisect_right"
   ]
  },
  {
   "cell_type": "code",
   "execution_count": 2,
   "metadata": {},
   "outputs": [],
   "source": [
    "input_path = lambda day : \"inputs/day{}.txt\".format(day)\n",
    "input_path_sample = lambda day : \"inputs/day{}-sample.txt\".format(day)"
   ]
  },
  {
   "cell_type": "code",
   "execution_count": 3,
   "metadata": {},
   "outputs": [],
   "source": [
    "def get_ints(f):\n",
    "    \"\"\"extract ints from a file.\"\"\"\n",
    "    return map(int, re.findall(r'[+-]?[0-9]+', f.read()))"
   ]
  },
  {
   "cell_type": "markdown",
   "metadata": {},
   "source": [
    "# [Day 1: Chronal Calibration](https://adventofcode.com/2018/day/1)"
   ]
  },
  {
   "cell_type": "code",
   "execution_count": 4,
   "metadata": {},
   "outputs": [],
   "source": [
    "with open(input_path(1), 'r') as f:\n",
    "    changes = list(get_ints(f))"
   ]
  },
  {
   "cell_type": "code",
   "execution_count": 5,
   "metadata": {},
   "outputs": [
    {
     "name": "stdout",
     "output_type": "stream",
     "text": [
      "582\n",
      "488\n"
     ]
    }
   ],
   "source": [
    "print(sum(changes))\n",
    "seen = {0}\n",
    "freq = 0\n",
    "for change in itertools.cycle(changes):\n",
    "    freq += change\n",
    "    if freq in seen:\n",
    "        print(freq)\n",
    "        break\n",
    "    seen.add(freq)"
   ]
  },
  {
   "cell_type": "markdown",
   "metadata": {},
   "source": [
    "# [Day 2: Inventory Management System](https://adventofcode.com/2018/day/2)"
   ]
  },
  {
   "cell_type": "code",
   "execution_count": 6,
   "metadata": {},
   "outputs": [],
   "source": [
    "with open(input_path(2), 'r') as f:\n",
    "    boxes = [line.strip() for line in f]"
   ]
  },
  {
   "cell_type": "code",
   "execution_count": 7,
   "metadata": {},
   "outputs": [],
   "source": [
    "def compute_checksum(boxes):\n",
    "    \"\"\"compute checksum of boxes.\"\"\"\n",
    "    def check(box):\n",
    "        counter = collections.Counter(box)\n",
    "        return 2 in counter.values(), 3 in counter.values()\n",
    "    two_cnt = three_cnt = 0\n",
    "    for box in boxes:\n",
    "        two, three = check(box)\n",
    "        two_cnt += two\n",
    "        three_cnt += three\n",
    "    return two_cnt * three_cnt"
   ]
  },
  {
   "cell_type": "code",
   "execution_count": 8,
   "metadata": {},
   "outputs": [
    {
     "name": "stdout",
     "output_type": "stream",
     "text": [
      "Checksum is 6474.\n"
     ]
    }
   ],
   "source": [
    "print(\"Checksum is {}.\".format(compute_checksum(boxes)))"
   ]
  },
  {
   "cell_type": "code",
   "execution_count": 9,
   "metadata": {},
   "outputs": [
    {
     "name": "stdout",
     "output_type": "stream",
     "text": [
      "mxhwoglxgeauywfkztndcvjqr\n"
     ]
    }
   ],
   "source": [
    "nboxes = len(boxes)\n",
    "for i, j in itertools.combinations(range(nboxes), 2):\n",
    "    if sum(c1 != c2 for c1, c2 in zip(boxes[i], boxes[j])) == 1:\n",
    "        print(''.join(c1 for c1, c2 in zip(boxes[i], boxes[j]) if c1 == c2))\n",
    "        break"
   ]
  },
  {
   "cell_type": "markdown",
   "metadata": {},
   "source": [
    "# [Day 3: No Matter How You Slice It](https://adventofcode.com/2018/day/3)"
   ]
  },
  {
   "cell_type": "code",
   "execution_count": 10,
   "metadata": {},
   "outputs": [],
   "source": [
    "with open(input_path(3), 'r') as f:\n",
    "    lines = f.readlines()"
   ]
  },
  {
   "cell_type": "code",
   "execution_count": 11,
   "metadata": {},
   "outputs": [],
   "source": [
    "Square = collections.namedtuple('Square', 'c0, r0, width, height')\n",
    "def get_squares(lines):\n",
    "    \"\"\"get squares from lines.\"\"\"\n",
    "    squares = []\n",
    "    for line in lines:\n",
    "        c0, r0 = map(int, re.search(r'[\\d]+,[\\d]+', line).group().split(','))\n",
    "        width, height = map(int, re.search(r'[\\d]+x[\\d]+', line).group().split('x'))\n",
    "        squares.append(Square(c0, r0, width, height))\n",
    "    return squares"
   ]
  },
  {
   "cell_type": "code",
   "execution_count": 12,
   "metadata": {},
   "outputs": [],
   "source": [
    "squares = get_squares(lines)"
   ]
  },
  {
   "cell_type": "code",
   "execution_count": 13,
   "metadata": {},
   "outputs": [],
   "source": [
    "def count_overlap_cells(squares):\n",
    "    \"\"\"count overlap cells of squares.\"\"\"\n",
    "    cells = collections.Counter()\n",
    "    for c0, r0, width, height in squares:\n",
    "        for r in range(r0, r0 + height):\n",
    "            for c in range(c0, c0 + width):\n",
    "                cells[r, c] += 1\n",
    "    return sum(cnt != 1 for cnt in cells.values())"
   ]
  },
  {
   "cell_type": "code",
   "execution_count": 14,
   "metadata": {},
   "outputs": [
    {
     "name": "stdout",
     "output_type": "stream",
     "text": [
      "115242\n"
     ]
    }
   ],
   "source": [
    "print(count_overlap_cells(squares))"
   ]
  },
  {
   "cell_type": "code",
   "execution_count": 15,
   "metadata": {},
   "outputs": [],
   "source": [
    "def find_nonoverlap_claim(squares):\n",
    "    \"\"\"find the claim which has no overlap square with others.\"\"\"\n",
    "    cells = collections.Counter()\n",
    "    for c0, r0, width, height in squares:\n",
    "        for r in range(r0, r0 + height):\n",
    "            for c in range(c0, c0 + width):\n",
    "                cells[r, c] += 1\n",
    "    for claim_id, (c0, r0, width, height) in enumerate(squares, 1):\n",
    "        if all(cells[r, c] == 1 for r in range(r0, r0 + height) for c in range(c0, c0 + width)):\n",
    "            return claim_id"
   ]
  },
  {
   "cell_type": "code",
   "execution_count": 16,
   "metadata": {},
   "outputs": [
    {
     "data": {
      "text/plain": [
       "1046"
      ]
     },
     "execution_count": 16,
     "metadata": {},
     "output_type": "execute_result"
    }
   ],
   "source": [
    "find_nonoverlap_claim(squares)"
   ]
  },
  {
   "cell_type": "markdown",
   "metadata": {},
   "source": [
    "# [Day 4: Repose Record](https://adventofcode.com/2018/day/4)"
   ]
  },
  {
   "cell_type": "code",
   "execution_count": 17,
   "metadata": {},
   "outputs": [],
   "source": [
    "with open(input_path(4), 'r') as f:\n",
    "    records = [line.strip() for line in f]"
   ]
  },
  {
   "cell_type": "code",
   "execution_count": 18,
   "metadata": {},
   "outputs": [],
   "source": [
    "def analyze_guard_records(records):\n",
    "    \"\"\"analyze guard records and return sleep times for each guard.\"\"\"\n",
    "    lo = 0\n",
    "    sleeps = collections.defaultdict(collections.Counter)\n",
    "    for record in sorted(records):\n",
    "        time = record[12:17]\n",
    "        h, m = map(int, time.split(':'))\n",
    "        content = record[18:].strip()\n",
    "        if content.startswith('Guard'):\n",
    "            _, guard_id, *_ = content.split()\n",
    "            guard_id = int(guard_id[1:])\n",
    "        elif content == 'falls asleep':\n",
    "            lo = m\n",
    "        else:\n",
    "            assert(content == 'wakes up')\n",
    "            for t in range(lo, m):\n",
    "                sleeps[guard_id][t] += 1\n",
    "    return sleeps"
   ]
  },
  {
   "cell_type": "code",
   "execution_count": 19,
   "metadata": {},
   "outputs": [],
   "source": [
    "sleeps = analyze_guard_records(records)"
   ]
  },
  {
   "cell_type": "markdown",
   "metadata": {},
   "source": [
    "## Strategy 1"
   ]
  },
  {
   "cell_type": "code",
   "execution_count": 20,
   "metadata": {},
   "outputs": [],
   "source": [
    "best_guard_id = max(sleeps, key=lambda x : sum(sleeps[x].values()))"
   ]
  },
  {
   "cell_type": "code",
   "execution_count": 21,
   "metadata": {},
   "outputs": [],
   "source": [
    "best_t = max(range(60), key=lambda t : sleeps[best_guard_id][t])"
   ]
  },
  {
   "cell_type": "code",
   "execution_count": 22,
   "metadata": {},
   "outputs": [
    {
     "name": "stdout",
     "output_type": "stream",
     "text": [
      "3212\n"
     ]
    }
   ],
   "source": [
    "print(best_guard_id * best_t)"
   ]
  },
  {
   "cell_type": "markdown",
   "metadata": {},
   "source": [
    "## Strategy 2"
   ]
  },
  {
   "cell_type": "code",
   "execution_count": 23,
   "metadata": {},
   "outputs": [],
   "source": [
    "best_guard_id = max(sleeps, key=lambda x : max(sleeps[x].values()))"
   ]
  },
  {
   "cell_type": "code",
   "execution_count": 24,
   "metadata": {},
   "outputs": [],
   "source": [
    "best_t = max(range(60), key=lambda t : sleeps[best_guard_id][t])"
   ]
  },
  {
   "cell_type": "code",
   "execution_count": 25,
   "metadata": {},
   "outputs": [
    {
     "name": "stdout",
     "output_type": "stream",
     "text": [
      "4966\n"
     ]
    }
   ],
   "source": [
    "print(best_guard_id * best_t)"
   ]
  },
  {
   "cell_type": "markdown",
   "metadata": {},
   "source": [
    "# [Day 5: Alchemical Reduction](https://adventofcode.com/2018/day/5)"
   ]
  },
  {
   "cell_type": "code",
   "execution_count": 26,
   "metadata": {},
   "outputs": [],
   "source": [
    "with open(input_path(5), 'r') as f:\n",
    "    polymer = f.read().strip()"
   ]
  },
  {
   "cell_type": "code",
   "execution_count": 27,
   "metadata": {},
   "outputs": [
    {
     "name": "stdout",
     "output_type": "stream",
     "text": [
      "50000\n"
     ]
    }
   ],
   "source": [
    "print(len(polymer))"
   ]
  },
  {
   "cell_type": "code",
   "execution_count": 28,
   "metadata": {},
   "outputs": [],
   "source": [
    "def reduce_polymer(polymer, is_opposite_polarity_func):\n",
    "    \"\"\"return final polymer after reduction according to is_opposite_polarity function.\"\"\"\n",
    "    stack = []\n",
    "    for ch in polymer:\n",
    "        if stack and is_opposite_polarity_func(ch, stack[-1]):\n",
    "            stack.pop()\n",
    "        else:\n",
    "            stack.append(ch)\n",
    "    return ''.join(stack)"
   ]
  },
  {
   "cell_type": "code",
   "execution_count": 29,
   "metadata": {},
   "outputs": [],
   "source": [
    "def is_opposite_polarity(c1, c2):\n",
    "    \"\"\"check if c1 and c2 has opposite polarity.\"\"\"\n",
    "    return c1 != c2 and c1.lower() == c2.lower()"
   ]
  },
  {
   "cell_type": "code",
   "execution_count": 30,
   "metadata": {},
   "outputs": [],
   "source": [
    "reduced_polymer = reduce_polymer(polymer, is_opposite_polarity)"
   ]
  },
  {
   "cell_type": "code",
   "execution_count": 31,
   "metadata": {},
   "outputs": [
    {
     "name": "stdout",
     "output_type": "stream",
     "text": [
      "11298\n"
     ]
    }
   ],
   "source": [
    "print(len(reduced_polymer))"
   ]
  },
  {
   "cell_type": "code",
   "execution_count": 32,
   "metadata": {},
   "outputs": [],
   "source": [
    "def shortest_polymer(polymer, is_opposite_polarity_func):\n",
    "    \"\"\"find shortest polymer by removing a character type.\"\"\"\n",
    "    mn = len(polymer) + 1\n",
    "    for ch in string.ascii_lowercase:\n",
    "        modified_polymer = polymer.replace(ch, '')\n",
    "        modified_polymer = modified_polymer.replace(ch.upper(), '')\n",
    "        mn = min(mn, len(reduce_polymer(modified_polymer, is_opposite_polarity_func)))\n",
    "    return mn"
   ]
  },
  {
   "cell_type": "code",
   "execution_count": 33,
   "metadata": {},
   "outputs": [
    {
     "name": "stdout",
     "output_type": "stream",
     "text": [
      "5148\n"
     ]
    }
   ],
   "source": [
    "print(shortest_polymer(polymer, is_opposite_polarity))"
   ]
  },
  {
   "cell_type": "markdown",
   "metadata": {},
   "source": [
    "# [Day 6: Chronal Coordinates](https://adventofcode.com/2018/day/6)"
   ]
  },
  {
   "cell_type": "code",
   "execution_count": null,
   "metadata": {},
   "outputs": [],
   "source": []
  }
 ],
 "metadata": {
  "kernelspec": {
   "display_name": "Python 3",
   "language": "python",
   "name": "python3"
  },
  "language_info": {
   "codemirror_mode": {
    "name": "ipython",
    "version": 3
   },
   "file_extension": ".py",
   "mimetype": "text/x-python",
   "name": "python",
   "nbconvert_exporter": "python",
   "pygments_lexer": "ipython3",
   "version": "3.7.3"
  }
 },
 "nbformat": 4,
 "nbformat_minor": 2
}
