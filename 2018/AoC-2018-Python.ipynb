{
 "cells": [
  {
   "cell_type": "markdown",
   "metadata": {},
   "source": [
    "# Day 0: Imports and Utility Functions"
   ]
  },
  {
   "cell_type": "code",
   "execution_count": 12,
   "metadata": {},
   "outputs": [],
   "source": [
    "%matplotlib inline\n",
    "import matplotlib.pyplot as plt\n",
    "\n",
    "import os\n",
    "import re\n",
    "import numpy as np\n",
    "import random\n",
    "import string\n",
    "import collections, itertools\n",
    "from collections import Counter, defaultdict, namedtuple, deque, OrderedDict\n",
    "from functools   import lru_cache, reduce\n",
    "from statistics  import mean, median, mode, stdev, variance\n",
    "from itertools   import (permutations, combinations, groupby, \n",
    "                         islice, repeat,cycle, chain, product, zip_longest, takewhile, dropwhile, count as count_from)\n",
    "from heapq       import heappush, heappop, heapify\n",
    "from operator    import iand, ior, ilshift, irshift\n",
    "from bisect      import bisect_left, bisect_right"
   ]
  },
  {
   "cell_type": "markdown",
   "metadata": {},
   "source": [
    "# Day 1: Chronal Calibration"
   ]
  },
  {
   "cell_type": "code",
   "execution_count": 2,
   "metadata": {},
   "outputs": [
    {
     "name": "stdout",
     "output_type": "stream",
     "text": [
      "533\n"
     ]
    }
   ],
   "source": [
    "cnt = 0\n",
    "with open('inputs/day1.txt') as f:\n",
    "    for line in f:\n",
    "        cnt += int(line.strip())\n",
    "print(cnt)"
   ]
  },
  {
   "cell_type": "code",
   "execution_count": 3,
   "metadata": {},
   "outputs": [
    {
     "name": "stdout",
     "output_type": "stream",
     "text": [
      "73272\n"
     ]
    }
   ],
   "source": [
    "cnt = 0\n",
    "visited = {0}\n",
    "with open('inputs/day1.txt') as f:\n",
    "    for line in cycle(f):\n",
    "        cnt += int(line.strip())\n",
    "        if cnt in visited:\n",
    "            print(cnt)\n",
    "            break\n",
    "        else:\n",
    "            visited.add(cnt)"
   ]
  },
  {
   "cell_type": "markdown",
   "metadata": {},
   "source": [
    "# Day 2: Inventory Management System"
   ]
  },
  {
   "cell_type": "code",
   "execution_count": 4,
   "metadata": {},
   "outputs": [
    {
     "name": "stdout",
     "output_type": "stream",
     "text": [
      "fvstwblgqkhpuixdrnevmaycd\n",
      "\n",
      "8715\n"
     ]
    }
   ],
   "source": [
    "twices = threes = 0\n",
    "with open('inputs/day2.txt') as f:\n",
    "    lines = f.readlines()\n",
    "    twices = sum(any(line.count(ch) == 2 for ch in string.ascii_lowercase) for line in lines)\n",
    "    threes = sum(any(line.count(ch) == 3 for ch in string.ascii_lowercase) for line in lines)\n",
    "    pairs = [(line1, line2) for line1, line2 in combinations(lines, 2) if sum(ch1 != ch2 for ch1, ch2 in zip(line1, line2)) == 1]\n",
    "    line1, line2 = pairs[0]\n",
    "    print(''.join([ch1 for ch1, ch2 in zip(line1, line2) if ch1 == ch2]))\n",
    "print(twices * threes)"
   ]
  },
  {
   "cell_type": "markdown",
   "metadata": {},
   "source": [
    "# Day 3: No Matter How You Slice It"
   ]
  },
  {
   "cell_type": "code",
   "execution_count": 5,
   "metadata": {},
   "outputs": [],
   "source": [
    "rects = []\n",
    "with open('inputs/day3.txt') as f:\n",
    "    #1 @ 335,861: 14x10\n",
    "    for line in f:\n",
    "        _, _, a, b = line.split()\n",
    "        left, top = tuple(map(int, a[:-1].split(',')))\n",
    "        w, h = tuple(map(int, b.split('x')))\n",
    "        rects.append((top, left, top + h, left + w))"
   ]
  },
  {
   "cell_type": "code",
   "execution_count": 6,
   "metadata": {},
   "outputs": [
    {
     "name": "stdout",
     "output_type": "stream",
     "text": [
      "(861, 335, 871, 349)\n"
     ]
    }
   ],
   "source": [
    "print(rects[0])"
   ]
  },
  {
   "cell_type": "code",
   "execution_count": 7,
   "metadata": {},
   "outputs": [
    {
     "name": "stdout",
     "output_type": "stream",
     "text": [
      "103806\n"
     ]
    }
   ],
   "source": [
    "counter = Counter()\n",
    "for x1, y1, x2, y2 in rects:\n",
    "    for x in range(x1, x2):\n",
    "        for y in range(y1, y2):\n",
    "            counter[x, y] += 1\n",
    "print(sum(value > 1 for value in counter.values()))"
   ]
  },
  {
   "cell_type": "code",
   "execution_count": 8,
   "metadata": {},
   "outputs": [
    {
     "name": "stdout",
     "output_type": "stream",
     "text": [
      "625\n"
     ]
    }
   ],
   "source": [
    "for i, (a, b, c, d) in enumerate(rects, 1):\n",
    "    for j, (aa, bb, cc, dd) in enumerate(rects, 1):\n",
    "        if i == j: continue\n",
    "        if not (cc <= a or c <= aa or dd <= b or d <= bb):\n",
    "            break\n",
    "    else:\n",
    "        print(i)"
   ]
  },
  {
   "cell_type": "markdown",
   "metadata": {},
   "source": [
    "# Day 4: Repose Record"
   ]
  },
  {
   "cell_type": "code",
   "execution_count": 9,
   "metadata": {},
   "outputs": [],
   "source": [
    "sleeps = defaultdict(Counter) # Guard ID to --> counter\n",
    "GuardID = None \n",
    "low = 0\n",
    "with open('inputs/day4.txt') as f:\n",
    "    for line in sorted(f):\n",
    "        time = line[12:17]\n",
    "        h, m = time.split(':')\n",
    "        h, m = int(h), int(m)\n",
    "        content = line[18:].strip()\n",
    "        if content.startswith('Guard'):\n",
    "            _, GuardID, *_ = content.split()\n",
    "        elif content == 'falls asleep':\n",
    "            low = m\n",
    "        else:\n",
    "            assert(content == 'wakes up')\n",
    "            for i in range(low, m):\n",
    "                sleeps[GuardID][i] += 1"
   ]
  },
  {
   "cell_type": "code",
   "execution_count": 10,
   "metadata": {},
   "outputs": [],
   "source": [
    "name = max(sleeps, key=lambda x : sum(sleeps[x].values()))"
   ]
  },
  {
   "cell_type": "code",
   "execution_count": 11,
   "metadata": {},
   "outputs": [
    {
     "data": {
      "text/plain": [
       "19025"
      ]
     },
     "execution_count": 11,
     "metadata": {},
     "output_type": "execute_result"
    }
   ],
   "source": [
    "max(sleeps[name], key=lambda x : sleeps[name][x]) * int(name[1:])"
   ]
  },
  {
   "cell_type": "code",
   "execution_count": 12,
   "metadata": {},
   "outputs": [],
   "source": [
    "name = max(sleeps, key=lambda x : max(sleeps[x].values()))"
   ]
  },
  {
   "cell_type": "code",
   "execution_count": 13,
   "metadata": {},
   "outputs": [
    {
     "data": {
      "text/plain": [
       "23776"
      ]
     },
     "execution_count": 13,
     "metadata": {},
     "output_type": "execute_result"
    }
   ],
   "source": [
    "int(name[1:]) * max(sleeps[name], key=lambda x : sleeps[name][x])"
   ]
  },
  {
   "cell_type": "markdown",
   "metadata": {},
   "source": [
    "# Day 5: Alchemical Reduction"
   ]
  },
  {
   "cell_type": "code",
   "execution_count": 14,
   "metadata": {},
   "outputs": [],
   "source": [
    "with open('inputs/day5.txt') as f:\n",
    "    line = f.read()\n",
    "dis = abs(ord('a') - ord('A'))"
   ]
  },
  {
   "cell_type": "code",
   "execution_count": 15,
   "metadata": {},
   "outputs": [],
   "source": [
    "# line = \"dabAcCaCBAcCcaDA\"\n",
    "def polymer_reaction(line, remove=''):\n",
    "    line = re.sub('[{}]'.format(remove), '', line)\n",
    "    stack = []\n",
    "    for o in map(ord, line):\n",
    "        if not stack or abs(stack[-1] - o) != dis:\n",
    "            stack.append(o)\n",
    "        else:\n",
    "            stack.pop()\n",
    "    return len(stack)"
   ]
  },
  {
   "cell_type": "code",
   "execution_count": 16,
   "metadata": {},
   "outputs": [
    {
     "name": "stdout",
     "output_type": "stream",
     "text": [
      "5698\n"
     ]
    }
   ],
   "source": [
    "L = len(line)\n",
    "for t in string.ascii_lowercase:\n",
    "    temp = polymer_reaction(line, remove=t+t.upper())\n",
    "    if temp < L:\n",
    "        L = temp\n",
    "print(L)"
   ]
  },
  {
   "cell_type": "markdown",
   "metadata": {},
   "source": [
    "# Day 6: Chronal Coordinates"
   ]
  },
  {
   "cell_type": "code",
   "execution_count": 17,
   "metadata": {},
   "outputs": [
    {
     "data": {
      "text/plain": [
       "3660"
      ]
     },
     "execution_count": 17,
     "metadata": {},
     "output_type": "execute_result"
    }
   ],
   "source": [
    "coords = np.loadtxt('inputs/day6.txt', dtype=np.int64, delimiter=', ')\n",
    "xmin, xmax = coords[:, 0].min(), coords[:, 0].max()\n",
    "ymin, ymax = coords[:, 1].min(), coords[:, 1].max()\n",
    "coords[:, 0] -= xmin\n",
    "coords[:, 1] -= ymin\n",
    "n = xmax - xmin + 1\n",
    "m = ymax - ymin + 1\n",
    "grid = [['.'] * n for _ in range(m)]\n",
    "queue = collections.deque()\n",
    "for idx, (y, x) in enumerate(coords):\n",
    "    grid[x][y] = (idx, 0)\n",
    "    queue.append((x, y, idx, 0))\n",
    "while queue:\n",
    "    size = len(queue)\n",
    "    for _ in range(size):\n",
    "        i, j, root, dis = queue.popleft()\n",
    "        for newi, newj in (i - 1, j), (i + 1, j), (i, j - 1), (i, j + 1):\n",
    "            if 0 <= newi < m and 0 <= newj < n:\n",
    "                if grid[newi][newj] == '.':\n",
    "                    grid[newi][newj] = (root, dis + 1)\n",
    "                    queue.append((newi, newj, root, dis + 1))\n",
    "                else:\n",
    "                    parent, cur_dis = grid[newi][newj]\n",
    "                    if cur_dis == dis + 1 and root != parent:\n",
    "                        grid[newi][newj] = ('#', dis + 1)\n",
    "                    elif cur_dis > dis + 1:\n",
    "                        grid[newi][newj] = (root, dis + 1)\n",
    "                        queue.append((newi, newj, root, dis + 1))\n",
    "def is_valid(i, j, m, n):\n",
    "    return i > 0 and i < m - 1 and j > 0 and j < n - 1\n",
    "counter = defaultdict(list)\n",
    "for i in range(m):\n",
    "    for j in range(n):\n",
    "        root, _ = grid[i][j]\n",
    "        counter[root].append((i, j))\n",
    "max(len(counter[x]) for x in counter if all(is_valid(i, j, m, n) for i, j in counter[x]))"
   ]
  },
  {
   "cell_type": "code",
   "execution_count": 18,
   "metadata": {},
   "outputs": [],
   "source": [
    "coords = np.loadtxt('inputs/day6.txt', dtype=np.int64, delimiter=', ')\n",
    "xmin, xmax = coords[:, 0].min(), coords[:, 0].max()\n",
    "ymin, ymax = coords[:, 1].min(), coords[:, 1].max()\n",
    "coords[:, 0] -= xmin\n",
    "coords[:, 1] -= ymin\n",
    "n = xmax - xmin + 1\n",
    "m = ymax - ymin + 1"
   ]
  },
  {
   "cell_type": "code",
   "execution_count": 19,
   "metadata": {},
   "outputs": [
    {
     "name": "stdout",
     "output_type": "stream",
     "text": [
      "299 299\n"
     ]
    }
   ],
   "source": [
    "print(m, n)"
   ]
  },
  {
   "cell_type": "code",
   "execution_count": 20,
   "metadata": {},
   "outputs": [
    {
     "name": "stdout",
     "output_type": "stream",
     "text": [
      "35928\n"
     ]
    }
   ],
   "source": [
    "cnt = 0\n",
    "for i in range(m):\n",
    "    for j in range(n):\n",
    "        if sum(abs(x - i) + abs(y - j) for x, y in coords) <= 10000:\n",
    "            cnt += 1\n",
    "print(cnt)"
   ]
  },
  {
   "cell_type": "markdown",
   "metadata": {},
   "source": [
    "# Day 7: The Sum of Its Parts"
   ]
  },
  {
   "cell_type": "code",
   "execution_count": 21,
   "metadata": {},
   "outputs": [
    {
     "name": "stdout",
     "output_type": "stream",
     "text": [
      "BETUFNVADWGPLRJOHMXKZQCISY\n"
     ]
    }
   ],
   "source": [
    "sucs = defaultdict(set)\n",
    "pres = defaultdict(set)\n",
    "nodes = set()\n",
    "with open('inputs/day7.txt', 'r') as f:\n",
    "    for line in f:\n",
    "        _, start, *_, end, _, _ = line.split()\n",
    "        nodes.add(start)\n",
    "        nodes.add(end)\n",
    "        sucs[start].add(end)\n",
    "        pres[end].add(start)\n",
    "frees = nodes - pres.keys()\n",
    "pq = list(frees)\n",
    "heapify(pq)\n",
    "ans = ''\n",
    "while pq:\n",
    "    node = heappop(pq)\n",
    "    ans += node\n",
    "    for nei in sucs[node]:\n",
    "        if len(pres[nei]) == 1:\n",
    "            pres.pop(nei)\n",
    "            heappush(pq, nei)\n",
    "        elif len(pres[nei]) > 1:\n",
    "            pres[nei].remove(node)\n",
    "print(ans)"
   ]
  },
  {
   "cell_type": "code",
   "execution_count": 22,
   "metadata": {},
   "outputs": [
    {
     "name": "stdout",
     "output_type": "stream",
     "text": [
      "848\n"
     ]
    }
   ],
   "source": [
    "sucs = defaultdict(set)\n",
    "pres = defaultdict(set)\n",
    "nodes = set()\n",
    "with open('inputs/day7.txt', 'r') as f:\n",
    "    for line in f:\n",
    "        _, start, *_, end, _, _ = line.split()\n",
    "        nodes.add(start)\n",
    "        nodes.add(end)\n",
    "        sucs[start].add(end)\n",
    "        pres[end].add(start)\n",
    "frees = nodes - pres.keys()\n",
    "pq = list(frees)\n",
    "frees = list(frees)\n",
    "heapify(frees)\n",
    "heapify(pq)\n",
    "starts = defaultdict(int)\n",
    "for node in frees:\n",
    "    starts[node] = 0\n",
    "ends = defaultdict(int)\n",
    "works = dict(zip(string.ascii_uppercase, range(61, 87)))\n",
    "# works = dict(zip(string.ascii_uppercase, range(1, 27)))\n",
    "workers = [0] * 5 # 2\n",
    "heapify(workers)\n",
    "ans = ''\n",
    "while pq:\n",
    "    while frees:\n",
    "        node = heappop(frees)\n",
    "        worker_t = heappop(workers)\n",
    "        worker_t = max(worker_t, starts[node])\n",
    "        ends[node] = worker_t + works[node]\n",
    "        heappush(workers, worker_t + works[node])\n",
    "    node = heappop(pq)\n",
    "    ans += node\n",
    "    for nei in sucs[node]:\n",
    "        if len(pres[nei]) == 1:\n",
    "            pres.pop(nei)\n",
    "            heappush(pq, nei)\n",
    "            heappush(frees, nei)\n",
    "            starts[nei] = max(ends[node], starts.get(nei, 0))\n",
    "        elif len(pres[nei]) > 1:\n",
    "            pres[nei].remove(node)\n",
    "            starts[nei] = max(ends[node], starts.get(nei, 0))\n",
    "print(max(ends.values()))"
   ]
  },
  {
   "cell_type": "markdown",
   "metadata": {},
   "source": [
    "# Day 8: Memory Maneuver"
   ]
  },
  {
   "cell_type": "code",
   "execution_count": 23,
   "metadata": {},
   "outputs": [
    {
     "name": "stdout",
     "output_type": "stream",
     "text": [
      "48260\n"
     ]
    }
   ],
   "source": [
    "with open('inputs/day8.txt', 'r') as f:\n",
    "    items = f.read().split()\n",
    "# items = \"2 3 0 3 10 11 12 1 1 0 1 99 2 1 1 2\".split()\n",
    "data = iter(map(int, items))\n",
    "def traverse_tree():\n",
    "    cnt = 0\n",
    "    nchilds = next(data)\n",
    "    nmetas = next(data)\n",
    "    for _ in range(nchilds):\n",
    "        cnt += traverse_tree()\n",
    "    for _ in range(nmetas):\n",
    "        cnt += next(data)\n",
    "    return cnt\n",
    "print(traverse_tree())    "
   ]
  },
  {
   "cell_type": "code",
   "execution_count": 24,
   "metadata": {},
   "outputs": [
    {
     "name": "stdout",
     "output_type": "stream",
     "text": [
      "25981\n"
     ]
    }
   ],
   "source": [
    "with open('inputs/day8.txt', 'r') as f:\n",
    "    items = f.read().split()\n",
    "# items = \"2 3 0 3 10 11 12 1 1 0 1 99 2 1 1 2\".split()\n",
    "data = iter(map(int, items))\n",
    "def traverse_tree_new():\n",
    "    cnt = 0\n",
    "    nchilds = next(data)\n",
    "    nmetas = next(data)\n",
    "    children = []\n",
    "    for _ in range(nchilds):\n",
    "        children.append(traverse_tree_new())\n",
    "    metas = []\n",
    "    for _ in range(nmetas):\n",
    "        temp = next(data)\n",
    "        metas.append(temp)\n",
    "        cnt += temp\n",
    "    if nchilds == 0:\n",
    "        return cnt\n",
    "    else:\n",
    "        cnt = 0\n",
    "        for idx in metas:\n",
    "            if 0 <= idx - 1 < nchilds:\n",
    "                cnt += children[idx - 1]\n",
    "        return cnt\n",
    "print(traverse_tree_new())   "
   ]
  },
  {
   "cell_type": "markdown",
   "metadata": {},
   "source": [
    "# Day 9: Marble Mania\n",
    "476 players; last marble is worth 71431 points"
   ]
  },
  {
   "cell_type": "code",
   "execution_count": 25,
   "metadata": {},
   "outputs": [
    {
     "name": "stdout",
     "output_type": "stream",
     "text": [
      "384205\n"
     ]
    }
   ],
   "source": [
    "n, m = 476, 71431\n",
    "players = [[0] for _ in range(n)]\n",
    "lst = [0]\n",
    "cur = 0\n",
    "for idx, player in enumerate(cycle(players), 1):\n",
    "    if idx % 23 != 0:\n",
    "        place = (cur + 1) % len(lst) + 1\n",
    "        lst.insert(place, idx)\n",
    "        cur = place\n",
    "    else:\n",
    "        player[0] += idx\n",
    "        cur -= 7\n",
    "        if cur < 0:\n",
    "            cur += len(lst)\n",
    "        player[0] += lst[cur]\n",
    "        old_cur = cur\n",
    "        if old_cur + 1 == len(lst):\n",
    "            cur = 0\n",
    "        else:\n",
    "            cur = old_cur\n",
    "        del lst[old_cur]\n",
    "    if idx == m:\n",
    "        break\n",
    "print(max(item[0] for item in players))"
   ]
  },
  {
   "cell_type": "code",
   "execution_count": 26,
   "metadata": {},
   "outputs": [
    {
     "name": "stdout",
     "output_type": "stream",
     "text": [
      "3066307353\n"
     ]
    }
   ],
   "source": [
    "class Node:\n",
    "    def __init__(self, val, prev=None, nxt=None):\n",
    "        self.val = val\n",
    "        self.prev = prev\n",
    "        self.next = nxt\n",
    "n, m = 476, 71431 * 100\n",
    "players = [[0] for _ in range(n)]\n",
    "node = Node(0)\n",
    "node.prev = node\n",
    "node.next = node\n",
    "root = node\n",
    "cur = node\n",
    "for idx, player in enumerate(cycle(players), 1):\n",
    "    if idx % 23 != 0:\n",
    "        cur = cur.next\n",
    "        node = Node(idx)\n",
    "        node.next = cur.next\n",
    "        node.prev = cur\n",
    "        cur.next = node\n",
    "        node.next.prev = node\n",
    "        cur = node\n",
    "    else:\n",
    "        player[0] += idx\n",
    "        for _ in range(6):\n",
    "            cur = cur.prev\n",
    "        player[0] += cur.prev.val\n",
    "        cur.prev = cur.prev.prev\n",
    "        cur.prev.next = cur\n",
    "    if idx == m:\n",
    "        break\n",
    "print(max(item[0] for item in players))\n",
    "# while True:\n",
    "#     print(root.val, end=' ')\n",
    "#     root = root.next\n",
    "#     if root.val == 0:\n",
    "#         break"
   ]
  },
  {
   "cell_type": "markdown",
   "metadata": {},
   "source": [
    "# Day 10: The Stars Align"
   ]
  },
  {
   "cell_type": "code",
   "execution_count": 27,
   "metadata": {},
   "outputs": [],
   "source": [
    "points, vs = [], []\n",
    "with open('inputs/day10.txt', 'r') as f:\n",
    "    for line in f:\n",
    "        line = line.strip()\n",
    "        x, y = re.split(',\\s+', line[line.index('<') + 1: line.index('>')])\n",
    "        vx, vy = re.split(',\\s+', line[line.rindex('<') + 1:-1])\n",
    "        points.append([int(x), int(y)])\n",
    "        vs.append([int(vx), int(vy)])"
   ]
  },
  {
   "cell_type": "code",
   "execution_count": 28,
   "metadata": {},
   "outputs": [],
   "source": [
    "def compute_box(points):\n",
    "    xmin = points[:, 0].min()\n",
    "    xmax = points[:, 0].max()\n",
    "    ymin = points[:, 1].min()\n",
    "    ymax = points[:, 1].max()\n",
    "    return ymax - ymin + xmax - xmin\n",
    "points = np.array(points)\n",
    "points_copy = points.copy()\n",
    "vs = np.array(vs)\n",
    "min_box = compute_box(points) \n",
    "step = 0\n",
    "for i in range(1, 40000):\n",
    "    points += vs\n",
    "    b = compute_box(points)\n",
    "    if b < min_box:\n",
    "        min_box = b\n",
    "        step = i"
   ]
  },
  {
   "cell_type": "code",
   "execution_count": 29,
   "metadata": {},
   "outputs": [
    {
     "data": {
      "text/plain": [
       "10577"
      ]
     },
     "execution_count": 29,
     "metadata": {},
     "output_type": "execute_result"
    }
   ],
   "source": [
    "step"
   ]
  },
  {
   "cell_type": "code",
   "execution_count": 30,
   "metadata": {},
   "outputs": [],
   "source": [
    "points_copy += step * vs"
   ]
  },
  {
   "cell_type": "code",
   "execution_count": 31,
   "metadata": {},
   "outputs": [
    {
     "data": {
      "text/plain": [
       "[<matplotlib.lines.Line2D at 0x7fb840ac7d68>]"
      ]
     },
     "execution_count": 31,
     "metadata": {},
     "output_type": "execute_result"
    },
    {
     "data": {
      "image/png": "[encoded data removed]",
      "text/plain": [
       "<Figure size 1800x720 with 1 Axes>"
      ]
     },
     "metadata": {
      "needs_background": "light"
     },
     "output_type": "display_data"
    }
   ],
   "source": [
    "plt.figure(figsize=(25, 10))\n",
    "plt.plot(points_copy[:, 0], 200 - points_copy[:, 1], 'r*')"
   ]
  },
  {
   "cell_type": "markdown",
   "metadata": {},
   "source": [
    "# Day 11: Chronal Charge"
   ]
  },
  {
   "cell_type": "code",
   "execution_count": 32,
   "metadata": {},
   "outputs": [],
   "source": [
    "def fuel_power(x, y, serial=7672):\n",
    "    rack = x + 10\n",
    "    power = rack * y + serial\n",
    "    power *= rack\n",
    "    ten = (power // 100) % 10\n",
    "    return ten - 5\n",
    "assert(fuel_power(122, 79, 57) == -5)\n",
    "assert(fuel_power(217, 196, 39) == 0)\n",
    "assert(fuel_power(101, 153, 71) == 4)"
   ]
  },
  {
   "cell_type": "code",
   "execution_count": 33,
   "metadata": {},
   "outputs": [],
   "source": [
    "from itertools import accumulate"
   ]
  },
  {
   "cell_type": "code",
   "execution_count": 34,
   "metadata": {},
   "outputs": [],
   "source": [
    "grid = np.zeros((300, 300), dtype=np.int64)"
   ]
  },
  {
   "cell_type": "code",
   "execution_count": 35,
   "metadata": {},
   "outputs": [],
   "source": [
    "for x in range(1, 301):\n",
    "    for y in range(1, 301):\n",
    "        grid[y-1, x-1] = fuel_power(x, y, serial=7672)\n",
    "acc = np.zeros((301, 301), dtype=np.int64)\n",
    "for i in range(1, 301):\n",
    "    for j in range(1, 301):\n",
    "        acc[i, j] = grid[i - 1, j - 1] + acc[i - 1, j] + acc[i, j - 1] - acc[i - 1, j - 1]\n"
   ]
  },
  {
   "cell_type": "code",
   "execution_count": 36,
   "metadata": {},
   "outputs": [],
   "source": [
    "def compute_power(x, y, size):\n",
    "    # x, y to x + size - 1, y + size - 1\n",
    "    return acc[x + size, y + size] + acc[x, y] - acc[x, y + size] - acc[x + size, y]"
   ]
  },
  {
   "cell_type": "code",
   "execution_count": 37,
   "metadata": {},
   "outputs": [
    {
     "name": "stdout",
     "output_type": "stream",
     "text": [
      "22 18\n"
     ]
    }
   ],
   "source": [
    "# y, x = max([(x, y) for x in range(300 - 2) for y in range(300 - 2)], key=lambda point: sum(grid[point[0] + i, point[1] + j] for i in range(3) for j in range(3)))\n",
    "# y, x = max([(x, y) for x in range(300 - 2) for y in range(300 - 2)], key=lambda point: grid[point[0]:point[0] + 3, point[1]:point[1] + 3].sum())\n",
    "# print(x + 1, y + 1)\n",
    "size = 3\n",
    "y, x = max(((x, y) for x in range(300 - size + 1)\n",
    "                  for y in range(300 - size + 1)),\n",
    "                  key=lambda point:compute_power(*point, size))\n",
    "print(x + 1, y + 1)"
   ]
  },
  {
   "cell_type": "code",
   "execution_count": 38,
   "metadata": {},
   "outputs": [
    {
     "name": "stdout",
     "output_type": "stream",
     "text": [
      "234 197 14\n"
     ]
    }
   ],
   "source": [
    "max_power = float('-inf')\n",
    "rx, ry, rsize = None, None, None\n",
    "for size in range(1, 301):\n",
    "    powers = [(compute_power(x, y, size), (x, y)) \n",
    "              for x in range(300 - size + 1) \n",
    "              for y in range(300 - size + 1)]\n",
    "    power, (x, y) = max(powers)\n",
    "    if power > max_power:\n",
    "        rx = y + 1\n",
    "        ry = x + 1\n",
    "        rsize = size\n",
    "        max_power = power\n",
    "print(rx, ry, rsize)"
   ]
  },
  {
   "cell_type": "markdown",
   "metadata": {},
   "source": [
    "# Day 12: Subterranean Sustainability"
   ]
  },
  {
   "cell_type": "code",
   "execution_count": 39,
   "metadata": {},
   "outputs": [],
   "source": [
    "with open('inputs/day12.txt', 'r') as f:\n",
    "    lines = f.readlines()\n",
    "state = lines[0][len(\"initial state: \"):].strip()\n",
    "positions = {i for i, ch in enumerate(state) if ch == '#'}\n",
    "rules = set()\n",
    "for line in lines[2:]:\n",
    "    a, b = line.strip().split(' => ')\n",
    "    if b == '#':\n",
    "        rules.add(tuple(a))\n",
    "positions_back = positions.copy()"
   ]
  },
  {
   "cell_type": "code",
   "execution_count": 40,
   "metadata": {},
   "outputs": [],
   "source": [
    "def next_gen(rules, positions):\n",
    "    start, end = min(positions), max(positions)\n",
    "    ans = set()\n",
    "    for i in range(start - 3, end + 4):\n",
    "        five = tuple('#' if (i + di) in positions else '.' for di in range(-2, 3))\n",
    "        if five in rules:\n",
    "            ans.add(i)\n",
    "    return ans"
   ]
  },
  {
   "cell_type": "code",
   "execution_count": 41,
   "metadata": {},
   "outputs": [
    {
     "name": "stdout",
     "output_type": "stream",
     "text": [
      "3120\n"
     ]
    }
   ],
   "source": [
    "for _ in range(20):\n",
    "    positions = next_gen(rules,positions)\n",
    "print(sum(positions))"
   ]
  },
  {
   "cell_type": "code",
   "execution_count": 42,
   "metadata": {},
   "outputs": [],
   "source": [
    "# positions = positions_back.copy()\n",
    "# i = 0\n",
    "# while i < 400:\n",
    "#     i += 1\n",
    "#     pre = sum(positions)\n",
    "#     positions = next_gen(rules, positions)\n",
    "#     print(\"{}: {} {}\".format(i, sum(positions) - pre, sum(positions)))"
   ]
  },
  {
   "cell_type": "code",
   "execution_count": 43,
   "metadata": {},
   "outputs": [
    {
     "name": "stdout",
     "output_type": "stream",
     "text": [
      "2950000001598\n"
     ]
    }
   ],
   "source": [
    "print((50_000_000_000 - 101) * 59 + 7557)"
   ]
  },
  {
   "cell_type": "markdown",
   "metadata": {},
   "source": [
    "# Day 13: Mine Cart Madness"
   ]
  },
  {
   "cell_type": "code",
   "execution_count": 44,
   "metadata": {},
   "outputs": [],
   "source": [
    "with open('inputs/day13.txt', 'r') as f:\n",
    "    lines = [line.rstrip('\\n') for line in f]"
   ]
  },
  {
   "cell_type": "code",
   "execution_count": 45,
   "metadata": {},
   "outputs": [],
   "source": [
    "graph = {}\n",
    "carts = {}\n",
    "lens = []\n",
    "d = {'>' : '-', '<' : '-', '^' : '|', 'v' : '|'}\n",
    "for i, line in enumerate(lines):\n",
    "    lens.append(len(line))\n",
    "    for j, ch in enumerate(line):\n",
    "        graph[i, j] = ch\n",
    "        if ch in ('^', 'v', '>', '<'):\n",
    "            carts[i, j] = [ch, 0]"
   ]
  },
  {
   "cell_type": "code",
   "execution_count": 46,
   "metadata": {},
   "outputs": [
    {
     "name": "stdout",
     "output_type": "stream",
     "text": [
      "36 136\n"
     ]
    }
   ],
   "source": [
    "dirs = {'>' : (0, 1), '<' : (0, -1), '^' : (-1, 0), 'v' : (1, 0)}\n",
    "# also need to think about update ...\n",
    "# 0, 1, 2 means left, straight, right\n",
    "lefts = {'>' : '^', '<' : 'v', '^' : '<', 'v' : '>'}\n",
    "straights = {'>' : '>', '<' : '<', '^' : '^', 'v' : 'v'}\n",
    "rights = {'>' : 'v', '<' : '^', '^' : '>', 'v' : '<'}\n",
    "turns = [lefts, straights, rights]\n",
    "# corners\n",
    "corners = {'/' : {'^' : '>', '<' : 'v', '>' : '^', 'v' : '<'},\n",
    "           '\\\\' : {'>' : 'v', '^' : '<', 'v' : '>', '<' : '^'},\n",
    "          }\n",
    "while True:\n",
    "    temp = {}\n",
    "    positions = set(carts.keys())\n",
    "    done = False\n",
    "    for i, j in sorted(carts):\n",
    "        positions.remove((i, j))\n",
    "        ch, t = carts[i, j]\n",
    "        if graph[i, j] == '+':\n",
    "            ch = turns[t][ch]\n",
    "            t += 1\n",
    "            if t == 3:\n",
    "                t = 0\n",
    "        di, dj = dirs[ch]\n",
    "        newi, newj = i + di, j + dj\n",
    "        if (newi, newj) in positions:\n",
    "            print(newi, newj)\n",
    "            done = True\n",
    "            break\n",
    "        if graph[newi, newj] in ('/', '\\\\'):\n",
    "            ch = corners[graph[newi, newj]][ch]\n",
    "        temp[newi, newj] = [ch, t]\n",
    "        positions.add((newi, newj))\n",
    "    if done:\n",
    "        break\n",
    "    carts = temp"
   ]
  },
  {
   "cell_type": "code",
   "execution_count": 47,
   "metadata": {},
   "outputs": [
    {
     "name": "stdout",
     "output_type": "stream",
     "text": [
      "{(111, 53): ['^', 2]}\n"
     ]
    }
   ],
   "source": [
    "graph = {}\n",
    "carts = {}\n",
    "lens = []\n",
    "d = {'>' : '-', '<' : '-', '^' : '|', 'v' : '|'}\n",
    "for i, line in enumerate(lines):\n",
    "    lens.append(len(line))\n",
    "    for j, ch in enumerate(line):\n",
    "        graph[i, j] = ch\n",
    "        if ch in ('^', 'v', '>', '<'):\n",
    "            carts[i, j] = [ch, 0]\n",
    "while True:\n",
    "    temp = {}\n",
    "    if len(carts) == 1:\n",
    "        print(carts)\n",
    "        break\n",
    "    positions = set(carts.keys())\n",
    "    removed = set()\n",
    "    for i, j in sorted(carts):\n",
    "        if (i, j) in removed:\n",
    "            continue\n",
    "        positions.remove((i, j))\n",
    "        ch, t = carts[i, j]\n",
    "        if graph[i, j] == '+':\n",
    "            ch = turns[t][ch]\n",
    "            t += 1\n",
    "            if t == 3:\n",
    "                t = 0\n",
    "        di, dj = dirs[ch]\n",
    "        newi, newj = i + di, j + dj\n",
    "        if (newi, newj) in positions:\n",
    "            removed.add((newi, newj))\n",
    "#             print(newi, newj)\n",
    "            continue\n",
    "        if graph[newi, newj] in ('/', '\\\\'):\n",
    "            ch = corners[graph[newi, newj]][ch]\n",
    "        temp[newi, newj] = [ch, t]\n",
    "        positions.add((newi, newj))\n",
    "    carts = temp\n",
    "    for item in removed:\n",
    "        if item in carts:\n",
    "            del carts[item]"
   ]
  },
  {
   "cell_type": "markdown",
   "metadata": {},
   "source": [
    "# Day 14: Chocolate Charts"
   ]
  },
  {
   "cell_type": "code",
   "execution_count": 48,
   "metadata": {},
   "outputs": [],
   "source": [
    "def scoreboard(a, b):\n",
    "    lst = [a, b]\n",
    "    cur1, cur2 = 0, 1\n",
    "    yield lst\n",
    "    while True:\n",
    "        val = lst[cur1] + lst[cur2]\n",
    "        if val > 9:\n",
    "            lst.append(1)\n",
    "            yield lst\n",
    "        lst.append(val % 10)\n",
    "        yield lst\n",
    "        cur1 = (cur1 + 1 + lst[cur1]) % len(lst)\n",
    "        cur2 = (cur2 + 1 + lst[cur2]) % len(lst)"
   ]
  },
  {
   "cell_type": "code",
   "execution_count": 49,
   "metadata": {},
   "outputs": [
    {
     "name": "stdout",
     "output_type": "stream",
     "text": [
      "2776141917\n"
     ]
    }
   ],
   "source": [
    "# Part 1\n",
    "n = 598701\n",
    "score_gen = scoreboard(3, 7)\n",
    "while True:\n",
    "    lst = next(score_gen)\n",
    "    if len(lst) == n + 10:\n",
    "        break\n",
    "print(''.join(map(str, lst[-10:])))"
   ]
  },
  {
   "cell_type": "code",
   "execution_count": 50,
   "metadata": {},
   "outputs": [
    {
     "name": "stdout",
     "output_type": "stream",
     "text": [
      "20331097\n"
     ]
    }
   ],
   "source": [
    "find = [5, 9, 8, 7, 0, 1]\n",
    "n = len(find)\n",
    "score_gen = scoreboard(3, 7)\n",
    "while True:\n",
    "    lst = next(score_gen)\n",
    "    if len(lst) >= n and lst[-n:] == find:\n",
    "        print(len(lst) - n)\n",
    "        break"
   ]
  },
  {
   "cell_type": "markdown",
   "metadata": {},
   "source": [
    "# Day 15: Beverage Bandits"
   ]
  },
  {
   "cell_type": "markdown",
   "metadata": {},
   "source": [
    "# Day 16: Chronal Classification"
   ]
  },
  {
   "cell_type": "code",
   "execution_count": 4,
   "metadata": {},
   "outputs": [],
   "source": [
    "def addr(rs, A, B, C):\n",
    "    rs[C] = rs[A] + rs[B]\n",
    "def addi(rs, A, B, C):\n",
    "    rs[C] = rs[A] + B\n",
    "def mulr(rs, A, B, C):\n",
    "    rs[C] = rs[A] * rs[B]\n",
    "def muli(rs, A, B, C):\n",
    "    rs[C] = rs[A] * B\n",
    "def banr(rs, A, B, C):\n",
    "    rs[C] = rs[A] & rs[B]\n",
    "def bani(rs, A, B, C):\n",
    "    rs[C] = rs[A] & B\n",
    "def borr(rs, A, B, C):\n",
    "    rs[C] = rs[A] | rs[B]\n",
    "def bori(rs, A, B, C):\n",
    "    rs[C] = rs[A] | B\n",
    "def setr(rs, A, B, C):\n",
    "    rs[C] = rs[A]\n",
    "def seti(rs, A, B, C):\n",
    "    rs[C] = A\n",
    "def gtir(rs, A, B, C):\n",
    "    if A > rs[B]:\n",
    "        rs[C] = 1\n",
    "    else:\n",
    "        rs[C] = 0\n",
    "def gtri(rs, A, B, C):\n",
    "    if rs[A] > B:\n",
    "        rs[C] = 1\n",
    "    else:\n",
    "        rs[C] = 0\n",
    "def gtrr(rs, A, B, C):\n",
    "    if rs[A] > rs[B]:\n",
    "        rs[C] = 1\n",
    "    else:\n",
    "        rs[C] = 0\n",
    "def eqir(rs, A, B, C):\n",
    "    if A == rs[B]:\n",
    "        rs[C] = 1\n",
    "    else:\n",
    "        rs[C] = 0\n",
    "def eqri(rs, A, B, C):\n",
    "    if rs[A] == B:\n",
    "        rs[C] = 1\n",
    "    else:\n",
    "        rs[C] = 0\n",
    "def eqrr(rs, A, B, C):\n",
    "    if rs[A] == rs[B]:\n",
    "        rs[C] = 1\n",
    "    else:\n",
    "        rs[C] = 0"
   ]
  },
  {
   "cell_type": "code",
   "execution_count": 52,
   "metadata": {},
   "outputs": [
    {
     "name": "stdout",
     "output_type": "stream",
     "text": [
      "651\n"
     ]
    }
   ],
   "source": [
    "def valid(func, before, ops, after):\n",
    "    _, A, B, C = ops\n",
    "    func(before, A, B, C)\n",
    "    return before == after\n",
    "funcs = [addr, addi, mulr, muli, banr, bani, borr, bori,\n",
    "         setr, seti, gtir, gtri, gtrr, eqir, eqri, eqrr]\n",
    "cnt = 0\n",
    "op_num_map = [set(range(16)) for _ in range(16)]\n",
    "with open('inputs/day16.txt', 'r') as f:\n",
    "    lines = f.readlines()\n",
    "    for i in range(0, 3260, 4):\n",
    "        sample = lines[i : i + 4]\n",
    "        before = sample[0].strip()\n",
    "        ops = list(map(int, sample[1].strip().split()))\n",
    "        after = sample[2].strip()\n",
    "        before = eval(before[before.find('[') - 1:])\n",
    "        after = eval(after[after.find('[') - 1:])\n",
    "        if sum(valid(func, before[:], ops, after[:]) for func in funcs) >= 3: # change arguments\n",
    "            cnt += 1\n",
    "        op_num = ops[0]\n",
    "        op_num_map[op_num] = {num for num in op_num_map[op_num] if valid(funcs[num], before[:], ops, after[:])}\n",
    "print(cnt)"
   ]
  },
  {
   "cell_type": "code",
   "execution_count": 53,
   "metadata": {},
   "outputs": [
    {
     "name": "stdout",
     "output_type": "stream",
     "text": [
      "14\n",
      "15\n",
      "13\n",
      "11\n",
      "12\n",
      "10\n",
      "4\n",
      "5\n",
      "8\n",
      "9\n",
      "2\n",
      "3\n",
      "7\n",
      "6\n",
      "0\n",
      "1\n",
      "{11: 14, 10: 15, 7: 13, 15: 11, 13: 12, 4: 10, 2: 4, 3: 5, 5: 8, 8: 9, 14: 2, 1: 3, 0: 7, 12: 6, 6: 0, 9: 1}\n"
     ]
    }
   ],
   "source": [
    "m = {}\n",
    "done = False\n",
    "while not done:\n",
    "    done = True\n",
    "    for i, item in enumerate(op_num_map):\n",
    "        if len(item) == 1:\n",
    "            x = item.pop()\n",
    "            m[i] = x\n",
    "            print(x)\n",
    "            for j in range(len(op_num_map)):\n",
    "                op_num_map[j].discard(x)\n",
    "            done = False\n",
    "            break\n",
    "print(m)"
   ]
  },
  {
   "cell_type": "code",
   "execution_count": 54,
   "metadata": {},
   "outputs": [
    {
     "name": "stdout",
     "output_type": "stream",
     "text": [
      "706\n"
     ]
    }
   ],
   "source": [
    "rs = [0, 0, 0, 0]\n",
    "with open('inputs/day16-part2.txt', 'r') as f:\n",
    "    for line in f:\n",
    "        op, A, B, C = list(map(int, line.strip().split()))\n",
    "        funcs[m[op]](rs, A, B, C)\n",
    "print(rs[0])"
   ]
  },
  {
   "cell_type": "markdown",
   "metadata": {},
   "source": [
    "# Day 17: Reservoir Research"
   ]
  },
  {
   "cell_type": "markdown",
   "metadata": {},
   "source": [
    "# Day 18: Settlers of The North Pole"
   ]
  },
  {
   "cell_type": "code",
   "execution_count": 55,
   "metadata": {},
   "outputs": [],
   "source": [
    "with open('inputs/day18.txt', 'r') as f:\n",
    "    area = [list(line.strip()) for line in f]"
   ]
  },
  {
   "cell_type": "code",
   "execution_count": 56,
   "metadata": {},
   "outputs": [],
   "source": [
    "def neighbors(m, n, i, j):\n",
    "    for di in (-1, 0, 1):\n",
    "        for dj in (-1, 0, 1):\n",
    "            if di == dj == 0:\n",
    "                continue\n",
    "            newi, newj = i + di, j + dj\n",
    "            if 0 <= newi < m and 0 <= newj < n:\n",
    "                yield newi, newj"
   ]
  },
  {
   "cell_type": "code",
   "execution_count": 57,
   "metadata": {},
   "outputs": [],
   "source": [
    "import copy\n",
    "def update_area(area):\n",
    "    m, n = len(area), len(area[0])\n",
    "    ans = copy.deepcopy(area)\n",
    "    for i, row in enumerate(area):\n",
    "        for j, val in enumerate(row):\n",
    "            if val == '.':\n",
    "                new_val = '.'\n",
    "                cnt = 0\n",
    "                for newi, newj in neighbors(m, n, i, j):\n",
    "                    if area[newi][newj] == '|':\n",
    "                        cnt += 1\n",
    "                        if cnt >= 3:\n",
    "                            new_val = '|'\n",
    "                            break\n",
    "            elif val == '|':\n",
    "                new_val = '|'\n",
    "                cnt = 0\n",
    "                for newi, newj in neighbors(m, n, i, j):\n",
    "                    if area[newi][newj] == '#':\n",
    "                        cnt += 1\n",
    "                        if cnt >= 3:\n",
    "                            new_val = '#'\n",
    "                            break\n",
    "            else: # val == '#'\n",
    "                new_val = '.'\n",
    "                adj_tree = False\n",
    "                adj_lumber = False\n",
    "                for newi, newj in neighbors(m, n, i, j):\n",
    "                    if area[newi][newj] == '#':\n",
    "                        adj_lumber = True\n",
    "                    if area[newi][newj] == '|':\n",
    "                        adj_tree = True\n",
    "                    if adj_tree and adj_lumber:\n",
    "                        new_val = '#'\n",
    "                        break\n",
    "            ans[i][j] = new_val\n",
    "    return ans"
   ]
  },
  {
   "cell_type": "code",
   "execution_count": 58,
   "metadata": {},
   "outputs": [
    {
     "name": "stdout",
     "output_type": "stream",
     "text": [
      "536370\n"
     ]
    }
   ],
   "source": [
    "cur_area = copy.deepcopy(area)\n",
    "for _ in range(10):\n",
    "    cur_area = update_area(cur_area)\n",
    "print(sum(ch == '|' for row in cur_area for ch in row)\n",
    "     *sum(ch == '#' for row in cur_area for ch in row))"
   ]
  },
  {
   "cell_type": "code",
   "execution_count": 59,
   "metadata": {},
   "outputs": [],
   "source": [
    "def encode_area(area):\n",
    "    return reduce(operator.add, [''.join(row) for row in area])"
   ]
  },
  {
   "cell_type": "code",
   "execution_count": 60,
   "metadata": {},
   "outputs": [
    {
     "name": "stdout",
     "output_type": "stream",
     "text": [
      "597 repeats 569\n",
      "190512\n"
     ]
    }
   ],
   "source": [
    "cur_area = copy.deepcopy(area)\n",
    "period = None\n",
    "seen = {}\n",
    "for i in range(1000):\n",
    "    code = encode_area(cur_area)\n",
    "    if code in seen:\n",
    "        print('{} repeats {}'.format(i, seen[code]))\n",
    "        cur_idx = i\n",
    "        period = i - seen[code]\n",
    "        break\n",
    "    else:\n",
    "        seen[code] = i\n",
    "    cur_area = update_area(cur_area)\n",
    "# print(period)\n",
    "# print(cur_idx)\n",
    "for j in range((1000000000 - cur_idx) % period):\n",
    "    cur_area = update_area(cur_area)\n",
    "print(sum(ch == '|' for row in cur_area for ch in row)\n",
    "     *sum(ch == '#' for row in cur_area for ch in row))"
   ]
  },
  {
   "cell_type": "markdown",
   "metadata": {},
   "source": [
    "# Day 19: Go With The Flow"
   ]
  },
  {
   "cell_type": "code",
   "execution_count": 48,
   "metadata": {},
   "outputs": [],
   "source": [
    "funcs = dict(addr=addr, addi=addi, mulr=mulr, muli=muli, banr=banr, bani=bani, borr=borr, bori=bori,\n",
    "          setr=setr, seti=seti, gtir=gtir, gtri=gtri, gtrr=gtrr, eqir=eqir, eqri=eqri, eqrr=eqrr)"
   ]
  },
  {
   "cell_type": "code",
   "execution_count": 49,
   "metadata": {},
   "outputs": [
    {
     "name": "stdout",
     "output_type": "stream",
     "text": [
      "[['#ip', 4], ['addi', 4, 16, 4], ['seti', 1, 7, 1], ['seti', 1, 8, 2], ['mulr', 1, 2, 3], ['eqrr', 3, 5, 3], ['addr', 3, 4, 4], ['addi', 4, 1, 4], ['addr', 1, 0, 0], ['addi', 2, 1, 2], ['gtrr', 2, 5, 3], ['addr', 4, 3, 4], ['seti', 2, 1, 4], ['addi', 1, 1, 1], ['gtrr', 1, 5, 3], ['addr', 3, 4, 4], ['seti', 1, 8, 4], ['mulr', 4, 4, 4], ['addi', 5, 2, 5], ['mulr', 5, 5, 5], ['mulr', 4, 5, 5], ['muli', 5, 11, 5], ['addi', 3, 4, 3], ['mulr', 3, 4, 3], ['addi', 3, 21, 3], ['addr', 5, 3, 5], ['addr', 4, 0, 4], ['seti', 0, 5, 4], ['setr', 4, 1, 3], ['mulr', 3, 4, 3], ['addr', 4, 3, 3], ['mulr', 4, 3, 3], ['muli', 3, 14, 3], ['mulr', 3, 4, 3], ['addr', 5, 3, 5], ['seti', 0, 2, 0], ['seti', 0, 0, 4]]\n"
     ]
    }
   ],
   "source": [
    "with open('inputs/day19.txt', 'r') as f:\n",
    "    program = [[int(x) if x.isdigit() else x\n",
    "                for x in line.strip().split()]\n",
    "                for line in f]\n",
    "print(program)"
   ]
  },
  {
   "cell_type": "code",
   "execution_count": 52,
   "metadata": {},
   "outputs": [
    {
     "data": {
      "text/plain": [
       "1920"
      ]
     },
     "execution_count": 52,
     "metadata": {},
     "output_type": "execute_result"
    }
   ],
   "source": [
    "# def eqrr(rs, A, B, C):\n",
    "#     if rs[A] == rs[B]:\n",
    "#         rs[C] = 1\n",
    "#     else:\n",
    "#         rs[C] = 0\n",
    "def run(registers, program, funcs, verbose=False):\n",
    "    assert(program[0][0] == '#ip')\n",
    "    ip = program[0][1]\n",
    "    ins_reg = ip\n",
    "    program = program[1:]\n",
    "    n = len(program)\n",
    "    while 0 <= registers[ip] < n:\n",
    "        op, A, B, C = program[registers[ip]]\n",
    "        funcs[op](registers, A, B, C)\n",
    "        registers[ip] += 1\n",
    "    return registers[0]\n",
    "registers = [0] * 6\n",
    "run(registers, program, funcs, False)"
   ]
  },
  {
   "cell_type": "code",
   "execution_count": null,
   "metadata": {},
   "outputs": [],
   "source": []
  }
 ],
 "metadata": {
  "kernelspec": {
   "display_name": "Python 3",
   "language": "python",
   "name": "python3"
  },
  "language_info": {
   "codemirror_mode": {
    "name": "ipython",
    "version": 3
   },
   "file_extension": ".py",
   "mimetype": "text/x-python",
   "name": "python",
   "nbconvert_exporter": "python",
   "pygments_lexer": "ipython3",
   "version": "3.6.6"
  }
 },
 "nbformat": 4,
 "nbformat_minor": 2
}
