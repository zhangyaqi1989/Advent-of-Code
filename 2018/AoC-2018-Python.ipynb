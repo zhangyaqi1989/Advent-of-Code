{
 "cells": [
  {
   "cell_type": "markdown",
   "metadata": {},
   "source": [
    "# Day 0: Imports and Utility Functions"
   ]
  },
  {
   "cell_type": "code",
   "execution_count": 1,
   "metadata": {},
   "outputs": [],
   "source": [
    "%matplotlib inline\n",
    "import matplotlib.pyplot as plt\n",
    "\n",
    "import os\n",
    "import re\n",
    "import numpy as np\n",
    "import random\n",
    "import string\n",
    "import collections, itertools\n",
    "from collections import Counter, defaultdict, namedtuple, deque, OrderedDict\n",
    "from functools   import lru_cache, reduce\n",
    "from statistics  import mean, median, mode, stdev, variance\n",
    "from itertools   import (permutations, combinations, groupby, cycle, chain, product, zip_longest, takewhile, dropwhile, count as count_from)\n",
    "from heapq       import heappush, heappop, heapify\n",
    "from operator    import iand, ior, ilshift, irshift\n",
    "from bisect      import bisect_left, bisect_right"
   ]
  },
  {
   "cell_type": "markdown",
   "metadata": {},
   "source": [
    "# Day 1: Chronal Calibration"
   ]
  },
  {
   "cell_type": "code",
   "execution_count": 2,
   "metadata": {},
   "outputs": [
    {
     "name": "stdout",
     "output_type": "stream",
     "text": [
      "533\n"
     ]
    }
   ],
   "source": [
    "cnt = 0\n",
    "with open('inputs/day1.txt') as f:\n",
    "    for line in f:\n",
    "        cnt += int(line.strip())\n",
    "print(cnt)"
   ]
  },
  {
   "cell_type": "code",
   "execution_count": 3,
   "metadata": {},
   "outputs": [
    {
     "name": "stdout",
     "output_type": "stream",
     "text": [
      "73272\n"
     ]
    }
   ],
   "source": [
    "cnt = 0\n",
    "visited = {0}\n",
    "with open('inputs/day1.txt') as f:\n",
    "    for line in cycle(f):\n",
    "        cnt += int(line.strip())\n",
    "        if cnt in visited:\n",
    "            print(cnt)\n",
    "            break\n",
    "        else:\n",
    "            visited.add(cnt)"
   ]
  },
  {
   "cell_type": "markdown",
   "metadata": {},
   "source": [
    "# Day 2: Inventory Management System"
   ]
  },
  {
   "cell_type": "code",
   "execution_count": 4,
   "metadata": {},
   "outputs": [
    {
     "name": "stdout",
     "output_type": "stream",
     "text": [
      "fvstwblgqkhpuixdrnevmaycd\n",
      "\n",
      "8715\n"
     ]
    }
   ],
   "source": [
    "twices = threes = 0\n",
    "with open('inputs/day2.txt') as f:\n",
    "    lines = f.readlines()\n",
    "    twices = sum(any(line.count(ch) == 2 for ch in string.ascii_lowercase) for line in lines)\n",
    "    threes = sum(any(line.count(ch) == 3 for ch in string.ascii_lowercase) for line in lines)\n",
    "    pairs = [(line1, line2) for line1, line2 in combinations(lines, 2) if sum(ch1 != ch2 for ch1, ch2 in zip(line1, line2)) == 1]\n",
    "    line1, line2 = pairs[0]\n",
    "    print(''.join([ch1 for ch1, ch2 in zip(line1, line2) if ch1 == ch2]))\n",
    "print(twices * threes)"
   ]
  },
  {
   "cell_type": "markdown",
   "metadata": {},
   "source": [
    "# Day 3: No Matter How You Slice It"
   ]
  },
  {
   "cell_type": "code",
   "execution_count": 5,
   "metadata": {},
   "outputs": [],
   "source": [
    "rects = []\n",
    "with open('inputs/day3.txt') as f:\n",
    "    #1 @ 335,861: 14x10\n",
    "    for line in f:\n",
    "        _, _, a, b = line.split()\n",
    "        left, top = tuple(map(int, a[:-1].split(',')))\n",
    "        w, h = tuple(map(int, b.split('x')))\n",
    "        rects.append((top, left, top + h, left + w))"
   ]
  },
  {
   "cell_type": "code",
   "execution_count": 6,
   "metadata": {},
   "outputs": [
    {
     "name": "stdout",
     "output_type": "stream",
     "text": [
      "(861, 335, 871, 349)\n"
     ]
    }
   ],
   "source": [
    "print(rects[0])"
   ]
  },
  {
   "cell_type": "code",
   "execution_count": 7,
   "metadata": {},
   "outputs": [
    {
     "name": "stdout",
     "output_type": "stream",
     "text": [
      "103806\n"
     ]
    }
   ],
   "source": [
    "counter = Counter()\n",
    "for x1, y1, x2, y2 in rects:\n",
    "    for x in range(x1, x2):\n",
    "        for y in range(y1, y2):\n",
    "            counter[x, y] += 1\n",
    "print(sum(value > 1 for value in counter.values()))"
   ]
  },
  {
   "cell_type": "code",
   "execution_count": 8,
   "metadata": {},
   "outputs": [
    {
     "name": "stdout",
     "output_type": "stream",
     "text": [
      "625\n"
     ]
    }
   ],
   "source": [
    "for i, (a, b, c, d) in enumerate(rects, 1):\n",
    "    for j, (aa, bb, cc, dd) in enumerate(rects, 1):\n",
    "        if i == j: continue\n",
    "        if not (cc <= a or c <= aa or dd <= b or d <= bb):\n",
    "            break\n",
    "    else:\n",
    "        print(i)"
   ]
  },
  {
   "cell_type": "markdown",
   "metadata": {},
   "source": [
    "# Day 4: Repose Record"
   ]
  },
  {
   "cell_type": "code",
   "execution_count": 9,
   "metadata": {},
   "outputs": [],
   "source": [
    "sleeps = defaultdict(Counter) # Guard ID to --> counter\n",
    "GuardID = None \n",
    "low = 0\n",
    "with open('inputs/day4.txt') as f:\n",
    "    for line in sorted(f):\n",
    "        time = line[12:17]\n",
    "        h, m = time.split(':')\n",
    "        h, m = int(h), int(m)\n",
    "        content = line[18:].strip()\n",
    "        if content.startswith('Guard'):\n",
    "            _, GuardID, *_ = content.split()\n",
    "        elif content == 'falls asleep':\n",
    "            low = m\n",
    "        else:\n",
    "            assert(content == 'wakes up')\n",
    "            for i in range(low, m):\n",
    "                sleeps[GuardID][i] += 1"
   ]
  },
  {
   "cell_type": "code",
   "execution_count": 10,
   "metadata": {},
   "outputs": [],
   "source": [
    "name = max(sleeps, key=lambda x : sum(sleeps[x].values()))"
   ]
  },
  {
   "cell_type": "code",
   "execution_count": 11,
   "metadata": {},
   "outputs": [
    {
     "data": {
      "text/plain": [
       "19025"
      ]
     },
     "execution_count": 11,
     "metadata": {},
     "output_type": "execute_result"
    }
   ],
   "source": [
    "max(sleeps[name], key=lambda x : sleeps[name][x]) * int(name[1:])"
   ]
  },
  {
   "cell_type": "code",
   "execution_count": 12,
   "metadata": {},
   "outputs": [],
   "source": [
    "name = max(sleeps, key=lambda x : max(sleeps[x].values()))"
   ]
  },
  {
   "cell_type": "code",
   "execution_count": 13,
   "metadata": {},
   "outputs": [
    {
     "data": {
      "text/plain": [
       "23776"
      ]
     },
     "execution_count": 13,
     "metadata": {},
     "output_type": "execute_result"
    }
   ],
   "source": [
    "int(name[1:]) * max(sleeps[name], key=lambda x : sleeps[name][x])"
   ]
  },
  {
   "cell_type": "markdown",
   "metadata": {},
   "source": [
    "# Day 5: Alchemical Reduction"
   ]
  },
  {
   "cell_type": "code",
   "execution_count": 14,
   "metadata": {},
   "outputs": [],
   "source": [
    "with open('inputs/day5.txt') as f:\n",
    "    line = f.read()\n",
    "dis = abs(ord('a') - ord('A'))"
   ]
  },
  {
   "cell_type": "code",
   "execution_count": 15,
   "metadata": {},
   "outputs": [],
   "source": [
    "# line = \"dabAcCaCBAcCcaDA\"\n",
    "def polymer_reaction(line, remove=''):\n",
    "    line = re.sub('[{}]'.format(remove), '', line)\n",
    "    stack = []\n",
    "    for o in map(ord, line):\n",
    "        if not stack or abs(stack[-1] - o) != dis:\n",
    "            stack.append(o)\n",
    "        else:\n",
    "            stack.pop()\n",
    "    return len(stack)"
   ]
  },
  {
   "cell_type": "code",
   "execution_count": 16,
   "metadata": {},
   "outputs": [
    {
     "name": "stdout",
     "output_type": "stream",
     "text": [
      "5698\n"
     ]
    }
   ],
   "source": [
    "L = len(line)\n",
    "for t in string.ascii_lowercase:\n",
    "    temp = polymer_reaction(line, remove=t+t.upper())\n",
    "    if temp < L:\n",
    "        L = temp\n",
    "print(L)"
   ]
  },
  {
   "cell_type": "markdown",
   "metadata": {},
   "source": [
    "# Day 6: Chronal Coordinates"
   ]
  },
  {
   "cell_type": "code",
   "execution_count": 17,
   "metadata": {},
   "outputs": [
    {
     "data": {
      "text/plain": [
       "3660"
      ]
     },
     "execution_count": 17,
     "metadata": {},
     "output_type": "execute_result"
    }
   ],
   "source": [
    "coords = np.loadtxt('inputs/day6.txt', dtype=np.int64, delimiter=', ')\n",
    "xmin, xmax = coords[:, 0].min(), coords[:, 0].max()\n",
    "ymin, ymax = coords[:, 1].min(), coords[:, 1].max()\n",
    "coords[:, 0] -= xmin\n",
    "coords[:, 1] -= ymin\n",
    "n = xmax - xmin + 1\n",
    "m = ymax - ymin + 1\n",
    "grid = [['.'] * n for _ in range(m)]\n",
    "queue = collections.deque()\n",
    "for idx, (y, x) in enumerate(coords):\n",
    "    grid[x][y] = (idx, 0)\n",
    "    queue.append((x, y, idx, 0))\n",
    "while queue:\n",
    "    size = len(queue)\n",
    "    for _ in range(size):\n",
    "        i, j, root, dis = queue.popleft()\n",
    "        for newi, newj in (i - 1, j), (i + 1, j), (i, j - 1), (i, j + 1):\n",
    "            if 0 <= newi < m and 0 <= newj < n:\n",
    "                if grid[newi][newj] == '.':\n",
    "                    grid[newi][newj] = (root, dis + 1)\n",
    "                    queue.append((newi, newj, root, dis + 1))\n",
    "                else:\n",
    "                    parent, cur_dis = grid[newi][newj]\n",
    "                    if cur_dis == dis + 1 and root != parent:\n",
    "                        grid[newi][newj] = ('#', dis + 1)\n",
    "                    elif cur_dis > dis + 1:\n",
    "                        grid[newi][newj] = (root, dis + 1)\n",
    "                        queue.append((newi, newj, root, dis + 1))\n",
    "def is_valid(i, j, m, n):\n",
    "    return i > 0 and i < m - 1 and j > 0 and j < n - 1\n",
    "counter = defaultdict(list)\n",
    "for i in range(m):\n",
    "    for j in range(n):\n",
    "        root, _ = grid[i][j]\n",
    "        counter[root].append((i, j))\n",
    "max(len(counter[x]) for x in counter if all(is_valid(i, j, m, n) for i, j in counter[x]))"
   ]
  },
  {
   "cell_type": "code",
   "execution_count": 18,
   "metadata": {},
   "outputs": [],
   "source": [
    "coords = np.loadtxt('inputs/day6.txt', dtype=np.int64, delimiter=', ')\n",
    "xmin, xmax = coords[:, 0].min(), coords[:, 0].max()\n",
    "ymin, ymax = coords[:, 1].min(), coords[:, 1].max()\n",
    "coords[:, 0] -= xmin\n",
    "coords[:, 1] -= ymin\n",
    "n = xmax - xmin + 1\n",
    "m = ymax - ymin + 1"
   ]
  },
  {
   "cell_type": "code",
   "execution_count": 19,
   "metadata": {},
   "outputs": [
    {
     "name": "stdout",
     "output_type": "stream",
     "text": [
      "299 299\n"
     ]
    }
   ],
   "source": [
    "print(m, n)"
   ]
  },
  {
   "cell_type": "code",
   "execution_count": 20,
   "metadata": {},
   "outputs": [
    {
     "name": "stdout",
     "output_type": "stream",
     "text": [
      "35928\n"
     ]
    }
   ],
   "source": [
    "cnt = 0\n",
    "for i in range(m):\n",
    "    for j in range(n):\n",
    "        if sum(abs(x - i) + abs(y - j) for x, y in coords) <= 10000:\n",
    "            cnt += 1\n",
    "print(cnt)"
   ]
  },
  {
   "cell_type": "markdown",
   "metadata": {},
   "source": [
    "# Day 7: The Sum of Its Parts"
   ]
  },
  {
   "cell_type": "code",
   "execution_count": 21,
   "metadata": {},
   "outputs": [
    {
     "name": "stdout",
     "output_type": "stream",
     "text": [
      "BETUFNVADWGPLRJOHMXKZQCISY\n"
     ]
    }
   ],
   "source": [
    "sucs = defaultdict(set)\n",
    "pres = defaultdict(set)\n",
    "nodes = set()\n",
    "with open('inputs/day7.txt', 'r') as f:\n",
    "    for line in f:\n",
    "        _, start, *_, end, _, _ = line.split()\n",
    "        nodes.add(start)\n",
    "        nodes.add(end)\n",
    "        sucs[start].add(end)\n",
    "        pres[end].add(start)\n",
    "frees = nodes - pres.keys()\n",
    "pq = list(frees)\n",
    "heapify(pq)\n",
    "ans = ''\n",
    "while pq:\n",
    "    node = heappop(pq)\n",
    "    ans += node\n",
    "    for nei in sucs[node]:\n",
    "        if len(pres[nei]) == 1:\n",
    "            pres.pop(nei)\n",
    "            heappush(pq, nei)\n",
    "        elif len(pres[nei]) > 1:\n",
    "            pres[nei].remove(node)\n",
    "print(ans)"
   ]
  },
  {
   "cell_type": "code",
   "execution_count": 22,
   "metadata": {},
   "outputs": [
    {
     "name": "stdout",
     "output_type": "stream",
     "text": [
      "848\n"
     ]
    }
   ],
   "source": [
    "sucs = defaultdict(set)\n",
    "pres = defaultdict(set)\n",
    "nodes = set()\n",
    "with open('inputs/day7.txt', 'r') as f:\n",
    "    for line in f:\n",
    "        _, start, *_, end, _, _ = line.split()\n",
    "        nodes.add(start)\n",
    "        nodes.add(end)\n",
    "        sucs[start].add(end)\n",
    "        pres[end].add(start)\n",
    "frees = nodes - pres.keys()\n",
    "pq = list(frees)\n",
    "frees = list(frees)\n",
    "heapify(frees)\n",
    "heapify(pq)\n",
    "starts = defaultdict(int)\n",
    "for node in frees:\n",
    "    starts[node] = 0\n",
    "ends = defaultdict(int)\n",
    "works = dict(zip(string.ascii_uppercase, range(61, 87)))\n",
    "# works = dict(zip(string.ascii_uppercase, range(1, 27)))\n",
    "workers = [0] * 5 # 2\n",
    "heapify(workers)\n",
    "ans = ''\n",
    "while pq:\n",
    "    while frees:\n",
    "        node = heappop(frees)\n",
    "        worker_t = heappop(workers)\n",
    "        worker_t = max(worker_t, starts[node])\n",
    "        ends[node] = worker_t + works[node]\n",
    "        heappush(workers, worker_t + works[node])\n",
    "    node = heappop(pq)\n",
    "    ans += node\n",
    "    for nei in sucs[node]:\n",
    "        if len(pres[nei]) == 1:\n",
    "            pres.pop(nei)\n",
    "            heappush(pq, nei)\n",
    "            heappush(frees, nei)\n",
    "            starts[nei] = max(ends[node], starts.get(nei, 0))\n",
    "        elif len(pres[nei]) > 1:\n",
    "            pres[nei].remove(node)\n",
    "            starts[nei] = max(ends[node], starts.get(nei, 0))\n",
    "print(max(ends.values()))"
   ]
  },
  {
   "cell_type": "markdown",
   "metadata": {},
   "source": [
    "# Day 8: Memory Maneuver"
   ]
  },
  {
   "cell_type": "code",
   "execution_count": 23,
   "metadata": {},
   "outputs": [
    {
     "name": "stdout",
     "output_type": "stream",
     "text": [
      "48260\n"
     ]
    }
   ],
   "source": [
    "with open('inputs/day8.txt', 'r') as f:\n",
    "    items = f.read().split()\n",
    "# items = \"2 3 0 3 10 11 12 1 1 0 1 99 2 1 1 2\".split()\n",
    "data = iter(map(int, items))\n",
    "def traverse_tree():\n",
    "    cnt = 0\n",
    "    nchilds = next(data)\n",
    "    nmetas = next(data)\n",
    "    for _ in range(nchilds):\n",
    "        cnt += traverse_tree()\n",
    "    for _ in range(nmetas):\n",
    "        cnt += next(data)\n",
    "    return cnt\n",
    "print(traverse_tree())    "
   ]
  },
  {
   "cell_type": "code",
   "execution_count": 24,
   "metadata": {},
   "outputs": [
    {
     "name": "stdout",
     "output_type": "stream",
     "text": [
      "25981\n"
     ]
    }
   ],
   "source": [
    "with open('inputs/day8.txt', 'r') as f:\n",
    "    items = f.read().split()\n",
    "# items = \"2 3 0 3 10 11 12 1 1 0 1 99 2 1 1 2\".split()\n",
    "data = iter(map(int, items))\n",
    "def traverse_tree_new():\n",
    "    cnt = 0\n",
    "    nchilds = next(data)\n",
    "    nmetas = next(data)\n",
    "    children = []\n",
    "    for _ in range(nchilds):\n",
    "        children.append(traverse_tree_new())\n",
    "    metas = []\n",
    "    for _ in range(nmetas):\n",
    "        temp = next(data)\n",
    "        metas.append(temp)\n",
    "        cnt += temp\n",
    "    if nchilds == 0:\n",
    "        return cnt\n",
    "    else:\n",
    "        cnt = 0\n",
    "        for idx in metas:\n",
    "            if 0 <= idx - 1 < nchilds:\n",
    "                cnt += children[idx - 1]\n",
    "        return cnt\n",
    "print(traverse_tree_new())   "
   ]
  },
  {
   "cell_type": "markdown",
   "metadata": {},
   "source": [
    "# Day 9: Marble Mania\n",
    "476 players; last marble is worth 71431 points"
   ]
  },
  {
   "cell_type": "code",
   "execution_count": 25,
   "metadata": {},
   "outputs": [
    {
     "name": "stdout",
     "output_type": "stream",
     "text": [
      "384205\n"
     ]
    }
   ],
   "source": [
    "n, m = 476, 71431\n",
    "players = [[0] for _ in range(n)]\n",
    "lst = [0]\n",
    "cur = 0\n",
    "for idx, player in enumerate(cycle(players), 1):\n",
    "    if idx % 23 != 0:\n",
    "        place = (cur + 1) % len(lst) + 1\n",
    "        lst.insert(place, idx)\n",
    "        cur = place\n",
    "    else:\n",
    "        player[0] += idx\n",
    "        cur -= 7\n",
    "        if cur < 0:\n",
    "            cur += len(lst)\n",
    "        player[0] += lst[cur]\n",
    "        old_cur = cur\n",
    "        if old_cur + 1 == len(lst):\n",
    "            cur = 0\n",
    "        else:\n",
    "            cur = old_cur\n",
    "        del lst[old_cur]\n",
    "    if idx == m:\n",
    "        break\n",
    "print(max(item[0] for item in players))"
   ]
  },
  {
   "cell_type": "code",
   "execution_count": 26,
   "metadata": {},
   "outputs": [
    {
     "name": "stdout",
     "output_type": "stream",
     "text": [
      "3066307353\n"
     ]
    }
   ],
   "source": [
    "class Node:\n",
    "    def __init__(self, val, prev=None, nxt=None):\n",
    "        self.val = val\n",
    "        self.prev = prev\n",
    "        self.next = nxt\n",
    "n, m = 476, 71431 * 100\n",
    "players = [[0] for _ in range(n)]\n",
    "node = Node(0)\n",
    "node.prev = node\n",
    "node.next = node\n",
    "root = node\n",
    "cur = node\n",
    "for idx, player in enumerate(cycle(players), 1):\n",
    "    if idx % 23 != 0:\n",
    "        cur = cur.next\n",
    "        node = Node(idx)\n",
    "        node.next = cur.next\n",
    "        node.prev = cur\n",
    "        cur.next = node\n",
    "        node.next.prev = node\n",
    "        cur = node\n",
    "    else:\n",
    "        player[0] += idx\n",
    "        for _ in range(6):\n",
    "            cur = cur.prev\n",
    "        player[0] += cur.prev.val\n",
    "        cur.prev = cur.prev.prev\n",
    "        cur.prev.next = cur\n",
    "    if idx == m:\n",
    "        break\n",
    "print(max(item[0] for item in players))\n",
    "# while True:\n",
    "#     print(root.val, end=' ')\n",
    "#     root = root.next\n",
    "#     if root.val == 0:\n",
    "#         break"
   ]
  },
  {
   "cell_type": "markdown",
   "metadata": {},
   "source": [
    "# Day 10: The Stars Align"
   ]
  },
  {
   "cell_type": "code",
   "execution_count": 27,
   "metadata": {},
   "outputs": [],
   "source": [
    "points, vs = [], []\n",
    "with open('inputs/day10.txt', 'r') as f:\n",
    "    for line in f:\n",
    "        line = line.strip()\n",
    "        x, y = re.split(',\\s+', line[line.index('<') + 1: line.index('>')])\n",
    "        vx, vy = re.split(',\\s+', line[line.rindex('<') + 1:-1])\n",
    "        points.append([int(x), int(y)])\n",
    "        vs.append([int(vx), int(vy)])"
   ]
  },
  {
   "cell_type": "code",
   "execution_count": 28,
   "metadata": {},
   "outputs": [],
   "source": [
    "def compute_box(points):\n",
    "    xmin = points[:, 0].min()\n",
    "    xmax = points[:, 0].max()\n",
    "    ymin = points[:, 1].min()\n",
    "    ymax = points[:, 1].max()\n",
    "    return ymax - ymin + xmax - xmin\n",
    "points = np.array(points)\n",
    "points_copy = points.copy()\n",
    "vs = np.array(vs)\n",
    "min_box = compute_box(points) \n",
    "step = 0\n",
    "for i in range(1, 40000):\n",
    "    points += vs\n",
    "    b = compute_box(points)\n",
    "    if b < min_box:\n",
    "        min_box = b\n",
    "        step = i"
   ]
  },
  {
   "cell_type": "code",
   "execution_count": 29,
   "metadata": {},
   "outputs": [
    {
     "data": {
      "text/plain": [
       "10577"
      ]
     },
     "execution_count": 29,
     "metadata": {},
     "output_type": "execute_result"
    }
   ],
   "source": [
    "step"
   ]
  },
  {
   "cell_type": "code",
   "execution_count": 30,
   "metadata": {},
   "outputs": [],
   "source": [
    "points_copy += step * vs"
   ]
  },
  {
   "cell_type": "code",
   "execution_count": 31,
   "metadata": {},
   "outputs": [
    {
     "data": {
      "text/plain": [
       "[<matplotlib.lines.Line2D at 0x217ed29f908>]"
      ]
     },
     "execution_count": 31,
     "metadata": {},
     "output_type": "execute_result"
    },
    {
     "data": {
      "image/png": "[encoded data removed]",
      "text/plain": [
       "<Figure size 1800x720 with 1 Axes>"
      ]
     },
     "metadata": {
      "needs_background": "light"
     },
     "output_type": "display_data"
    }
   ],
   "source": [
    "plt.figure(figsize=(25, 10))\n",
    "plt.plot(points_copy[:, 0], 200 - points_copy[:, 1], 'r*')"
   ]
  },
  {
   "cell_type": "markdown",
   "metadata": {},
   "source": [
    "# Day 11: Chronal Charge"
   ]
  },
  {
   "cell_type": "code",
   "execution_count": 32,
   "metadata": {},
   "outputs": [],
   "source": [
    "def fuel_power(x, y, serial=7672):\n",
    "    rack = x + 10\n",
    "    power = rack * y + serial\n",
    "    power *= rack\n",
    "    ten = (power // 100) % 10\n",
    "    return ten - 5\n",
    "assert(fuel_power(122, 79, 57) == -5)\n",
    "assert(fuel_power(217, 196, 39) == 0)\n",
    "assert(fuel_power(101, 153, 71) == 4)"
   ]
  },
  {
   "cell_type": "code",
   "execution_count": 33,
   "metadata": {},
   "outputs": [],
   "source": [
    "from itertools import accumulate"
   ]
  },
  {
   "cell_type": "code",
   "execution_count": 34,
   "metadata": {},
   "outputs": [],
   "source": [
    "grid = np.zeros((300, 300), dtype=np.int64)"
   ]
  },
  {
   "cell_type": "code",
   "execution_count": 35,
   "metadata": {},
   "outputs": [],
   "source": [
    "for x in range(1, 301):\n",
    "    for y in range(1, 301):\n",
    "        grid[y-1, x-1] = fuel_power(x, y, serial=7672)\n",
    "acc = np.zeros((301, 301), dtype=np.int64)\n",
    "for i in range(1, 301):\n",
    "    for j in range(1, 301):\n",
    "        acc[i, j] = grid[i - 1, j - 1] + acc[i - 1, j] + acc[i, j - 1] - acc[i - 1, j - 1]\n"
   ]
  },
  {
   "cell_type": "code",
   "execution_count": 36,
   "metadata": {},
   "outputs": [],
   "source": [
    "def compute_power(x, y, size):\n",
    "    # x, y to x + size - 1, y + size - 1\n",
    "    return acc[x + size, y + size] + acc[x, y] - acc[x, y + size] - acc[x + size, y]"
   ]
  },
  {
   "cell_type": "code",
   "execution_count": 37,
   "metadata": {},
   "outputs": [
    {
     "name": "stdout",
     "output_type": "stream",
     "text": [
      "22 18\n"
     ]
    }
   ],
   "source": [
    "# y, x = max([(x, y) for x in range(300 - 2) for y in range(300 - 2)], key=lambda point: sum(grid[point[0] + i, point[1] + j] for i in range(3) for j in range(3)))\n",
    "# y, x = max([(x, y) for x in range(300 - 2) for y in range(300 - 2)], key=lambda point: grid[point[0]:point[0] + 3, point[1]:point[1] + 3].sum())\n",
    "# print(x + 1, y + 1)\n",
    "size = 3\n",
    "y, x = max(((x, y) for x in range(300 - size + 1)\n",
    "                  for y in range(300 - size + 1)),\n",
    "                  key=lambda point:compute_power(*point, size))\n",
    "print(x + 1, y + 1)"
   ]
  },
  {
   "cell_type": "code",
   "execution_count": 38,
   "metadata": {},
   "outputs": [
    {
     "name": "stdout",
     "output_type": "stream",
     "text": [
      "234 197 14\n"
     ]
    }
   ],
   "source": [
    "max_power = float('-inf')\n",
    "rx, ry, rsize = None, None, None\n",
    "for size in range(1, 301):\n",
    "    powers = [(compute_power(x, y, size), (x, y)) \n",
    "              for x in range(300 - size + 1) \n",
    "              for y in range(300 - size + 1)]\n",
    "    power, (x, y) = max(powers)\n",
    "    if power > max_power:\n",
    "        rx = y + 1\n",
    "        ry = x + 1\n",
    "        rsize = size\n",
    "        max_power = power\n",
    "print(rx, ry, rsize)"
   ]
  },
  {
   "cell_type": "markdown",
   "metadata": {},
   "source": [
    "# Day 12: Subterranean Sustainability"
   ]
  },
  {
   "cell_type": "code",
   "execution_count": 39,
   "metadata": {},
   "outputs": [],
   "source": [
    "with open('inputs/day12.txt', 'r') as f:\n",
    "    lines = f.readlines()\n",
    "state = lines[0][len(\"initial state: \"):].strip()\n",
    "positions = {i for i, ch in enumerate(state) if ch == '#'}\n",
    "rules = set()\n",
    "for line in lines[2:]:\n",
    "    a, b = line.strip().split(' => ')\n",
    "    if b == '#':\n",
    "        rules.add(tuple(a))\n",
    "positions_back = positions.copy()"
   ]
  },
  {
   "cell_type": "code",
   "execution_count": 40,
   "metadata": {},
   "outputs": [],
   "source": [
    "def next_gen(rules, positions):\n",
    "    start, end = min(positions), max(positions)\n",
    "    ans = set()\n",
    "    for i in range(start - 3, end + 4):\n",
    "        five = tuple('#' if (i + di) in positions else '.' for di in range(-2, 3))\n",
    "        if five in rules:\n",
    "            ans.add(i)\n",
    "    return ans"
   ]
  },
  {
   "cell_type": "code",
   "execution_count": 41,
   "metadata": {},
   "outputs": [
    {
     "name": "stdout",
     "output_type": "stream",
     "text": [
      "3120\n"
     ]
    }
   ],
   "source": [
    "for _ in range(20):\n",
    "    positions = next_gen(rules,positions)\n",
    "print(sum(positions))"
   ]
  },
  {
   "cell_type": "code",
   "execution_count": 42,
   "metadata": {},
   "outputs": [
    {
     "name": "stdout",
     "output_type": "stream",
     "text": [
      "1: -359 2166\n",
      "2: 128 2294\n",
      "3: 12 2306\n",
      "4: 403 2709\n",
      "5: 218 2927\n",
      "6: -340 2587\n",
      "7: 144 2731\n",
      "8: -42 2689\n",
      "9: -80 2609\n",
      "10: 187 2796\n",
      "11: 144 2940\n",
      "12: 174 3114\n",
      "13: -113 3001\n",
      "14: -34 2967\n",
      "15: 414 3381\n",
      "16: -341 3040\n",
      "17: 379 3419\n",
      "18: -414 3005\n",
      "19: 440 3445\n",
      "20: -325 3120\n",
      "21: 311 3431\n",
      "22: -343 3088\n",
      "23: 854 3942\n",
      "24: -764 3178\n",
      "25: 459 3637\n",
      "26: -385 3252\n",
      "27: 935 4187\n",
      "28: -821 3366\n",
      "29: 361 3727\n",
      "30: -293 3434\n",
      "31: 980 4414\n",
      "32: -944 3470\n",
      "33: 439 3909\n",
      "34: -258 3651\n",
      "35: 896 4547\n",
      "36: -725 3822\n",
      "37: 274 4096\n",
      "38: -143 3953\n",
      "39: 545 4498\n",
      "40: -234 4264\n",
      "41: 31 4295\n",
      "42: -174 4121\n",
      "43: 573 4694\n",
      "44: -493 4201\n",
      "45: 331 4532\n",
      "46: -190 4342\n",
      "47: 408 4750\n",
      "48: -179 4571\n",
      "49: 99 4670\n",
      "50: -113 4557\n",
      "51: 703 5260\n",
      "52: -713 4547\n",
      "53: 431 4978\n",
      "54: -329 4649\n",
      "55: 535 5184\n",
      "56: -279 4905\n",
      "57: 87 4992\n",
      "58: -49 4943\n",
      "59: 681 5624\n",
      "60: -652 4972\n",
      "61: 384 5356\n",
      "62: -280 5076\n",
      "63: 486 5562\n",
      "64: -228 5334\n",
      "65: 133 5467\n",
      "66: 30 5497\n",
      "67: 454 5951\n",
      "68: -414 5537\n",
      "69: 336 5873\n",
      "70: -226 5647\n",
      "71: 397 6044\n",
      "72: -214 5830\n",
      "73: 181 6011\n",
      "74: -137 5874\n",
      "75: 518 6392\n",
      "76: -430 5962\n",
      "77: 275 6237\n",
      "78: -166 6071\n",
      "79: 385 6456\n",
      "80: -160 6296\n",
      "81: 85 6381\n",
      "82: -40 6341\n",
      "83: 469 6810\n",
      "84: -373 6437\n",
      "85: 224 6661\n",
      "86: -113 6548\n",
      "87: 338 6886\n",
      "88: -109 6777\n",
      "89: 38 6815\n",
      "90: 11 6826\n",
      "91: 418 7244\n",
      "92: -314 6930\n",
      "93: 171 7101\n",
      "94: -58 7043\n",
      "95: 289 7332\n",
      "96: -56 7276\n",
      "97: -11 7265\n",
      "98: 64 7329\n",
      "99: 365 7694\n",
      "100: -253 7441\n",
      "101: 116 7557\n",
      "102: 59 7616\n",
      "103: 59 7675\n",
      "104: 59 7734\n",
      "105: 59 7793\n",
      "106: 59 7852\n",
      "107: 59 7911\n",
      "108: 59 7970\n",
      "109: 59 8029\n",
      "110: 59 8088\n",
      "111: 59 8147\n",
      "112: 59 8206\n",
      "113: 59 8265\n",
      "114: 59 8324\n",
      "115: 59 8383\n",
      "116: 59 8442\n",
      "117: 59 8501\n",
      "118: 59 8560\n",
      "119: 59 8619\n",
      "120: 59 8678\n",
      "121: 59 8737\n",
      "122: 59 8796\n",
      "123: 59 8855\n",
      "124: 59 8914\n",
      "125: 59 8973\n",
      "126: 59 9032\n",
      "127: 59 9091\n",
      "128: 59 9150\n",
      "129: 59 9209\n",
      "130: 59 9268\n",
      "131: 59 9327\n",
      "132: 59 9386\n",
      "133: 59 9445\n",
      "134: 59 9504\n",
      "135: 59 9563\n",
      "136: 59 9622\n",
      "137: 59 9681\n",
      "138: 59 9740\n",
      "139: 59 9799\n",
      "140: 59 9858\n",
      "141: 59 9917\n",
      "142: 59 9976\n",
      "143: 59 10035\n",
      "144: 59 10094\n",
      "145: 59 10153\n",
      "146: 59 10212\n",
      "147: 59 10271\n",
      "148: 59 10330\n",
      "149: 59 10389\n",
      "150: 59 10448\n",
      "151: 59 10507\n",
      "152: 59 10566\n",
      "153: 59 10625\n",
      "154: 59 10684\n",
      "155: 59 10743\n",
      "156: 59 10802\n",
      "157: 59 10861\n",
      "158: 59 10920\n",
      "159: 59 10979\n",
      "160: 59 11038\n",
      "161: 59 11097\n",
      "162: 59 11156\n",
      "163: 59 11215\n",
      "164: 59 11274\n",
      "165: 59 11333\n",
      "166: 59 11392\n",
      "167: 59 11451\n",
      "168: 59 11510\n",
      "169: 59 11569\n",
      "170: 59 11628\n",
      "171: 59 11687\n",
      "172: 59 11746\n",
      "173: 59 11805\n",
      "174: 59 11864\n",
      "175: 59 11923\n",
      "176: 59 11982\n",
      "177: 59 12041\n",
      "178: 59 12100\n",
      "179: 59 12159\n",
      "180: 59 12218\n",
      "181: 59 12277\n",
      "182: 59 12336\n",
      "183: 59 12395\n",
      "184: 59 12454\n",
      "185: 59 12513\n",
      "186: 59 12572\n",
      "187: 59 12631\n",
      "188: 59 12690\n",
      "189: 59 12749\n",
      "190: 59 12808\n",
      "191: 59 12867\n",
      "192: 59 12926\n",
      "193: 59 12985\n",
      "194: 59 13044\n",
      "195: 59 13103\n",
      "196: 59 13162\n",
      "197: 59 13221\n",
      "198: 59 13280\n",
      "199: 59 13339\n",
      "200: 59 13398\n",
      "201: 59 13457\n",
      "202: 59 13516\n",
      "203: 59 13575\n",
      "204: 59 13634\n",
      "205: 59 13693\n",
      "206: 59 13752\n",
      "207: 59 13811\n",
      "208: 59 13870\n",
      "209: 59 13929\n",
      "210: 59 13988\n",
      "211: 59 14047\n",
      "212: 59 14106\n",
      "213: 59 14165\n",
      "214: 59 14224\n",
      "215: 59 14283\n",
      "216: 59 14342\n",
      "217: 59 14401\n",
      "218: 59 14460\n",
      "219: 59 14519\n",
      "220: 59 14578\n",
      "221: 59 14637\n",
      "222: 59 14696\n",
      "223: 59 14755\n",
      "224: 59 14814\n",
      "225: 59 14873\n",
      "226: 59 14932\n",
      "227: 59 14991\n",
      "228: 59 15050\n",
      "229: 59 15109\n",
      "230: 59 15168\n",
      "231: 59 15227\n",
      "232: 59 15286\n",
      "233: 59 15345\n",
      "234: 59 15404\n",
      "235: 59 15463\n",
      "236: 59 15522\n",
      "237: 59 15581\n",
      "238: 59 15640\n",
      "239: 59 15699\n",
      "240: 59 15758\n",
      "241: 59 15817\n",
      "242: 59 15876\n",
      "243: 59 15935\n",
      "244: 59 15994\n",
      "245: 59 16053\n",
      "246: 59 16112\n",
      "247: 59 16171\n",
      "248: 59 16230\n",
      "249: 59 16289\n",
      "250: 59 16348\n",
      "251: 59 16407\n",
      "252: 59 16466\n",
      "253: 59 16525\n",
      "254: 59 16584\n",
      "255: 59 16643\n",
      "256: 59 16702\n",
      "257: 59 16761\n",
      "258: 59 16820\n",
      "259: 59 16879\n",
      "260: 59 16938\n",
      "261: 59 16997\n",
      "262: 59 17056\n",
      "263: 59 17115\n",
      "264: 59 17174\n",
      "265: 59 17233\n",
      "266: 59 17292\n",
      "267: 59 17351\n",
      "268: 59 17410\n",
      "269: 59 17469\n",
      "270: 59 17528\n",
      "271: 59 17587\n",
      "272: 59 17646\n",
      "273: 59 17705\n",
      "274: 59 17764\n",
      "275: 59 17823\n",
      "276: 59 17882\n",
      "277: 59 17941\n",
      "278: 59 18000\n",
      "279: 59 18059\n",
      "280: 59 18118\n",
      "281: 59 18177\n",
      "282: 59 18236\n",
      "283: 59 18295\n",
      "284: 59 18354\n",
      "285: 59 18413\n",
      "286: 59 18472\n",
      "287: 59 18531\n",
      "288: 59 18590\n",
      "289: 59 18649\n",
      "290: 59 18708\n",
      "291: 59 18767\n",
      "292: 59 18826\n",
      "293: 59 18885\n",
      "294: 59 18944\n",
      "295: 59 19003\n",
      "296: 59 19062\n",
      "297: 59 19121\n",
      "298: 59 19180\n",
      "299: 59 19239\n",
      "300: 59 19298\n",
      "301: 59 19357\n",
      "302: 59 19416\n",
      "303: 59 19475\n",
      "304: 59 19534\n",
      "305: 59 19593\n",
      "306: 59 19652\n",
      "307: 59 19711\n",
      "308: 59 19770\n",
      "309: 59 19829\n",
      "310: 59 19888\n",
      "311: 59 19947\n",
      "312: 59 20006\n",
      "313: 59 20065\n",
      "314: 59 20124\n",
      "315: 59 20183\n",
      "316: 59 20242\n",
      "317: 59 20301\n",
      "318: 59 20360\n",
      "319: 59 20419\n",
      "320: 59 20478\n",
      "321: 59 20537\n",
      "322: 59 20596\n",
      "323: 59 20655\n",
      "324: 59 20714\n",
      "325: 59 20773\n",
      "326: 59 20832\n",
      "327: 59 20891\n",
      "328: 59 20950\n",
      "329: 59 21009\n",
      "330: 59 21068\n",
      "331: 59 21127\n",
      "332: 59 21186\n",
      "333: 59 21245\n",
      "334: 59 21304\n",
      "335: 59 21363\n",
      "336: 59 21422\n",
      "337: 59 21481\n",
      "338: 59 21540\n",
      "339: 59 21599\n",
      "340: 59 21658\n",
      "341: 59 21717\n",
      "342: 59 21776\n",
      "343: 59 21835\n",
      "344: 59 21894\n",
      "345: 59 21953\n",
      "346: 59 22012\n",
      "347: 59 22071\n",
      "348: 59 22130\n",
      "349: 59 22189\n",
      "350: 59 22248\n",
      "351: 59 22307\n",
      "352: 59 22366\n",
      "353: 59 22425\n",
      "354: 59 22484\n",
      "355: 59 22543\n",
      "356: 59 22602\n",
      "357: 59 22661\n",
      "358: 59 22720\n",
      "359: 59 22779\n",
      "360: 59 22838\n",
      "361: 59 22897\n",
      "362: 59 22956\n",
      "363: 59 23015\n",
      "364: 59 23074\n",
      "365: 59 23133\n",
      "366: 59 23192\n",
      "367: 59 23251\n",
      "368: 59 23310\n",
      "369: 59 23369\n",
      "370: 59 23428\n",
      "371: 59 23487\n",
      "372: 59 23546\n",
      "373: 59 23605\n",
      "374: 59 23664\n",
      "375: 59 23723\n",
      "376: 59 23782\n",
      "377: 59 23841\n",
      "378: 59 23900\n",
      "379: 59 23959\n",
      "380: 59 24018\n",
      "381: 59 24077\n",
      "382: 59 24136\n",
      "383: 59 24195\n",
      "384: 59 24254\n",
      "385: 59 24313\n",
      "386: 59 24372\n",
      "387: 59 24431\n",
      "388: 59 24490\n",
      "389: 59 24549\n",
      "390: 59 24608\n",
      "391: 59 24667\n",
      "392: 59 24726\n",
      "393: 59 24785\n",
      "394: 59 24844\n",
      "395: 59 24903\n",
      "396: 59 24962\n",
      "397: 59 25021\n",
      "398: 59 25080\n",
      "399: 59 25139\n",
      "400: 59 25198\n"
     ]
    }
   ],
   "source": [
    "positions = positions_back.copy()\n",
    "i = 0\n",
    "while i < 400:\n",
    "    i += 1\n",
    "    pre = sum(positions)\n",
    "    positions = next_gen(rules, positions)\n",
    "    print(\"{}: {} {}\".format(i, sum(positions) - pre, sum(positions)))"
   ]
  },
  {
   "cell_type": "code",
   "execution_count": 43,
   "metadata": {},
   "outputs": [
    {
     "name": "stdout",
     "output_type": "stream",
     "text": [
      "2950000001598\n"
     ]
    }
   ],
   "source": [
    "print((50_000_000_000 - 101) * 59 + 7557)"
   ]
  },
  {
   "cell_type": "markdown",
   "metadata": {},
   "source": [
    "# Day 13: Mine Cart Madness"
   ]
  },
  {
   "cell_type": "code",
   "execution_count": 11,
   "metadata": {},
   "outputs": [],
   "source": [
    "with open('inputs/day13.txt', 'r') as f:\n",
    "    lines = [line.rstrip('\\n') for line in f]"
   ]
  },
  {
   "cell_type": "code",
   "execution_count": 12,
   "metadata": {},
   "outputs": [],
   "source": [
    "graph = {}\n",
    "carts = {}\n",
    "lens = []\n",
    "d = {'>' : '-', '<' : '-', '^' : '|', 'v' : '|'}\n",
    "for i, line in enumerate(lines):\n",
    "    lens.append(len(line))\n",
    "    for j, ch in enumerate(line):\n",
    "        graph[i, j] = ch\n",
    "        if ch in ('^', 'v', '>', '<'):\n",
    "            carts[i, j] = [ch, 0]"
   ]
  },
  {
   "cell_type": "code",
   "execution_count": 13,
   "metadata": {},
   "outputs": [
    {
     "name": "stdout",
     "output_type": "stream",
     "text": [
      "36 136\n"
     ]
    }
   ],
   "source": [
    "dirs = {'>' : (0, 1), '<' : (0, -1), '^' : (-1, 0), 'v' : (1, 0)}\n",
    "# also need to think about update ...\n",
    "# 0, 1, 2 means left, straight, right\n",
    "lefts = {'>' : '^', '<' : 'v', '^' : '<', 'v' : '>'}\n",
    "straights = {'>' : '>', '<' : '<', '^' : '^', 'v' : 'v'}\n",
    "rights = {'>' : 'v', '<' : '^', '^' : '>', 'v' : '<'}\n",
    "turns = [lefts, straights, rights]\n",
    "# corners\n",
    "corners = {'/' : {'^' : '>', '<' : 'v', '>' : '^', 'v' : '<'},\n",
    "           '\\\\' : {'>' : 'v', '^' : '<', 'v' : '>', '<' : '^'},\n",
    "          }\n",
    "while True:\n",
    "    temp = {}\n",
    "    positions = set(carts.keys())\n",
    "    done = False\n",
    "    for i, j in sorted(carts):\n",
    "        positions.remove((i, j))\n",
    "        ch, t = carts[i, j]\n",
    "        if graph[i, j] == '+':\n",
    "            ch = turns[t][ch]\n",
    "            t += 1\n",
    "            if t == 3:\n",
    "                t = 0\n",
    "        di, dj = dirs[ch]\n",
    "        newi, newj = i + di, j + dj\n",
    "        if (newi, newj) in positions:\n",
    "            print(newi, newj)\n",
    "            done = True\n",
    "            break\n",
    "        if graph[newi, newj] in ('/', '\\\\'):\n",
    "            ch = corners[graph[newi, newj]][ch]\n",
    "        temp[newi, newj] = [ch, t]\n",
    "        positions.add((newi, newj))\n",
    "    if done:\n",
    "        break\n",
    "    carts = temp"
   ]
  },
  {
   "cell_type": "code",
   "execution_count": 16,
   "metadata": {},
   "outputs": [
    {
     "name": "stdout",
     "output_type": "stream",
     "text": [
      "{(111, 53): ['^', 2]}\n"
     ]
    }
   ],
   "source": [
    "graph = {}\n",
    "carts = {}\n",
    "lens = []\n",
    "d = {'>' : '-', '<' : '-', '^' : '|', 'v' : '|'}\n",
    "for i, line in enumerate(lines):\n",
    "    lens.append(len(line))\n",
    "    for j, ch in enumerate(line):\n",
    "        graph[i, j] = ch\n",
    "        if ch in ('^', 'v', '>', '<'):\n",
    "            carts[i, j] = [ch, 0]\n",
    "while True:\n",
    "    temp = {}\n",
    "    if len(carts) == 1:\n",
    "        print(carts)\n",
    "        break\n",
    "    positions = set(carts.keys())\n",
    "    removed = set()\n",
    "    for i, j in sorted(carts):\n",
    "        if (i, j) in removed:\n",
    "            continue\n",
    "        positions.remove((i, j))\n",
    "        ch, t = carts[i, j]\n",
    "        if graph[i, j] == '+':\n",
    "            ch = turns[t][ch]\n",
    "            t += 1\n",
    "            if t == 3:\n",
    "                t = 0\n",
    "        di, dj = dirs[ch]\n",
    "        newi, newj = i + di, j + dj\n",
    "        if (newi, newj) in positions:\n",
    "            removed.add((newi, newj))\n",
    "#             print(newi, newj)\n",
    "            continue\n",
    "        if graph[newi, newj] in ('/', '\\\\'):\n",
    "            ch = corners[graph[newi, newj]][ch]\n",
    "        temp[newi, newj] = [ch, t]\n",
    "        positions.add((newi, newj))\n",
    "    carts = temp\n",
    "    for item in removed:\n",
    "        if item in carts:\n",
    "            del carts[item]"
   ]
  },
  {
   "cell_type": "code",
   "execution_count": null,
   "metadata": {},
   "outputs": [],
   "source": []
  }
 ],
 "metadata": {
  "kernelspec": {
   "display_name": "Python 3",
   "language": "python",
   "name": "python3"
  },
  "language_info": {
   "codemirror_mode": {
    "name": "ipython",
    "version": 3
   },
   "file_extension": ".py",
   "mimetype": "text/x-python",
   "name": "python",
   "nbconvert_exporter": "python",
   "pygments_lexer": "ipython3",
   "version": "3.7.0"
  }
 },
 "nbformat": 4,
 "nbformat_minor": 2
}
