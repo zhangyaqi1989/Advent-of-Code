{
 "cells": [
  {
   "cell_type": "code",
   "execution_count": 1,
   "metadata": {},
   "outputs": [],
   "source": [
    "using Plots"
   ]
  },
  {
   "cell_type": "markdown",
   "metadata": {},
   "source": [
    "# Day 1: Chronal Calibration"
   ]
  },
  {
   "cell_type": "code",
   "execution_count": 2,
   "metadata": {},
   "outputs": [
    {
     "data": {
      "text/plain": [
       "533"
      ]
     },
     "execution_count": 2,
     "metadata": {},
     "output_type": "execute_result"
    }
   ],
   "source": [
    "open(\"inputs/day1.txt\") do f\n",
    "    cnt = 0\n",
    "    for line in eachline(f)\n",
    "        cnt += parse(Int64, line)\n",
    "    end\n",
    "    cnt\n",
    "end"
   ]
  },
  {
   "cell_type": "code",
   "execution_count": 3,
   "metadata": {},
   "outputs": [
    {
     "name": "stdout",
     "output_type": "stream",
     "text": [
      "73272\n"
     ]
    }
   ],
   "source": [
    "open(\"inputs/day1.txt\") do f\n",
    "    visited = Set()\n",
    "    cnt = 0\n",
    "    line = read(f, String)\n",
    "    nums = parse.(Int64, split(line, '\\n'))\n",
    "    for num in Iterators.cycle(nums)\n",
    "        cnt += num\n",
    "        if cnt in visited\n",
    "            println(cnt)\n",
    "            break\n",
    "        else\n",
    "            push!(visited, cnt)\n",
    "        end\n",
    "    end\n",
    "end"
   ]
  },
  {
   "cell_type": "markdown",
   "metadata": {},
   "source": [
    "# Day 9: Marble Mania"
   ]
  },
  {
   "cell_type": "code",
   "execution_count": 4,
   "metadata": {},
   "outputs": [
    {
     "name": "stdout",
     "output_type": "stream",
     "text": [
      "384205\n"
     ]
    }
   ],
   "source": [
    "n, m = 476, 71431\n",
    "players = zeros(Int64, n)\n",
    "pidx = 0\n",
    "cur = 1\n",
    "lst = [0]\n",
    "idx = 1\n",
    "while idx <= m\n",
    "    if idx % 23 != 0\n",
    "        place = (cur == length(lst) ? 1 : cur + 1) + 1\n",
    "        insert!(lst, place, idx)\n",
    "        cur = place\n",
    "    else\n",
    "        players[pidx] += idx\n",
    "        cur -= 7\n",
    "        if cur < 1\n",
    "            cur += length(lst)\n",
    "        end\n",
    "        players[pidx] += lst[cur]\n",
    "        old_cur = cur\n",
    "        if old_cur + 1 > length(lst)\n",
    "            cur = 1\n",
    "        else\n",
    "            cur = old_cur\n",
    "        end\n",
    "        deleteat!(lst, old_cur)\n",
    "    end\n",
    "    pidx += 1\n",
    "    if pidx > n\n",
    "        pidx = 1\n",
    "    end\n",
    "    idx += 1\n",
    "end\n",
    "println(maximum(players))"
   ]
  }
 ],
 "metadata": {
  "kernelspec": {
   "display_name": "Julia 1.0.2",
   "language": "julia",
   "name": "julia-1.0"
  },
  "language_info": {
   "file_extension": ".jl",
   "mimetype": "application/julia",
   "name": "julia",
   "version": "1.0.2"
  }
 },
 "nbformat": 4,
 "nbformat_minor": 2
}
