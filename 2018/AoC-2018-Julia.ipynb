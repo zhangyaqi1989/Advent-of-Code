{
 "cells": [
  {
   "cell_type": "code",
   "execution_count": null,
   "metadata": {},
   "outputs": [],
   "source": [
    "using Plots"
   ]
  },
  {
   "cell_type": "markdown",
   "metadata": {},
   "source": [
    "# Day 1: Chronal Calibration"
   ]
  },
  {
   "cell_type": "code",
   "execution_count": null,
   "metadata": {},
   "outputs": [],
   "source": [
    "open(\"inputs/day1.txt\") do f\n",
    "    cnt = 0\n",
    "    for line in eachline(f)\n",
    "        cnt += parse(Int64, line)\n",
    "    end\n",
    "    cnt\n",
    "end"
   ]
  },
  {
   "cell_type": "code",
   "execution_count": null,
   "metadata": {},
   "outputs": [],
   "source": [
    "open(\"inputs/day1.txt\") do f\n",
    "    visited = Set()\n",
    "    cnt = 0\n",
    "    line = read(f, String)\n",
    "    nums = parse.(Int64, split(line, '\\n'))\n",
    "    for num in Iterators.cycle(nums)\n",
    "        cnt += num\n",
    "        if cnt in visited\n",
    "            println(cnt)\n",
    "            break\n",
    "        else\n",
    "            push!(visited, cnt)\n",
    "        end\n",
    "    end\n",
    "end"
   ]
  },
  {
   "cell_type": "markdown",
   "metadata": {},
   "source": [
    "# Day 9: Marble Mania"
   ]
  },
  {
   "cell_type": "code",
   "execution_count": null,
   "metadata": {},
   "outputs": [],
   "source": [
    "n, m = 476, 71431\n",
    "players = zeros(Int64, n)\n",
    "pidx = 0\n",
    "cur = 1\n",
    "lst = [0]\n",
    "idx = 1\n",
    "while idx <= m\n",
    "    if idx % 23 != 0\n",
    "        place = (cur == length(lst) ? 1 : cur + 1) + 1\n",
    "        insert!(lst, place, idx)\n",
    "        cur = place\n",
    "    else\n",
    "        players[pidx] += idx\n",
    "        cur -= 7\n",
    "        if cur < 1\n",
    "            cur += length(lst)\n",
    "        end\n",
    "        players[pidx] += lst[cur]\n",
    "        old_cur = cur\n",
    "        if old_cur + 1 > length(lst)\n",
    "            cur = 1\n",
    "        else\n",
    "            cur = old_cur\n",
    "        end\n",
    "        deleteat!(lst, old_cur)\n",
    "    end\n",
    "    pidx += 1\n",
    "    if pidx > n\n",
    "        pidx = 1\n",
    "    end\n",
    "    idx += 1\n",
    "end\n",
    "println(maximum(players))"
   ]
  },
  {
   "cell_type": "markdown",
   "metadata": {},
   "source": [
    "# Day 11: Chronal Charge"
   ]
  },
  {
   "cell_type": "code",
   "execution_count": null,
   "metadata": {},
   "outputs": [],
   "source": [
    "function fuel_power(x, y, serial)\n",
    "    rack = x + 10\n",
    "    power = rack * y + serial\n",
    "    power *= rack\n",
    "    ten = (div(power, 100)) % 10\n",
    "    return ten - 5\n",
    "end\n",
    "@assert fuel_power(122, 79, 57) == -5\n",
    "@assert fuel_power(217, 196, 39) == 0\n",
    "@assert fuel_power(101, 153, 71) == 4"
   ]
  },
  {
   "cell_type": "code",
   "execution_count": null,
   "metadata": {},
   "outputs": [],
   "source": [
    "grid = zeros(Int64, 300, 300)\n",
    "for i=1:300, j=1:300\n",
    "    grid[i,j] = fuel_power(i,j,7672)\n",
    "end"
   ]
  },
  {
   "cell_type": "code",
   "execution_count": null,
   "metadata": {},
   "outputs": [],
   "source": [
    "rx, ry, rpower =1, 1, -Inf\n",
    "for x=1:298, y=1:298\n",
    "    power = 0\n",
    "    for i=0:2, j=0:2\n",
    "        power += fuel_power(x + i, y + j, 7672)\n",
    "    end\n",
    "    if power > rpower\n",
    "        rx = x\n",
    "        ry = y\n",
    "        rpower = power\n",
    "    end\n",
    "end\n",
    "println(\"($rx, $ry)\")"
   ]
  },
  {
   "cell_type": "code",
   "execution_count": null,
   "metadata": {},
   "outputs": [],
   "source": [
    "function sum_power(x, y, size)\n",
    "    sum(grid[x:x+size-1, y:y+size-1])\n",
    "end"
   ]
  },
  {
   "cell_type": "code",
   "execution_count": null,
   "metadata": {},
   "outputs": [],
   "source": [
    "rx, ry, rsize = NaN, NaN, NaN\n",
    "max_power = -Inf\n",
    "for size=1:300\n",
    "    powers = [(sum_power(x,y,size), (x, y)) for x=1:300-size+1, y=1:300-size+1]\n",
    "    power, (x, y) = maximum(powers)\n",
    "    if power > max_power\n",
    "        rx = x\n",
    "        ry = y\n",
    "        rsize = size\n",
    "        max_power = power\n",
    "    end\n",
    "end"
   ]
  },
  {
   "cell_type": "code",
   "execution_count": null,
   "metadata": {},
   "outputs": [],
   "source": [
    "print(\"$rx, $ry, $rsize\")"
   ]
  },
  {
   "cell_type": "code",
   "execution_count": null,
   "metadata": {},
   "outputs": [],
   "source": []
  }
 ],
 "metadata": {
  "kernelspec": {
   "display_name": "Julia 1.0.2",
   "language": "julia",
   "name": "julia-1.0"
  },
  "language_info": {
   "file_extension": ".jl",
   "mimetype": "application/julia",
   "name": "julia",
   "version": "1.0.2"
  }
 },
 "nbformat": 4,
 "nbformat_minor": 2
}
